{
 "cells": [
  {
   "cell_type": "code",
   "execution_count": 15,
   "metadata": {},
   "outputs": [
    {
     "name": "stdout",
     "output_type": "stream",
     "text": [
      "The autoreload extension is already loaded. To reload it, use:\n",
      "  %reload_ext autoreload\n"
     ]
    }
   ],
   "source": [
    "%load_ext autoreload\n",
    "%autoreload 2"
   ]
  },
  {
   "cell_type": "code",
   "execution_count": 16,
   "metadata": {},
   "outputs": [],
   "source": [
    "import numpy as np\n",
    "import torch\n",
    "import pickle\n",
    "import datetime\n",
    "\n",
    "from scipy.cluster.hierarchy import linkage\n",
    "from itertools import combinations\n",
    "\n",
    "from copy import deepcopy\n",
    "from matplotlib import pyplot as plt\n",
    "from collections import Counter\n",
    "from io import StringIO\n",
    "from Bio import Phylo\n",
    "\n",
    "from VIPR import VIPR\n",
    "\n",
    "import torch\n",
    "import torch.nn as nn\n",
    "torch.set_default_dtype(torch.float32)"
   ]
  },
  {
   "cell_type": "markdown",
   "metadata": {},
   "source": [
    "# Set Parameters"
   ]
  },
  {
   "cell_type": "code",
   "execution_count": 17,
   "metadata": {},
   "outputs": [],
   "source": [
    "dataset = \"DS2\" #[\"DS1\",\"DS2\",\"DS3\",\"DS4\",\"DS5\",\"DS6\",\"DS7\",\"DS8\",\"DS9\",\"DS10\",\"DS11\",\"COV\"]\n",
    "method = \"reinforce\" #[\"reparam\",\"reinforce\",\"VIMCO\"]\n",
    "var_dist = \"LogNormal\"\n",
    "alpha = 0.01 #[0.03,0.01,0.003,0.001]\n",
    "\n",
    "rand_seed = 0\n",
    "\n",
    "np.random.seed(rand_seed)\n",
    "torch.manual_seed(rand_seed)\n",
    "\n",
    "time = datetime.datetime.now().strftime('%Y_%m_%d_%H_%M_%S')\n",
    "data_file = '../dat/'+dataset+'/'+dataset+'.pickle'\n",
    "out_file = '../results/'+dataset+'/'+dataset+'_'+var_dist+'_'+method+'_'+str(alpha)+'_'+str(rand_seed)+'_'+time+'.pickle'"
   ]
  },
  {
   "cell_type": "code",
   "execution_count": 18,
   "metadata": {},
   "outputs": [],
   "source": [
    "# model parameters\n",
    "var_dist = \"LogNormal\" #[\"LogNormal\",\"Exponential\",\"Mixture\"]\n",
    "pop_size = 5.0 # effective popuation size\n",
    "rate = 1.0 # rate of evolution\n",
    "\n",
    "# optimization parameters\n",
    "batch_size = 10\n",
    "max_iters = 10000 \n",
    "max_time = 1.0 # HOURS\n",
    "record_every = 100\n",
    "test_batch_size = 100\n",
    "\n",
    "# decay rate parameters\n",
    "decay = \"exp\" # how to decay the learning rate\n",
    "if decay == \"linear\":\n",
    "    linear_decay = True\n",
    "else:\n",
    "    linear_decay = False\n",
    "lr_decay_freq = 1\n",
    "lr_decay_rate = 0.01**(1.0/max_iters)"
   ]
  },
  {
   "cell_type": "markdown",
   "metadata": {},
   "source": [
    "# Import Data"
   ]
  },
  {
   "cell_type": "code",
   "execution_count": 19,
   "metadata": {},
   "outputs": [],
   "source": [
    "with open(data_file, 'rb') as f:\n",
    "    ds = pickle.load(f)\n",
    "    \n",
    "genomes = []\n",
    "species = []\n",
    "for key in ds:\n",
    "    genomes.append(ds[key])\n",
    "    species.append(key)\n",
    "\n",
    "ntaxa = len(species)"
   ]
  },
  {
   "cell_type": "markdown",
   "metadata": {},
   "source": [
    "# Initialize $\\phi$"
   ]
  },
  {
   "cell_type": "code",
   "execution_count": 40,
   "metadata": {
    "scrolled": true
   },
   "outputs": [
    {
     "name": "stdout",
     "output_type": "stream",
     "text": [
      "Initializing phi... \n",
      "\n"
     ]
    }
   ],
   "source": [
    "print(\"Initializing phi... \\n\")\n",
    "treedata = \"\"\n",
    "ntrees = 0\n",
    "burnin = 10000\n",
    "\n",
    "for i in range(10):\n",
    "    tree_file = \"../dat/\"+dataset+\"/\"+dataset+\"_fixed_pop_support_short_run_rep_%d.trees\"%(i+1)\n",
    "    with open(tree_file, \"r\") as file:\n",
    "        for j,line in enumerate(file):\n",
    "            if line.startswith(\"tree STATE\") and j%10 == 0 and int(line.split(\"_\")[1].split()[0]) > burnin:\n",
    "                line = line[line.find('('):]\n",
    "                line = line.replace(\"[&rate=1.0]\",\"\")\n",
    "                line = line.replace(\"[&rate=0.001]\",\"\")\n",
    "                treedata = treedata + line + \"\\n\"\n",
    "                ntrees += 1\n",
    "\n",
    "phi0 = torch.zeros((2,ntaxa,ntaxa))\n",
    "trees = Phylo.parse(StringIO(treedata), \"newick\")\n",
    "dists = np.zeros((ntrees,ntaxa,ntaxa))\n",
    "\n",
    "for i,tree in enumerate(trees):\n",
    "    for j in range(ntaxa):\n",
    "        for k in range(j):\n",
    "            mrca = tree.common_ancestor(str(j+1),str(k+1))\n",
    "            dists[i,j,k] = min(tree.distance(mrca,str(j+1)),tree.distance(mrca,str(k+1)))\n",
    "\n",
    "for j in range(ntaxa):\n",
    "    for k in range(j):\n",
    "        phi0[0,j,k] = np.mean(dists[:,j,k])\n",
    "        phi0[1,j,k] = np.var(dists[:,j,k])\n",
    "\n",
    "# add random noise\n",
    "if rand_seed > 0:\n",
    "    phi0 = phi0 + torch.normal(mean=0.0,std=rand_seed*0.1,size=(2,ntaxa,ntaxa))"
   ]
  },
  {
   "cell_type": "code",
   "execution_count": 41,
   "metadata": {
    "scrolled": true
   },
   "outputs": [
    {
     "data": {
      "image/png": "[encoded data removed]",
      "text/plain": [
       "<Figure size 640x480 with 2 Axes>"
      ]
     },
     "metadata": {},
     "output_type": "display_data"
    },
    {
     "name": "stderr",
     "output_type": "stream",
     "text": [
      "/var/folders/tr/5c181rvn0kv2qf36b5rlfbbr0000gn/T/ipykernel_6780/1270666240.py:11: DeprecationWarning: __array_wrap__ must accept context and return_scalar arguments (positionally) in the future. (Deprecated NumPy 2.0)\n",
      "  plt.imshow(np.log(var))#,vmin=-4,vmax=1)\n"
     ]
    },
    {
     "data": {
      "image/png": "[encoded data removed]",
      "text/plain": [
       "<Figure size 640x480 with 2 Axes>"
      ]
     },
     "metadata": {},
     "output_type": "display_data"
    }
   ],
   "source": [
    "# plot phi0\n",
    "m = deepcopy(phi0[0])\n",
    "m[np.triu_indices(m.shape[0])] = np.nan\n",
    "plt.imshow(m)#,vmin = -10, vmax = -4)\n",
    "plt.title(\"means of coalscent times\")\n",
    "plt.colorbar()\n",
    "plt.show()\n",
    "\n",
    "var = deepcopy(phi0[1])\n",
    "var[np.triu_indices(var.shape[0])] = np.nan\n",
    "plt.imshow(np.log(var))#,vmin=-4,vmax=1)\n",
    "plt.title(\"log of variance of coalscent times\")\n",
    "plt.colorbar()\n",
    "plt.show()"
   ]
  },
  {
   "cell_type": "markdown",
   "metadata": {},
   "source": [
    "# Train Model"
   ]
  },
  {
   "cell_type": "code",
   "execution_count": 42,
   "metadata": {
    "scrolled": true
   },
   "outputs": [
    {
     "name": "stdout",
     "output_type": "stream",
     "text": [
      "iteration 0:(0.1s)\n",
      "step size:  0.01\n",
      "grad_norm estimate:  218.3554\n",
      "ELBO estimate:  -26597.234375\n",
      "100-sample ELBO estimate:  -26581.458984375\n",
      "\n"
     ]
    },
    {
     "ename": "KeyboardInterrupt",
     "evalue": "",
     "output_type": "error",
     "traceback": [
      "\u001b[31m---------------------------------------------------------------------------\u001b[39m",
      "\u001b[31mKeyboardInterrupt\u001b[39m                         Traceback (most recent call last)",
      "\u001b[36mCell\u001b[39m\u001b[36m \u001b[39m\u001b[32mIn[42]\u001b[39m\u001b[32m, line 8\u001b[39m\n\u001b[32m      1\u001b[39m optim = VIPR(genomes,phi0[\u001b[32m0\u001b[39m],phi0[\u001b[32m1\u001b[39m],var_dist=var_dist,\n\u001b[32m      2\u001b[39m              phi_pop_size=torch.tensor([pop_size]),var_dist_pop_size=\u001b[33m\"\u001b[39m\u001b[33mFixed\u001b[39m\u001b[33m\"\u001b[39m,\n\u001b[32m      3\u001b[39m              theta_pop_size=\u001b[38;5;28;01mNone\u001b[39;00m,prior_pop_size=\u001b[33m\"\u001b[39m\u001b[33mFixed\u001b[39m\u001b[33m\"\u001b[39m,\n\u001b[32m      4\u001b[39m              tip_dates=\u001b[38;5;28;01mNone\u001b[39;00m,\n\u001b[32m      5\u001b[39m              phi_rate=torch.tensor([rate]),var_dist_rate=\u001b[33m\"\u001b[39m\u001b[33mFixed\u001b[39m\u001b[33m\"\u001b[39m,\n\u001b[32m      6\u001b[39m              theta_rate=\u001b[38;5;28;01mNone\u001b[39;00m,prior_rate=\u001b[33m\"\u001b[39m\u001b[33mFixed\u001b[39m\u001b[33m\"\u001b[39m)\n\u001b[32m----> \u001b[39m\u001b[32m8\u001b[39m \u001b[43moptim\u001b[49m\u001b[43m.\u001b[49m\u001b[43mlearn\u001b[49m\u001b[43m(\u001b[49m\u001b[43mbatch_size\u001b[49m\u001b[43m=\u001b[49m\u001b[43mbatch_size\u001b[49m\u001b[43m,\u001b[49m\n\u001b[32m      9\u001b[39m \u001b[43m            \u001b[49m\u001b[43miters\u001b[49m\u001b[43m=\u001b[49m\u001b[43mmax_iters\u001b[49m\u001b[43m,\u001b[49m\n\u001b[32m     10\u001b[39m \u001b[43m            \u001b[49m\u001b[43malpha\u001b[49m\u001b[43m=\u001b[49m\u001b[43malpha\u001b[49m\u001b[43m,\u001b[49m\n\u001b[32m     11\u001b[39m \u001b[43m            \u001b[49m\u001b[43mmethod\u001b[49m\u001b[43m=\u001b[49m\u001b[43mmethod\u001b[49m\u001b[43m,\u001b[49m\n\u001b[32m     12\u001b[39m \u001b[43m            \u001b[49m\u001b[43mrecord_every\u001b[49m\u001b[43m=\u001b[49m\u001b[43mrecord_every\u001b[49m\u001b[43m,\u001b[49m\n\u001b[32m     13\u001b[39m \u001b[43m            \u001b[49m\u001b[43mtest_batch_size\u001b[49m\u001b[43m=\u001b[49m\u001b[43mtest_batch_size\u001b[49m\u001b[43m,\u001b[49m\n\u001b[32m     14\u001b[39m \u001b[43m            \u001b[49m\u001b[43mpop_size\u001b[49m\u001b[43m=\u001b[49m\u001b[43mpop_size\u001b[49m\u001b[43m,\u001b[49m\n\u001b[32m     15\u001b[39m \u001b[43m            \u001b[49m\u001b[43mlr_decay_freq\u001b[49m\u001b[43m=\u001b[49m\u001b[43mlr_decay_freq\u001b[49m\u001b[43m,\u001b[49m\n\u001b[32m     16\u001b[39m \u001b[43m            \u001b[49m\u001b[43mlr_decay_rate\u001b[49m\u001b[43m=\u001b[49m\u001b[43mlr_decay_rate\u001b[49m\u001b[43m,\u001b[49m\n\u001b[32m     17\u001b[39m \u001b[43m            \u001b[49m\u001b[43mlinear_decay\u001b[49m\u001b[43m=\u001b[49m\u001b[43mlinear_decay\u001b[49m\u001b[43m,\u001b[49m\n\u001b[32m     18\u001b[39m \u001b[43m            \u001b[49m\u001b[43mmax_time\u001b[49m\u001b[43m=\u001b[49m\u001b[43mmax_time\u001b[49m\u001b[43m)\u001b[49m\n",
      "\u001b[36mFile \u001b[39m\u001b[32m~/Documents/Research/VBPI-matrix/src/VIPR.py:477\u001b[39m, in \u001b[36mVIPR.learn\u001b[39m\u001b[34m(self, batch_size, iters, alpha, method, lr_decay_freq, lr_decay_rate, record_every, test_batch_size, pop_size, max_time, linear_decay)\u001b[39m\n\u001b[32m    475\u001b[39m     loss = -\u001b[38;5;28mself\u001b[39m.ELBO_reparam(batch_size)\n\u001b[32m    476\u001b[39m \u001b[38;5;28;01melif\u001b[39;00m method == \u001b[33m'\u001b[39m\u001b[33mreinforce\u001b[39m\u001b[33m'\u001b[39m:\n\u001b[32m--> \u001b[39m\u001b[32m477\u001b[39m     loss = -\u001b[38;5;28;43mself\u001b[39;49m\u001b[43m.\u001b[49m\u001b[43mELBO_reinforce\u001b[49m\u001b[43m(\u001b[49m\u001b[43mbatch_size\u001b[49m\u001b[43m)\u001b[49m\n\u001b[32m    478\u001b[39m \u001b[38;5;28;01melif\u001b[39;00m method == \u001b[33m'\u001b[39m\u001b[33mVIMCO\u001b[39m\u001b[33m'\u001b[39m:\n\u001b[32m    479\u001b[39m     loss = -\u001b[38;5;28mself\u001b[39m.ELBO_VIMCO(batch_size)\n",
      "\u001b[36mFile \u001b[39m\u001b[32m~/Documents/Research/VBPI-matrix/src/VIPR.py:404\u001b[39m, in \u001b[36mVIPR.ELBO_reinforce\u001b[39m\u001b[34m(self, batch_size)\u001b[39m\n\u001b[32m    402\u001b[39m \u001b[38;5;28;01mdef\u001b[39;00m\u001b[38;5;250m \u001b[39m\u001b[34mELBO_reinforce\u001b[39m(\u001b[38;5;28mself\u001b[39m,batch_size):\n\u001b[32m--> \u001b[39m\u001b[32m404\u001b[39m     ELBO_hats,log_qs = \u001b[38;5;28;43mself\u001b[39;49m\u001b[43m.\u001b[49m\u001b[43mELBO_hats\u001b[49m\u001b[43m(\u001b[49m\u001b[43mbatch_size\u001b[49m\u001b[43m,\u001b[49m\u001b[43mdetach\u001b[49m\u001b[43m=\u001b[49m\u001b[38;5;28;43;01mTrue\u001b[39;49;00m\u001b[43m)\u001b[49m\n\u001b[32m    405\u001b[39m     weights = ELBO_hats - torch.mean(ELBO_hats)\n\u001b[32m    406\u001b[39m     \u001b[38;5;28;01mreturn\u001b[39;00m torch.sum(weights*log_qs) / (batch_size-\u001b[32m1\u001b[39m)\n",
      "\u001b[36mFile \u001b[39m\u001b[32m~/Documents/Research/VBPI-matrix/src/VIPR.py:385\u001b[39m, in \u001b[36mVIPR.ELBO_hats\u001b[39m\u001b[34m(self, batch_size, detach)\u001b[39m\n\u001b[32m    383\u001b[39m     \u001b[38;5;66;03m# store ELBO\u001b[39;00m\n\u001b[32m    384\u001b[39m     ELBO_hats[i] = log_ll + log_prior - log_q\n\u001b[32m--> \u001b[39m\u001b[32m385\u001b[39m     log_qs[i] = log_q\n\u001b[32m    387\u001b[39m \u001b[38;5;28;01mif\u001b[39;00m detach:\n\u001b[32m    388\u001b[39m     ELBO_hats = ELBO_hats.detach()\n",
      "\u001b[31mKeyboardInterrupt\u001b[39m: "
     ]
    }
   ],
   "source": [
    "optim = VIPR(genomes,phi0[0],phi0[1],var_dist=var_dist,\n",
    "             phi_pop_size=torch.tensor([pop_size]),var_dist_pop_size=\"Fixed\",\n",
    "             theta_pop_size=None,prior_pop_size=\"Fixed\",\n",
    "             tip_dates=None,\n",
    "             phi_rate=torch.tensor([rate]),var_dist_rate=\"Fixed\",\n",
    "             theta_rate=None,prior_rate=\"Fixed\")\n",
    "\n",
    "optim.learn(batch_size=batch_size,\n",
    "            iters=max_iters,\n",
    "            alpha=alpha,\n",
    "            method=method,\n",
    "            record_every=record_every,\n",
    "            test_batch_size=test_batch_size,\n",
    "            pop_size=pop_size,\n",
    "            lr_decay_freq=lr_decay_freq,\n",
    "            lr_decay_rate=lr_decay_rate,\n",
    "            linear_decay=linear_decay,\n",
    "            max_time=max_time)"
   ]
  },
  {
   "cell_type": "code",
   "execution_count": null,
   "metadata": {
    "scrolled": true
   },
   "outputs": [],
   "source": [
    "m = deepcopy(optim_nrm.phi[0].detach().numpy())\n",
    "m[np.triu_indices(m.shape[0])] = np.nan\n",
    "plt.imshow(m)\n",
    "plt.title(\"means of log coalscent times\")\n",
    "plt.colorbar()\n",
    "plt.show()\n",
    "\n",
    "var = deepcopy(optim_nrm.phi[1].detach().numpy())\n",
    "var[np.triu_indices(var.shape[0])] = np.nan\n",
    "plt.imshow(var)\n",
    "plt.title(\"log of variance of log coalscent times\")\n",
    "plt.colorbar()\n",
    "plt.show()"
   ]
  },
  {
   "cell_type": "markdown",
   "metadata": {},
   "source": [
    "# Save Model"
   ]
  },
  {
   "cell_type": "code",
   "execution_count": 20,
   "metadata": {},
   "outputs": [],
   "source": [
    "with open(out_file, 'wb') as file:\n",
    "    pickle.dump(optim_nrm, file)"
   ]
  }
 ],
 "metadata": {
  "kernelspec": {
   "display_name": "Python 3.13 (ARM)",
   "language": "python",
   "name": "py3.13"
  },
  "language_info": {
   "codemirror_mode": {
    "name": "ipython",
    "version": 3
   },
   "file_extension": ".py",
   "mimetype": "text/x-python",
   "name": "python",
   "nbconvert_exporter": "python",
   "pygments_lexer": "ipython3",
   "version": "3.13.3"
  }
 },
 "nbformat": 4,
 "nbformat_minor": 4
}
