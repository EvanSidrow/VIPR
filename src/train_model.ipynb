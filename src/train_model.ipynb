{
 "cells": [
  {
   "cell_type": "code",
   "execution_count": null,
   "metadata": {},
   "outputs": [],
   "source": [
    "%load_ext autoreload\n",
    "%autoreload 2"
   ]
  },
  {
   "cell_type": "code",
   "execution_count": 1,
   "metadata": {},
   "outputs": [
    {
     "name": "stderr",
     "output_type": "stream",
     "text": [
      "/Users/evsi8432/opt/anaconda3/lib/python3.9/site-packages/scipy/__init__.py:155: UserWarning: A NumPy version >=1.18.5 and <1.25.0 is required for this version of SciPy (detected version 1.26.4\n",
      "  warnings.warn(f\"A NumPy version >={np_minversion} and <{np_maxversion}\"\n"
     ]
    }
   ],
   "source": [
    "import autograd.numpy as np\n",
    "from autograd.scipy.special import logsumexp,erf\n",
    "from autograd.scipy.stats import norm\n",
    "from autograd import grad\n",
    "\n",
    "#from autograd_gamma import gamma, gammainc, gammaincc, gammaincln, gammainccln\n",
    "\n",
    "import matplotlib.pyplot as plt\n",
    "from copy import deepcopy\n",
    "from itertools import product\n",
    "from itertools import combinations\n",
    "import pickle\n",
    "import datetime\n",
    "\n",
    "from Bio.Phylo.TreeConstruction import _DistanceMatrix\n",
    "from Bio.Phylo.TreeConstruction import DistanceTreeConstructor\n",
    "from Bio.Phylo.TreeConstruction import DistanceCalculator\n",
    "from io import StringIO\n",
    "from Bio import Phylo\n",
    "\n",
    "from tree import Tree\n",
    "from optimizer import Optimizer\n",
    "\n",
    "import warnings\n",
    "warnings.filterwarnings('ignore')\n",
    "\n",
    "np.random.seed(0)"
   ]
  },
  {
   "cell_type": "code",
   "execution_count": 2,
   "metadata": {},
   "outputs": [],
   "source": [
    "data_set = \"DS1\"\n",
    "pop_size = 5.0 # exponential parameter for constant pop size prior\n",
    "data_file = '../dat/'+data_set+'/'+data_set+'.pickle'\n",
    "time = datetime.datetime.now().strftime('%Y_%m_%d_%H_%M_%S')\n",
    "reparam_file = '../results/'+data_set+'/'+data_set+'_'+time+'_reparam.pickle'\n",
    "reinforce_file = '../results/'+data_set+'/'+data_set+'_'+time+'_reinforce.pickle'"
   ]
  },
  {
   "cell_type": "code",
   "execution_count": 3,
   "metadata": {},
   "outputs": [],
   "source": [
    "with open(data_file, 'rb') as f:\n",
    "    DS1 = pickle.load(f)"
   ]
  },
  {
   "cell_type": "code",
   "execution_count": 4,
   "metadata": {},
   "outputs": [],
   "source": [
    "genomes = []\n",
    "species = []\n",
    "for key in DS1:\n",
    "    genomes.append(DS1[key])\n",
    "    species.append(key)\n",
    "    \n",
    "n_species = len(species)"
   ]
  },
  {
   "cell_type": "code",
   "execution_count": 5,
   "metadata": {},
   "outputs": [],
   "source": [
    "# From https://github.com/zcrabbit/vbpi-torch/blob/ff86cf0c47a5753f5cc5b4dfe0b6ed783ab22669/unrooted/phyloModel.py#L7-L11\n",
    "nuc2vec = {'A':[1.,0.,0.,0.], 'G':[0.,1.,0.,0.], 'C':[0.,0.,1.,0.], 'T':[0.,0.,0.,1.],\n",
    "           '-':[1.,1.,1.,1.], '?':[1.,1.,1.,1.], 'N':[1.,1.,1.,1.], 'R':[1.,1.,0.,0.],\n",
    "           'Y':[0.,0.,1.,1.], 'S':[0.,1.,1.,0.], 'W':[1.,0.,0.,1.], 'K':[0.,1.,0.,1.],\n",
    "           'M':[1.,0.,1.,0.], 'B':[0.,1.,1.,1.], 'D':[1.,1.,0.,1.], 'H':[1.,0.,1.,1.],\n",
    "           'V':[1.,1.,1.,0.], '.':[1.,1.,1.,1.], 'U':[0.,0.,0.,1.]}\n",
    "\n",
    "tree_log_probs = np.array([[nuc2vec[g] for g in genome] for genome in genomes],\n",
    "                                dtype = float)\n",
    "tree_log_probs = np.log(tree_log_probs)"
   ]
  },
  {
   "cell_type": "markdown",
   "metadata": {},
   "source": [
    "# Set initial $\\theta$ using the consesus tree from BEAST"
   ]
  },
  {
   "cell_type": "code",
   "execution_count": 6,
   "metadata": {},
   "outputs": [],
   "source": [
    "times = 0.05 * np.ones((27,27))\n",
    "\n",
    "# A Homo-sapiens, mus, rattus, Oryct\n",
    "times[10,15] = 0.0061\n",
    "times[10,17] = 0.0093\n",
    "times[15,19] = 0.0042\n",
    "\n",
    "# B Trach 23, Alligator 0, Scel 21, Hetero 9, Gallus 6, Turdus 24\n",
    "times[0,23] = 0.0049\n",
    "times[9,21] = 0.0072\n",
    "times[0,9] = 0.0111\n",
    "times[6,24] = 0.0076\n",
    "times[6,23] = 0.0203\n",
    "\n",
    "# C Disco 4, Amph 2, Hypo 12, Grand 8, Ich 13, Pleth 18, Sca 20\n",
    "times[4,12] = 0.0141\n",
    "times[2,12] = 0.0082\n",
    "times[8,12] = 0.0028\n",
    "times[12,13] = 0.01\n",
    "times[18,13] = 0.0114\n",
    "times[18,20] = 0.0052\n",
    "\n",
    "# D Typh 25, siren 22, Amb 1\n",
    "times[1,22] = 0.0053\n",
    "times[1,25] = 0.0098\n",
    "\n",
    "# E Neso 16, Eleu 5, Gatro 7, Hyla 11, Bufo 3\n",
    "times[5,16] = 0.0138\n",
    "times[5,7] = 0.0175\n",
    "times[3,11] = 0.0157\n",
    "times[3,16] = 0.0207\n",
    "\n",
    "# A B\n",
    "times[10,23] = 0.0312\n",
    "\n",
    "# C D\n",
    "times[4,22] = 0.0165\n",
    "\n",
    "# CDE\n",
    "times[5,22] = 0.0229\n",
    "\n",
    "# CDE Xeno 26 Lat 14\n",
    "times[5,26] = 0.0278\n",
    "times[5,14] = 0.0348\n",
    "\n",
    "# ABCDE\n",
    "times[5,10] = 0.0406"
   ]
  },
  {
   "cell_type": "code",
   "execution_count": 7,
   "metadata": {},
   "outputs": [
    {
     "name": "stdout",
     "output_type": "stream",
     "text": [
      "(2, 27, 27)\n"
     ]
    }
   ],
   "source": [
    "theta = np.zeros((2,n_species,n_species))\n",
    "log_times = np.log(times)\n",
    "\n",
    "tree = Tree(theta,log_times,tree_log_probs,\n",
    "            pop_size=pop_size)\n",
    "\n",
    "for node in tree.nodes:\n",
    "    combs = combinations(node.leaves,2)\n",
    "    for inds in combs:\n",
    "        inds = sorted(inds)\n",
    "        theta[0,inds[1],inds[0]] = min(theta[0,inds[1],inds[0]],np.log(node.coal_time))\n",
    "        theta[1,inds[1],inds[0]] = -2\n",
    "        \n",
    "print(theta.shape)"
   ]
  },
  {
   "cell_type": "code",
   "execution_count": 8,
   "metadata": {},
   "outputs": [
    {
     "data": {
      "image/png": "[encoded data removed]",
      "text/plain": [
       "<Figure size 432x288 with 2 Axes>"
      ]
     },
     "metadata": {
      "needs_background": "light"
     },
     "output_type": "display_data"
    },
    {
     "data": {
      "image/png": "[encoded data removed]",
      "text/plain": [
       "<Figure size 432x288 with 2 Axes>"
      ]
     },
     "metadata": {
      "needs_background": "light"
     },
     "output_type": "display_data"
    }
   ],
   "source": [
    "m = deepcopy(theta[0])\n",
    "m[np.triu_indices(m.shape[0])] = np.nan\n",
    "plt.imshow(m,vmin = -6, vmax = -3)\n",
    "plt.title(\"means of log-coalscent times\")\n",
    "plt.colorbar()\n",
    "plt.show()\n",
    "\n",
    "log_sig = deepcopy(theta[1])\n",
    "log_sig[np.triu_indices(log_sig.shape[0])] = np.nan\n",
    "plt.imshow(log_sig)\n",
    "plt.title(\"log-std of log-coalscent times\")\n",
    "plt.colorbar()\n",
    "plt.show()"
   ]
  },
  {
   "cell_type": "markdown",
   "metadata": {},
   "source": [
    "# Set initial $\\theta$ using expected number of changes"
   ]
  },
  {
   "cell_type": "code",
   "execution_count": 9,
   "metadata": {},
   "outputs": [],
   "source": [
    "times = np.zeros((n_species,n_species))\n",
    "\n",
    "for i in range(n_species):\n",
    "    for j in range(n_species):\n",
    "        eq = [x != y for x,y in zip(genomes[i],genomes[j]) if ((x in [\"A\",\"C\",\"T\",\"G\"]) and (y in [\"A\",\"C\",\"T\",\"G\"]))]\n",
    "        p_hat = np.mean(eq)\n",
    "        \n",
    "        times[i,j] = np.mean(eq)"
   ]
  },
  {
   "cell_type": "code",
   "execution_count": 10,
   "metadata": {},
   "outputs": [
    {
     "name": "stdout",
     "output_type": "stream",
     "text": [
      "(2, 27, 27)\n"
     ]
    }
   ],
   "source": [
    "log_times = np.log(times)\n",
    "\n",
    "log_times[np.triu_indices(log_times.shape[0])] = np.inf\n",
    "\n",
    "tree = Tree(theta,log_times,tree_log_probs,\n",
    "            pop_size=pop_size)\n",
    "\n",
    "theta = np.zeros((2,n_species,n_species))\n",
    "\n",
    "for node in tree.nodes:\n",
    "    combs = combinations(node.leaves,2)\n",
    "    for inds in combs:\n",
    "        inds = sorted(inds)\n",
    "        theta[0,inds[1],inds[0]] = min(theta[0,inds[1],inds[0]],np.log(node.coal_time))\n",
    "        theta[1,inds[1],inds[0]] = -2\n",
    "        \n",
    "print(theta.shape)"
   ]
  },
  {
   "cell_type": "code",
   "execution_count": 11,
   "metadata": {},
   "outputs": [
    {
     "data": {
      "image/png": "[encoded data removed]",
      "text/plain": [
       "<Figure size 432x288 with 2 Axes>"
      ]
     },
     "metadata": {
      "needs_background": "light"
     },
     "output_type": "display_data"
    },
    {
     "data": {
      "image/png": "[encoded data removed]",
      "text/plain": [
       "<Figure size 432x288 with 2 Axes>"
      ]
     },
     "metadata": {
      "needs_background": "light"
     },
     "output_type": "display_data"
    }
   ],
   "source": [
    "m = deepcopy(theta[0])\n",
    "m[np.triu_indices(m.shape[0])] = np.nan\n",
    "plt.imshow(m,vmin = -6, vmax = -3)\n",
    "plt.title(\"means of log-coalscent times\")\n",
    "plt.colorbar()\n",
    "plt.show()\n",
    "\n",
    "log_sig = deepcopy(theta[1])\n",
    "log_sig[np.triu_indices(log_sig.shape[0])] = np.nan\n",
    "plt.imshow(log_sig)\n",
    "plt.title(\"log-std of log-coalscent times\")\n",
    "plt.colorbar()\n",
    "plt.show()"
   ]
  },
  {
   "cell_type": "markdown",
   "metadata": {},
   "source": [
    "# Make Neighbor Joining initial guess"
   ]
  },
  {
   "cell_type": "code",
   "execution_count": 12,
   "metadata": {},
   "outputs": [],
   "source": [
    "times = np.zeros((n_species,n_species))\n",
    "\n",
    "for i in range(n_species):\n",
    "    for j in range(n_species):\n",
    "        eq = [x != y for x,y in zip(genomes[i],genomes[j]) if ((x in [\"A\",\"C\",\"T\",\"G\"]) and (y in [\"A\",\"C\",\"T\",\"G\"]))]\n",
    "        p_hat = np.mean(eq)\n",
    "        \n",
    "        times[i,j] = np.mean(eq)\n",
    "\n",
    "matrix = []\n",
    "for i,row in enumerate(times):\n",
    "    matrix.append(list(row[:(i+1)]))\n",
    "m = _DistanceMatrix(species, matrix)\n",
    "calculator = DistanceCalculator('identity')\n",
    "constructor = DistanceTreeConstructor(calculator, 'nj')\n",
    "tree = constructor.nj(m)\n",
    "\n",
    "theta = np.zeros((2,n_species,n_species))\n",
    "for i in range(n_species):\n",
    "    for j in range(i):\n",
    "        theta[0,i,j] = np.log(tree.distance(target1=species[i],target2=species[j]))\n",
    "        theta[1,i,j] = -2"
   ]
  },
  {
   "cell_type": "code",
   "execution_count": 13,
   "metadata": {},
   "outputs": [
    {
     "data": {
      "image/png": "[encoded data removed]",
      "text/plain": [
       "<Figure size 432x288 with 2 Axes>"
      ]
     },
     "metadata": {
      "needs_background": "light"
     },
     "output_type": "display_data"
    },
    {
     "data": {
      "image/png": "[encoded data removed]",
      "text/plain": [
       "<Figure size 432x288 with 2 Axes>"
      ]
     },
     "metadata": {
      "needs_background": "light"
     },
     "output_type": "display_data"
    }
   ],
   "source": [
    "m = deepcopy(theta[0])\n",
    "m[np.triu_indices(m.shape[0])] = np.nan\n",
    "plt.imshow(m,vmin = -6, vmax = -3)\n",
    "plt.title(\"means of log-coalscent times\")\n",
    "plt.colorbar()\n",
    "plt.show()\n",
    "\n",
    "log_sig = deepcopy(theta[1])\n",
    "log_sig[np.triu_indices(log_sig.shape[0])] = np.nan\n",
    "plt.imshow(log_sig)\n",
    "plt.title(\"log-std of log-coalscent times\")\n",
    "plt.colorbar()\n",
    "plt.show()"
   ]
  },
  {
   "cell_type": "markdown",
   "metadata": {},
   "source": [
    "# perform variational inference"
   ]
  },
  {
   "cell_type": "code",
   "execution_count": 15,
   "metadata": {},
   "outputs": [
    {
     "name": "stdout",
     "output_type": "stream",
     "text": [
      "iteration:  0\n",
      "runtime: 0 mins\n",
      "grad_norm estimate:  73.74216828932873\n",
      "ELBO estimate:  -7492.211541905569\n",
      "\n",
      "iteration:  10\n",
      "runtime: 0 mins\n",
      "grad_norm estimate:  57.38516103310947\n",
      "ELBO estimate:  -7406.764256276947\n",
      "\n",
      "iteration:  20\n",
      "runtime: 1 mins\n",
      "grad_norm estimate:  54.76383513223381\n",
      "ELBO estimate:  -7348.7421189575725\n",
      "\n",
      "iteration:  30\n",
      "runtime: 2 mins\n",
      "grad_norm estimate:  38.763032113930635\n",
      "ELBO estimate:  -7311.102853695533\n",
      "\n",
      "iteration:  40\n",
      "runtime: 2 mins\n",
      "grad_norm estimate:  51.21319201215057\n",
      "ELBO estimate:  -7284.066505476009\n",
      "\n",
      "iteration:  50\n",
      "runtime: 3 mins\n",
      "grad_norm estimate:  75.40111039008781\n",
      "ELBO estimate:  -7264.343525705075\n",
      "\n",
      "iteration:  60\n",
      "runtime: 4 mins\n",
      "grad_norm estimate:  34.5516156984691\n",
      "ELBO estimate:  -7245.224126657613\n",
      "\n",
      "iteration:  70\n",
      "runtime: 4 mins\n",
      "grad_norm estimate:  159.35741265656756\n",
      "ELBO estimate:  -7230.016024754163\n",
      "\n",
      "iteration:  80\n",
      "runtime: 5 mins\n",
      "grad_norm estimate:  70.85262448266835\n",
      "ELBO estimate:  -7228.420470242149\n",
      "\n",
      "iteration:  90\n",
      "runtime: 6 mins\n",
      "grad_norm estimate:  17.825724037755787\n",
      "ELBO estimate:  -7213.065781242623\n",
      "\n",
      "iteration:  100\n",
      "runtime: 6 mins\n",
      "grad_norm estimate:  43.09214771628818\n",
      "ELBO estimate:  -7203.283864932547\n",
      "\n",
      "iteration:  110\n",
      "runtime: 7 mins\n",
      "grad_norm estimate:  35.40218134202208\n",
      "ELBO estimate:  -7194.999040857668\n",
      "\n",
      "iteration:  120\n",
      "runtime: 8 mins\n",
      "grad_norm estimate:  23.34551640443764\n",
      "ELBO estimate:  -7187.230477864304\n",
      "\n",
      "iteration:  130\n",
      "runtime: 8 mins\n",
      "grad_norm estimate:  16.86125595528325\n",
      "ELBO estimate:  -7181.348143071641\n",
      "\n",
      "iteration:  140\n",
      "runtime: 9 mins\n",
      "grad_norm estimate:  27.943096584145938\n",
      "ELBO estimate:  -7179.575886229912\n",
      "\n",
      "iteration:  150\n",
      "runtime: 10 mins\n",
      "grad_norm estimate:  21.953021788065243\n",
      "ELBO estimate:  -7177.263868115991\n",
      "\n",
      "iteration:  160\n",
      "runtime: 10 mins\n",
      "grad_norm estimate:  21.817760067003615\n",
      "ELBO estimate:  -7176.685038899657\n",
      "\n",
      "iteration:  170\n",
      "runtime: 11 mins\n",
      "grad_norm estimate:  26.073739473723137\n",
      "ELBO estimate:  -7173.226861424041\n",
      "\n",
      "iteration:  180\n",
      "runtime: 12 mins\n",
      "grad_norm estimate:  14.065666270878012\n",
      "ELBO estimate:  -7172.098022002292\n",
      "\n",
      "iteration:  190\n",
      "runtime: 13 mins\n",
      "grad_norm estimate:  74.1374502697307\n",
      "ELBO estimate:  -7169.252771781715\n",
      "\n",
      "iteration:  200\n",
      "runtime: 13 mins\n",
      "grad_norm estimate:  18.512033390271064\n",
      "ELBO estimate:  -7168.57020117187\n",
      "\n",
      "iteration:  210\n",
      "runtime: 14 mins\n",
      "grad_norm estimate:  15.04668472424608\n",
      "ELBO estimate:  -7170.728019287283\n",
      "\n",
      "iteration:  220\n",
      "runtime: 15 mins\n",
      "grad_norm estimate:  19.355541719803377\n",
      "ELBO estimate:  -7169.473227237411\n",
      "\n",
      "iteration:  230\n",
      "runtime: 15 mins\n",
      "grad_norm estimate:  12.909921627291924\n",
      "ELBO estimate:  -7168.876070246764\n",
      "\n",
      "iteration:  240\n",
      "runtime: 16 mins\n",
      "grad_norm estimate:  15.442143984889462\n",
      "ELBO estimate:  -7167.193281723598\n",
      "\n",
      "iteration:  250\n",
      "runtime: 17 mins\n",
      "grad_norm estimate:  21.43336926457515\n",
      "ELBO estimate:  -7168.2647312818735\n",
      "\n",
      "iteration:  260\n",
      "runtime: 18 mins\n",
      "grad_norm estimate:  12.909933307893137\n",
      "ELBO estimate:  -7166.63015968993\n",
      "\n",
      "iteration:  270\n",
      "runtime: 19 mins\n",
      "grad_norm estimate:  18.404081596941168\n",
      "ELBO estimate:  -7166.379780274532\n",
      "\n",
      "iteration:  280\n",
      "runtime: 19 mins\n",
      "grad_norm estimate:  29.311285370844008\n",
      "ELBO estimate:  -7165.426955357561\n",
      "\n",
      "iteration:  290\n",
      "runtime: 20 mins\n",
      "grad_norm estimate:  7.712918014699122\n",
      "ELBO estimate:  -7165.864779491433\n",
      "\n",
      "iteration:  300\n",
      "runtime: 21 mins\n",
      "grad_norm estimate:  25.75406533895345\n",
      "ELBO estimate:  -7165.413495279392\n",
      "\n",
      "iteration:  310\n",
      "runtime: 21 mins\n",
      "grad_norm estimate:  8.454984694590689\n",
      "ELBO estimate:  -7164.318089522099\n",
      "\n",
      "iteration:  320\n",
      "runtime: 22 mins\n",
      "grad_norm estimate:  34.295498055711526\n",
      "ELBO estimate:  -7165.157510740752\n",
      "\n",
      "iteration:  330\n",
      "runtime: 23 mins\n",
      "grad_norm estimate:  19.77429739171581\n",
      "ELBO estimate:  -7163.862978092998\n",
      "\n",
      "iteration:  340\n",
      "runtime: 23 mins\n",
      "grad_norm estimate:  19.12635299347629\n",
      "ELBO estimate:  -7164.247196410976\n",
      "\n",
      "iteration:  350\n",
      "runtime: 24 mins\n",
      "grad_norm estimate:  16.05610695199169\n",
      "ELBO estimate:  -7165.7325911431535\n",
      "\n",
      "iteration:  360\n",
      "runtime: 25 mins\n",
      "grad_norm estimate:  11.422827838546116\n",
      "ELBO estimate:  -7164.165238059778\n",
      "\n",
      "iteration:  370\n",
      "runtime: 26 mins\n",
      "grad_norm estimate:  8.11238720557491\n",
      "ELBO estimate:  -7164.050652937875\n",
      "\n",
      "iteration:  380\n",
      "runtime: 27 mins\n",
      "grad_norm estimate:  12.474121459893288\n",
      "ELBO estimate:  -7163.033123783738\n",
      "\n",
      "iteration:  390\n",
      "runtime: 27 mins\n",
      "grad_norm estimate:  9.190231496028188\n",
      "ELBO estimate:  -7162.26210669941\n",
      "\n",
      "iteration:  400\n",
      "runtime: 28 mins\n",
      "grad_norm estimate:  9.434379020597408\n",
      "ELBO estimate:  -7162.678903220239\n",
      "\n",
      "iteration:  410\n",
      "runtime: 29 mins\n",
      "grad_norm estimate:  20.967143809774193\n",
      "ELBO estimate:  -7162.565767096822\n",
      "\n",
      "iteration:  420\n",
      "runtime: 29 mins\n",
      "grad_norm estimate:  19.569610442495836\n",
      "ELBO estimate:  -7162.87517104437\n",
      "\n",
      "iteration:  430\n",
      "runtime: 30 mins\n",
      "grad_norm estimate:  10.562739942403457\n",
      "ELBO estimate:  -7162.958717662399\n",
      "\n",
      "iteration:  440\n",
      "runtime: 31 mins\n",
      "grad_norm estimate:  12.479422476693104\n",
      "ELBO estimate:  -7162.327170254287\n",
      "\n",
      "iteration:  450\n",
      "runtime: 31 mins\n",
      "grad_norm estimate:  21.191092321461426\n",
      "ELBO estimate:  -7162.587421687304\n",
      "\n",
      "iteration:  460\n",
      "runtime: 32 mins\n",
      "grad_norm estimate:  16.96471294769273\n",
      "ELBO estimate:  -7162.497681928628\n",
      "\n",
      "iteration:  470\n",
      "runtime: 33 mins\n",
      "grad_norm estimate:  17.457747294240217\n",
      "ELBO estimate:  -7162.395926805242\n",
      "\n",
      "iteration:  480\n",
      "runtime: 33 mins\n",
      "grad_norm estimate:  19.131584055871784\n",
      "ELBO estimate:  -7161.786151060459\n",
      "\n",
      "iteration:  490\n",
      "runtime: 34 mins\n",
      "grad_norm estimate:  10.588690081623092\n",
      "ELBO estimate:  -7162.840990734163\n",
      "\n",
      "iteration:  500\n",
      "runtime: 35 mins\n",
      "grad_norm estimate:  7.701205733630244\n",
      "ELBO estimate:  -7162.158792136711\n",
      "\n",
      "iteration:  510\n",
      "runtime: 35 mins\n",
      "grad_norm estimate:  9.43087200903874\n",
      "ELBO estimate:  -7161.597284865328\n",
      "\n",
      "iteration:  520\n",
      "runtime: 36 mins\n",
      "grad_norm estimate:  40.733818152122446\n",
      "ELBO estimate:  -7161.6707318848785\n",
      "\n",
      "iteration:  530\n",
      "runtime: 37 mins\n",
      "grad_norm estimate:  23.413082458993\n",
      "ELBO estimate:  -7161.860818608372\n",
      "\n",
      "iteration:  540\n",
      "runtime: 37 mins\n",
      "grad_norm estimate:  10.323298981136967\n",
      "ELBO estimate:  -7160.4190572588\n",
      "\n",
      "iteration:  550\n",
      "runtime: 38 mins\n",
      "grad_norm estimate:  9.866680826206158\n",
      "ELBO estimate:  -7161.2631836339\n",
      "\n",
      "iteration:  560\n",
      "runtime: 39 mins\n",
      "grad_norm estimate:  6.973359515089021\n",
      "ELBO estimate:  -7161.438222379286\n",
      "\n",
      "iteration:  570\n",
      "runtime: 39 mins\n",
      "grad_norm estimate:  9.305655164124074\n",
      "ELBO estimate:  -7161.3580701977835\n",
      "\n",
      "iteration:  580\n",
      "runtime: 40 mins\n",
      "grad_norm estimate:  8.55951912820285\n",
      "ELBO estimate:  -7162.027361910165\n",
      "\n",
      "iteration:  590\n",
      "runtime: 40 mins\n",
      "grad_norm estimate:  15.230704138447834\n",
      "ELBO estimate:  -7162.04243997715\n",
      "\n",
      "iteration:  600\n",
      "runtime: 41 mins\n",
      "grad_norm estimate:  5.220005009408001\n",
      "ELBO estimate:  -7162.158859193168\n",
      "\n",
      "iteration:  610\n",
      "runtime: 42 mins\n",
      "grad_norm estimate:  10.343853768609481\n",
      "ELBO estimate:  -7162.168304769364\n",
      "\n",
      "iteration:  620\n",
      "runtime: 43 mins\n",
      "grad_norm estimate:  8.167455861287207\n",
      "ELBO estimate:  -7161.382147833737\n",
      "\n",
      "iteration:  630\n",
      "runtime: 43 mins\n",
      "grad_norm estimate:  14.598758871724048\n",
      "ELBO estimate:  -7161.887253340011\n",
      "\n",
      "iteration:  640\n",
      "runtime: 44 mins\n",
      "grad_norm estimate:  10.931891280131008\n",
      "ELBO estimate:  -7160.653706268401\n",
      "\n",
      "iteration:  650\n",
      "runtime: 45 mins\n",
      "grad_norm estimate:  5.361896887202976\n",
      "ELBO estimate:  -7161.060549350579\n",
      "\n",
      "iteration:  660\n",
      "runtime: 46 mins\n",
      "grad_norm estimate:  7.9663757592834115\n",
      "ELBO estimate:  -7160.56567499673\n",
      "\n"
     ]
    },
    {
     "ename": "KeyboardInterrupt",
     "evalue": "",
     "output_type": "error",
     "traceback": [
      "\u001b[0;31m---------------------------------------------------------------------------\u001b[0m",
      "\u001b[0;31mKeyboardInterrupt\u001b[0m                         Traceback (most recent call last)",
      "Input \u001b[0;32mIn [15]\u001b[0m, in \u001b[0;36m<cell line: 3>\u001b[0;34m()\u001b[0m\n\u001b[1;32m      1\u001b[0m optim_reparam \u001b[38;5;241m=\u001b[39m Optimizer(tree_log_probs,deepcopy(theta))\n\u001b[0;32m----> 3\u001b[0m \u001b[43moptim_reparam\u001b[49m\u001b[38;5;241;43m.\u001b[39;49m\u001b[43moptimize_q_reparam\u001b[49m\u001b[43m(\u001b[49m\u001b[43mbatch_size\u001b[49m\u001b[38;5;241;43m=\u001b[39;49m\u001b[38;5;241;43m10\u001b[39;49m\u001b[43m,\u001b[49m\n\u001b[1;32m      4\u001b[0m \u001b[43m                                 \u001b[49m\u001b[43miters\u001b[49m\u001b[38;5;241;43m=\u001b[39;49m\u001b[38;5;241;43m1000\u001b[39;49m\u001b[43m,\u001b[49m\n\u001b[1;32m      5\u001b[0m \u001b[43m                                 \u001b[49m\u001b[43malphas\u001b[49m\u001b[38;5;241;43m=\u001b[39;49m\u001b[43m[\u001b[49m\u001b[38;5;241;43m0.01\u001b[39;49m\u001b[43m,\u001b[49m\u001b[38;5;241;43m0.01\u001b[39;49m\u001b[43m]\u001b[49m\u001b[43m,\u001b[49m\n\u001b[1;32m      6\u001b[0m \u001b[43m                                 \u001b[49m\u001b[43mrecord_every\u001b[49m\u001b[38;5;241;43m=\u001b[39;49m\u001b[38;5;241;43m10\u001b[39;49m\u001b[43m,\u001b[49m\n\u001b[1;32m      7\u001b[0m \u001b[43m                                 \u001b[49m\u001b[43mtest_batch_size\u001b[49m\u001b[38;5;241;43m=\u001b[39;49m\u001b[38;5;241;43m100\u001b[39;49m\u001b[43m,\u001b[49m\n\u001b[1;32m      8\u001b[0m \u001b[43m                                 \u001b[49m\u001b[43mpop_size\u001b[49m\u001b[38;5;241;43m=\u001b[39;49m\u001b[43mpop_size\u001b[49m\u001b[43m)\u001b[49m\n",
      "File \u001b[0;32m~/Documents/Research/VBPI-matrix/src/optimizer.py:114\u001b[0m, in \u001b[0;36mOptimizer.optimize_q_reparam\u001b[0;34m(self, batch_size, iters, record_every, test_batch_size, pop_size, alphas)\u001b[0m\n\u001b[1;32m    111\u001b[0m     \u001b[38;5;28;01mreturn\u001b[39;00m ELBO\n\u001b[1;32m    113\u001b[0m \u001b[38;5;66;03m# get estimate of ELBO and gradient\u001b[39;00m\n\u001b[0;32m--> 114\u001b[0m ELBO_est \u001b[38;5;241m=\u001b[39m ELBO_sample(\u001b[38;5;28mself\u001b[39m\u001b[38;5;241m.\u001b[39mtheta)\n\u001b[1;32m    115\u001b[0m grad_theta \u001b[38;5;241m=\u001b[39m grad(ELBO_sample)(\u001b[38;5;28mself\u001b[39m\u001b[38;5;241m.\u001b[39mtheta)\n\u001b[1;32m    117\u001b[0m \u001b[38;5;28mself\u001b[39m\u001b[38;5;241m.\u001b[39mupdate_theta(grad_theta)\n",
      "File \u001b[0;32m~/opt/anaconda3/lib/python3.9/site-packages/autograd/wrap_util.py:20\u001b[0m, in \u001b[0;36munary_to_nary.<locals>.nary_operator.<locals>.nary_f\u001b[0;34m(*args, **kwargs)\u001b[0m\n\u001b[1;32m     18\u001b[0m \u001b[38;5;28;01melse\u001b[39;00m:\n\u001b[1;32m     19\u001b[0m     x \u001b[38;5;241m=\u001b[39m \u001b[38;5;28mtuple\u001b[39m(args[i] \u001b[38;5;28;01mfor\u001b[39;00m i \u001b[38;5;129;01min\u001b[39;00m argnum)\n\u001b[0;32m---> 20\u001b[0m \u001b[38;5;28;01mreturn\u001b[39;00m \u001b[43munary_operator\u001b[49m\u001b[43m(\u001b[49m\u001b[43munary_f\u001b[49m\u001b[43m,\u001b[49m\u001b[43m \u001b[49m\u001b[43mx\u001b[49m\u001b[43m,\u001b[49m\u001b[43m \u001b[49m\u001b[38;5;241;43m*\u001b[39;49m\u001b[43mnary_op_args\u001b[49m\u001b[43m,\u001b[49m\u001b[43m \u001b[49m\u001b[38;5;241;43m*\u001b[39;49m\u001b[38;5;241;43m*\u001b[39;49m\u001b[43mnary_op_kwargs\u001b[49m\u001b[43m)\u001b[49m\n",
      "File \u001b[0;32m~/opt/anaconda3/lib/python3.9/site-packages/autograd/differential_operators.py:28\u001b[0m, in \u001b[0;36mgrad\u001b[0;34m(fun, x)\u001b[0m\n\u001b[1;32m     21\u001b[0m \u001b[38;5;129m@unary_to_nary\u001b[39m\n\u001b[1;32m     22\u001b[0m \u001b[38;5;28;01mdef\u001b[39;00m \u001b[38;5;21mgrad\u001b[39m(fun, x):\n\u001b[1;32m     23\u001b[0m \u001b[38;5;250m    \u001b[39m\u001b[38;5;124;03m\"\"\"\u001b[39;00m\n\u001b[1;32m     24\u001b[0m \u001b[38;5;124;03m    Returns a function which computes the gradient of `fun` with respect to\u001b[39;00m\n\u001b[1;32m     25\u001b[0m \u001b[38;5;124;03m    positional argument number `argnum`. The returned function takes the same\u001b[39;00m\n\u001b[1;32m     26\u001b[0m \u001b[38;5;124;03m    arguments as `fun`, but returns the gradient instead. The function `fun`\u001b[39;00m\n\u001b[1;32m     27\u001b[0m \u001b[38;5;124;03m    should be scalar-valued. The gradient has the same type as the argument.\"\"\"\u001b[39;00m\n\u001b[0;32m---> 28\u001b[0m     vjp, ans \u001b[38;5;241m=\u001b[39m \u001b[43m_make_vjp\u001b[49m\u001b[43m(\u001b[49m\u001b[43mfun\u001b[49m\u001b[43m,\u001b[49m\u001b[43m \u001b[49m\u001b[43mx\u001b[49m\u001b[43m)\u001b[49m\n\u001b[1;32m     29\u001b[0m     \u001b[38;5;28;01mif\u001b[39;00m \u001b[38;5;129;01mnot\u001b[39;00m vspace(ans)\u001b[38;5;241m.\u001b[39msize \u001b[38;5;241m==\u001b[39m \u001b[38;5;241m1\u001b[39m:\n\u001b[1;32m     30\u001b[0m         \u001b[38;5;28;01mraise\u001b[39;00m \u001b[38;5;167;01mTypeError\u001b[39;00m(\u001b[38;5;124m\"\u001b[39m\u001b[38;5;124mGrad only applies to real scalar-output functions. \u001b[39m\u001b[38;5;124m\"\u001b[39m\n\u001b[1;32m     31\u001b[0m                         \u001b[38;5;124m\"\u001b[39m\u001b[38;5;124mTry jacobian, elementwise_grad or holomorphic_grad.\u001b[39m\u001b[38;5;124m\"\u001b[39m)\n",
      "File \u001b[0;32m~/opt/anaconda3/lib/python3.9/site-packages/autograd/core.py:10\u001b[0m, in \u001b[0;36mmake_vjp\u001b[0;34m(fun, x)\u001b[0m\n\u001b[1;32m      8\u001b[0m \u001b[38;5;28;01mdef\u001b[39;00m \u001b[38;5;21mmake_vjp\u001b[39m(fun, x):\n\u001b[1;32m      9\u001b[0m     start_node \u001b[38;5;241m=\u001b[39m VJPNode\u001b[38;5;241m.\u001b[39mnew_root()\n\u001b[0;32m---> 10\u001b[0m     end_value, end_node \u001b[38;5;241m=\u001b[39m  \u001b[43mtrace\u001b[49m\u001b[43m(\u001b[49m\u001b[43mstart_node\u001b[49m\u001b[43m,\u001b[49m\u001b[43m \u001b[49m\u001b[43mfun\u001b[49m\u001b[43m,\u001b[49m\u001b[43m \u001b[49m\u001b[43mx\u001b[49m\u001b[43m)\u001b[49m\n\u001b[1;32m     11\u001b[0m     \u001b[38;5;28;01mif\u001b[39;00m end_node \u001b[38;5;129;01mis\u001b[39;00m \u001b[38;5;28;01mNone\u001b[39;00m:\n\u001b[1;32m     12\u001b[0m         \u001b[38;5;28;01mdef\u001b[39;00m \u001b[38;5;21mvjp\u001b[39m(g): \u001b[38;5;28;01mreturn\u001b[39;00m vspace(x)\u001b[38;5;241m.\u001b[39mzeros()\n",
      "File \u001b[0;32m~/opt/anaconda3/lib/python3.9/site-packages/autograd/tracer.py:10\u001b[0m, in \u001b[0;36mtrace\u001b[0;34m(start_node, fun, x)\u001b[0m\n\u001b[1;32m      8\u001b[0m \u001b[38;5;28;01mwith\u001b[39;00m trace_stack\u001b[38;5;241m.\u001b[39mnew_trace() \u001b[38;5;28;01mas\u001b[39;00m t:\n\u001b[1;32m      9\u001b[0m     start_box \u001b[38;5;241m=\u001b[39m new_box(x, t, start_node)\n\u001b[0;32m---> 10\u001b[0m     end_box \u001b[38;5;241m=\u001b[39m \u001b[43mfun\u001b[49m\u001b[43m(\u001b[49m\u001b[43mstart_box\u001b[49m\u001b[43m)\u001b[49m\n\u001b[1;32m     11\u001b[0m     \u001b[38;5;28;01mif\u001b[39;00m isbox(end_box) \u001b[38;5;129;01mand\u001b[39;00m end_box\u001b[38;5;241m.\u001b[39m_trace \u001b[38;5;241m==\u001b[39m start_box\u001b[38;5;241m.\u001b[39m_trace:\n\u001b[1;32m     12\u001b[0m         \u001b[38;5;28;01mreturn\u001b[39;00m end_box\u001b[38;5;241m.\u001b[39m_value, end_box\u001b[38;5;241m.\u001b[39m_node\n",
      "File \u001b[0;32m~/opt/anaconda3/lib/python3.9/site-packages/autograd/wrap_util.py:15\u001b[0m, in \u001b[0;36munary_to_nary.<locals>.nary_operator.<locals>.nary_f.<locals>.unary_f\u001b[0;34m(x)\u001b[0m\n\u001b[1;32m     13\u001b[0m \u001b[38;5;28;01melse\u001b[39;00m:\n\u001b[1;32m     14\u001b[0m     subargs \u001b[38;5;241m=\u001b[39m subvals(args, \u001b[38;5;28mzip\u001b[39m(argnum, x))\n\u001b[0;32m---> 15\u001b[0m \u001b[38;5;28;01mreturn\u001b[39;00m \u001b[43mfun\u001b[49m\u001b[43m(\u001b[49m\u001b[38;5;241;43m*\u001b[39;49m\u001b[43msubargs\u001b[49m\u001b[43m,\u001b[49m\u001b[43m \u001b[49m\u001b[38;5;241;43m*\u001b[39;49m\u001b[38;5;241;43m*\u001b[39;49m\u001b[43mkwargs\u001b[49m\u001b[43m)\u001b[49m\n",
      "File \u001b[0;32m~/Documents/Research/VBPI-matrix/src/optimizer.py:104\u001b[0m, in \u001b[0;36mOptimizer.optimize_q_reparam.<locals>.ELBO_sample\u001b[0;34m(theta)\u001b[0m\n\u001b[1;32m    102\u001b[0m log_times \u001b[38;5;241m=\u001b[39m np\u001b[38;5;241m.\u001b[39mexp(theta[\u001b[38;5;241m1\u001b[39m])\u001b[38;5;241m*\u001b[39mZ\u001b[38;5;241m+\u001b[39mtheta[\u001b[38;5;241m0\u001b[39m]\n\u001b[1;32m    103\u001b[0m log_times \u001b[38;5;241m=\u001b[39m log_times \u001b[38;5;241m+\u001b[39m np\u001b[38;5;241m.\u001b[39mtriu(np\u001b[38;5;241m.\u001b[39mfull(\u001b[38;5;28mself\u001b[39m\u001b[38;5;241m.\u001b[39mn_species, np\u001b[38;5;241m.\u001b[39minf))\n\u001b[0;32m--> 104\u001b[0m tree \u001b[38;5;241m=\u001b[39m \u001b[43mTree\u001b[49m\u001b[43m(\u001b[49m\u001b[43mtheta\u001b[49m\u001b[43m,\u001b[49m\n\u001b[1;32m    105\u001b[0m \u001b[43m            \u001b[49m\u001b[43mlog_times\u001b[49m\u001b[43m,\u001b[49m\n\u001b[1;32m    106\u001b[0m \u001b[43m            \u001b[49m\u001b[43mdeepcopy\u001b[49m\u001b[43m(\u001b[49m\u001b[38;5;28;43mself\u001b[39;49m\u001b[38;5;241;43m.\u001b[39;49m\u001b[43mtree_log_probs\u001b[49m\u001b[43m)\u001b[49m\u001b[43m,\u001b[49m\n\u001b[1;32m    107\u001b[0m \u001b[43m            \u001b[49m\u001b[43mpop_size\u001b[49m\u001b[38;5;241;43m=\u001b[39;49m\u001b[43mpop_size\u001b[49m\u001b[43m)\u001b[49m\n\u001b[1;32m    108\u001b[0m ELBO_hat \u001b[38;5;241m=\u001b[39m (tree\u001b[38;5;241m.\u001b[39mlog_p \u001b[38;5;241m-\u001b[39m tree\u001b[38;5;241m.\u001b[39mlog_q)\u001b[38;5;241m/\u001b[39mbatch_size\n\u001b[1;32m    109\u001b[0m \u001b[38;5;28;01mif\u001b[39;00m \u001b[38;5;129;01mnot\u001b[39;00m np\u001b[38;5;241m.\u001b[39misnan(ELBO_hat):\n",
      "File \u001b[0;32m~/Documents/Research/VBPI-matrix/src/tree.py:59\u001b[0m, in \u001b[0;36mTree.__init__\u001b[0;34m(self, theta, log_times, tree_log_probs, pop_size)\u001b[0m\n\u001b[1;32m     56\u001b[0m \u001b[38;5;28mself\u001b[39m\u001b[38;5;241m.\u001b[39mcoal_times \u001b[38;5;241m=\u001b[39m np\u001b[38;5;241m.\u001b[39mzeros(\u001b[38;5;28mself\u001b[39m\u001b[38;5;241m.\u001b[39mntaxa)\n\u001b[1;32m     58\u001b[0m \u001b[38;5;66;03m# draw graph\u001b[39;00m\n\u001b[0;32m---> 59\u001b[0m \u001b[38;5;28;43mself\u001b[39;49m\u001b[38;5;241;43m.\u001b[39;49m\u001b[43mdraw_graph\u001b[49m\u001b[43m(\u001b[49m\u001b[43m)\u001b[49m\n",
      "File \u001b[0;32m~/Documents/Research/VBPI-matrix/src/tree.py:161\u001b[0m, in \u001b[0;36mTree.draw_graph\u001b[0;34m(self, log_times, theta, pop_size)\u001b[0m\n\u001b[1;32m    158\u001b[0m     ancestor_parent\u001b[38;5;241m.\u001b[39mlog_probs \u001b[38;5;241m=\u001b[39m ancestor_parent\u001b[38;5;241m.\u001b[39mlog_probs \u001b[38;5;241m+\u001b[39m logdotexp(ancestor\u001b[38;5;241m.\u001b[39mlog_probs,np\u001b[38;5;241m.\u001b[39mlog(P))\n\u001b[1;32m    160\u001b[0m \u001b[38;5;66;03m# update q\u001b[39;00m\n\u001b[0;32m--> 161\u001b[0m \u001b[38;5;28;43mself\u001b[39;49m\u001b[38;5;241;43m.\u001b[39;49m\u001b[43mupdate_q\u001b[49m\u001b[43m(\u001b[49m\u001b[43mancestors\u001b[49m\u001b[43m)\u001b[49m\n\u001b[1;32m    163\u001b[0m \u001b[38;5;66;03m# update prior\u001b[39;00m\n\u001b[1;32m    164\u001b[0m k \u001b[38;5;241m=\u001b[39m \u001b[38;5;28mself\u001b[39m\u001b[38;5;241m.\u001b[39mntaxa \u001b[38;5;241m-\u001b[39m node_num\n",
      "File \u001b[0;32m~/Documents/Research/VBPI-matrix/src/tree.py:100\u001b[0m, in \u001b[0;36mTree.update_q\u001b[0;34m(self, ancestors)\u001b[0m\n\u001b[1;32m     97\u001b[0m         log_pdf \u001b[38;5;241m=\u001b[39m \u001b[38;5;241m-\u001b[39mlog_sig\u001b[38;5;241m-\u001b[39m\u001b[38;5;241m0.5\u001b[39m\u001b[38;5;241m*\u001b[39mnp\u001b[38;5;241m.\u001b[39mlog(\u001b[38;5;241m2\u001b[39m\u001b[38;5;241m*\u001b[39mnp\u001b[38;5;241m.\u001b[39mpi)\u001b[38;5;241m-\u001b[39mlog_t\n\u001b[1;32m     98\u001b[0m         log_pdf \u001b[38;5;241m=\u001b[39m log_pdf \u001b[38;5;241m-\u001b[39m (((log_t\u001b[38;5;241m-\u001b[39mmu)\u001b[38;5;241m/\u001b[39msig)\u001b[38;5;241m*\u001b[39m\u001b[38;5;241m*\u001b[39m\u001b[38;5;241m2\u001b[39m)\u001b[38;5;241m/\u001b[39m\u001b[38;5;241m2\u001b[39m\n\u001b[0;32m--> 100\u001b[0m         log_cum_sfs \u001b[38;5;241m=\u001b[39m \u001b[43mlog_cum_sfs\u001b[49m\u001b[43m \u001b[49m\u001b[38;5;241;43m+\u001b[39;49m\u001b[43m \u001b[49m\u001b[43mlog_sf\u001b[49m\n\u001b[1;32m    101\u001b[0m         log_pdfs_over_sfs\u001b[38;5;241m.\u001b[39mappend(log_pdf \u001b[38;5;241m-\u001b[39m log_sf)\n\u001b[1;32m    103\u001b[0m \u001b[38;5;66;03m# update q\u001b[39;00m\n",
      "File \u001b[0;32m~/opt/anaconda3/lib/python3.9/site-packages/autograd/numpy/numpy_boxes.py:26\u001b[0m, in \u001b[0;36mArrayBox.__add__\u001b[0;34m(self, other)\u001b[0m\n\u001b[0;32m---> 26\u001b[0m \u001b[38;5;28;01mdef\u001b[39;00m \u001b[38;5;21m__add__\u001b[39m(\u001b[38;5;28mself\u001b[39m, other): \u001b[38;5;28;01mreturn\u001b[39;00m \u001b[43manp\u001b[49m\u001b[38;5;241;43m.\u001b[39;49m\u001b[43madd\u001b[49m\u001b[43m(\u001b[49m\u001b[43m \u001b[49m\u001b[38;5;28;43mself\u001b[39;49m\u001b[43m,\u001b[49m\u001b[43m \u001b[49m\u001b[43mother\u001b[49m\u001b[43m)\u001b[49m\n",
      "File \u001b[0;32m~/opt/anaconda3/lib/python3.9/site-packages/autograd/tracer.py:45\u001b[0m, in \u001b[0;36mprimitive.<locals>.f_wrapped\u001b[0;34m(*args, **kwargs)\u001b[0m\n\u001b[1;32m     43\u001b[0m     argnums \u001b[38;5;241m=\u001b[39m \u001b[38;5;28mtuple\u001b[39m(argnum    \u001b[38;5;28;01mfor\u001b[39;00m argnum, _   \u001b[38;5;129;01min\u001b[39;00m boxed_args)\n\u001b[1;32m     44\u001b[0m     ans \u001b[38;5;241m=\u001b[39m f_wrapped(\u001b[38;5;241m*\u001b[39margvals, \u001b[38;5;241m*\u001b[39m\u001b[38;5;241m*\u001b[39mkwargs)\n\u001b[0;32m---> 45\u001b[0m     node \u001b[38;5;241m=\u001b[39m \u001b[43mnode_constructor\u001b[49m\u001b[43m(\u001b[49m\u001b[43mans\u001b[49m\u001b[43m,\u001b[49m\u001b[43m \u001b[49m\u001b[43mf_wrapped\u001b[49m\u001b[43m,\u001b[49m\u001b[43m \u001b[49m\u001b[43margvals\u001b[49m\u001b[43m,\u001b[49m\u001b[43m \u001b[49m\u001b[43mkwargs\u001b[49m\u001b[43m,\u001b[49m\u001b[43m \u001b[49m\u001b[43margnums\u001b[49m\u001b[43m,\u001b[49m\u001b[43m \u001b[49m\u001b[43mparents\u001b[49m\u001b[43m)\u001b[49m\n\u001b[1;32m     46\u001b[0m     \u001b[38;5;28;01mreturn\u001b[39;00m new_box(ans, trace, node)\n\u001b[1;32m     47\u001b[0m \u001b[38;5;28;01melse\u001b[39;00m:\n",
      "File \u001b[0;32m~/opt/anaconda3/lib/python3.9/site-packages/autograd/core.py:36\u001b[0m, in \u001b[0;36mVJPNode.__init__\u001b[0;34m(self, value, fun, args, kwargs, parent_argnums, parents)\u001b[0m\n\u001b[1;32m     33\u001b[0m     fun_name \u001b[38;5;241m=\u001b[39m \u001b[38;5;28mgetattr\u001b[39m(fun, \u001b[38;5;124m'\u001b[39m\u001b[38;5;124m__name__\u001b[39m\u001b[38;5;124m'\u001b[39m, fun)\n\u001b[1;32m     34\u001b[0m     \u001b[38;5;28;01mraise\u001b[39;00m \u001b[38;5;167;01mNotImplementedError\u001b[39;00m(\u001b[38;5;124m\"\u001b[39m\u001b[38;5;124mVJP of \u001b[39m\u001b[38;5;132;01m{}\u001b[39;00m\u001b[38;5;124m wrt argnums \u001b[39m\u001b[38;5;132;01m{}\u001b[39;00m\u001b[38;5;124m not defined\u001b[39m\u001b[38;5;124m\"\u001b[39m\n\u001b[1;32m     35\u001b[0m                               \u001b[38;5;241m.\u001b[39mformat(fun_name, parent_argnums))\n\u001b[0;32m---> 36\u001b[0m \u001b[38;5;28mself\u001b[39m\u001b[38;5;241m.\u001b[39mvjp \u001b[38;5;241m=\u001b[39m \u001b[43mvjpmaker\u001b[49m\u001b[43m(\u001b[49m\u001b[43mparent_argnums\u001b[49m\u001b[43m,\u001b[49m\u001b[43m \u001b[49m\u001b[43mvalue\u001b[49m\u001b[43m,\u001b[49m\u001b[43m \u001b[49m\u001b[43margs\u001b[49m\u001b[43m,\u001b[49m\u001b[43m \u001b[49m\u001b[43mkwargs\u001b[49m\u001b[43m)\u001b[49m\n",
      "File \u001b[0;32m~/opt/anaconda3/lib/python3.9/site-packages/autograd/core.py:76\u001b[0m, in \u001b[0;36mdefvjp.<locals>.vjp_argnums\u001b[0;34m(argnums, ans, args, kwargs)\u001b[0m\n\u001b[1;32m     73\u001b[0m \u001b[38;5;28;01mexcept\u001b[39;00m \u001b[38;5;167;01mKeyError\u001b[39;00m:\n\u001b[1;32m     74\u001b[0m     \u001b[38;5;28;01mraise\u001b[39;00m \u001b[38;5;167;01mNotImplementedError\u001b[39;00m(\n\u001b[1;32m     75\u001b[0m         \u001b[38;5;124m\"\u001b[39m\u001b[38;5;124mVJP of \u001b[39m\u001b[38;5;132;01m{}\u001b[39;00m\u001b[38;5;124m wrt argnums 0, 1 not defined\u001b[39m\u001b[38;5;124m\"\u001b[39m\u001b[38;5;241m.\u001b[39mformat(fun\u001b[38;5;241m.\u001b[39m\u001b[38;5;18m__name__\u001b[39m))\n\u001b[0;32m---> 76\u001b[0m vjp_0 \u001b[38;5;241m=\u001b[39m \u001b[43mvjp_0_fun\u001b[49m\u001b[43m(\u001b[49m\u001b[43mans\u001b[49m\u001b[43m,\u001b[49m\u001b[43m \u001b[49m\u001b[38;5;241;43m*\u001b[39;49m\u001b[43margs\u001b[49m\u001b[43m,\u001b[49m\u001b[43m \u001b[49m\u001b[38;5;241;43m*\u001b[39;49m\u001b[38;5;241;43m*\u001b[39;49m\u001b[43mkwargs\u001b[49m\u001b[43m)\u001b[49m\n\u001b[1;32m     77\u001b[0m vjp_1 \u001b[38;5;241m=\u001b[39m vjp_1_fun(ans, \u001b[38;5;241m*\u001b[39margs, \u001b[38;5;241m*\u001b[39m\u001b[38;5;241m*\u001b[39mkwargs)\n\u001b[1;32m     78\u001b[0m \u001b[38;5;28;01mreturn\u001b[39;00m \u001b[38;5;28;01mlambda\u001b[39;00m g: (vjp_0(g), vjp_1(g))\n",
      "File \u001b[0;32m~/opt/anaconda3/lib/python3.9/site-packages/autograd/numpy/numpy_vjps.py:31\u001b[0m, in \u001b[0;36m<lambda>\u001b[0;34m(ans, x, y)\u001b[0m\n\u001b[1;32m     27\u001b[0m defvjp(anp\u001b[38;5;241m.\u001b[39mnan_to_num, \u001b[38;5;28;01mlambda\u001b[39;00m ans, x: \u001b[38;5;28;01mlambda\u001b[39;00m g: anp\u001b[38;5;241m.\u001b[39mwhere(anp\u001b[38;5;241m.\u001b[39misfinite(x), g, \u001b[38;5;241m0.\u001b[39m))\n\u001b[1;32m     29\u001b[0m \u001b[38;5;66;03m# ----- Binary ufuncs -----\u001b[39;00m\n\u001b[0;32m---> 31\u001b[0m defvjp(anp\u001b[38;5;241m.\u001b[39madd,         \u001b[38;5;28;01mlambda\u001b[39;00m ans, x, y : \u001b[43munbroadcast_f\u001b[49m\u001b[43m(\u001b[49m\u001b[43mx\u001b[49m\u001b[43m,\u001b[49m\u001b[43m \u001b[49m\u001b[38;5;28;43;01mlambda\u001b[39;49;00m\u001b[43m \u001b[49m\u001b[43mg\u001b[49m\u001b[43m:\u001b[49m\u001b[43m \u001b[49m\u001b[43mg\u001b[49m\u001b[43m)\u001b[49m,\n\u001b[1;32m     32\u001b[0m                         \u001b[38;5;28;01mlambda\u001b[39;00m ans, x, y : unbroadcast_f(y, \u001b[38;5;28;01mlambda\u001b[39;00m g: g))\n\u001b[1;32m     33\u001b[0m defvjp(anp\u001b[38;5;241m.\u001b[39mmultiply,    \u001b[38;5;28;01mlambda\u001b[39;00m ans, x, y : unbroadcast_f(x, \u001b[38;5;28;01mlambda\u001b[39;00m g: y \u001b[38;5;241m*\u001b[39m g),\n\u001b[1;32m     34\u001b[0m                         \u001b[38;5;28;01mlambda\u001b[39;00m ans, x, y : unbroadcast_f(y, \u001b[38;5;28;01mlambda\u001b[39;00m g: x \u001b[38;5;241m*\u001b[39m g))\n\u001b[1;32m     35\u001b[0m defvjp(anp\u001b[38;5;241m.\u001b[39msubtract,    \u001b[38;5;28;01mlambda\u001b[39;00m ans, x, y : unbroadcast_f(x, \u001b[38;5;28;01mlambda\u001b[39;00m g: g),\n\u001b[1;32m     36\u001b[0m                         \u001b[38;5;28;01mlambda\u001b[39;00m ans, x, y : unbroadcast_f(y, \u001b[38;5;28;01mlambda\u001b[39;00m g: \u001b[38;5;241m-\u001b[39mg))\n",
      "File \u001b[0;32m~/opt/anaconda3/lib/python3.9/site-packages/autograd/numpy/numpy_vjps.py:659\u001b[0m, in \u001b[0;36munbroadcast_f\u001b[0;34m(target, f)\u001b[0m\n\u001b[1;32m    658\u001b[0m \u001b[38;5;28;01mdef\u001b[39;00m \u001b[38;5;21munbroadcast_f\u001b[39m(target, f):\n\u001b[0;32m--> 659\u001b[0m     target_meta \u001b[38;5;241m=\u001b[39m \u001b[43manp\u001b[49m\u001b[38;5;241;43m.\u001b[39;49m\u001b[43mmetadata\u001b[49m\u001b[43m(\u001b[49m\u001b[43mtarget\u001b[49m\u001b[43m)\u001b[49m\n\u001b[1;32m    660\u001b[0m     \u001b[38;5;28;01mreturn\u001b[39;00m \u001b[38;5;28;01mlambda\u001b[39;00m g: unbroadcast(f(g), target_meta)\n",
      "File \u001b[0;32m~/opt/anaconda3/lib/python3.9/site-packages/autograd/tracer.py:60\u001b[0m, in \u001b[0;36mnotrace_primitive.<locals>.f_wrapped\u001b[0;34m(*args, **kwargs)\u001b[0m\n\u001b[1;32m     58\u001b[0m \u001b[38;5;129m@wraps\u001b[39m(f_raw)\n\u001b[1;32m     59\u001b[0m \u001b[38;5;28;01mdef\u001b[39;00m \u001b[38;5;21mf_wrapped\u001b[39m(\u001b[38;5;241m*\u001b[39margs, \u001b[38;5;241m*\u001b[39m\u001b[38;5;241m*\u001b[39mkwargs):\n\u001b[0;32m---> 60\u001b[0m     argvals \u001b[38;5;241m=\u001b[39m \u001b[38;5;28;43mmap\u001b[39;49m\u001b[43m(\u001b[49m\u001b[43mgetval\u001b[49m\u001b[43m,\u001b[49m\u001b[43m \u001b[49m\u001b[43margs\u001b[49m\u001b[43m)\u001b[49m\n\u001b[1;32m     61\u001b[0m     \u001b[38;5;28;01mreturn\u001b[39;00m f_raw(\u001b[38;5;241m*\u001b[39margvals, \u001b[38;5;241m*\u001b[39m\u001b[38;5;241m*\u001b[39mkwargs)\n",
      "\u001b[0;31mKeyboardInterrupt\u001b[0m: "
     ]
    }
   ],
   "source": [
    "optim_reparam = Optimizer(tree_log_probs,deepcopy(theta))\n",
    "\n",
    "optim_reparam.optimize_q_reparam(batch_size=10,\n",
    "                                 iters=1000,\n",
    "                                 alphas=[0.01,0.01],\n",
    "                                 record_every=10,\n",
    "                                 test_batch_size=100,\n",
    "                                 pop_size=pop_size)"
   ]
  },
  {
   "cell_type": "code",
   "execution_count": null,
   "metadata": {
    "scrolled": true
   },
   "outputs": [],
   "source": [
    "plt.plot(optim_reparam.ELBO_ests)\n",
    "plt.show()\n",
    "plt.plot(np.log(optim_reparam.grad_norms))\n",
    "plt.show()\n",
    "\n",
    "m = deepcopy(optim_reparam.theta[0])\n",
    "m[np.triu_indices(m.shape[0])] = np.nan\n",
    "plt.imshow(m)\n",
    "plt.title(\"means of log-coalscent times\")\n",
    "plt.colorbar()\n",
    "plt.show()\n",
    "\n",
    "log_sig = deepcopy(optim_reparam.theta[1])\n",
    "log_sig[np.triu_indices(log_sig.shape[0])] = np.nan\n",
    "plt.imshow(log_sig)\n",
    "plt.title(\"log-std of log-coalscent times\")\n",
    "plt.colorbar()\n",
    "plt.show()"
   ]
  },
  {
   "cell_type": "code",
   "execution_count": 13,
   "metadata": {},
   "outputs": [],
   "source": [
    "with open(reparam_file, 'wb') as file: \n",
    "    pickle.dump(optim_reparam, file) "
   ]
  },
  {
   "cell_type": "code",
   "execution_count": null,
   "metadata": {},
   "outputs": [],
   "source": [
    "optim_reinforce = Optimizer(tree_log_probs,deepcopy(theta))\n",
    "\n",
    "optim_reinforce.optimize_q_reinforce(batch_size=100,\n",
    "                                     iters=100,\n",
    "                                     alphas=[0.01,0.01],\n",
    "                                     record_every=10,\n",
    "                                     test_batch_size=100,\n",
    "                                     pop_size=pop_size)"
   ]
  },
  {
   "cell_type": "code",
   "execution_count": null,
   "metadata": {},
   "outputs": [],
   "source": [
    "plt.plot(optim_reinforce.ELBO_ests)\n",
    "plt.show()\n",
    "plt.plot(np.log(optim_reinforce.grad_norms))\n",
    "plt.show()\n",
    "\n",
    "m = deepcopy(optim_reinforce.theta[0])\n",
    "m[np.triu_indices(m.shape[0])] = np.nan\n",
    "plt.imshow(m)\n",
    "plt.title(\"means of log-coalscent times\")\n",
    "plt.colorbar()\n",
    "plt.show()\n",
    "\n",
    "log_sig = deepcopy(optim_reinforce.theta[1])\n",
    "log_sig[np.triu_indices(log_sig.shape[0])] = np.nan\n",
    "plt.imshow(log_sig)\n",
    "plt.title(\"log-std of log-coalscent times\")\n",
    "plt.colorbar()"
   ]
  },
  {
   "cell_type": "code",
   "execution_count": null,
   "metadata": {},
   "outputs": [],
   "source": [
    "with open(reinforce_file, 'wb') as file: \n",
    "    pickle.dump(optim_reinforce, file) "
   ]
  },
  {
   "cell_type": "code",
   "execution_count": 17,
   "metadata": {
    "scrolled": true
   },
   "outputs": [
    {
     "name": "stdout",
     "output_type": "stream",
     "text": [
      "iteration:  0\n",
      "runtime: 0 mins\n",
      "grad_norm estimate:  102046.16890504611\n",
      "ELBO estimate:  -7160.954024653366\n",
      "\n",
      "iteration:  10\n",
      "runtime: 0 mins\n",
      "grad_norm estimate:  115956.14686668382\n",
      "ELBO estimate:  -7166.685158670378\n",
      "\n",
      "iteration:  20\n",
      "runtime: 1 mins\n",
      "grad_norm estimate:  113620.9003579098\n",
      "ELBO estimate:  -7167.288195649325\n",
      "\n",
      "iteration:  30\n",
      "runtime: 1 mins\n",
      "grad_norm estimate:  127220.41823086576\n",
      "ELBO estimate:  -7169.47345412039\n",
      "\n",
      "iteration:  40\n",
      "runtime: 1 mins\n",
      "grad_norm estimate:  123424.44958536494\n",
      "ELBO estimate:  -7170.6449637432015\n",
      "\n",
      "iteration:  50\n",
      "runtime: 2 mins\n",
      "grad_norm estimate:  92242.91281426465\n",
      "ELBO estimate:  -7173.405011984285\n",
      "\n",
      "iteration:  60\n",
      "runtime: 2 mins\n",
      "grad_norm estimate:  125290.2660823859\n",
      "ELBO estimate:  -7175.128704049933\n",
      "\n",
      "iteration:  70\n",
      "runtime: 3 mins\n",
      "grad_norm estimate:  164912.83583531552\n",
      "ELBO estimate:  -7179.180293439837\n",
      "\n",
      "iteration:  80\n",
      "runtime: 4 mins\n",
      "grad_norm estimate:  126703.5085703102\n",
      "ELBO estimate:  -7181.392754296915\n",
      "\n",
      "iteration:  90\n",
      "runtime: 4 mins\n",
      "grad_norm estimate:  141746.06450237916\n",
      "ELBO estimate:  -7183.4565876950055\n",
      "\n"
     ]
    }
   ],
   "source": [
    "optim_VIMCO = Optimizer(tree_log_probs,deepcopy(optim_reparam.theta))\n",
    "\n",
    "optim_VIMCO.optimize_q_VIMCO(batch_size=10,\n",
    "                             iters=100,\n",
    "                             alphas=[0.01,0.01],\n",
    "                             record_every=10,\n",
    "                             test_batch_size=100,\n",
    "                             pop_size=pop_size)"
   ]
  },
  {
   "cell_type": "code",
   "execution_count": 18,
   "metadata": {},
   "outputs": [
    {
     "data": {
      "image/png": "[encoded data removed]",
      "text/plain": [
       "<Figure size 432x288 with 1 Axes>"
      ]
     },
     "metadata": {
      "needs_background": "light"
     },
     "output_type": "display_data"
    },
    {
     "data": {
      "image/png": "[encoded data removed]",
      "text/plain": [
       "<Figure size 432x288 with 1 Axes>"
      ]
     },
     "metadata": {
      "needs_background": "light"
     },
     "output_type": "display_data"
    },
    {
     "data": {
      "image/png": "[encoded data removed]",
      "text/plain": [
       "<Figure size 432x288 with 2 Axes>"
      ]
     },
     "metadata": {
      "needs_background": "light"
     },
     "output_type": "display_data"
    },
    {
     "data": {
      "text/plain": [
       "<matplotlib.colorbar.Colorbar at 0x7fad7c9f61c0>"
      ]
     },
     "execution_count": 18,
     "metadata": {},
     "output_type": "execute_result"
    },
    {
     "data": {
      "image/png": "[encoded data removed]",
      "text/plain": [
       "<Figure size 432x288 with 2 Axes>"
      ]
     },
     "metadata": {
      "needs_background": "light"
     },
     "output_type": "display_data"
    }
   ],
   "source": [
    "plt.plot(optim_VIMCO.ELBO_ests)\n",
    "plt.show()\n",
    "plt.plot(np.log(optim_VIMCO.grad_norms))\n",
    "plt.show()\n",
    "\n",
    "m = deepcopy(optim_VIMCO.theta[0])\n",
    "m[np.triu_indices(m.shape[0])] = np.nan\n",
    "plt.imshow(m)\n",
    "plt.title(\"means of log-coalscent times\")\n",
    "plt.colorbar()\n",
    "plt.show()\n",
    "\n",
    "log_sig = deepcopy(optim_VIMCO.theta[1])\n",
    "log_sig[np.triu_indices(log_sig.shape[0])] = np.nan\n",
    "plt.imshow(log_sig)\n",
    "plt.title(\"log-std of log-coalscent times\")\n",
    "plt.colorbar()"
   ]
  },
  {
   "cell_type": "code",
   "execution_count": null,
   "metadata": {},
   "outputs": [],
   "source": [
    "optim = optim_reinforce\n",
    "theta = optim.theta"
   ]
  },
  {
   "cell_type": "markdown",
   "metadata": {},
   "source": [
    "# draw the random tree using a newick file"
   ]
  },
  {
   "cell_type": "code",
   "execution_count": null,
   "metadata": {
    "scrolled": true
   },
   "outputs": [],
   "source": [
    "for _ in range(10):\n",
    "    Z = np.random.normal(np.ones_like(theta[0]))\n",
    "    log_times = np.exp(theta[1])*Z+theta[0]\n",
    "    log_times = log_times + np.triu(np.ones_like(theta[0])*np.inf)\n",
    "\n",
    "    tree = Tree(theta,log_times,tree_log_probs,\n",
    "                pop_size=pop_size)\n",
    "\n",
    "    def write_newick(node):\n",
    "\n",
    "        if node.children == []:\n",
    "            return species[next(iter(node.leaves))] + \":\" + str(node.parent.coal_time)\n",
    "        elif node.parent is None:\n",
    "            return \"(\" + write_newick(node.children[0]) + \",\" + write_newick(node.children[1]) + \")\"\n",
    "        else:\n",
    "            bl = node.parent.coal_time - node.coal_time\n",
    "            return \"(\" + write_newick(node.children[0]) + \",\" + write_newick(node.children[1]) + \"):\" + str(bl)\n",
    "\n",
    "\n",
    "    treedata = write_newick(tree.nodes[-1])\n",
    "    handle = StringIO(treedata)\n",
    "    tree_to_draw = Phylo.read(handle, \"newick\")\n",
    "\n",
    "    # Set up the plot\n",
    "    fig = plt.figure(figsize=(12, 10))\n",
    "    ax = fig.add_subplot(1, 1, 1)\n",
    "\n",
    "    # Draw the phylogenetic tree\n",
    "    Phylo.draw(tree_to_draw, axes=ax)\n",
    "\n",
    "    print(tree.log_like)\n",
    "    print(tree.log_prior)\n",
    "    print(tree.log_p)"
   ]
  },
  {
   "cell_type": "markdown",
   "metadata": {},
   "source": [
    "# Estimate the marginal likelihood"
   ]
  },
  {
   "cell_type": "code",
   "execution_count": null,
   "metadata": {
    "scrolled": true
   },
   "outputs": [],
   "source": [
    "n_exp = 10\n",
    "n_samples = 1000\n",
    "\n",
    "# get priors and log-liklihoods\n",
    "priors = []\n",
    "LL = []\n",
    "\n",
    "# get log_qs\n",
    "log_qs = []\n",
    "\n",
    "# get root heights\n",
    "rootHeights = []\n",
    "\n",
    "# get tree topologies\n",
    "tree_hash = {}\n",
    "top_counts = {}\n",
    "\n",
    "# get marginal log-likelihoods and ELBOs\n",
    "MLL_all = np.zeros(n_exp)\n",
    "ELBO_all = np.zeros(n_exp)\n",
    "\n",
    "for i in range(n_exp):\n",
    "    \n",
    "    print(i)\n",
    "    MLL = np.zeros(n_samples)\n",
    "    ELBO = np.zeros(n_samples)\n",
    "    Zs = np.random.normal(size=(n_samples,n_species,n_species))\n",
    "\n",
    "    for j,Z in enumerate(Zs):\n",
    "        log_times = np.exp(theta[1])*Z+theta[0]\n",
    "        log_times = log_times + np.triu(np.full(n_species, np.inf))\n",
    "        tree = Tree(optim.theta,log_times,deepcopy(tree_log_probs),\n",
    "                    pop_size=pop_size)\n",
    "        \n",
    "        MLL[j] = tree.log_p - tree.log_q\n",
    "        ELBO[j] = tree.log_p - tree.log_q\n",
    "        \n",
    "        LL.append(tree.log_like)\n",
    "        priors.append(tree.log_prior)\n",
    "        log_qs.append(tree.log_q)\n",
    "        rootHeights.append(tree.nodes[-1].coal_time)\n",
    "        \n",
    "        tree_top = frozenset([frozenset(x.leaves) for x in tree.nodes])\n",
    "        if tree_top in tree_hash:\n",
    "            top_counts[tree_hash[tree_top]] += 1\n",
    "        else:\n",
    "            tree_hash[tree_top] = len(tree_hash)\n",
    "            top_counts[tree_hash[tree_top]] = 1\n",
    "        \n",
    "    MLL_all[i] = logsumexp(MLL) - np.log(n_samples)\n",
    "    ELBO_all[i] = np.mean(ELBO)"
   ]
  },
  {
   "cell_type": "code",
   "execution_count": 23,
   "metadata": {},
   "outputs": [
    {
     "data": {
      "image/png": "[encoded data removed]",
      "text/plain": [
       "<Figure size 432x288 with 1 Axes>"
      ]
     },
     "metadata": {
      "needs_background": "light"
     },
     "output_type": "display_data"
    },
    {
     "name": "stdout",
     "output_type": "stream",
     "text": [
      "139.58910329986853\n"
     ]
    }
   ],
   "source": [
    "plt.hist(log_qs,bins = 100)\n",
    "plt.show()\n",
    "print(np.mean(log_qs))"
   ]
  },
  {
   "cell_type": "code",
   "execution_count": 24,
   "metadata": {},
   "outputs": [
    {
     "data": {
      "image/png": "[encoded data removed]",
      "text/plain": [
       "<Figure size 432x288 with 1 Axes>"
      ]
     },
     "metadata": {
      "needs_background": "light"
     },
     "output_type": "display_data"
    },
    {
     "name": "stdout",
     "output_type": "stream",
     "text": [
      "-42.50641210175989\n"
     ]
    }
   ],
   "source": [
    "plt.hist(priors,bins = 100)\n",
    "plt.show()\n",
    "print(np.mean(priors))"
   ]
  },
  {
   "cell_type": "code",
   "execution_count": 25,
   "metadata": {},
   "outputs": [
    {
     "data": {
      "image/png": "[encoded data removed]",
      "text/plain": [
       "<Figure size 432x288 with 1 Axes>"
      ]
     },
     "metadata": {
      "needs_background": "light"
     },
     "output_type": "display_data"
    },
    {
     "name": "stdout",
     "output_type": "stream",
     "text": [
      "-6979.78460263541\n"
     ]
    }
   ],
   "source": [
    "plt.hist(LL,bins = 100)\n",
    "plt.show()\n",
    "print(np.mean(LL))"
   ]
  },
  {
   "cell_type": "code",
   "execution_count": 26,
   "metadata": {},
   "outputs": [
    {
     "data": {
      "image/png": "[encoded data removed]",
      "text/plain": [
       "<Figure size 432x288 with 1 Axes>"
      ]
     },
     "metadata": {
      "needs_background": "light"
     },
     "output_type": "display_data"
    },
    {
     "name": "stdout",
     "output_type": "stream",
     "text": [
      "0.041778539288600126\n"
     ]
    }
   ],
   "source": [
    "plt.hist(rootHeights,bins = 100)\n",
    "plt.show()\n",
    "print(np.mean(rootHeights))"
   ]
  },
  {
   "cell_type": "code",
   "execution_count": 27,
   "metadata": {},
   "outputs": [
    {
     "data": {
      "image/png": "[encoded data removed]",
      "text/plain": [
       "<Figure size 432x288 with 1 Axes>"
      ]
     },
     "metadata": {
      "needs_background": "light"
     },
     "output_type": "display_data"
    },
    {
     "name": "stdout",
     "output_type": "stream",
     "text": [
      "-7161.880118037038\n"
     ]
    }
   ],
   "source": [
    "plt.hist(ELBO_all,bins = 100)\n",
    "plt.show()\n",
    "print(np.mean(ELBO_all))"
   ]
  },
  {
   "cell_type": "code",
   "execution_count": 28,
   "metadata": {},
   "outputs": [
    {
     "data": {
      "image/png": "[encoded data removed]",
      "text/plain": [
       "<Figure size 432x288 with 1 Axes>"
      ]
     },
     "metadata": {
      "needs_background": "light"
     },
     "output_type": "display_data"
    },
    {
     "name": "stdout",
     "output_type": "stream",
     "text": [
      "-7155.9975135274235\n"
     ]
    }
   ],
   "source": [
    "plt.hist(MLL_all,bins = 100)\n",
    "plt.show()\n",
    "print(np.mean(MLL_all))"
   ]
  },
  {
   "cell_type": "code",
   "execution_count": 29,
   "metadata": {},
   "outputs": [
    {
     "data": {
      "text/plain": [
       "<matplotlib.colorbar.Colorbar at 0x7f941a2d28b0>"
      ]
     },
     "execution_count": 29,
     "metadata": {},
     "output_type": "execute_result"
    },
    {
     "data": {
      "image/png": "[encoded data removed]",
      "text/plain": [
       "<Figure size 432x288 with 3 Axes>"
      ]
     },
     "metadata": {
      "needs_background": "light"
     },
     "output_type": "display_data"
    }
   ],
   "source": [
    "m = deepcopy(theta[0])\n",
    "m[np.triu_indices(m.shape[0])] = np.nan\n",
    "plt.imshow(m)\n",
    "plt.title(\"means of log-coalscent times\")\n",
    "plt.colorbar()"
   ]
  },
  {
   "cell_type": "code",
   "execution_count": 30,
   "metadata": {},
   "outputs": [
    {
     "data": {
      "text/plain": [
       "<matplotlib.colorbar.Colorbar at 0x7f941767db50>"
      ]
     },
     "execution_count": 30,
     "metadata": {},
     "output_type": "execute_result"
    },
    {
     "data": {
      "image/png": "[encoded data removed]",
      "text/plain": [
       "<Figure size 432x288 with 2 Axes>"
      ]
     },
     "metadata": {
      "needs_background": "light"
     },
     "output_type": "display_data"
    }
   ],
   "source": [
    "log_sig = deepcopy(theta[1])\n",
    "log_sig[np.triu_indices(log_sig.shape[0])] = np.nan\n",
    "plt.imshow(log_sig)\n",
    "plt.title(\"log-std of log-coalscent times\")\n",
    "plt.colorbar()"
   ]
  }
 ],
 "metadata": {
  "kernelspec": {
   "display_name": "Python 3 (ipykernel)",
   "language": "python",
   "name": "python3"
  },
  "language_info": {
   "codemirror_mode": {
    "name": "ipython",
    "version": 3
   },
   "file_extension": ".py",
   "mimetype": "text/x-python",
   "name": "python",
   "nbconvert_exporter": "python",
   "pygments_lexer": "ipython3",
   "version": "3.9.12"
  }
 },
 "nbformat": 4,
 "nbformat_minor": 2
}
