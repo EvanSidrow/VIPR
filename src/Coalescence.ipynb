{
 "cells": [
  {
   "cell_type": "code",
   "execution_count": null,
   "metadata": {},
   "outputs": [],
   "source": [
    "import autograd.numpy as np\n",
    "from autograd.scipy.special import logsumexp,erf\n",
    "from autograd.scipy.stats import norm\n",
    "from autograd import grad\n",
    "\n",
    "#from autograd_gamma import gamma, gammainc, gammaincc, gammaincln, gammainccln\n",
    "\n",
    "import matplotlib.pyplot as plt\n",
    "from copy import deepcopy\n",
    "from itertools import product\n",
    "from itertools import combinations\n",
    "import pickle\n",
    "\n",
    "from io import StringIO\n",
    "from Bio import Phylo\n",
    "\n",
    "from tree import Tree\n",
    "from optimizer import Optimizer\n",
    "\n",
    "import warnings\n",
    "warnings.filterwarnings('ignore')\n",
    "\n",
    "np.random.seed(0)"
   ]
  },
  {
   "cell_type": "code",
   "execution_count": null,
   "metadata": {},
   "outputs": [],
   "source": [
    "pop_size = 5.0 # exponential parameter for constant pop size prior\n",
    "data_file = '../dat/DS1/DS1.pickle'\n",
    "out_file = '../dat/DS1/DS1_optim.pickle'"
   ]
  },
  {
   "cell_type": "code",
   "execution_count": null,
   "metadata": {},
   "outputs": [],
   "source": [
    "with open(data_file, 'rb') as f:\n",
    "    DS1 = pickle.load(f)"
   ]
  },
  {
   "cell_type": "code",
   "execution_count": null,
   "metadata": {},
   "outputs": [],
   "source": [
    "genomes = []\n",
    "species = []\n",
    "for key in DS1:\n",
    "    genomes.append(DS1[key])\n",
    "    species.append(key)\n",
    "    \n",
    "n_species = len(species)"
   ]
  },
  {
   "cell_type": "code",
   "execution_count": null,
   "metadata": {},
   "outputs": [],
   "source": [
    "# From https://github.com/zcrabbit/vbpi-torch/blob/ff86cf0c47a5753f5cc5b4dfe0b6ed783ab22669/unrooted/phyloModel.py#L7-L11\n",
    "nuc2vec = {'A':[1.,0.,0.,0.], 'G':[0.,1.,0.,0.], 'C':[0.,0.,1.,0.], 'T':[0.,0.,0.,1.],\n",
    "           '-':[1.,1.,1.,1.], '?':[1.,1.,1.,1.], 'N':[1.,1.,1.,1.], 'R':[1.,1.,0.,0.],\n",
    "           'Y':[0.,0.,1.,1.], 'S':[0.,1.,1.,0.], 'W':[1.,0.,0.,1.], 'K':[0.,1.,0.,1.],\n",
    "           'M':[1.,0.,1.,0.], 'B':[0.,1.,1.,1.], 'D':[1.,1.,0.,1.], 'H':[1.,0.,1.,1.],\n",
    "           'V':[1.,1.,1.,0.], '.':[1.,1.,1.,1.], 'U':[0.,0.,0.,1.]}\n",
    "\n",
    "tree_log_probs = np.array([[nuc2vec[g] for g in genome] for genome in genomes],\n",
    "                                dtype = float)\n",
    "tree_log_probs = np.log(tree_log_probs)"
   ]
  },
  {
   "cell_type": "markdown",
   "metadata": {},
   "source": [
    "# Set initial $\\theta$ using the consesus tree from BEAST"
   ]
  },
  {
   "cell_type": "code",
   "execution_count": null,
   "metadata": {},
   "outputs": [],
   "source": [
    "theta = np.zeros((2,n_species,n_species))\n",
    "\n",
    "theta[0] = np.random.normal(size = (n_species,n_species)) + np.log(pop_size)\n",
    "theta[0] = theta[0]*np.tril(np.ones((n_species,n_species)),k=-1)\n",
    "theta[1] = 0.01*np.random.normal(size = (n_species,n_species))\n",
    "theta[1] = theta[1]*np.tril(np.ones((n_species,n_species)),k=-1)\n",
    "\n",
    "print(theta.shape)"
   ]
  },
  {
   "cell_type": "code",
   "execution_count": null,
   "metadata": {},
   "outputs": [],
   "source": [
    "times = 0.05 * np.ones((27,27))\n",
    "\n",
    "# A Homo-sapiens, mus, rattus, Oryct\n",
    "times[10,15] = 0.0061\n",
    "times[10,17] = 0.0093\n",
    "times[15,19] = 0.0042\n",
    "\n",
    "# B Trach 23, Alligator 0, Scel 21, Hetero 9, Gallus 6, Turdus 24\n",
    "times[0,23] = 0.0049\n",
    "times[9,21] = 0.0072\n",
    "times[0,9] = 0.0111\n",
    "times[6,24] = 0.0076\n",
    "times[6,23] = 0.0203\n",
    "\n",
    "# C Disco 4, Amph 2, Hypo 12, Grand 8, Ich 13, Pleth 18, Sca 20\n",
    "times[4,12] = 0.0141\n",
    "times[2,12] = 0.0082\n",
    "times[8,12] = 0.0028\n",
    "times[12,13] = 0.01\n",
    "times[18,13] = 0.0114\n",
    "times[18,20] = 0.0052\n",
    "\n",
    "# D Typh 25, siren 22, Amb 1\n",
    "times[1,22] = 0.0053\n",
    "times[1,25] = 0.0098\n",
    "\n",
    "# E Neso 16, Eleu 5, Gatro 7, Hyla 11, Bufo 3\n",
    "times[5,16] = 0.0138\n",
    "times[5,7] = 0.0175\n",
    "times[3,11] = 0.0157\n",
    "times[3,16] = 0.0207\n",
    "\n",
    "# A B\n",
    "times[10,23] = 0.0312\n",
    "\n",
    "# C D\n",
    "times[4,22] = 0.0165\n",
    "\n",
    "# CDE\n",
    "times[5,22] = 0.0229\n",
    "\n",
    "# CDE Xeno 26 Lat 14\n",
    "times[5,26] = 0.0278\n",
    "times[5,14] = 0.0348\n",
    "\n",
    "# ABCDE\n",
    "times[5,10] = 0.0406"
   ]
  },
  {
   "cell_type": "code",
   "execution_count": null,
   "metadata": {},
   "outputs": [],
   "source": [
    "log_times = np.log(times)\n",
    "\n",
    "tree = Tree(theta,log_times,tree_log_probs,\n",
    "            pop_size=pop_size)\n",
    "\n",
    "theta = np.zeros((2,n_species,n_species))\n",
    "\n",
    "for node in tree.nodes:\n",
    "    combs = combinations(node.leaves,2)\n",
    "    for inds in combs:\n",
    "        inds = sorted(inds)\n",
    "        theta[0,inds[1],inds[0]] = min(theta[0,inds[1],inds[0]],np.log(node.coal_time))\n",
    "        theta[1,inds[1],inds[0]] = -2\n",
    "        \n",
    "print(theta.shape)"
   ]
  },
  {
   "cell_type": "code",
   "execution_count": null,
   "metadata": {
    "scrolled": true
   },
   "outputs": [],
   "source": [
    "def write_newick(node):\n",
    "    \n",
    "    if node.children == []:\n",
    "        return species[next(iter(node.leaves))] + \":\" + str(node.parent.coal_time)\n",
    "    elif node.parent is None:\n",
    "        return \"(\" + write_newick(node.children[0]) + \",\" + write_newick(node.children[1]) + \")\"\n",
    "    else:\n",
    "        bl = node.parent.coal_time - node.coal_time\n",
    "        return \"(\" + write_newick(node.children[0]) + \",\" + write_newick(node.children[1]) + \"):\" + str(bl)\n",
    "\n",
    "\n",
    "treedata = write_newick(tree.nodes[-1])\n",
    "handle = StringIO(treedata)\n",
    "tree_to_draw = Phylo.read(handle, \"newick\")\n",
    "\n",
    "# Set up the plot\n",
    "fig = plt.figure(figsize=(12, 10))\n",
    "ax = fig.add_subplot(1, 1, 1)\n",
    "\n",
    "# Draw the phylogenetic tree\n",
    "Phylo.draw(tree_to_draw, axes=ax)"
   ]
  },
  {
   "cell_type": "markdown",
   "metadata": {},
   "source": [
    "# perform variational inference"
   ]
  },
  {
   "cell_type": "code",
   "execution_count": null,
   "metadata": {},
   "outputs": [],
   "source": [
    "optim_reparam = Optimizer(tree_log_probs,deepcopy(theta))\n",
    "\n",
    "optim_reparam.optimize_q_reparam(100,100,alphas=[0.1,0.01],\n",
    "                                 pop_size=pop_size)\n",
    "#optim.optimize_q_reinforce(5,1000,alphas=[0.01,0.001],\n",
    "#                           pop_size=np.ones_like(theta[0]))"
   ]
  },
  {
   "cell_type": "code",
   "execution_count": null,
   "metadata": {
    "scrolled": true
   },
   "outputs": [],
   "source": [
    "plt.plot(optim_reparam.ELBO_ests)\n",
    "plt.show()\n",
    "plt.plot(np.log(optim_reparam.grad_norms))\n",
    "plt.show()\n",
    "\n",
    "m = deepcopy(optim_reparam.theta[0])\n",
    "m[np.triu_indices(m.shape[0])] = np.nan\n",
    "plt.imshow(m)\n",
    "plt.title(\"means of log-coalscent times\")\n",
    "plt.colorbar()\n",
    "plt.show()\n",
    "\n",
    "log_sig = deepcopy(optim_reparam.theta[1])\n",
    "log_sig[np.triu_indices(log_sig.shape[0])] = np.nan\n",
    "plt.imshow(log_sig)\n",
    "plt.title(\"log-std of log-coalscent times\")\n",
    "plt.colorbar()\n",
    "plt.show()"
   ]
  },
  {
   "cell_type": "code",
   "execution_count": null,
   "metadata": {},
   "outputs": [],
   "source": [
    "optim_reinforce = Optimizer(tree_log_probs,deepcopy(optim_reparam.theta))\n",
    "\n",
    "optim_reinforce.optimize_q_reinforce(100,100,alphas=[0.01,0.01],\n",
    "                                     pop_size=pop_size)\n",
    "#optim.optimize_q_reinforce(5,1000,alphas=[0.01,0.001],\n",
    "#                           pop_size=np.ones_like(theta[0]))"
   ]
  },
  {
   "cell_type": "code",
   "execution_count": null,
   "metadata": {},
   "outputs": [],
   "source": [
    "plt.plot(optim_reinforce.ELBO_ests)\n",
    "plt.show()\n",
    "plt.plot(np.log(optim_reinforce.grad_norms))\n",
    "plt.show()\n",
    "\n",
    "m = deepcopy(optim_reinforce.theta[0])\n",
    "m[np.triu_indices(m.shape[0])] = np.nan\n",
    "plt.imshow(m)\n",
    "plt.title(\"means of log-coalscent times\")\n",
    "plt.colorbar()\n",
    "plt.show()\n",
    "\n",
    "log_sig = deepcopy(optim_reinforce.theta[1])\n",
    "log_sig[np.triu_indices(log_sig.shape[0])] = np.nan\n",
    "plt.imshow(log_sig)\n",
    "plt.title(\"log-std of log-coalscent times\")\n",
    "plt.colorbar()"
   ]
  },
  {
   "cell_type": "code",
   "execution_count": null,
   "metadata": {},
   "outputs": [],
   "source": [
    "m = deepcopy(optim_reinforce.theta[0] - optim_reparam.theta[0])\n",
    "m[np.triu_indices(m.shape[0])] = np.nan\n",
    "plt.imshow(m)\n",
    "plt.title(\"means of log-coalscent times\")\n",
    "plt.colorbar()\n",
    "plt.show()\n",
    "\n",
    "log_sig = deepcopy(optim_reinforce.theta[1] - optim_reparam.theta[1])\n",
    "log_sig[np.triu_indices(log_sig.shape[0])] = np.nan\n",
    "plt.imshow(log_sig)\n",
    "plt.title(\"log-std of log-coalscent times\")\n",
    "plt.colorbar()"
   ]
  },
  {
   "cell_type": "code",
   "execution_count": null,
   "metadata": {},
   "outputs": [],
   "source": [
    "with open(out_file, 'wb') as file: \n",
    "    pickle.dump(optim_reinforce, file) "
   ]
  },
  {
   "cell_type": "code",
   "execution_count": null,
   "metadata": {},
   "outputs": [],
   "source": [
    "optim = optim_reparam\n",
    "theta = optim.theta"
   ]
  },
  {
   "cell_type": "markdown",
   "metadata": {},
   "source": [
    "# Print out a random tree"
   ]
  },
  {
   "cell_type": "code",
   "execution_count": null,
   "metadata": {
    "scrolled": true
   },
   "outputs": [],
   "source": [
    "Z = np.random.normal(np.ones_like(theta[0]))\n",
    "log_times = np.exp(theta[1])*Z+theta[0]\n",
    "log_times = log_times + np.triu(np.ones_like(theta[0])*np.inf)\n",
    "\n",
    "tree = Tree(theta,log_times,tree_log_probs,\n",
    "            pop_size=pop_size)"
   ]
  },
  {
   "cell_type": "markdown",
   "metadata": {},
   "source": [
    "# draw the random tree using a newick file"
   ]
  },
  {
   "cell_type": "code",
   "execution_count": null,
   "metadata": {
    "scrolled": true
   },
   "outputs": [],
   "source": [
    "for _ in range(10):\n",
    "    Z = np.random.normal(np.ones_like(theta[0]))\n",
    "    log_times = np.exp(theta[1])*Z+theta[0]\n",
    "    log_times = log_times + np.triu(np.ones_like(theta[0])*np.inf)\n",
    "\n",
    "    tree = Tree(theta,log_times,tree_log_probs,\n",
    "                pop_size=pop_size)\n",
    "\n",
    "    def write_newick(node):\n",
    "\n",
    "        if node.children == []:\n",
    "            return species[next(iter(node.leaves))] + \":\" + str(node.parent.coal_time)\n",
    "        elif node.parent is None:\n",
    "            return \"(\" + write_newick(node.children[0]) + \",\" + write_newick(node.children[1]) + \")\"\n",
    "        else:\n",
    "            bl = node.parent.coal_time - node.coal_time\n",
    "            return \"(\" + write_newick(node.children[0]) + \",\" + write_newick(node.children[1]) + \"):\" + str(bl)\n",
    "\n",
    "\n",
    "    treedata = write_newick(tree.nodes[-1])\n",
    "    handle = StringIO(treedata)\n",
    "    tree_to_draw = Phylo.read(handle, \"newick\")\n",
    "\n",
    "    # Set up the plot\n",
    "    fig = plt.figure(figsize=(12, 10))\n",
    "    ax = fig.add_subplot(1, 1, 1)\n",
    "\n",
    "    # Draw the phylogenetic tree\n",
    "    Phylo.draw(tree_to_draw, axes=ax)\n",
    "\n",
    "    print(tree.log_like)\n",
    "    print(tree.log_prior)\n",
    "    print(tree.log_p)"
   ]
  },
  {
   "cell_type": "markdown",
   "metadata": {},
   "source": [
    "# Estimate the marginal likelihood"
   ]
  },
  {
   "cell_type": "code",
   "execution_count": null,
   "metadata": {},
   "outputs": [],
   "source": [
    "tree.nodes[-1].coal_time"
   ]
  },
  {
   "cell_type": "code",
   "execution_count": null,
   "metadata": {
    "scrolled": true
   },
   "outputs": [],
   "source": [
    "n_exp = 100\n",
    "n_samples = 10\n",
    "\n",
    "# get priors and log-liklihoods\n",
    "priors = []\n",
    "LL = []\n",
    "\n",
    "# get root heights\n",
    "rootHeights = []\n",
    "\n",
    "# get tree topologies\n",
    "tree_hash = {}\n",
    "top_counts = {}\n",
    "\n",
    "# get marginal log-likelihoods and ELBOs\n",
    "MLL_all = np.zeros(n_exp)\n",
    "ELBO_all = np.zeros(n_exp)\n",
    "\n",
    "for i in range(n_exp):\n",
    "    \n",
    "    print(i)\n",
    "    \n",
    "    MLL = np.zeros(n_samples)\n",
    "    ELBO = np.zeros(n_samples)\n",
    "    Zs = np.random.normal(size=(n_samples,n_species,n_species))\n",
    "\n",
    "    for j,Z in enumerate(Zs):\n",
    "        log_times = np.exp(theta[1])*Z+theta[0]\n",
    "        log_times = log_times + np.triu(np.full(n_species, np.inf))\n",
    "        tree = Tree(optim.theta,log_times,deepcopy(tree_log_probs),\n",
    "                    pop_size=pop_size)\n",
    "        \n",
    "        MLL[j] = tree.log_p - tree.log_q\n",
    "        ELBO[j] = tree.log_p - tree.log_q\n",
    "        \n",
    "        LL.append(tree.log_like)\n",
    "        priors.append(tree.log_prior)\n",
    "        rootHeights.append(tree.nodes[-1].coal_time)\n",
    "        \n",
    "        tree_top = frozenset([frozenset(x.leaves) for x in tree.nodes])\n",
    "        if tree_top in tree_hash:\n",
    "            top_counts[tree_hash[tree_top]] += 1\n",
    "        else:\n",
    "            tree_hash[tree_top] = len(tree_hash)\n",
    "            top_counts[tree_hash[tree_top]] = 1\n",
    "        \n",
    "    MLL_all[i] = logsumexp(MLL) - np.log(n_samples)\n",
    "    ELBO_all[i] = np.mean(ELBO)"
   ]
  },
  {
   "cell_type": "code",
   "execution_count": null,
   "metadata": {},
   "outputs": [],
   "source": [
    "plt.hist(rootHeights,bins = 100)\n",
    "plt.show()\n",
    "print(np.mean(rootHeights))"
   ]
  },
  {
   "cell_type": "code",
   "execution_count": null,
   "metadata": {},
   "outputs": [],
   "source": [
    "plt.hist(priors,bins = 100)\n",
    "plt.show()\n",
    "print(np.mean(priors))"
   ]
  },
  {
   "cell_type": "code",
   "execution_count": null,
   "metadata": {},
   "outputs": [],
   "source": [
    "plt.hist(ELBO_all,bins = 100)\n",
    "plt.show()\n",
    "print(np.mean(ELBO_all))"
   ]
  },
  {
   "cell_type": "code",
   "execution_count": null,
   "metadata": {},
   "outputs": [],
   "source": [
    "plt.hist(MLL_all,bins = 100)\n",
    "plt.show()\n",
    "print(np.mean(MLL_all))"
   ]
  },
  {
   "cell_type": "code",
   "execution_count": null,
   "metadata": {},
   "outputs": [],
   "source": [
    "plt.hist(LL,bins = 100)\n",
    "plt.show()\n",
    "print(np.mean(LL))"
   ]
  },
  {
   "cell_type": "code",
   "execution_count": null,
   "metadata": {},
   "outputs": [],
   "source": [
    "m = deepcopy(theta[0])\n",
    "m[np.triu_indices(m.shape[0])] = np.nan\n",
    "plt.imshow(m)\n",
    "plt.title(\"means of log-coalscent times\")\n",
    "plt.colorbar()\n",
    "\n",
    "log_sig = deepcopy(theta[1])\n",
    "log_sig[np.triu_indices(log_sig.shape[0])] = np.nan\n",
    "plt.imshow(log_sig)\n",
    "plt.title(\"log-std of log-coalscent times\")\n",
    "plt.colorbar()"
   ]
  },
  {
   "cell_type": "code",
   "execution_count": null,
   "metadata": {},
   "outputs": [],
   "source": [
    "log_sig = deepcopy(theta[1])\n",
    "log_sig[np.triu_indices(log_sig.shape[0])] = np.nan\n",
    "plt.imshow(log_sig)\n",
    "plt.title(\"log-std of log-coalscent times\")\n",
    "plt.colorbar()"
   ]
  }
 ],
 "metadata": {
  "kernelspec": {
   "display_name": "Python 3 (ipykernel)",
   "language": "python",
   "name": "python3"
  },
  "language_info": {
   "codemirror_mode": {
    "name": "ipython",
    "version": 3
   },
   "file_extension": ".py",
   "mimetype": "text/x-python",
   "name": "python",
   "nbconvert_exporter": "python",
   "pygments_lexer": "ipython3",
   "version": "3.9.12"
  }
 },
 "nbformat": 4,
 "nbformat_minor": 2
}
