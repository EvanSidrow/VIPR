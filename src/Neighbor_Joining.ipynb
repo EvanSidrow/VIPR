{
 "cells": [
  {
   "cell_type": "code",
   "execution_count": null,
   "metadata": {},
   "outputs": [],
   "source": [
    "import numpy as np"
   ]
  },
  {
   "cell_type": "code",
   "execution_count": null,
   "metadata": {},
   "outputs": [],
   "source": [
    "n = 6\n",
    "d = np.square(np.random.normal(size=(n,n)))\n",
    "d = np.multiply(d,d.T)\n",
    "np.fill_diagonal(d,0)"
   ]
  },
  {
   "cell_type": "code",
   "execution_count": null,
   "metadata": {},
   "outputs": [],
   "source": [
    "def NJ(d):\n",
    "    \n",
    "    edges = {}\n",
    "    v_to_join = list(range(len(d)))\n",
    "    n = len(v_to_join)\n",
    "    delta = np.zeros(((2*n)-2,(2*n)-2))\n",
    "    delta[:n,:n] = np.array(d)\n",
    "    \n",
    "    for _ in range(len(d)-2):\n",
    "        \n",
    "        # construct Q\n",
    "        n = len(v_to_join)\n",
    "        d0 = np.array(delta[v_to_join,:])\n",
    "        d0 = d0[:,v_to_join]\n",
    "        Q = ((n-2)*d0 - np.sum(d0,0)).T - np.sum(d0,1)\n",
    "        np.fill_diagonal(Q,0)\n",
    "        \n",
    "        # select vertices to join\n",
    "        vs0 = np.unravel_index(np.argmin(Q),Q.shape)\n",
    "        vs = tuple([v_to_join[v] for v in vs0])\n",
    "        print(Q)\n",
    "        \n",
    "        # add and remove vertices as needed \n",
    "        new_node = max(v_to_join)+1\n",
    "        v_to_join.append(new_node)\n",
    "        for v in vs:\n",
    "            v_to_join.remove(v)\n",
    "            \n",
    "        # recalculate distances\n",
    "        delta[vs[0],new_node] = 0.5*d0[vs0[0],vs0[1]] + (1.0/(2*(n-2)))*(sum(d0[vs0[0],:]) - sum(d0[vs0[1],:]))\n",
    "        delta[new_node,vs[0]] = delta[vs[0],new_node]\n",
    "        edges[(vs[0],new_node)] = delta[vs[0],new_node]\n",
    "        \n",
    "        delta[vs[1],new_node] = delta[vs[0],vs[1]] - delta[vs[0],new_node]\n",
    "        delta[new_node,vs[1]] = delta[vs[1],new_node]\n",
    "        edges[(vs[1],new_node)] = delta[vs[1],new_node]\n",
    "        \n",
    "        for node in v_to_join:\n",
    "            \n",
    "            if node != vs[0] and node != vs[1]:\n",
    "                \n",
    "                delta[node,new_node] = 0.5*(delta[vs[0],node] + delta[vs[1],node] - delta[vs[0],vs[1]])\n",
    "                delta[new_node,node] = delta[node,new_node]\n",
    "        \n",
    "        # if we are done, find the last edge length\n",
    "        if len(v_to_join) == 2:\n",
    "            leftover_node = 3 - vs0[0] - vs0[1] \n",
    "            edges[(tuple(v_to_join))] = d0[vs0[0],leftover_node] - delta[vs[0],new_node]\n",
    "    \n",
    "    return delta,edges"
   ]
  },
  {
   "cell_type": "code",
   "execution_count": null,
   "metadata": {},
   "outputs": [],
   "source": [
    "NJ(d)"
   ]
  },
  {
   "cell_type": "code",
   "execution_count": null,
   "metadata": {},
   "outputs": [],
   "source": [
    "print(d)"
   ]
  },
  {
   "cell_type": "code",
   "execution_count": null,
   "metadata": {},
   "outputs": [],
   "source": []
  }
 ],
 "metadata": {
  "kernelspec": {
   "display_name": "Python 3 (ipykernel)",
   "language": "python",
   "name": "python3"
  },
  "language_info": {
   "codemirror_mode": {
    "name": "ipython",
    "version": 3
   },
   "file_extension": ".py",
   "mimetype": "text/x-python",
   "name": "python",
   "nbconvert_exporter": "python",
   "pygments_lexer": "ipython3",
   "version": "3.9.12"
  }
 },
 "nbformat": 4,
 "nbformat_minor": 2
}
