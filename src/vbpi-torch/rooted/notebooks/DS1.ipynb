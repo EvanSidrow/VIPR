{
 "cells": [
  {
   "cell_type": "code",
   "execution_count": 142,
   "id": "80309e57",
   "metadata": {},
   "outputs": [
    {
     "name": "stdout",
     "output_type": "stream",
     "text": [
      "The autoreload extension is already loaded. To reload it, use:\n",
      "  %reload_ext autoreload\n"
     ]
    }
   ],
   "source": [
    "%load_ext autoreload\n",
    "%autoreload 2"
   ]
  },
  {
   "cell_type": "code",
   "execution_count": 143,
   "id": "39979898",
   "metadata": {},
   "outputs": [],
   "source": [
    "import sys\n",
    "import os\n",
    "import math\n",
    "import matplotlib.pyplot as plt\n",
    "import numpy as np\n",
    "from scipy.special import logsumexp\n",
    "sys.path.append('../')"
   ]
  },
  {
   "cell_type": "code",
   "execution_count": 144,
   "id": "4e6f52ca",
   "metadata": {},
   "outputs": [],
   "source": [
    "import torch\n",
    "from dataManipulation import *\n",
    "from treeManipulation import *\n",
    "from utils import tree_summary, summary, summary_raw, get_support_info\n",
    "from vbpi import VBPI"
   ]
  },
  {
   "cell_type": "markdown",
   "id": "321817ae",
   "metadata": {},
   "source": [
    "# change the file names"
   ]
  },
  {
   "cell_type": "code",
   "execution_count": 4,
   "id": "ebb66037",
   "metadata": {},
   "outputs": [],
   "source": [
    "#for i in range(1,11):\n",
    "#    os.rename('../data/DS1/DS1_fixed_support_short_run_rep_%d.trees'%i,\n",
    "#              '../data/DS1/DS1_fixed_pop_support_short_run_rep_%d.trees'%i)"
   ]
  },
  {
   "cell_type": "code",
   "execution_count": 7,
   "id": "4e332757",
   "metadata": {},
   "outputs": [],
   "source": [
    "# load the sequence data and estimate the subsplit support\n",
    "data, taxa = loadData('../data/DS1/DS1.nexus', 'nexus')\n",
    "mcmc_support_trees_dict, mcmc_support_trees_wts = summary('../data/DS1/DS1_fixed_pop_support_short_run', 'nexus', burnin=2501)\n",
    "rootsplit_supp_dict, subsplit_supp_dict = get_support_info(taxa, mcmc_support_trees_dict)\n",
    "del mcmc_support_trees_dict, mcmc_support_trees_wts"
   ]
  },
  {
   "cell_type": "code",
   "execution_count": 8,
   "id": "05236e27",
   "metadata": {},
   "outputs": [],
   "source": [
    "# load the ground truth\n",
    "mcmc_sampled_trees_dict, mcmc_sampled_trees_wts, _ = tree_summary('../data/DS1/DS1_fixed_pop_golden_run.trees', 'nexus', burnin=25001)\n",
    "emp_tree_freq = {mcmc_sampled_trees_dict[tree_id]: tree_wts for tree_id, tree_wts in sorted(mcmc_sampled_trees_wts.items(), key=lambda x:x[1], reverse=True)}\n",
    "sample_info = [0.0 for taxon in taxa]\n",
    "del mcmc_sampled_trees_dict, mcmc_sampled_trees_wts"
   ]
  },
  {
   "cell_type": "code",
   "execution_count": 151,
   "id": "78e49d77",
   "metadata": {},
   "outputs": [],
   "source": [
    "# set up the model\n",
    "model = VBPI(taxa, rootsplit_supp_dict, subsplit_supp_dict, data, pden=np.ones(4)/4., subModel=('JC', 1.0),\n",
    "             emp_tree_freq=emp_tree_freq, root_height_offset=0.0, clock_rate=1.0, psp=True,\n",
    "             sample_info=sample_info, coalescent_type='fixed_pop', clock_type='fixed_rate',\n",
    "             log_pop_size_offset=math.log(5.0))"
   ]
  },
  {
   "cell_type": "code",
   "execution_count": 152,
   "id": "3dcbd6bd",
   "metadata": {},
   "outputs": [
    {
     "name": "stdout",
     "output_type": "stream",
     "text": [
      "torch.float32 torch.Size([140])\n",
      "torch.float32 torch.Size([524, 2])\n"
     ]
    }
   ],
   "source": [
    "# variational parameters\n",
    "for param in model.parameters():\n",
    "    print(param.dtype, param.size())"
   ]
  },
  {
   "cell_type": "code",
   "execution_count": 153,
   "id": "15782df2",
   "metadata": {},
   "outputs": [
    {
     "name": "stdout",
     "output_type": "stream",
     "text": [
      "Iter 1000:(106.1s) Lower Bound: -8414.6501 | Logll: -8896.1006 | Root Age: 0.9224 | KL: 9.783557\n",
      ">>> Iter 1000:(4.7s) Test Lower Bound: -11560.9277\n",
      "Iter 2000:(95.2s) Lower Bound: -7403.1933 | Logll: -7478.5312 | Root Age: 0.3401 | KL: 8.276013\n",
      ">>> Iter 2000:(4.1s) Test Lower Bound: -8934.8213\n",
      "Iter 3000:(93.4s) Lower Bound: -7281.6233 | Logll: -7361.5552 | Root Age: 0.1656 | KL: 7.257765\n",
      ">>> Iter 3000:(4.2s) Test Lower Bound: -8175.1851\n",
      "Iter 4000:(94.0s) Lower Bound: -7248.4544 | Logll: -7097.4102 | Root Age: 0.1196 | KL: 5.294879\n",
      ">>> Iter 4000:(4.1s) Test Lower Bound: -7762.1245\n",
      "Iter 5000:(94.7s) Lower Bound: -7226.6334 | Logll: -7104.8911 | Root Age: 0.0899 | KL: 4.949825\n",
      ">>> Iter 5000:(4.2s) Test Lower Bound: -7485.5205\n",
      "Iter 6000:(366.2s) Lower Bound: -7211.0780 | Logll: -7084.0469 | Root Age: 0.0720 | KL: 4.455956\n",
      ">>> Iter 6000:(6.3s) Test Lower Bound: -7395.8945\n",
      "Iter 7000:(149.7s) Lower Bound: -7199.8002 | Logll: -7040.4834 | Root Age: 0.0635 | KL: 4.443923\n",
      ">>> Iter 7000:(7.5s) Test Lower Bound: -7368.0874\n",
      "Iter 8000:(178.5s) Lower Bound: -7191.9152 | Logll: -7203.5596 | Root Age: 0.0679 | KL: 3.988037\n",
      ">>> Iter 8000:(9.3s) Test Lower Bound: -7371.3735\n",
      "Iter 9000:(211.0s) Lower Bound: -7186.7531 | Logll: -7054.7700 | Root Age: 0.0518 | KL: 3.598755\n",
      ">>> Iter 9000:(9.9s) Test Lower Bound: -7375.2480\n",
      "Iter 10000:(210.6s) Lower Bound: -7181.7948 | Logll: -7051.2871 | Root Age: 0.0514 | KL: 3.423090\n",
      ">>> Iter 10000:(10.0s) Test Lower Bound: -7334.9155\n",
      "Iter 11000:(204.7s) Lower Bound: -7178.1992 | Logll: -7031.1514 | Root Age: 0.0490 | KL: 2.434124\n",
      ">>> Iter 11000:(9.7s) Test Lower Bound: -7320.9951\n",
      "Iter 12000:(207.4s) Lower Bound: -7175.6126 | Logll: -7028.8843 | Root Age: 0.0476 | KL: 2.802822\n",
      ">>> Iter 12000:(9.1s) Test Lower Bound: -7244.3501\n",
      "Iter 13000:(202.2s) Lower Bound: -7172.9600 | Logll: -7003.3481 | Root Age: 0.0466 | KL: 2.391825\n",
      ">>> Iter 13000:(9.7s) Test Lower Bound: -7204.9019\n"
     ]
    },
    {
     "ename": "Exception",
     "evalue": "Invalid rootsplit probability! Check rs_params:(max nan, min nan)",
     "output_type": "error",
     "traceback": [
      "\u001b[0;31m---------------------------------------------------------------------------\u001b[0m",
      "\u001b[0;31mException\u001b[0m                                 Traceback (most recent call last)",
      "Input \u001b[0;32mIn [153]\u001b[0m, in \u001b[0;36m<cell line: 3>\u001b[0;34m()\u001b[0m\n\u001b[1;32m      1\u001b[0m \u001b[38;5;66;03m# run vbpi.\u001b[39;00m\n\u001b[1;32m      2\u001b[0m \u001b[38;5;66;03m# the trained model will be saved to 'results/DENV4/mcmc_vimco_10_psp_constant_fixed.pt'.\u001b[39;00m\n\u001b[0;32m----> 3\u001b[0m test_lb, test_kl_div \u001b[38;5;241m=\u001b[39m \u001b[43mmodel\u001b[49m\u001b[38;5;241;43m.\u001b[39;49m\u001b[43mlearn\u001b[49m\u001b[43m(\u001b[49m\u001b[38;5;241;43m0.01\u001b[39;49m\u001b[43m,\u001b[49m\u001b[43m \u001b[49m\u001b[43mmaxiter\u001b[49m\u001b[38;5;241;43m=\u001b[39;49m\u001b[38;5;241;43m200000\u001b[39;49m\u001b[43m,\u001b[49m\u001b[43m \u001b[49m\u001b[43mn_particles\u001b[49m\u001b[38;5;241;43m=\u001b[39;49m\u001b[38;5;241;43m10\u001b[39;49m\u001b[43m,\u001b[49m\u001b[43m \u001b[49m\u001b[43mwarm_start_interval\u001b[49m\u001b[38;5;241;43m=\u001b[39;49m\u001b[38;5;241;43m50000\u001b[39;49m\u001b[43m,\u001b[49m\u001b[43m \u001b[49m\u001b[43mmethod\u001b[49m\u001b[38;5;241;43m=\u001b[39;49m\u001b[38;5;124;43m'\u001b[39;49m\u001b[38;5;124;43mvimco\u001b[39;49m\u001b[38;5;124;43m'\u001b[39;49m\u001b[43m,\u001b[49m\n\u001b[1;32m      4\u001b[0m \u001b[43m                                   \u001b[49m\u001b[43msave_to_path\u001b[49m\u001b[38;5;241;43m=\u001b[39;49m\u001b[38;5;124;43m'\u001b[39;49m\u001b[38;5;124;43m../results/DS1/mcmc_vimco_10_psp_fixed_fixed.pt\u001b[39;49m\u001b[38;5;124;43m'\u001b[39;49m\u001b[43m)\u001b[49m\n",
      "File \u001b[0;32m~/Documents/Research/VBPI-matrix/src/vbpi-torch/rooted/notebooks/../vbpi.py:215\u001b[0m, in \u001b[0;36mVBPI.learn\u001b[0;34m(self, stepsz, maxiter, test_freq, lb_test_freq, anneal_freq, anneal_rate, n_particles, init_inverse_temp, warm_start_interval, method, save_to_path)\u001b[0m\n\u001b[1;32m    212\u001b[0m loss\u001b[38;5;241m.\u001b[39mbackward()\n\u001b[1;32m    213\u001b[0m optimizer\u001b[38;5;241m.\u001b[39mstep()\n\u001b[0;32m--> 215\u001b[0m \u001b[38;5;28;43mself\u001b[39;49m\u001b[38;5;241;43m.\u001b[39;49m\u001b[43mtree_model\u001b[49m\u001b[38;5;241;43m.\u001b[39;49m\u001b[43mupdate_CPDs\u001b[49m\u001b[43m(\u001b[49m\u001b[43m)\u001b[49m\n\u001b[1;32m    217\u001b[0m \u001b[38;5;28;01mif\u001b[39;00m it \u001b[38;5;241m%\u001b[39m test_freq \u001b[38;5;241m==\u001b[39m \u001b[38;5;241m0\u001b[39m:\n\u001b[1;32m    218\u001b[0m     run_time \u001b[38;5;241m+\u001b[39m\u001b[38;5;241m=\u001b[39m time\u001b[38;5;241m.\u001b[39mtime()\n",
      "File \u001b[0;32m~/Documents/Research/VBPI-matrix/src/vbpi-torch/rooted/notebooks/../vector_sbnModel.py:73\u001b[0m, in \u001b[0;36mSBN.update_CPDs\u001b[0;34m(self)\u001b[0m\n\u001b[1;32m     72\u001b[0m \u001b[38;5;28;01mdef\u001b[39;00m \u001b[38;5;21mupdate_CPDs\u001b[39m(\u001b[38;5;28mself\u001b[39m):\n\u001b[0;32m---> 73\u001b[0m     \u001b[38;5;28;43mself\u001b[39;49m\u001b[38;5;241;43m.\u001b[39;49m\u001b[43mupdate_rootsplit_CPDs\u001b[49m\u001b[43m(\u001b[49m\u001b[43m)\u001b[49m\n\u001b[1;32m     74\u001b[0m     ss_CPDs, \u001b[38;5;28mself\u001b[39m\u001b[38;5;241m.\u001b[39mss_masked_CPDs \u001b[38;5;241m=\u001b[39m \u001b[38;5;28mself\u001b[39m\u001b[38;5;241m.\u001b[39mupdate_subsplit_CPDs()\n\u001b[1;32m     75\u001b[0m     \u001b[38;5;28mself\u001b[39m\u001b[38;5;241m.\u001b[39mCPDs \u001b[38;5;241m=\u001b[39m torch\u001b[38;5;241m.\u001b[39mcat((\u001b[38;5;28mself\u001b[39m\u001b[38;5;241m.\u001b[39mrs_CPDs, ss_CPDs))\n",
      "File \u001b[0;32m~/Documents/Research/VBPI-matrix/src/vbpi-torch/rooted/notebooks/../vector_sbnModel.py:62\u001b[0m, in \u001b[0;36mSBN.update_rootsplit_CPDs\u001b[0;34m(self)\u001b[0m\n\u001b[1;32m     60\u001b[0m \u001b[38;5;28mself\u001b[39m\u001b[38;5;241m.\u001b[39mrs_CPDs \u001b[38;5;241m=\u001b[39m F\u001b[38;5;241m.\u001b[39msoftmax(rs_params, \u001b[38;5;241m0\u001b[39m)\n\u001b[1;32m     61\u001b[0m \u001b[38;5;28;01mif\u001b[39;00m torch\u001b[38;5;241m.\u001b[39misnan(\u001b[38;5;28mself\u001b[39m\u001b[38;5;241m.\u001b[39mrs_CPDs)\u001b[38;5;241m.\u001b[39many():\n\u001b[0;32m---> 62\u001b[0m     \u001b[38;5;28;01mraise\u001b[39;00m \u001b[38;5;167;01mException\u001b[39;00m(\u001b[38;5;124m'\u001b[39m\u001b[38;5;124mInvalid rootsplit probability! Check rs_params:(max \u001b[39m\u001b[38;5;132;01m{:.4f}\u001b[39;00m\u001b[38;5;124m, min \u001b[39m\u001b[38;5;132;01m{:.4f}\u001b[39;00m\u001b[38;5;124m)\u001b[39m\u001b[38;5;124m'\u001b[39m\u001b[38;5;241m.\u001b[39mformat(np\u001b[38;5;241m.\u001b[39mmax(rs_params\u001b[38;5;241m.\u001b[39mdetach()\u001b[38;5;241m.\u001b[39mnumpy()), np\u001b[38;5;241m.\u001b[39mmin(rs_params\u001b[38;5;241m.\u001b[39mdetach()\u001b[38;5;241m.\u001b[39mnumpy())))\n",
      "\u001b[0;31mException\u001b[0m: Invalid rootsplit probability! Check rs_params:(max nan, min nan)"
     ]
    }
   ],
   "source": [
    "# run vbpi.\n",
    "# the trained model will be saved to 'results/DENV4/mcmc_vimco_10_psp_constant_fixed.pt'.\n",
    "test_lb, test_kl_div = model.learn(0.001, maxiter=200000, n_particles=10, warm_start_interval=50000, method='vimco',\n",
    "                                   save_to_path='../results/DS1/mcmc_vimco_10_psp_fixed_fixed.pt')"
   ]
  },
  {
   "cell_type": "code",
   "execution_count": 145,
   "id": "08d73024",
   "metadata": {},
   "outputs": [],
   "source": [
    "# load a trained model/checkpoint for test\n",
    "model.load_from('../results/DS1/mcmc_vimco_10_psp_fixed_pop_fixed_rate_2024-11-26_19_49_34.068934.pt')"
   ]
  },
  {
   "cell_type": "code",
   "execution_count": 14,
   "id": "961807c9",
   "metadata": {},
   "outputs": [
    {
     "data": {
      "text/plain": [
       "array([-16098.00976562, -13190.9921875 , -10138.46191406,  -8504.05664062,\n",
       "        -8131.78759766,  -7754.76708984,  -8187.24511719,  -8507.94921875,\n",
       "        -8785.58984375,  -9474.33789062,  -9207.30566406,  -9120.28613281,\n",
       "        -8945.48730469,  -9037.68945312,  -8896.58886719,  -8920.25292969,\n",
       "        -9098.67871094,  -9029.18554688,  -8638.98730469,  -8606.37988281,\n",
       "        -8828.54980469,  -8825.79785156,  -8360.1640625 ,  -8431.23144531,\n",
       "        -8543.99316406,  -8134.71630859,  -8350.71875   ,  -8268.02539062,\n",
       "        -8298.02832031,  -8059.04101562,  -8053.03466797,  -7948.20068359,\n",
       "        -7900.46337891,  -7940.06347656,  -7905.86035156,  -7881.78857422,\n",
       "        -7869.36181641,  -7803.26464844,  -7800.10009766,  -7856.1328125 ])"
      ]
     },
     "execution_count": 14,
     "metadata": {},
     "output_type": "execute_result"
    }
   ],
   "source": [
    "np.load('../results/DS1/mcmc_vimco_10_psp_fixed_pop_fixed_rate_2024-11-26_test_lb.npy')"
   ]
  },
  {
   "cell_type": "code",
   "execution_count": 146,
   "id": "232642ec",
   "metadata": {},
   "outputs": [
    {
     "data": {
      "text/plain": [
       "-7838.38818359375"
      ]
     },
     "execution_count": 146,
     "metadata": {},
     "output_type": "execute_result"
    }
   ],
   "source": [
    "model.lower_bound(n_particles=1,n_runs=1000)"
   ]
  },
  {
   "cell_type": "code",
   "execution_count": 107,
   "id": "2334bcfa",
   "metadata": {},
   "outputs": [
    {
     "data": {
      "image/png": "[encoded data removed]",
      "text/plain": [
       "<Figure size 432x288 with 1 Axes>"
      ]
     },
     "metadata": {
      "needs_background": "light"
     },
     "output_type": "display_data"
    }
   ],
   "source": [
    "plt.hist(model.sample_tree_loglikelihood(n_rep = 1000).detach().numpy(),bins = 100)\n",
    "plt.show()"
   ]
  },
  {
   "cell_type": "markdown",
   "id": "c6e273f8",
   "metadata": {},
   "source": [
    "# Get marginal Log-likelihood from importance sampling"
   ]
  },
  {
   "cell_type": "code",
   "execution_count": 108,
   "id": "4dd76e6b",
   "metadata": {},
   "outputs": [],
   "source": [
    "def lower_bound(self, n_particles=1, n_runs=1000):\n",
    "    lls = []\n",
    "    priors = []\n",
    "    logq_trees = []\n",
    "    logq_heights = []\n",
    "    logq_priors = []\n",
    "    logq_clock_rates = []\n",
    "    with torch.no_grad():\n",
    "        for run in range(n_runs):\n",
    "            samp_trees = [self.tree_model.sample_tree() for particle in range(n_particles)]\n",
    "            [namenum(tree, self.taxa) for tree in samp_trees]\n",
    "            logq_tree = torch.stack([self.logq_tree(tree) for tree in samp_trees])\n",
    "\n",
    "            samp_branch, logq_height, height, event_info = self.branch_model(samp_trees)\n",
    "            log_clock_rate, logq_clock_rate = self.clock_model.sample(n_particles=n_particles)\n",
    "            samp_branch = samp_branch * log_clock_rate.exp()\n",
    "            logll = torch.stack([self.phylo_model.loglikelihood(branch, tree) for branch, tree in zip(*[samp_branch, samp_trees])])\n",
    "\n",
    "            self.tree_prior_model.update_batch(height, event_info)\n",
    "            coalescent_param, logq_prior = self.tree_prior_model.sample_pop_size(n_particles=n_particles)\n",
    "            logp_coalescent_prior, _ = self.tree_prior_model(coalescent_param, False)\n",
    "\n",
    "            logp_clock_rate = self.clock_model(log_clock_rate)\n",
    "\n",
    "            # comment out parts of the lower bound as needed\n",
    "            lls.append(logll)         \n",
    "            priors.append(logp_coalescent_prior + logp_clock_rate)\n",
    "            logq_trees.append(logq_tree)\n",
    "            logq_heights.append(logq_height)\n",
    "            logq_priors.append(logq_prior)\n",
    "            logq_clock_rates.append(logq_clock_rate)\n",
    "            \n",
    "        lls = torch.stack(lls).numpy().flatten()\n",
    "        priors = torch.stack(priors).numpy().flatten()\n",
    "        logq_trees = torch.stack(logq_trees).numpy().flatten()\n",
    "        logq_heights = torch.stack(logq_heights).numpy().flatten()\n",
    "        #logq_priors = torch.stack(logq_priors).numpy().flatten()\n",
    "        #logq_clock_rates = torch.stack(logq_clock_rates).numpy().flatten()\n",
    "\n",
    "    return lls,priors,logq_trees,logq_heights,logq_priors,logq_clock_rates"
   ]
  },
  {
   "cell_type": "code",
   "execution_count": 109,
   "id": "f0064fd6",
   "metadata": {},
   "outputs": [],
   "source": [
    "lls,priors,logq_trees,logq_heights,logq_priors,logq_clock_rates = lower_bound(model)"
   ]
  },
  {
   "cell_type": "code",
   "execution_count": 110,
   "id": "b685747a",
   "metadata": {},
   "outputs": [
    {
     "data": {
      "image/png": "[encoded data removed]",
      "text/plain": [
       "<Figure size 432x288 with 1 Axes>"
      ]
     },
     "metadata": {
      "needs_background": "light"
     },
     "output_type": "display_data"
    }
   ],
   "source": [
    "plt.hist(logq_clock_rates,bins=100)\n",
    "plt.show()"
   ]
  },
  {
   "cell_type": "code",
   "execution_count": 111,
   "id": "75b3c497",
   "metadata": {},
   "outputs": [
    {
     "data": {
      "image/png": "[encoded data removed]",
      "text/plain": [
       "<Figure size 432x288 with 1 Axes>"
      ]
     },
     "metadata": {
      "needs_background": "light"
     },
     "output_type": "display_data"
    }
   ],
   "source": [
    "plt.hist(logq_heights,bins=100)\n",
    "plt.show()"
   ]
  },
  {
   "cell_type": "code",
   "execution_count": 115,
   "id": "d0c2a907",
   "metadata": {},
   "outputs": [
    {
     "data": {
      "image/png": "[encoded data removed]",
      "text/plain": [
       "<Figure size 432x288 with 1 Axes>"
      ]
     },
     "metadata": {
      "needs_background": "light"
     },
     "output_type": "display_data"
    },
    {
     "name": "stdout",
     "output_type": "stream",
     "text": [
      "-6981.492\n"
     ]
    }
   ],
   "source": [
    "plt.hist(lls,bins = 100)\n",
    "plt.show()\n",
    "print(np.mean(lls))"
   ]
  },
  {
   "cell_type": "code",
   "execution_count": 116,
   "id": "589d553e",
   "metadata": {},
   "outputs": [
    {
     "data": {
      "image/png": "[encoded data removed]",
      "text/plain": [
       "<Figure size 432x288 with 1 Axes>"
      ]
     },
     "metadata": {
      "needs_background": "light"
     },
     "output_type": "display_data"
    },
    {
     "name": "stdout",
     "output_type": "stream",
     "text": [
      "-42.51643\n"
     ]
    }
   ],
   "source": [
    "plt.hist(priors,bins = 100)\n",
    "plt.show()\n",
    "print(np.mean(priors))"
   ]
  },
  {
   "cell_type": "code",
   "execution_count": 117,
   "id": "7368c0fb",
   "metadata": {},
   "outputs": [
    {
     "data": {
      "image/png": "[encoded data removed]",
      "text/plain": [
       "<Figure size 432x288 with 1 Axes>"
      ]
     },
     "metadata": {
      "needs_background": "light"
     },
     "output_type": "display_data"
    }
   ],
   "source": [
    "plt.hist(log_qs,bins = 100)\n",
    "plt.show()\n",
    "#plt.xlims([-7200,-7100])"
   ]
  },
  {
   "cell_type": "code",
   "execution_count": 125,
   "id": "aba2575c",
   "metadata": {},
   "outputs": [
    {
     "data": {
      "image/png": "[encoded data removed]",
      "text/plain": [
       "<Figure size 432x288 with 1 Axes>"
      ]
     },
     "metadata": {
      "needs_background": "light"
     },
     "output_type": "display_data"
    },
    {
     "name": "stdout",
     "output_type": "stream",
     "text": [
      "ELBO:  -7158.912\n",
      "MLL:  -7154.720255278982\n"
     ]
    }
   ],
   "source": [
    "plt.hist(lls+priors-logq_heights-logq_trees - np.log(1000),bins = 100)\n",
    "plt.show()\n",
    "print(\"ELBO: \", np.mean(lls+priors-logq_heights-logq_trees))\n",
    "print(\"MLL: \", logsumexp(lls+priors-logq_heights-logq_trees) - np.log(1000))"
   ]
  },
  {
   "cell_type": "code",
   "execution_count": null,
   "id": "87da8672",
   "metadata": {},
   "outputs": [],
   "source": []
  }
 ],
 "metadata": {
  "kernelspec": {
   "display_name": "Python 3 (ipykernel)",
   "language": "python",
   "name": "python3"
  },
  "language_info": {
   "codemirror_mode": {
    "name": "ipython",
    "version": 3
   },
   "file_extension": ".py",
   "mimetype": "text/x-python",
   "name": "python",
   "nbconvert_exporter": "python",
   "pygments_lexer": "ipython3",
   "version": "3.9.12"
  }
 },
 "nbformat": 4,
 "nbformat_minor": 5
}
