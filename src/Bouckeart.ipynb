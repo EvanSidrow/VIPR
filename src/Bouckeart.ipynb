{
 "cells": [
  {
   "cell_type": "code",
   "execution_count": 203,
   "id": "a8bb2d8c",
   "metadata": {},
   "outputs": [],
   "source": [
    "from itertools import combinations\n",
    "import numpy as np\n",
    "from Bio import Phylo\n",
    "from Bio.Phylo.TreeConstruction import DistanceTreeConstructor, DistanceMatrix\n",
    "import networkx as nx\n",
    "import pickle\n",
    "import matplotlib.pyplot as plt\n",
    "from ete3 import Tree\n",
    "import io\n",
    "from io import StringIO\n",
    "import re"
   ]
  },
  {
   "cell_type": "code",
   "execution_count": 204,
   "id": "2b994f2a",
   "metadata": {},
   "outputs": [],
   "source": [
    "def hamming_distance(seq1, seq2):\n",
    "    \"\"\"Compute Hamming distance while ignoring missing base pairs (N or -).\"\"\"\n",
    "    count = 0\n",
    "    valid_sites = 0\n",
    "\n",
    "    for c1, c2 in zip(seq1, seq2):\n",
    "        if c1 in {'N', '-'} or c2 in {'N', '-'}:\n",
    "            continue  # Ignore missing bases\n",
    "        if c1 != c2:\n",
    "            count += 1\n",
    "        valid_sites += 1  # Count valid comparisons\n",
    "\n",
    "    return count if valid_sites > 0 else 0  # Avoid division by zero\n",
    "\n",
    "def construct_distance_matrix(genomes):\n",
    "    \"\"\"Construct a correctly formatted Biopython DistanceMatrix for UPGMA.\"\"\"\n",
    "    labels = list(genomes.keys())\n",
    "    size = len(labels)\n",
    "\n",
    "    matrix = []  # This will store the lower triangular part\n",
    "\n",
    "    for i in range(size):\n",
    "        row = []  # Each row should have exactly `i` elements (lower triangle)\n",
    "        for j in range(i):  # j < i ensures lower-triangular format\n",
    "            row.append(hamming_distance(genomes[labels[i]], genomes[labels[j]]))\n",
    "        row.append(0)\n",
    "        matrix.append(row)\n",
    "        \n",
    "    return labels, DistanceMatrix(names=labels, matrix=matrix)\n",
    "\n",
    "def build_upgma_tree(genomes):\n",
    "    \"\"\"Build a phylogenetic tree using UPGMA.\"\"\"\n",
    "    labels, dist_matrix = construct_distance_matrix(genomes)\n",
    "    constructor = DistanceTreeConstructor()\n",
    "    tree = constructor.upgma(dist_matrix)\n",
    "    return tree\n",
    "\n",
    "def convert_biophylo_to_ete3(biophylo_tree):\n",
    "    \"\"\"Convert a Bio.Phylo tree to an ete3 Tree.\"\"\"\n",
    "    newick_str = io.StringIO()\n",
    "    Phylo.write(biophylo_tree, newick_str, \"newick\")\n",
    "    newick_str = newick_str.getvalue().strip()\n",
    "    \n",
    "    # Load the Newick string into an ete3 Tree\n",
    "    ete3_tree = Tree(newick_str, format=1)\n",
    "    \n",
    "    for leaf in ete3_tree.iter_leaves():\n",
    "        if leaf.name in species:\n",
    "            leaf.name = species.index(leaf.name)\n",
    "            \n",
    "    return ete3_tree\n",
    "\n",
    "\n",
    "def get_leaf_order(tree):\n",
    "    \"\"\"Returns the order of leaf nodes as they appear when plotting the UPGMA tree.\"\"\"\n",
    "    return [leaf.name for leaf in tree.get_terminals()]\n",
    "\n",
    "\n",
    "def check_internal_nodes(tree, taxa_pairs):\n",
    "    \"\"\"Checks each internal node to see if it correctly splits the taxa pairs.\"\"\"\n",
    "\n",
    "    for node in tree.traverse('postorder'):\n",
    "        if not node.is_leaf():\n",
    "            left_leaves = set(node.children[0].get_leaf_names())\n",
    "            right_leaves = set(node.children[1].get_leaf_names())\n",
    "            \n",
    "            compatable = False\n",
    "            for t1, t2 in taxa_pairs:\n",
    "                if (t1 in left_leaves and t2 in right_leaves) or (t2 in left_leaves and t1 in right_leaves):\n",
    "                    compatable = True\n",
    "                    break\n",
    "            if not compatable:\n",
    "                return False\n",
    "                \n",
    "    return True"
   ]
  },
  {
   "cell_type": "code",
   "execution_count": 211,
   "id": "2a51d9f1",
   "metadata": {},
   "outputs": [
    {
     "name": "stdout",
     "output_type": "stream",
     "text": [
      "DS2\n"
     ]
    },
    {
     "data": {
      "image/png": "[encoded data removed]",
      "text/plain": [
       "<Figure size 432x288 with 2 Axes>"
      ]
     },
     "metadata": {
      "needs_background": "light"
     },
     "output_type": "display_data"
    },
    {
     "name": "stdout",
     "output_type": "stream",
     "text": [
      "0.2138057026381094 0.05713694474664897\n"
     ]
    }
   ],
   "source": [
    "#datasets = [\"DS1\",\"DS2\",\"DS3\",\"DS4\",\"DS5\",\"DS6\",\"DS7\",\"DS8\",\"DS9\",\"DS10\",\"DS11\",\"DS14\"]\n",
    "#chars = [\"C\",\"A\",\"G\",\"T\"]\n",
    "\n",
    "ds = \"DS2\"\n",
    "print(ds)\n",
    "\n",
    "# load in genomes\n",
    "data_file = '../dat/'+ds+'/'+ds+'.pickle'\n",
    "with open(data_file, 'rb') as f:\n",
    "    data = pickle.load(f)\n",
    "\n",
    "genomes = []\n",
    "species = []\n",
    "for key in data:\n",
    "    genomes.append(data[key])\n",
    "    species.append(key)\n",
    "\n",
    "ntaxa = len(species)\n",
    "\n",
    "# plot hamming diatances\n",
    "hdists = np.zeros((ntaxa,ntaxa))\n",
    "\n",
    "for j in range(ntaxa):\n",
    "    for k in range(j):\n",
    "        hdists[j,k] = np.mean([(x != y) for x,y in zip(genomes[j],genomes[k]) if (x.upper() in [\"C\",\"A\",\"G\",\"T\"]) and (y.upper() in [\"C\",\"A\",\"G\",\"T\"])])\n",
    "\n",
    "hdists[np.triu_indices(hdists.shape[0])] = np.nan\n",
    "plt.imshow(hdists)\n",
    "plt.colorbar()\n",
    "plt.show()\n",
    "print(np.nanmean(hdists),np.nanstd(hdists))"
   ]
  },
  {
   "cell_type": "code",
   "execution_count": 212,
   "id": "ca220bb2",
   "metadata": {},
   "outputs": [
    {
     "name": "stdout",
     "output_type": "stream",
     "text": [
      "\n",
      "            /-24\n",
      "           |\n",
      "         /-|      /-2\n",
      "        |  |   /-|\n",
      "        |  |  |   \\-3\n",
      "        |   \\-|\n",
      "        |     |   /-15\n",
      "        |      \\-|\n",
      "        |         \\-26\n",
      "      /-|\n",
      "     |  |      /-13\n",
      "     |  |   /-|\n",
      "     |  |  |   \\-19\n",
      "     |  |  |\n",
      "     |  |  |      /-27\n",
      "     |  |  |   /-|\n",
      "     |   \\-|  |  |   /-25\n",
      "     |     |  |   \\-|\n",
      "     |     |  |     |   /-11\n",
      "     |     |  |      \\-|\n",
      "     |     |  |         \\-29\n",
      "     |     |  |\n",
      "     |      \\-|      /-5\n",
      "     |        |     |\n",
      "     |        |   /-|   /-14\n",
      "     |        |  |  |  |\n",
      "     |        |  |   \\-|      /-1\n",
      "   /-|        |  |     |   /-|\n",
      "  |  |        |  |     |  |   \\-22\n",
      "  |  |        |  |      \\-|\n",
      "  |  |         \\-|        |   /-8\n",
      "  |  |           |         \\-|\n",
      "  |  |           |            \\-12\n",
      "  |  |           |\n",
      "  |  |           |   /-23\n",
      "  |  |           |  |\n",
      "  |  |            \\-|      /-28\n",
      "  |  |              |   /-|\n",
      "  |  |               \\-|   \\-4\n",
      "--|  |                 |\n",
      "  |  |                  \\-9\n",
      "  |  |\n",
      "  |  |         /-16\n",
      "  |  |      /-|\n",
      "  |  |   /-|   \\-18\n",
      "  |  |  |  |\n",
      "  |   \\-|   \\-7\n",
      "  |     |\n",
      "  |      \\-21\n",
      "  |\n",
      "  |   /-20\n",
      "  |  |\n",
      "   \\-|      /-17\n",
      "     |   /-|\n",
      "      \\-|   \\-10\n",
      "        |\n",
      "         \\-6\n"
     ]
    }
   ],
   "source": [
    "with open(\"../dat/\"+ds+\"/\"+ds+\"_MCC.tree\", \"r\") as f:\n",
    "    for line in f:\n",
    "        if line.startswith(\"tree TREE1\"):  # Ignore comments\n",
    "            line = line[line.find('('):]\n",
    "            newick_str = line.strip()\n",
    "            break  # MCC trees usually contain only one tree\n",
    "\n",
    "# Remove BEAST annotations (e.g., [&prob=0.99])\n",
    "newick_cleaned = re.sub(r\"\\[&[^\\]]*\\]\", \"\", newick_str)\n",
    "\n",
    "MCC_tree = Tree(newick_cleaned, format=1)\n",
    "print(MCC_tree)"
   ]
  },
  {
   "cell_type": "code",
   "execution_count": 213,
   "id": "a74f3782",
   "metadata": {},
   "outputs": [
    {
     "name": "stdout",
     "output_type": "stream",
     "text": [
      "Leaf pairs: [('24', '2'), ('2', '3'), ('3', '15'), ('15', '26'), ('26', '13'), ('13', '19'), ('19', '27'), ('27', '25'), ('25', '11'), ('11', '29'), ('29', '5'), ('5', '14'), ('14', '1'), ('1', '22'), ('22', '8'), ('8', '12'), ('12', '23'), ('23', '28'), ('28', '4'), ('4', '9'), ('9', '16'), ('16', '18'), ('18', '7'), ('7', '21'), ('21', '20'), ('20', '17'), ('17', '10'), ('10', '6')]\n"
     ]
    },
    {
     "data": {
      "text/plain": [
       "True"
      ]
     },
     "execution_count": 213,
     "metadata": {},
     "output_type": "execute_result"
    }
   ],
   "source": [
    "# Get the leaf node order for plotting\n",
    "leaf_order = [leaf.name for leaf in MCC_tree.iter_leaves()]\n",
    "leaf_pairs = [(leaf_order[i],leaf_order[i+1]) for i in range(ntaxa-1)]\n",
    "print(\"Leaf pairs:\", leaf_pairs)\n",
    "\n",
    "check_internal_nodes(MCC_tree,leaf_pairs)"
   ]
  },
  {
   "cell_type": "code",
   "execution_count": 214,
   "id": "2a77c928",
   "metadata": {
    "scrolled": false
   },
   "outputs": [
    {
     "name": "stdout",
     "output_type": "stream",
     "text": [
      "0\n",
      "1\n",
      "2\n",
      "3\n",
      "4\n",
      "5\n",
      "6\n",
      "7\n",
      "8\n",
      "9\n",
      "100010\n"
     ]
    }
   ],
   "source": [
    "# load in BEAST trees\n",
    "trees = []\n",
    "\n",
    "for i in range(10):\n",
    "    print(i)\n",
    "    tree_file = \"../dat/\"+ds+\"/\"+ds+\"_fixed_pop_MLL_%d.trees\"%(i+1)\n",
    "    with open(tree_file, \"r\") as file:\n",
    "        for j,line in enumerate(file):\n",
    "            if line.startswith(\"tree STATE\"):\n",
    "                line = line[line.find('('):]\n",
    "                line = line.replace(\"[&rate=1.0]\",\"\")\n",
    "                trees.append(Tree(line, format=1))\n",
    "\n",
    "print(len(trees))"
   ]
  },
  {
   "cell_type": "code",
   "execution_count": 215,
   "id": "76135449",
   "metadata": {
    "scrolled": true
   },
   "outputs": [
    {
     "name": "stdout",
     "output_type": "stream",
     "text": [
      "0.0\n",
      "0.0999900009999\n",
      "0.1999800019998\n",
      "0.2999700029997\n",
      "0.3999600039996\n",
      "0.49995000499950004\n",
      "0.5999400059994\n",
      "0.6999300069993001\n",
      "0.7999200079992\n",
      "0.8999100089991001\n",
      "0.9999000099990001\n"
     ]
    }
   ],
   "source": [
    "compatables = []\n",
    "for i,tree in enumerate(trees):\n",
    "    if i % 10000 == 0:\n",
    "        print(i/len(trees))\n",
    "    compatables.append(check_internal_nodes(tree,leaf_pairs))"
   ]
  },
  {
   "cell_type": "code",
   "execution_count": 216,
   "id": "52fd6f37",
   "metadata": {},
   "outputs": [
    {
     "data": {
      "text/plain": [
       "0.15265473452654735"
      ]
     },
     "execution_count": 216,
     "metadata": {},
     "output_type": "execute_result"
    }
   ],
   "source": [
    "(len(compatables) - sum(compatables))/len(compatables)"
   ]
  },
  {
   "cell_type": "code",
   "execution_count": null,
   "id": "1bcc5477",
   "metadata": {},
   "outputs": [],
   "source": []
  },
  {
   "cell_type": "code",
   "execution_count": null,
   "id": "69ecda11",
   "metadata": {},
   "outputs": [],
   "source": []
  }
 ],
 "metadata": {
  "kernelspec": {
   "display_name": "Python 3 (ipykernel)",
   "language": "python",
   "name": "python3"
  },
  "language_info": {
   "codemirror_mode": {
    "name": "ipython",
    "version": 3
   },
   "file_extension": ".py",
   "mimetype": "text/x-python",
   "name": "python",
   "nbconvert_exporter": "python",
   "pygments_lexer": "ipython3",
   "version": "3.9.12"
  }
 },
 "nbformat": 4,
 "nbformat_minor": 5
}
