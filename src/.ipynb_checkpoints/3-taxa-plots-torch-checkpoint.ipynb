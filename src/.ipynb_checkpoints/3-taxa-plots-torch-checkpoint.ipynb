{
 "cells": [
  {
   "cell_type": "code",
   "execution_count": 106,
   "metadata": {},
   "outputs": [
    {
     "name": "stdout",
     "output_type": "stream",
     "text": [
      "The autoreload extension is already loaded. To reload it, use:\n",
      "  %reload_ext autoreload\n"
     ]
    }
   ],
   "source": [
    "%load_ext autoreload\n",
    "%autoreload 2"
   ]
  },
  {
   "cell_type": "code",
   "execution_count": 107,
   "metadata": {},
   "outputs": [],
   "source": [
    "import matplotlib.pyplot as plt\n",
    "import numpy as np\n",
    "\n",
    "import torch\n",
    "torch.set_default_tensor_type(torch.DoubleTensor)\n",
    "\n",
    "from scipy.special import logsumexp,erf\n",
    "\n",
    "from itertools import product\n",
    "from itertools import combinations\n",
    "import pickle\n",
    "\n",
    "from io import StringIO\n",
    "from Bio import Phylo\n",
    "\n",
    "from tree_torch import Tree\n",
    "from SLCVI_torch import SLCVI\n",
    "\n",
    "import warnings\n",
    "warnings.filterwarnings('ignore')\n",
    "\n",
    "from copy import deepcopy\n",
    "\n",
    "np.random.seed(0)"
   ]
  },
  {
   "cell_type": "code",
   "execution_count": 108,
   "metadata": {},
   "outputs": [],
   "source": [
    "pop_size = 5.0 # exponential parameter for constant pop size prior\n",
    "data_file = '../dat/DS1/DS1.pickle'"
   ]
  },
  {
   "cell_type": "code",
   "execution_count": 109,
   "metadata": {},
   "outputs": [],
   "source": [
    "with open(data_file, 'rb') as f:\n",
    "    DS1 = pickle.load(f)"
   ]
  },
  {
   "cell_type": "code",
   "execution_count": 110,
   "metadata": {},
   "outputs": [],
   "source": [
    "genomes = []\n",
    "species = []\n",
    "for key in DS1:\n",
    "    genomes.append(DS1[key])\n",
    "    species.append(key)\n",
    "    \n",
    "n_species = len(species)"
   ]
  },
  {
   "cell_type": "code",
   "execution_count": 111,
   "metadata": {},
   "outputs": [],
   "source": [
    "n_species = 3\n",
    "genome_size = 100\n",
    "genomes = ['']*n_species\n",
    "ps = [[0.9,0.01,0,0,0.09],\n",
    "      [0.9,0.1,0,0,0.0],\n",
    "      [0.9,0.1,0,0,0.0]]\n",
    "for _ in range(genome_size):\n",
    "    for s in range(n_species):\n",
    "        genomes[s] += np.random.choice(['A','T','G','C','-'],p=ps[s])\n",
    "        \n",
    "#genomes = [[\"A\"],[\"T\"],[\"C\"]]"
   ]
  },
  {
   "cell_type": "code",
   "execution_count": 112,
   "metadata": {},
   "outputs": [],
   "source": [
    "# From https://github.com/zcrabbit/vbpi-torch/blob/ff86cf0c47a5753f5cc5b4dfe0b6ed783ab22669/unrooted/phyloModel.py#L7-L11\n",
    "nuc2vec = {'A':[1.,0.,0.,0.], 'G':[0.,1.,0.,0.], 'C':[0.,0.,1.,0.], 'T':[0.,0.,0.,1.],\n",
    "           '-':[1.,1.,1.,1.], '?':[1.,1.,1.,1.], 'N':[1.,1.,1.,1.], 'R':[1.,1.,0.,0.],\n",
    "           'Y':[0.,0.,1.,1.], 'S':[0.,1.,1.,0.], 'W':[1.,0.,0.,1.], 'K':[0.,1.,0.,1.],\n",
    "           'M':[1.,0.,1.,0.], 'B':[0.,1.,1.,1.], 'D':[1.,1.,0.,1.], 'H':[1.,0.,1.,1.],\n",
    "           'V':[1.,1.,1.,0.], '.':[1.,1.,1.,1.], 'U':[0.,0.,0.,1.]}\n",
    "\n",
    "tree_log_probs = torch.tensor([[nuc2vec[g] for g in genome] for genome in genomes],\n",
    "                                dtype = float)\n",
    "tree_log_probs = torch.log(tree_log_probs)"
   ]
  },
  {
   "cell_type": "markdown",
   "metadata": {},
   "source": [
    "# Set initial $\\theta$ randomly"
   ]
  },
  {
   "cell_type": "code",
   "execution_count": 113,
   "metadata": {},
   "outputs": [
    {
     "name": "stdout",
     "output_type": "stream",
     "text": [
      "tensor([[[0., 0., 0.],\n",
      "         [0., 0., 0.],\n",
      "         [0., 0., 0.]],\n",
      "\n",
      "        [[0., 0., 0.],\n",
      "         [0., 0., 0.],\n",
      "         [0., 0., 0.]]])\n"
     ]
    }
   ],
   "source": [
    "theta = torch.zeros((2,n_species,n_species))\n",
    "\n",
    "#theta[0] = torch.normal(mean=0.0,std=1.0,size = (n_species,n_species)) + np.log(pop_size)\n",
    "#theta[0] = theta[0]*torch.tril(torch.ones((n_species,n_species)),diagonal=-1)\n",
    "#theta[1] = 0.01*torch.normal(mean=0.0,std=1.0,size = (n_species,n_species))\n",
    "#theta[1] = theta[1]*torch.tril(torch.ones((n_species,n_species)),diagonal=-1)\n",
    "\n",
    "print(theta)"
   ]
  },
  {
   "cell_type": "code",
   "execution_count": 98,
   "metadata": {},
   "outputs": [
    {
     "name": "stdout",
     "output_type": "stream",
     "text": [
      "tensor(-379.5836)\n",
      "tensor(-4.3523)\n",
      "tensor(-5.8072)\n"
     ]
    }
   ],
   "source": [
    "Z = torch.normal(torch.ones_like(theta[0]))\n",
    "log_times = torch.exp(theta[1])*Z+theta[0]\n",
    "log_times = log_times + torch.triu(torch.ones_like(theta[0])*np.inf)\n",
    "\n",
    "tree = Tree(theta,log_times,tree_log_probs,\n",
    "            pop_size=pop_size)\n",
    "\n",
    "print(tree.log_like)\n",
    "print(tree.log_prior)\n",
    "print(tree.log_q)"
   ]
  },
  {
   "cell_type": "markdown",
   "metadata": {},
   "source": [
    "# Do Variational Inference"
   ]
  },
  {
   "cell_type": "code",
   "execution_count": 99,
   "metadata": {},
   "outputs": [
    {
     "data": {
      "text/plain": [
       "['AAAAAAAAA-AAAAAAAAAAAAAA-AAAAAAAAAAAAAAAAAAAAAAAA-AAAAAAAAA-AAAAAAAAAA-AAAA--AAAAAAAAA-AAA---AAAAAAA',\n",
       " 'AAAATAAAAAAAAAAAATAAAAATAAAAAAAAAATATAAAAAAAAAAAAAAAAAAAAAAAATAATAAAAAAAAAAAAAAAAAAAAAAAAAAAAAATAAAT',\n",
       " 'AATAAATAAAAATAAAAAAAAAAAAAAAATAAAAAAAAAATAAAAAAAATAAAATAAAAAAAAAAAAAAAAAAAAAAAAAAAATTAATAAATAAAAAAAT']"
      ]
     },
     "execution_count": 99,
     "metadata": {},
     "output_type": "execute_result"
    }
   ],
   "source": [
    "genomes"
   ]
  },
  {
   "cell_type": "code",
   "execution_count": 100,
   "metadata": {
    "scrolled": true
   },
   "outputs": [
    {
     "name": "stdout",
     "output_type": "stream",
     "text": [
      "iteration:  0\n",
      "runtime: 0 mins\n",
      "grad_norm estimate:  47.56911575697737\n",
      "ELBO estimate:  -322.92478344763975\n",
      "\n",
      "iteration:  10\n",
      "runtime: 0 mins\n",
      "grad_norm estimate:  43.3981740573403\n",
      "ELBO estimate:  -319.7499454929794\n",
      "\n",
      "iteration:  20\n",
      "runtime: 0 mins\n",
      "grad_norm estimate:  39.28087206347219\n",
      "ELBO estimate:  -322.893052066645\n",
      "\n",
      "iteration:  30\n",
      "runtime: 0 mins\n",
      "grad_norm estimate:  28.474853258780385\n",
      "ELBO estimate:  -304.26555016963533\n",
      "\n",
      "iteration:  40\n",
      "runtime: 0 mins\n",
      "grad_norm estimate:  29.708542639418983\n",
      "ELBO estimate:  -307.11156488474614\n",
      "\n",
      "iteration:  50\n",
      "runtime: 0 mins\n",
      "grad_norm estimate:  24.50481768338928\n",
      "ELBO estimate:  -300.3196049461487\n",
      "\n",
      "iteration:  60\n",
      "runtime: 0 mins\n",
      "grad_norm estimate:  24.930306365637833\n",
      "ELBO estimate:  -302.79383264437865\n",
      "\n",
      "iteration:  70\n",
      "runtime: 0 mins\n",
      "grad_norm estimate:  36.22449355165966\n",
      "ELBO estimate:  -302.968725835538\n",
      "\n",
      "iteration:  80\n",
      "runtime: 0 mins\n",
      "grad_norm estimate:  31.654843679573375\n",
      "ELBO estimate:  -289.02935089148383\n",
      "\n",
      "iteration:  90\n",
      "runtime: 0 mins\n",
      "grad_norm estimate:  19.80103072152674\n",
      "ELBO estimate:  -282.9861597369367\n",
      "\n",
      "iteration:  100\n",
      "runtime: 0 mins\n",
      "grad_norm estimate:  32.34483992140792\n",
      "ELBO estimate:  -276.3977784040927\n",
      "\n",
      "iteration:  110\n",
      "runtime: 0 mins\n",
      "grad_norm estimate:  29.43487317561812\n",
      "ELBO estimate:  -276.7317634187672\n",
      "\n",
      "iteration:  120\n",
      "runtime: 0 mins\n",
      "grad_norm estimate:  22.765814212026225\n",
      "ELBO estimate:  -274.28747249348174\n",
      "\n",
      "iteration:  130\n",
      "runtime: 0 mins\n",
      "grad_norm estimate:  23.634200694326204\n",
      "ELBO estimate:  -269.0749885109416\n",
      "\n",
      "iteration:  140\n",
      "runtime: 0 mins\n",
      "grad_norm estimate:  31.720025461531687\n",
      "ELBO estimate:  -264.290818990007\n",
      "\n",
      "Unexpected exception formatting exception. Falling back to standard exception\n"
     ]
    },
    {
     "name": "stderr",
     "output_type": "stream",
     "text": [
      "Traceback (most recent call last):\n",
      "  File \"/Users/evsi8432/opt/anaconda3/lib/python3.9/site-packages/IPython/core/interactiveshell.py\", line 3369, in run_code\n",
      "    exec(code_obj, self.user_global_ns, self.user_ns)\n",
      "  File \"/var/folders/1p/g1nbxjc540sd1x_r8wk3ljm00000gn/T/ipykernel_25860/1224534746.py\", line 2, in <cell line: 2>\n",
      "    optim_reparam.learn(batch_size=10,\n",
      "  File \"/Users/evsi8432/Documents/Research/VBPI-matrix/src/SLCVI_torch.py\", line 169, in learn\n",
      "    self.record_metrics(it,test_batch_size)\n",
      "  File \"/Users/evsi8432/Documents/Research/VBPI-matrix/src/SLCVI_torch.py\", line 131, in record_metrics\n",
      "    ELBO = self.ELBO_reparam(test_batch_size).detach()\n",
      "  File \"/Users/evsi8432/Documents/Research/VBPI-matrix/src/SLCVI_torch.py\", line 45, in ELBO_reparam\n",
      "    tree = Tree(self.theta,\n",
      "  File \"/Users/evsi8432/Documents/Research/VBPI-matrix/src/tree_torch.py\", line 53, in __init__\n",
      "    self.draw_graph()\n",
      "  File \"/Users/evsi8432/Documents/Research/VBPI-matrix/src/tree_torch.py\", line 129, in draw_graph\n",
      "    leave_nums_to_join = torch.unravel_index(ind,log_times.shape)\n",
      "  File \"/Users/evsi8432/opt/anaconda3/lib/python3.9/site-packages/torch/functional.py\", line 1744, in unravel_index\n",
      "    res_tensor = _unravel_index(indices, shape)\n",
      "  File \"/Users/evsi8432/opt/anaconda3/lib/python3.9/site-packages/torch/functional.py\", line 1772, in _unravel_index\n",
      "    ) % torch.tensor(shape, device=indices.device, dtype=torch.int64)\n",
      "KeyboardInterrupt\n",
      "\n",
      "During handling of the above exception, another exception occurred:\n",
      "\n",
      "Traceback (most recent call last):\n",
      "  File \"/Users/evsi8432/opt/anaconda3/lib/python3.9/site-packages/IPython/core/interactiveshell.py\", line 1982, in showtraceback\n",
      "    stb = self.InteractiveTB.structured_traceback(\n",
      "  File \"/Users/evsi8432/opt/anaconda3/lib/python3.9/site-packages/IPython/core/ultratb.py\", line 1118, in structured_traceback\n",
      "    return FormattedTB.structured_traceback(\n",
      "  File \"/Users/evsi8432/opt/anaconda3/lib/python3.9/site-packages/IPython/core/ultratb.py\", line 1012, in structured_traceback\n",
      "    return VerboseTB.structured_traceback(\n",
      "  File \"/Users/evsi8432/opt/anaconda3/lib/python3.9/site-packages/IPython/core/ultratb.py\", line 865, in structured_traceback\n",
      "    formatted_exception = self.format_exception_as_a_whole(etype, evalue, etb, number_of_lines_of_context,\n",
      "  File \"/Users/evsi8432/opt/anaconda3/lib/python3.9/site-packages/IPython/core/ultratb.py\", line 818, in format_exception_as_a_whole\n",
      "    frames.append(self.format_record(r))\n",
      "  File \"/Users/evsi8432/opt/anaconda3/lib/python3.9/site-packages/IPython/core/ultratb.py\", line 736, in format_record\n",
      "    result += ''.join(_format_traceback_lines(frame_info.lines, Colors, self.has_colors, lvals))\n",
      "  File \"/Users/evsi8432/opt/anaconda3/lib/python3.9/site-packages/stack_data/utils.py\", line 145, in cached_property_wrapper\n",
      "    value = obj.__dict__[self.func.__name__] = self.func(obj)\n",
      "  File \"/Users/evsi8432/opt/anaconda3/lib/python3.9/site-packages/stack_data/core.py\", line 698, in lines\n",
      "    pieces = self.included_pieces\n",
      "  File \"/Users/evsi8432/opt/anaconda3/lib/python3.9/site-packages/stack_data/utils.py\", line 145, in cached_property_wrapper\n",
      "    value = obj.__dict__[self.func.__name__] = self.func(obj)\n",
      "  File \"/Users/evsi8432/opt/anaconda3/lib/python3.9/site-packages/stack_data/core.py\", line 649, in included_pieces\n",
      "    pos = scope_pieces.index(self.executing_piece)\n",
      "  File \"/Users/evsi8432/opt/anaconda3/lib/python3.9/site-packages/stack_data/utils.py\", line 145, in cached_property_wrapper\n",
      "    value = obj.__dict__[self.func.__name__] = self.func(obj)\n",
      "  File \"/Users/evsi8432/opt/anaconda3/lib/python3.9/site-packages/stack_data/core.py\", line 628, in executing_piece\n",
      "    return only(\n",
      "  File \"/Users/evsi8432/opt/anaconda3/lib/python3.9/site-packages/executing/executing.py\", line 164, in only\n",
      "    raise NotOneValueFound('Expected one value, found 0')\n",
      "executing.executing.NotOneValueFound: Expected one value, found 0\n"
     ]
    }
   ],
   "source": [
    "optim_reparam = SLCVI(tree_log_probs,deepcopy(theta),pop_size)\n",
    "optim_reparam.learn(batch_size=10,\n",
    "                      iters=1000,\n",
    "                      alpha=0.01,\n",
    "                      method=\"reparam\",\n",
    "                      record_every=10,\n",
    "                      pop_size=pop_size)\n",
    "\n",
    "print(\"final theta:\",optim_reparam.theta)\n",
    "plt.plot(optim_reparam.ELBO_ests)"
   ]
  },
  {
   "cell_type": "code",
   "execution_count": 68,
   "metadata": {
    "scrolled": true
   },
   "outputs": [
    {
     "name": "stdout",
     "output_type": "stream",
     "text": [
      "iteration:  0\n",
      "runtime: 0 mins\n",
      "grad_norm estimate:  3.7723787\n",
      "ELBO estimate:  -240.74050345983002\n",
      "\n",
      "iteration:  10\n",
      "runtime: 0 mins\n",
      "grad_norm estimate:  0.6966003\n",
      "ELBO estimate:  -241.08618692953914\n",
      "\n",
      "iteration:  20\n",
      "runtime: 0 mins\n",
      "grad_norm estimate:  0.8489528\n",
      "ELBO estimate:  -240.729084536599\n",
      "\n",
      "iteration:  30\n",
      "runtime: 0 mins\n",
      "grad_norm estimate:  0.6319503\n",
      "ELBO estimate:  -240.59095033805198\n",
      "\n",
      "iteration:  40\n",
      "runtime: 0 mins\n",
      "grad_norm estimate:  1.5861962\n",
      "ELBO estimate:  -240.38714200540855\n",
      "\n",
      "iteration:  50\n",
      "runtime: 0 mins\n",
      "grad_norm estimate:  1.2994905\n",
      "ELBO estimate:  -240.71672360304623\n",
      "\n",
      "iteration:  60\n",
      "runtime: 0 mins\n",
      "grad_norm estimate:  1.1032696\n",
      "ELBO estimate:  -240.45453844003114\n",
      "\n",
      "iteration:  70\n",
      "runtime: 0 mins\n",
      "grad_norm estimate:  0.8407245\n",
      "ELBO estimate:  -240.66979132973393\n",
      "\n",
      "iteration:  80\n",
      "runtime: 0 mins\n",
      "grad_norm estimate:  1.096684\n",
      "ELBO estimate:  -240.25943143236373\n",
      "\n",
      "iteration:  90\n",
      "runtime: 0 mins\n",
      "grad_norm estimate:  1.125112\n",
      "ELBO estimate:  -240.45977651856012\n",
      "\n",
      "iteration:  100\n",
      "runtime: 0 mins\n",
      "grad_norm estimate:  3.4171603\n",
      "ELBO estimate:  -240.47434997633772\n",
      "\n",
      "iteration:  110\n",
      "runtime: 0 mins\n",
      "grad_norm estimate:  6.662152\n",
      "ELBO estimate:  -240.4417119041697\n",
      "\n",
      "iteration:  120\n",
      "runtime: 0 mins\n",
      "grad_norm estimate:  0.8441825\n",
      "ELBO estimate:  -240.4999441519335\n",
      "\n",
      "iteration:  130\n",
      "runtime: 0 mins\n",
      "grad_norm estimate:  1.1112059\n",
      "ELBO estimate:  -240.34982000624404\n",
      "\n",
      "iteration:  140\n",
      "runtime: 0 mins\n",
      "grad_norm estimate:  0.799529\n",
      "ELBO estimate:  -240.512191135666\n",
      "\n",
      "iteration:  150\n",
      "runtime: 0 mins\n",
      "grad_norm estimate:  1.9700884\n",
      "ELBO estimate:  -240.2443909698226\n",
      "\n",
      "iteration:  160\n",
      "runtime: 0 mins\n",
      "grad_norm estimate:  1.1219236\n",
      "ELBO estimate:  -240.46072372801268\n",
      "\n",
      "iteration:  170\n",
      "runtime: 0 mins\n",
      "grad_norm estimate:  1.260006\n",
      "ELBO estimate:  -240.36989303245113\n",
      "\n",
      "iteration:  180\n",
      "runtime: 0 mins\n",
      "grad_norm estimate:  0.87476665\n",
      "ELBO estimate:  -240.25782364645093\n",
      "\n",
      "iteration:  190\n",
      "runtime: 0 mins\n",
      "grad_norm estimate:  2.5959616\n",
      "ELBO estimate:  -240.32772203454664\n",
      "\n",
      "iteration:  200\n",
      "runtime: 0 mins\n",
      "grad_norm estimate:  0.64252275\n",
      "ELBO estimate:  -240.33954868149874\n",
      "\n",
      "iteration:  210\n",
      "runtime: 0 mins\n",
      "grad_norm estimate:  1.2806083\n",
      "ELBO estimate:  -240.2918010715335\n",
      "\n",
      "iteration:  220\n",
      "runtime: 0 mins\n",
      "grad_norm estimate:  3.8244884\n",
      "ELBO estimate:  -240.3666804300244\n",
      "\n",
      "iteration:  230\n",
      "runtime: 0 mins\n",
      "grad_norm estimate:  0.26035175\n",
      "ELBO estimate:  -240.32388500029015\n",
      "\n",
      "iteration:  240\n",
      "runtime: 0 mins\n",
      "grad_norm estimate:  0.95671076\n",
      "ELBO estimate:  -240.32643554656173\n",
      "\n",
      "iteration:  250\n",
      "runtime: 0 mins\n",
      "grad_norm estimate:  0.4286301\n",
      "ELBO estimate:  -240.3678102379601\n",
      "\n",
      "iteration:  260\n",
      "runtime: 0 mins\n",
      "grad_norm estimate:  2.822667\n",
      "ELBO estimate:  -240.35010547619896\n",
      "\n",
      "iteration:  270\n",
      "runtime: 0 mins\n",
      "grad_norm estimate:  3.682852\n",
      "ELBO estimate:  -240.33575223840154\n",
      "\n",
      "iteration:  280\n",
      "runtime: 0 mins\n",
      "grad_norm estimate:  1.9116273\n",
      "ELBO estimate:  -240.2945344856726\n",
      "\n",
      "iteration:  290\n",
      "runtime: 0 mins\n",
      "grad_norm estimate:  4.0976186\n",
      "ELBO estimate:  -240.31454657879632\n",
      "\n",
      "iteration:  300\n",
      "runtime: 0 mins\n",
      "grad_norm estimate:  1.8857229\n",
      "ELBO estimate:  -240.42556869030938\n",
      "\n",
      "iteration:  310\n",
      "runtime: 0 mins\n",
      "grad_norm estimate:  0.7675765\n",
      "ELBO estimate:  -240.19188846992395\n",
      "\n",
      "iteration:  320\n",
      "runtime: 0 mins\n",
      "grad_norm estimate:  1.8391528\n",
      "ELBO estimate:  -240.32722629344224\n",
      "\n",
      "iteration:  330\n",
      "runtime: 0 mins\n",
      "grad_norm estimate:  0.08509434\n",
      "ELBO estimate:  -240.30613655961324\n",
      "\n",
      "iteration:  340\n",
      "runtime: 0 mins\n",
      "grad_norm estimate:  0.6639432\n",
      "ELBO estimate:  -240.4379500223973\n",
      "\n",
      "iteration:  350\n",
      "runtime: 0 mins\n",
      "grad_norm estimate:  0.5603923\n",
      "ELBO estimate:  -240.39677812046122\n",
      "\n",
      "iteration:  360\n",
      "runtime: 0 mins\n",
      "grad_norm estimate:  0.86509544\n",
      "ELBO estimate:  -240.2888549245894\n",
      "\n",
      "iteration:  370\n",
      "runtime: 0 mins\n",
      "grad_norm estimate:  0.95677435\n",
      "ELBO estimate:  -240.36511604094852\n",
      "\n",
      "iteration:  380\n",
      "runtime: 0 mins\n",
      "grad_norm estimate:  0.6976966\n",
      "ELBO estimate:  -240.43590027688802\n",
      "\n",
      "iteration:  390\n",
      "runtime: 0 mins\n",
      "grad_norm estimate:  1.6153789\n",
      "ELBO estimate:  -240.44944675315168\n",
      "\n",
      "iteration:  400\n",
      "runtime: 0 mins\n",
      "grad_norm estimate:  1.2148234\n",
      "ELBO estimate:  -240.4552517469131\n",
      "\n",
      "iteration:  410\n",
      "runtime: 0 mins\n",
      "grad_norm estimate:  0.15140712\n",
      "ELBO estimate:  -240.4826173202655\n",
      "\n",
      "iteration:  420\n",
      "runtime: 0 mins\n",
      "grad_norm estimate:  0.2837327\n",
      "ELBO estimate:  -240.4826447402591\n",
      "\n",
      "iteration:  430\n",
      "runtime: 0 mins\n",
      "grad_norm estimate:  2.2854595\n",
      "ELBO estimate:  -240.35037270388247\n",
      "\n",
      "iteration:  440\n",
      "runtime: 0 mins\n",
      "grad_norm estimate:  3.3387942\n",
      "ELBO estimate:  -240.34962085186694\n",
      "\n",
      "iteration:  450\n",
      "runtime: 0 mins\n",
      "grad_norm estimate:  1.7711711\n",
      "ELBO estimate:  -240.37507639779773\n",
      "\n",
      "iteration:  460\n",
      "runtime: 0 mins\n",
      "grad_norm estimate:  2.181792\n",
      "ELBO estimate:  -240.360405439926\n",
      "\n",
      "iteration:  470\n",
      "runtime: 0 mins\n",
      "grad_norm estimate:  0.7638064\n",
      "ELBO estimate:  -240.24540801159577\n",
      "\n",
      "iteration:  480\n",
      "runtime: 0 mins\n",
      "grad_norm estimate:  1.8671066\n",
      "ELBO estimate:  -240.3294009122591\n",
      "\n",
      "iteration:  490\n",
      "runtime: 0 mins\n",
      "grad_norm estimate:  1.2419057\n",
      "ELBO estimate:  -240.4008313719803\n",
      "\n",
      "iteration:  500\n",
      "runtime: 0 mins\n",
      "grad_norm estimate:  0.248531\n",
      "ELBO estimate:  -240.37614967191692\n",
      "\n",
      "iteration:  510\n",
      "runtime: 0 mins\n",
      "grad_norm estimate:  0.48698676\n",
      "ELBO estimate:  -240.46746851449532\n",
      "\n",
      "iteration:  520\n",
      "runtime: 0 mins\n",
      "grad_norm estimate:  1.6729842\n",
      "ELBO estimate:  -240.4375328934144\n",
      "\n",
      "iteration:  530\n",
      "runtime: 0 mins\n",
      "grad_norm estimate:  1.129652\n",
      "ELBO estimate:  -240.44356521054047\n",
      "\n",
      "iteration:  540\n",
      "runtime: 0 mins\n",
      "grad_norm estimate:  1.4359039\n",
      "ELBO estimate:  -240.2942604943163\n",
      "\n",
      "iteration:  550\n",
      "runtime: 0 mins\n",
      "grad_norm estimate:  0.35780114\n",
      "ELBO estimate:  -240.11207907418543\n",
      "\n",
      "iteration:  560\n",
      "runtime: 0 mins\n",
      "grad_norm estimate:  3.2259889\n",
      "ELBO estimate:  -240.3466667844249\n",
      "\n",
      "iteration:  570\n",
      "runtime: 0 mins\n",
      "grad_norm estimate:  1.6743791\n",
      "ELBO estimate:  -240.33222609655647\n",
      "\n",
      "iteration:  580\n",
      "runtime: 0 mins\n",
      "grad_norm estimate:  1.2056724\n",
      "ELBO estimate:  -240.26899461973673\n",
      "\n",
      "iteration:  590\n",
      "runtime: 0 mins\n",
      "grad_norm estimate:  0.9718101\n",
      "ELBO estimate:  -240.4338820334957\n",
      "\n",
      "iteration:  600\n",
      "runtime: 0 mins\n",
      "grad_norm estimate:  0.27887484\n",
      "ELBO estimate:  -240.35103181883406\n",
      "\n",
      "iteration:  610\n",
      "runtime: 0 mins\n",
      "grad_norm estimate:  0.98407817\n",
      "ELBO estimate:  -240.4339093679284\n",
      "\n",
      "iteration:  620\n",
      "runtime: 0 mins\n",
      "grad_norm estimate:  1.136958\n",
      "ELBO estimate:  -240.23469161133778\n",
      "\n",
      "iteration:  630\n",
      "runtime: 0 mins\n",
      "grad_norm estimate:  4.4627805\n",
      "ELBO estimate:  -240.41932498982118\n",
      "\n",
      "iteration:  640\n",
      "runtime: 0 mins\n",
      "grad_norm estimate:  0.4050815\n",
      "ELBO estimate:  -240.33961716761794\n",
      "\n",
      "iteration:  650\n",
      "runtime: 0 mins\n",
      "grad_norm estimate:  0.54790044\n",
      "ELBO estimate:  -240.21930832393858\n",
      "\n",
      "iteration:  660\n",
      "runtime: 0 mins\n",
      "grad_norm estimate:  0.082614\n",
      "ELBO estimate:  -240.41768491696013\n",
      "\n",
      "iteration:  670\n",
      "runtime: 0 mins\n",
      "grad_norm estimate:  0.8008974\n",
      "ELBO estimate:  -240.2980045619554\n",
      "\n",
      "iteration:  680\n",
      "runtime: 0 mins\n",
      "grad_norm estimate:  1.0512954\n",
      "ELBO estimate:  -240.37224274716306\n",
      "\n",
      "iteration:  690\n",
      "runtime: 0 mins\n",
      "grad_norm estimate:  3.3069236\n",
      "ELBO estimate:  -240.1696770776807\n",
      "\n",
      "iteration:  700\n",
      "runtime: 0 mins\n",
      "grad_norm estimate:  3.1313002\n",
      "ELBO estimate:  -240.17480085159377\n",
      "\n",
      "iteration:  710\n",
      "runtime: 0 mins\n",
      "grad_norm estimate:  1.8351209\n",
      "ELBO estimate:  -240.23352557910727\n",
      "\n",
      "iteration:  720\n",
      "runtime: 0 mins\n",
      "grad_norm estimate:  1.1341401\n",
      "ELBO estimate:  -240.30362023613404\n",
      "\n",
      "iteration:  730\n",
      "runtime: 0 mins\n",
      "grad_norm estimate:  1.1332176\n",
      "ELBO estimate:  -240.22541286396844\n",
      "\n",
      "iteration:  740\n",
      "runtime: 0 mins\n",
      "grad_norm estimate:  2.0479014\n",
      "ELBO estimate:  -240.33500611899615\n",
      "\n",
      "iteration:  750\n",
      "runtime: 0 mins\n",
      "grad_norm estimate:  1.1217144\n",
      "ELBO estimate:  -240.33038917380725\n",
      "\n",
      "iteration:  760\n",
      "runtime: 0 mins\n",
      "grad_norm estimate:  0.5461506\n",
      "ELBO estimate:  -240.23520779892428\n",
      "\n",
      "iteration:  770\n",
      "runtime: 0 mins\n",
      "grad_norm estimate:  0.5504105\n",
      "ELBO estimate:  -240.2365021126084\n",
      "\n",
      "iteration:  780\n",
      "runtime: 0 mins\n",
      "grad_norm estimate:  0.17008784\n",
      "ELBO estimate:  -240.37494396673097\n",
      "\n",
      "iteration:  790\n",
      "runtime: 0 mins\n",
      "grad_norm estimate:  0.662181\n",
      "ELBO estimate:  -240.2775165925022\n",
      "\n",
      "iteration:  800\n",
      "runtime: 0 mins\n",
      "grad_norm estimate:  0.39863667\n",
      "ELBO estimate:  -240.20328371099765\n",
      "\n",
      "iteration:  810\n",
      "runtime: 0 mins\n",
      "grad_norm estimate:  0.6043631\n",
      "ELBO estimate:  -240.31448953090333\n",
      "\n",
      "iteration:  820\n",
      "runtime: 0 mins\n",
      "grad_norm estimate:  0.54131407\n",
      "ELBO estimate:  -240.27399823353562\n",
      "\n"
     ]
    },
    {
     "name": "stdout",
     "output_type": "stream",
     "text": [
      "iteration:  830\n",
      "runtime: 0 mins\n",
      "grad_norm estimate:  1.1007164\n",
      "ELBO estimate:  -240.3474764094593\n",
      "\n",
      "iteration:  840\n",
      "runtime: 0 mins\n",
      "grad_norm estimate:  0.87640494\n",
      "ELBO estimate:  -240.2559938138506\n",
      "\n",
      "iteration:  850\n",
      "runtime: 0 mins\n",
      "grad_norm estimate:  0.97046214\n",
      "ELBO estimate:  -240.61781671383292\n",
      "\n",
      "iteration:  860\n",
      "runtime: 0 mins\n",
      "grad_norm estimate:  0.3880395\n",
      "ELBO estimate:  -240.27398275312993\n",
      "\n",
      "iteration:  870\n",
      "runtime: 0 mins\n",
      "grad_norm estimate:  0.326261\n",
      "ELBO estimate:  -240.26359888408714\n",
      "\n",
      "iteration:  880\n",
      "runtime: 0 mins\n",
      "grad_norm estimate:  0.63637257\n",
      "ELBO estimate:  -240.36792584674757\n",
      "\n",
      "iteration:  890\n",
      "runtime: 0 mins\n",
      "grad_norm estimate:  1.1427686\n",
      "ELBO estimate:  -240.4711936947051\n",
      "\n",
      "iteration:  900\n",
      "runtime: 0 mins\n",
      "grad_norm estimate:  5.079679\n",
      "ELBO estimate:  -240.39433104825792\n",
      "\n",
      "iteration:  910\n",
      "runtime: 0 mins\n",
      "grad_norm estimate:  3.181773\n",
      "ELBO estimate:  -240.36767429049792\n",
      "\n",
      "iteration:  920\n",
      "runtime: 0 mins\n",
      "grad_norm estimate:  0.32705978\n",
      "ELBO estimate:  -240.49728419219426\n",
      "\n",
      "iteration:  930\n",
      "runtime: 0 mins\n",
      "grad_norm estimate:  7.0908766\n",
      "ELBO estimate:  -240.38786628739368\n",
      "\n",
      "iteration:  940\n",
      "runtime: 0 mins\n",
      "grad_norm estimate:  3.1159663\n",
      "ELBO estimate:  -240.43161208350335\n",
      "\n",
      "iteration:  950\n",
      "runtime: 0 mins\n",
      "grad_norm estimate:  0.8806774\n",
      "ELBO estimate:  -240.28961070759945\n",
      "\n",
      "iteration:  960\n",
      "runtime: 0 mins\n",
      "grad_norm estimate:  1.352331\n",
      "ELBO estimate:  -240.345492247503\n",
      "\n",
      "iteration:  970\n",
      "runtime: 0 mins\n",
      "grad_norm estimate:  2.184488\n",
      "ELBO estimate:  -241.07945158757036\n",
      "\n",
      "iteration:  980\n",
      "runtime: 0 mins\n",
      "grad_norm estimate:  2.2645197\n",
      "ELBO estimate:  -240.4569502368275\n",
      "\n",
      "iteration:  990\n",
      "runtime: 0 mins\n",
      "grad_norm estimate:  1.5794723\n",
      "ELBO estimate:  -240.33902934338988\n",
      "\n",
      "final theta: Parameter containing:\n",
      "tensor([[[ 0.0000,  0.0000,  0.0000],\n",
      "         [ 0.6056,  0.0000,  0.0000],\n",
      "         [-2.7620, -2.4181,  0.0000]],\n",
      "\n",
      "        [[-0.0000,  0.0000,  0.0000],\n",
      "         [ 0.6767,  0.0000, -0.0000],\n",
      "         [-1.4709, -1.6458, -0.0000]]], requires_grad=True)\n"
     ]
    },
    {
     "data": {
      "text/plain": [
       "[<matplotlib.lines.Line2D at 0x7f98eca02f10>]"
      ]
     },
     "execution_count": 68,
     "metadata": {},
     "output_type": "execute_result"
    },
    {
     "data": {
      "image/png": "[encoded data removed]",
      "text/plain": [
       "<Figure size 432x288 with 1 Axes>"
      ]
     },
     "metadata": {
      "needs_background": "light"
     },
     "output_type": "display_data"
    }
   ],
   "source": [
    "optim_reinforce = SLCVI(tree_log_probs,deepcopy(theta),pop_size)\n",
    "\n",
    "optim_reinforce.learn(batch_size=10,\n",
    "                      iters=1000,\n",
    "                      alpha=0.01,\n",
    "                      method=\"reinforce\",\n",
    "                      record_every=10,\n",
    "                      pop_size=pop_size)\n",
    "\n",
    "print(\"final theta:\",optim_reinforce.theta)\n",
    "plt.plot(optim_reinforce.ELBO_ests)"
   ]
  },
  {
   "cell_type": "code",
   "execution_count": 86,
   "metadata": {},
   "outputs": [
    {
     "data": {
      "text/plain": [
       "5.0"
      ]
     },
     "execution_count": 86,
     "metadata": {},
     "output_type": "execute_result"
    }
   ],
   "source": [
    "pop_size"
   ]
  },
  {
   "cell_type": "code",
   "execution_count": 85,
   "metadata": {},
   "outputs": [
    {
     "data": {
      "text/plain": [
       "tensor([[[0., 0., 0.],\n",
       "         [0., 0., 0.],\n",
       "         [0., 0., 0.]],\n",
       "\n",
       "        [[0., 0., 0.],\n",
       "         [0., 0., 0.],\n",
       "         [0., 0., 0.]]])"
      ]
     },
     "execution_count": 85,
     "metadata": {},
     "output_type": "execute_result"
    }
   ],
   "source": [
    "theta"
   ]
  },
  {
   "cell_type": "code",
   "execution_count": 151,
   "metadata": {
    "scrolled": true
   },
   "outputs": [
    {
     "name": "stdout",
     "output_type": "stream",
     "text": [
      "tensor([[[ 0.0000,  0.0000,  0.0000],\n",
      "         [-0.7200,  0.0000,  0.0000],\n",
      "         [-0.6974, -0.6189,  0.0000]],\n",
      "\n",
      "        [[ 0.0000,  0.0000,  0.0000],\n",
      "         [-0.1871,  0.0000,  0.0000],\n",
      "         [-0.1479,  0.0593,  0.0000]]])\n",
      "iteration:  0\n",
      "runtime: 0 mins\n",
      "grad_norm estimate:  1.2034204912400017\n",
      "ELBO estimate:  -328.7016479914884\n",
      "\n",
      "tensor([[[ 0.0000,  0.0000,  0.0000],\n",
      "         [-0.9738,  0.0000,  0.0000],\n",
      "         [-0.7580, -0.9246,  0.0000]],\n",
      "\n",
      "        [[ 0.0000,  0.0000,  0.0000],\n",
      "         [-0.5602,  0.0000,  0.0000],\n",
      "         [-0.0752, -0.3920,  0.0000]]])\n",
      "tensor([[[ 0.0000,  0.0000,  0.0000],\n",
      "         [-0.5580,  0.0000,  0.0000],\n",
      "         [-0.4381, -0.6142,  0.0000]],\n",
      "\n",
      "        [[ 0.0000,  0.0000,  0.0000],\n",
      "         [-0.0272,  0.0000,  0.0000],\n",
      "         [ 0.2178,  0.0202,  0.0000]]])\n",
      "tensor([[[ 0.0000,  0.0000,  0.0000],\n",
      "         [-0.5670,  0.0000,  0.0000],\n",
      "         [-0.7516, -0.6626,  0.0000]],\n",
      "\n",
      "        [[ 0.0000,  0.0000,  0.0000],\n",
      "         [ 0.0340,  0.0000,  0.0000],\n",
      "         [-0.1918, -0.0441,  0.0000]]])\n",
      "tensor([[[ 0.0000,  0.0000,  0.0000],\n",
      "         [-0.8369,  0.0000,  0.0000],\n",
      "         [-0.8086, -0.7104,  0.0000]],\n",
      "\n",
      "        [[ 0.0000,  0.0000,  0.0000],\n",
      "         [-0.1798,  0.0000,  0.0000],\n",
      "         [-0.2159, -0.0629,  0.0000]]])\n",
      "tensor([[[ 0.0000,  0.0000,  0.0000],\n",
      "         [-0.5695,  0.0000,  0.0000],\n",
      "         [-0.8558, -0.8642,  0.0000]],\n",
      "\n",
      "        [[ 0.0000,  0.0000,  0.0000],\n",
      "         [-0.0044,  0.0000,  0.0000],\n",
      "         [-0.4172, -0.4757,  0.0000]]])\n",
      "tensor([[[ 0.0000,  0.0000,  0.0000],\n",
      "         [-0.9313,  0.0000,  0.0000],\n",
      "         [-0.7851, -0.5595,  0.0000]],\n",
      "\n",
      "        [[ 0.0000,  0.0000,  0.0000],\n",
      "         [-0.4209,  0.0000,  0.0000],\n",
      "         [-0.3098, -0.0942,  0.0000]]])\n",
      "tensor([[[ 0.0000,  0.0000,  0.0000],\n",
      "         [-0.7941,  0.0000,  0.0000],\n",
      "         [-0.7666, -0.8716,  0.0000]],\n",
      "\n",
      "        [[ 0.0000,  0.0000,  0.0000],\n",
      "         [-0.5761,  0.0000,  0.0000],\n",
      "         [-0.3292, -0.3967,  0.0000]]])\n",
      "tensor([[[ 0.0000,  0.0000,  0.0000],\n",
      "         [-0.5740,  0.0000,  0.0000],\n",
      "         [-0.6443, -0.5197,  0.0000]],\n",
      "\n",
      "        [[ 0.0000,  0.0000,  0.0000],\n",
      "         [ 0.0421,  0.0000,  0.0000],\n",
      "         [-0.0672,  0.1216,  0.0000]]])\n",
      "tensor([[[ 0.0000,  0.0000,  0.0000],\n",
      "         [-0.5978,  0.0000,  0.0000],\n",
      "         [-0.5982, -0.6307,  0.0000]],\n",
      "\n",
      "        [[ 0.0000,  0.0000,  0.0000],\n",
      "         [-0.0010,  0.0000,  0.0000],\n",
      "         [ 0.0011, -0.0557,  0.0000]]])\n",
      "final theta: Parameter containing:\n",
      "tensor([[[0.0000, 0.0000, 0.0000],\n",
      "         [0.0976, 0.0000, 0.0000],\n",
      "         [0.0992, 0.0984, 0.0000]],\n",
      "\n",
      "        [[0.0000, 0.0000, 0.0000],\n",
      "         [0.0709, 0.0000, 0.0000],\n",
      "         [0.0636, 0.0412, 0.0000]]], requires_grad=True)\n"
     ]
    },
    {
     "data": {
      "text/plain": [
       "[<matplotlib.lines.Line2D at 0x7f98f0496610>]"
      ]
     },
     "execution_count": 151,
     "metadata": {},
     "output_type": "execute_result"
    },
    {
     "data": {
      "image/png": "[encoded data removed]",
      "text/plain": [
       "<Figure size 432x288 with 1 Axes>"
      ]
     },
     "metadata": {
      "needs_background": "light"
     },
     "output_type": "display_data"
    }
   ],
   "source": [
    "np.random.seed(0)\n",
    "optim_VIMCO = SLCVI(tree_log_probs,deepcopy(theta),pop_size)\n",
    "\n",
    "optim_VIMCO.learn(batch_size=10,\n",
    "                  iters=10,\n",
    "                  alpha=0.01,\n",
    "                  method=\"reinforce\",\n",
    "                  record_every=10,\n",
    "                  pop_size=pop_size)\n",
    "print(\"final theta:\",optim_VIMCO.theta)\n",
    "plt.plot(optim_VIMCO.ELBO_ests)"
   ]
  },
  {
   "cell_type": "code",
   "execution_count": 155,
   "metadata": {
    "scrolled": true
   },
   "outputs": [
    {
     "name": "stdout",
     "output_type": "stream",
     "text": [
      "tensor(-1.8886, grad_fn=<DivBackward0>)\n",
      "tensor([[[ 0.0000,  0.0000,  0.0000],\n",
      "         [-0.7200,  0.0000,  0.0000],\n",
      "         [-0.6974, -0.6189,  0.0000]],\n",
      "\n",
      "        [[ 0.0000,  0.0000,  0.0000],\n",
      "         [-0.1871,  0.0000,  0.0000],\n",
      "         [-0.1479,  0.0593,  0.0000]]])\n",
      "iteration:  0\n",
      "runtime: 0 mins\n",
      "grad_norm estimate:  1.2034204912400017\n",
      "ELBO estimate:  -329.4596437071399\n",
      "\n",
      "tensor(-2.6036, grad_fn=<DivBackward0>)\n",
      "tensor([[[ 0.0000,  0.0000,  0.0000],\n",
      "         [-0.9738,  0.0000,  0.0000],\n",
      "         [-0.7580, -0.9246,  0.0000]],\n",
      "\n",
      "        [[ 0.0000,  0.0000,  0.0000],\n",
      "         [-0.5602,  0.0000,  0.0000],\n",
      "         [-0.0752, -0.3920,  0.0000]]])\n",
      "tensor(-1.4861, grad_fn=<DivBackward0>)\n",
      "tensor([[[ 0.0000,  0.0000,  0.0000],\n",
      "         [-0.5580,  0.0000,  0.0000],\n",
      "         [-0.4381, -0.6142,  0.0000]],\n",
      "\n",
      "        [[ 0.0000,  0.0000,  0.0000],\n",
      "         [-0.0272,  0.0000,  0.0000],\n",
      "         [ 0.2178,  0.0202,  0.0000]]])\n",
      "tensor(-1.7935, grad_fn=<DivBackward0>)\n",
      "tensor([[[ 0.0000,  0.0000,  0.0000],\n",
      "         [-0.5670,  0.0000,  0.0000],\n",
      "         [-0.7516, -0.6626,  0.0000]],\n",
      "\n",
      "        [[ 0.0000,  0.0000,  0.0000],\n",
      "         [ 0.0340,  0.0000,  0.0000],\n",
      "         [-0.1918, -0.0441,  0.0000]]])\n",
      "tensor(-2.2676, grad_fn=<DivBackward0>)\n",
      "tensor([[[ 0.0000,  0.0000,  0.0000],\n",
      "         [-0.8369,  0.0000,  0.0000],\n",
      "         [-0.8086, -0.7104,  0.0000]],\n",
      "\n",
      "        [[ 0.0000,  0.0000,  0.0000],\n",
      "         [-0.1798,  0.0000,  0.0000],\n",
      "         [-0.2159, -0.0629,  0.0000]]])\n",
      "tensor(-2.6130, grad_fn=<DivBackward0>)\n",
      "tensor([[[ 0.0000,  0.0000,  0.0000],\n",
      "         [-0.5695,  0.0000,  0.0000],\n",
      "         [-0.8558, -0.8642,  0.0000]],\n",
      "\n",
      "        [[ 0.0000,  0.0000,  0.0000],\n",
      "         [-0.0044,  0.0000,  0.0000],\n",
      "         [-0.4172, -0.4757,  0.0000]]])\n",
      "tensor(-2.7228, grad_fn=<DivBackward0>)\n",
      "tensor([[[ 0.0000,  0.0000,  0.0000],\n",
      "         [-0.9313,  0.0000,  0.0000],\n",
      "         [-0.7851, -0.5595,  0.0000]],\n",
      "\n",
      "        [[ 0.0000,  0.0000,  0.0000],\n",
      "         [-0.4209,  0.0000,  0.0000],\n",
      "         [-0.3098, -0.0942,  0.0000]]])\n",
      "tensor(-3.0013, grad_fn=<DivBackward0>)\n",
      "tensor([[[ 0.0000,  0.0000,  0.0000],\n",
      "         [-0.7941,  0.0000,  0.0000],\n",
      "         [-0.7666, -0.8716,  0.0000]],\n",
      "\n",
      "        [[ 0.0000,  0.0000,  0.0000],\n",
      "         [-0.5761,  0.0000,  0.0000],\n",
      "         [-0.3292, -0.3967,  0.0000]]])\n",
      "tensor(-1.7126, grad_fn=<DivBackward0>)\n",
      "tensor([[[ 0.0000,  0.0000,  0.0000],\n",
      "         [-0.5740,  0.0000,  0.0000],\n",
      "         [-0.6443, -0.5197,  0.0000]],\n",
      "\n",
      "        [[ 0.0000,  0.0000,  0.0000],\n",
      "         [ 0.0421,  0.0000,  0.0000],\n",
      "         [-0.0672,  0.1216,  0.0000]]])\n",
      "tensor(-1.8469, grad_fn=<DivBackward0>)\n",
      "tensor([[[ 0.0000,  0.0000,  0.0000],\n",
      "         [-0.5978,  0.0000,  0.0000],\n",
      "         [-0.5982, -0.6307,  0.0000]],\n",
      "\n",
      "        [[ 0.0000,  0.0000,  0.0000],\n",
      "         [-0.0010,  0.0000,  0.0000],\n",
      "         [ 0.0011, -0.0557,  0.0000]]])\n",
      "tensor(-2.6627, grad_fn=<DivBackward0>)\n",
      "tensor([[[ 0.0000,  0.0000,  0.0000],\n",
      "         [-0.7543,  0.0000,  0.0000],\n",
      "         [-0.7869, -0.8228,  0.0000]],\n",
      "\n",
      "        [[ 0.0000,  0.0000,  0.0000],\n",
      "         [-0.2782,  0.0000,  0.0000],\n",
      "         [-0.2327, -0.3269,  0.0000]]])\n",
      "iteration:  10\n",
      "runtime: 0 mins\n",
      "grad_norm estimate:  1.4504064114654096\n",
      "ELBO estimate:  -330.57368610344287\n",
      "\n",
      "tensor(-1.9316, grad_fn=<DivBackward0>)\n",
      "tensor([[[ 0.0000,  0.0000,  0.0000],\n",
      "         [-0.6369,  0.0000,  0.0000],\n",
      "         [-0.5420, -0.6995,  0.0000]],\n",
      "\n",
      "        [[ 0.0000,  0.0000,  0.0000],\n",
      "         [-0.0868,  0.0000,  0.0000],\n",
      "         [ 0.1053, -0.1317,  0.0000]]])\n",
      "tensor(-1.9630, grad_fn=<DivBackward0>)\n",
      "tensor([[[ 0.0000,  0.0000,  0.0000],\n",
      "         [-0.6141,  0.0000,  0.0000],\n",
      "         [-0.5994, -0.5353,  0.0000]],\n",
      "\n",
      "        [[ 0.0000,  0.0000,  0.0000],\n",
      "         [-0.1458,  0.0000,  0.0000],\n",
      "         [-0.1591,  0.1168,  0.0000]]])\n",
      "tensor(-2.7123, grad_fn=<DivBackward0>)\n",
      "tensor([[[ 0.0000,  0.0000,  0.0000],\n",
      "         [-0.7455,  0.0000,  0.0000],\n",
      "         [-0.7054, -0.7950,  0.0000]],\n",
      "\n",
      "        [[ 0.0000,  0.0000,  0.0000],\n",
      "         [-0.2696,  0.0000,  0.0000],\n",
      "         [-0.1464, -0.3619,  0.0000]]])\n",
      "tensor(-2.8545, grad_fn=<DivBackward0>)\n",
      "tensor([[[ 0.0000,  0.0000,  0.0000],\n",
      "         [-0.8342,  0.0000,  0.0000],\n",
      "         [-0.4837, -0.8287,  0.0000]],\n",
      "\n",
      "        [[ 0.0000,  0.0000,  0.0000],\n",
      "         [-0.6612,  0.0000,  0.0000],\n",
      "         [ 0.0986, -0.6054,  0.0000]]])\n",
      "tensor(-2.3804, grad_fn=<DivBackward0>)\n",
      "tensor([[[ 0.0000,  0.0000,  0.0000],\n",
      "         [-0.7699,  0.0000,  0.0000],\n",
      "         [-0.6142, -0.5926,  0.0000]],\n",
      "\n",
      "        [[ 0.0000,  0.0000,  0.0000],\n",
      "         [-0.3051,  0.0000,  0.0000],\n",
      "         [-0.1173, -0.0533,  0.0000]]])\n",
      "tensor(-1.9818, grad_fn=<DivBackward0>)\n",
      "tensor([[[ 0.0000,  0.0000,  0.0000],\n",
      "         [-0.6523,  0.0000,  0.0000],\n",
      "         [-0.4631, -0.5580,  0.0000]],\n",
      "\n",
      "        [[ 0.0000,  0.0000,  0.0000],\n",
      "         [-0.0034,  0.0000,  0.0000],\n",
      "         [ 0.1277,  0.0531,  0.0000]]])\n",
      "tensor(-2.5634, grad_fn=<DivBackward0>)\n",
      "tensor([[[ 0.0000,  0.0000,  0.0000],\n",
      "         [-0.6046,  0.0000,  0.0000],\n",
      "         [-0.7291, -0.6525,  0.0000]],\n",
      "\n",
      "        [[ 0.0000,  0.0000,  0.0000],\n",
      "         [-0.1166,  0.0000,  0.0000],\n",
      "         [-0.3942, -0.1123,  0.0000]]])\n",
      "tensor(-2.7884, grad_fn=<DivBackward0>)\n",
      "tensor([[[ 0.0000,  0.0000,  0.0000],\n",
      "         [-0.7609,  0.0000,  0.0000],\n",
      "         [-0.6118, -0.5849,  0.0000]],\n",
      "\n",
      "        [[ 0.0000,  0.0000,  0.0000],\n",
      "         [-0.4529,  0.0000,  0.0000],\n",
      "         [-0.0692, -0.3273,  0.0000]]])\n",
      "tensor(-2.5707, grad_fn=<DivBackward0>)\n",
      "tensor([[[ 0.0000,  0.0000,  0.0000],\n",
      "         [-0.7405,  0.0000,  0.0000],\n",
      "         [-0.6480, -0.5118,  0.0000]],\n",
      "\n",
      "        [[ 0.0000,  0.0000,  0.0000],\n",
      "         [-0.2911,  0.0000,  0.0000],\n",
      "         [-0.0058, -0.1986,  0.0000]]])\n",
      "tensor(-2.0770, grad_fn=<DivBackward0>)\n",
      "tensor([[[ 0.0000,  0.0000,  0.0000],\n",
      "         [-0.5692,  0.0000,  0.0000],\n",
      "         [-0.4020, -0.6881,  0.0000]],\n",
      "\n",
      "        [[ 0.0000,  0.0000,  0.0000],\n",
      "         [-0.0672,  0.0000,  0.0000],\n",
      "         [ 0.1638, -0.1729,  0.0000]]])\n",
      "iteration:  20\n",
      "runtime: 0 mins\n",
      "grad_norm estimate:  1.0100898596121763\n",
      "ELBO estimate:  -338.05235057533883\n",
      "\n",
      "tensor(-2.6788, grad_fn=<DivBackward0>)\n",
      "tensor([[[ 0.0000,  0.0000,  0.0000],\n",
      "         [-0.6580,  0.0000,  0.0000],\n",
      "         [-0.7461, -0.6148,  0.0000]],\n",
      "\n",
      "        [[ 0.0000,  0.0000,  0.0000],\n",
      "         [-0.2149,  0.0000,  0.0000],\n",
      "         [-0.1802, -0.0127,  0.0000]]])\n",
      "tensor(-2.8129, grad_fn=<DivBackward0>)\n",
      "tensor([[[ 0.0000,  0.0000,  0.0000],\n",
      "         [-0.6748,  0.0000,  0.0000],\n",
      "         [-0.6031, -0.7594,  0.0000]],\n",
      "\n",
      "        [[ 0.0000,  0.0000,  0.0000],\n",
      "         [-0.2969,  0.0000,  0.0000],\n",
      "         [ 0.0460, -0.3306,  0.0000]]])\n",
      "tensor(-1.4343, grad_fn=<DivBackward0>)\n",
      "tensor([[[ 0.0000,  0.0000,  0.0000],\n",
      "         [-0.4420,  0.0000,  0.0000],\n",
      "         [-0.4079, -0.4090,  0.0000]],\n",
      "\n",
      "        [[ 0.0000,  0.0000,  0.0000],\n",
      "         [ 0.1919,  0.0000,  0.0000],\n",
      "         [ 0.2242,  0.1753,  0.0000]]])\n",
      "tensor(-2.6641, grad_fn=<DivBackward0>)\n",
      "tensor([[[ 0.0000,  0.0000,  0.0000],\n",
      "         [-0.6535,  0.0000,  0.0000],\n",
      "         [-0.5778, -0.6666,  0.0000]],\n",
      "\n",
      "        [[ 0.0000,  0.0000,  0.0000],\n",
      "         [-0.1823,  0.0000,  0.0000],\n",
      "         [-0.0822, -0.2110,  0.0000]]])\n",
      "tensor(-2.0930, grad_fn=<DivBackward0>)\n",
      "tensor([[[ 0.0000,  0.0000,  0.0000],\n",
      "         [-0.4896,  0.0000,  0.0000],\n",
      "         [-0.5726, -0.5628,  0.0000]],\n",
      "\n",
      "        [[ 0.0000,  0.0000,  0.0000],\n",
      "         [ 0.0796,  0.0000,  0.0000],\n",
      "         [ 0.0177,  0.0641,  0.0000]]])\n",
      "tensor(-3.4206, grad_fn=<DivBackward0>)\n",
      "tensor([[[ 0.0000,  0.0000,  0.0000],\n",
      "         [-0.8464,  0.0000,  0.0000],\n",
      "         [-0.7069, -0.6800,  0.0000]],\n",
      "\n",
      "        [[ 0.0000,  0.0000,  0.0000],\n",
      "         [-0.5846,  0.0000,  0.0000],\n",
      "         [-0.2920, -0.3069,  0.0000]]])\n",
      "tensor(-2.1303, grad_fn=<DivBackward0>)\n",
      "tensor([[[ 0.0000,  0.0000,  0.0000],\n",
      "         [-0.5355,  0.0000,  0.0000],\n",
      "         [-0.4271, -0.4653,  0.0000]],\n",
      "\n",
      "        [[ 0.0000,  0.0000,  0.0000],\n",
      "         [-0.0323,  0.0000,  0.0000],\n",
      "         [ 0.0363,  0.0557,  0.0000]]])\n",
      "tensor(-2.7515, grad_fn=<DivBackward0>)\n",
      "tensor([[[ 0.0000,  0.0000,  0.0000],\n",
      "         [-0.4088,  0.0000,  0.0000],\n",
      "         [-0.7954, -0.6102,  0.0000]],\n",
      "\n",
      "        [[ 0.0000,  0.0000,  0.0000],\n",
      "         [ 0.0442,  0.0000,  0.0000],\n",
      "         [-0.3874, -0.2108,  0.0000]]])\n",
      "tensor(-2.7399, grad_fn=<DivBackward0>)\n",
      "tensor([[[ 0.0000,  0.0000,  0.0000],\n",
      "         [-0.5672,  0.0000,  0.0000],\n",
      "         [-0.5978, -0.6706,  0.0000]],\n",
      "\n",
      "        [[ 0.0000,  0.0000,  0.0000],\n",
      "         [-0.1463,  0.0000,  0.0000],\n",
      "         [ 0.0253, -0.2245,  0.0000]]])\n",
      "tensor(-2.2895, grad_fn=<DivBackward0>)\n"
     ]
    },
    {
     "name": "stdout",
     "output_type": "stream",
     "text": [
      "tensor([[[ 0.0000,  0.0000,  0.0000],\n",
      "         [-0.3828,  0.0000,  0.0000],\n",
      "         [-0.5912, -0.6613,  0.0000]],\n",
      "\n",
      "        [[ 0.0000,  0.0000,  0.0000],\n",
      "         [ 0.2319,  0.0000,  0.0000],\n",
      "         [-0.1248, -0.1636,  0.0000]]])\n",
      "iteration:  30\n",
      "runtime: 0 mins\n",
      "grad_norm estimate:  1.0146002061294062\n",
      "ELBO estimate:  -339.18504647756913\n",
      "\n",
      "tensor(-2.3959, grad_fn=<DivBackward0>)\n",
      "tensor([[[ 0.0000,  0.0000,  0.0000],\n",
      "         [-0.5822,  0.0000,  0.0000],\n",
      "         [-0.4824, -0.5547,  0.0000]],\n",
      "\n",
      "        [[ 0.0000,  0.0000,  0.0000],\n",
      "         [ 0.0028,  0.0000,  0.0000],\n",
      "         [ 0.0091, -0.0014,  0.0000]]])\n",
      "tensor(-2.8733, grad_fn=<DivBackward0>)\n",
      "tensor([[[ 0.0000,  0.0000,  0.0000],\n",
      "         [-0.5271,  0.0000,  0.0000],\n",
      "         [-0.6649, -0.5894,  0.0000]],\n",
      "\n",
      "        [[ 0.0000,  0.0000,  0.0000],\n",
      "         [-0.0388,  0.0000,  0.0000],\n",
      "         [-0.2742, -0.2779,  0.0000]]])\n",
      "tensor(-2.6627, grad_fn=<DivBackward0>)\n",
      "tensor([[[ 0.0000,  0.0000,  0.0000],\n",
      "         [-0.5016,  0.0000,  0.0000],\n",
      "         [-0.7408, -0.5081,  0.0000]],\n",
      "\n",
      "        [[ 0.0000,  0.0000,  0.0000],\n",
      "         [-0.0255,  0.0000,  0.0000],\n",
      "         [-0.2027,  0.0311,  0.0000]]])\n",
      "tensor(-1.8944, grad_fn=<DivBackward0>)\n",
      "tensor([[[ 0.0000,  0.0000,  0.0000],\n",
      "         [-0.3057,  0.0000,  0.0000],\n",
      "         [-0.5271, -0.4583,  0.0000]],\n",
      "\n",
      "        [[ 0.0000,  0.0000,  0.0000],\n",
      "         [ 0.2301,  0.0000,  0.0000],\n",
      "         [ 0.1078,  0.0790,  0.0000]]])\n",
      "tensor(-3.1927, grad_fn=<DivBackward0>)\n",
      "tensor([[[ 0.0000,  0.0000,  0.0000],\n",
      "         [-0.6409,  0.0000,  0.0000],\n",
      "         [-0.6512, -0.6051,  0.0000]],\n",
      "\n",
      "        [[ 0.0000,  0.0000,  0.0000],\n",
      "         [-0.2891,  0.0000,  0.0000],\n",
      "         [-0.2861, -0.1702,  0.0000]]])\n",
      "tensor(-2.6612, grad_fn=<DivBackward0>)\n",
      "tensor([[[ 0.0000,  0.0000,  0.0000],\n",
      "         [-0.4589,  0.0000,  0.0000],\n",
      "         [-0.5641, -0.5476,  0.0000]],\n",
      "\n",
      "        [[ 0.0000,  0.0000,  0.0000],\n",
      "         [-0.0697,  0.0000,  0.0000],\n",
      "         [-0.0485, -0.1299,  0.0000]]])\n",
      "tensor(-3.8687, grad_fn=<DivBackward0>)\n",
      "tensor([[[ 0.0000,  0.0000,  0.0000],\n",
      "         [-0.6985,  0.0000,  0.0000],\n",
      "         [-0.7522, -0.7424,  0.0000]],\n",
      "\n",
      "        [[ 0.0000,  0.0000,  0.0000],\n",
      "         [-0.3819,  0.0000,  0.0000],\n",
      "         [-0.3871, -0.5876,  0.0000]]])\n",
      "tensor(-2.4203, grad_fn=<DivBackward0>)\n",
      "tensor([[[ 0.0000,  0.0000,  0.0000],\n",
      "         [-0.4378,  0.0000,  0.0000],\n",
      "         [-0.5145, -0.4601,  0.0000]],\n",
      "\n",
      "        [[ 0.0000,  0.0000,  0.0000],\n",
      "         [ 0.0889,  0.0000,  0.0000],\n",
      "         [ 0.0248,  0.1160,  0.0000]]])\n",
      "tensor(-3.8931, grad_fn=<DivBackward0>)\n",
      "tensor([[[ 0.0000,  0.0000,  0.0000],\n",
      "         [-0.6505,  0.0000,  0.0000],\n",
      "         [-0.8097, -0.6945,  0.0000]],\n",
      "\n",
      "        [[ 0.0000,  0.0000,  0.0000],\n",
      "         [-0.3222,  0.0000,  0.0000],\n",
      "         [-0.6237, -0.3263,  0.0000]]])\n",
      "tensor(-3.4183, grad_fn=<DivBackward0>)\n",
      "tensor([[[ 0.0000,  0.0000,  0.0000],\n",
      "         [-0.5865,  0.0000,  0.0000],\n",
      "         [-0.5845, -0.5982,  0.0000]],\n",
      "\n",
      "        [[ 0.0000,  0.0000,  0.0000],\n",
      "         [-0.2313,  0.0000,  0.0000],\n",
      "         [-0.1957, -0.2746,  0.0000]]])\n",
      "iteration:  40\n",
      "runtime: 0 mins\n",
      "grad_norm estimate:  1.100299817418656\n",
      "ELBO estimate:  -340.3485795405541\n",
      "\n",
      "tensor(-2.9816, grad_fn=<DivBackward0>)\n",
      "tensor([[[ 0.0000,  0.0000,  0.0000],\n",
      "         [-0.5737,  0.0000,  0.0000],\n",
      "         [-0.7419, -0.4037,  0.0000]],\n",
      "\n",
      "        [[ 0.0000,  0.0000,  0.0000],\n",
      "         [-0.1770,  0.0000,  0.0000],\n",
      "         [-0.3459,  0.0593,  0.0000]]])\n",
      "tensor(-2.6637, grad_fn=<DivBackward0>)\n",
      "tensor([[[ 0.0000,  0.0000,  0.0000],\n",
      "         [-0.5434,  0.0000,  0.0000],\n",
      "         [-0.4911, -0.5441,  0.0000]],\n",
      "\n",
      "        [[ 0.0000,  0.0000,  0.0000],\n",
      "         [ 0.0439,  0.0000,  0.0000],\n",
      "         [-0.0417, -0.0574,  0.0000]]])\n",
      "tensor(-1.7148, grad_fn=<DivBackward0>)\n",
      "tensor([[[ 0.0000,  0.0000,  0.0000],\n",
      "         [-0.3292,  0.0000,  0.0000],\n",
      "         [-0.2674, -0.3772,  0.0000]],\n",
      "\n",
      "        [[ 0.0000,  0.0000,  0.0000],\n",
      "         [ 0.1907,  0.0000,  0.0000],\n",
      "         [ 0.2057,  0.1487,  0.0000]]])\n",
      "tensor(-3.6651, grad_fn=<DivBackward0>)\n",
      "tensor([[[ 0.0000,  0.0000,  0.0000],\n",
      "         [-0.6052,  0.0000,  0.0000],\n",
      "         [-0.6110, -0.6670,  0.0000]],\n",
      "\n",
      "        [[ 0.0000,  0.0000,  0.0000],\n",
      "         [-0.3740,  0.0000,  0.0000],\n",
      "         [-0.3580, -0.3056,  0.0000]]])\n",
      "tensor(-2.9601, grad_fn=<DivBackward0>)\n",
      "tensor([[[ 0.0000,  0.0000,  0.0000],\n",
      "         [-0.5404,  0.0000,  0.0000],\n",
      "         [-0.4791, -0.4648,  0.0000]],\n",
      "\n",
      "        [[ 0.0000,  0.0000,  0.0000],\n",
      "         [-0.2036,  0.0000,  0.0000],\n",
      "         [-0.0602, -0.1556,  0.0000]]])\n",
      "tensor(-2.6513, grad_fn=<DivBackward0>)\n",
      "tensor([[[ 0.0000,  0.0000,  0.0000],\n",
      "         [-0.4523,  0.0000,  0.0000],\n",
      "         [-0.3894, -0.5580,  0.0000]],\n",
      "\n",
      "        [[ 0.0000,  0.0000,  0.0000],\n",
      "         [-0.0262,  0.0000,  0.0000],\n",
      "         [ 0.1178, -0.0595,  0.0000]]])\n",
      "tensor(-2.2209, grad_fn=<DivBackward0>)\n",
      "tensor([[[ 0.0000,  0.0000,  0.0000],\n",
      "         [-0.4547,  0.0000,  0.0000],\n",
      "         [-0.4475, -0.3494,  0.0000]],\n",
      "\n",
      "        [[ 0.0000,  0.0000,  0.0000],\n",
      "         [ 0.1108,  0.0000,  0.0000],\n",
      "         [ 0.1034,  0.1661,  0.0000]]])\n",
      "tensor(-3.8782, grad_fn=<DivBackward0>)\n",
      "tensor([[[ 0.0000,  0.0000,  0.0000],\n",
      "         [-0.4466,  0.0000,  0.0000],\n",
      "         [-0.8114, -0.7150,  0.0000]],\n",
      "\n",
      "        [[ 0.0000,  0.0000,  0.0000],\n",
      "         [ 0.0205,  0.0000,  0.0000],\n",
      "         [-0.6755, -0.4845,  0.0000]]])\n",
      "tensor(-3.7081, grad_fn=<DivBackward0>)\n",
      "tensor([[[ 0.0000,  0.0000,  0.0000],\n",
      "         [-0.5818,  0.0000,  0.0000],\n",
      "         [-0.6076, -0.6992,  0.0000]],\n",
      "\n",
      "        [[ 0.0000,  0.0000,  0.0000],\n",
      "         [-0.2540,  0.0000,  0.0000],\n",
      "         [-0.1520, -0.3053,  0.0000]]])\n",
      "tensor(-2.3802, grad_fn=<DivBackward0>)\n",
      "tensor([[[ 0.0000,  0.0000,  0.0000],\n",
      "         [-0.4697,  0.0000,  0.0000],\n",
      "         [-0.3609, -0.4023,  0.0000]],\n",
      "\n",
      "        [[ 0.0000,  0.0000,  0.0000],\n",
      "         [-0.0431,  0.0000,  0.0000],\n",
      "         [ 0.0055,  0.1471,  0.0000]]])\n",
      "iteration:  50\n",
      "runtime: 0 mins\n",
      "grad_norm estimate:  0.732234010469401\n",
      "ELBO estimate:  -346.1267693149577\n",
      "\n",
      "tensor(-2.7464, grad_fn=<DivBackward0>)\n",
      "tensor([[[ 0.0000,  0.0000,  0.0000],\n",
      "         [-0.4316,  0.0000,  0.0000],\n",
      "         [-0.5447, -0.4073,  0.0000]],\n",
      "\n",
      "        [[ 0.0000,  0.0000,  0.0000],\n",
      "         [-0.0566,  0.0000,  0.0000],\n",
      "         [-0.1655,  0.1189,  0.0000]]])\n",
      "tensor(-2.9221, grad_fn=<DivBackward0>)\n",
      "tensor([[[ 0.0000,  0.0000,  0.0000],\n",
      "         [-0.4368,  0.0000,  0.0000],\n",
      "         [-0.5249, -0.3773,  0.0000]],\n",
      "\n",
      "        [[ 0.0000,  0.0000,  0.0000],\n",
      "         [-0.1201,  0.0000,  0.0000],\n",
      "         [-0.2726, -0.0108,  0.0000]]])\n",
      "tensor(-3.1668, grad_fn=<DivBackward0>)\n",
      "tensor([[[ 0.0000,  0.0000,  0.0000],\n",
      "         [-0.4954,  0.0000,  0.0000],\n",
      "         [-0.5313, -0.5738,  0.0000]],\n",
      "\n",
      "        [[ 0.0000,  0.0000,  0.0000],\n",
      "         [ 0.0074,  0.0000,  0.0000],\n",
      "         [-0.0722, -0.0928,  0.0000]]])\n",
      "tensor(-4.2151, grad_fn=<DivBackward0>)\n",
      "tensor([[[ 0.0000,  0.0000,  0.0000],\n",
      "         [-0.6345,  0.0000,  0.0000],\n",
      "         [-0.6811, -0.6878,  0.0000]],\n",
      "\n",
      "        [[ 0.0000,  0.0000,  0.0000],\n",
      "         [-0.4123,  0.0000,  0.0000],\n",
      "         [-0.4131, -0.3198,  0.0000]]])\n",
      "tensor(-3.9463, grad_fn=<DivBackward0>)\n",
      "tensor([[[ 0.0000,  0.0000,  0.0000],\n",
      "         [-0.6487,  0.0000,  0.0000],\n",
      "         [-0.5487, -0.6002,  0.0000]],\n",
      "\n",
      "        [[ 0.0000,  0.0000,  0.0000],\n",
      "         [-0.5727,  0.0000,  0.0000],\n",
      "         [-0.1108, -0.3777,  0.0000]]])\n",
      "tensor(-2.8559, grad_fn=<DivBackward0>)\n",
      "tensor([[[ 0.0000,  0.0000,  0.0000],\n",
      "         [-0.4019,  0.0000,  0.0000],\n",
      "         [-0.4257, -0.4737,  0.0000]],\n",
      "\n",
      "        [[ 0.0000,  0.0000,  0.0000],\n",
      "         [ 0.0172,  0.0000,  0.0000],\n",
      "         [-0.0185, -0.0925,  0.0000]]])\n",
      "tensor(-2.5282, grad_fn=<DivBackward0>)\n",
      "tensor([[[ 0.0000,  0.0000,  0.0000],\n",
      "         [-0.3995,  0.0000,  0.0000],\n",
      "         [-0.4679, -0.3742,  0.0000]],\n",
      "\n",
      "        [[ 0.0000,  0.0000,  0.0000],\n",
      "         [ 0.1815,  0.0000,  0.0000],\n",
      "         [ 0.0726,  0.0939,  0.0000]]])\n",
      "tensor(-2.0450, grad_fn=<DivBackward0>)\n",
      "tensor([[[ 0.0000,  0.0000,  0.0000],\n",
      "         [-0.3354,  0.0000,  0.0000],\n",
      "         [-0.3119, -0.3774,  0.0000]],\n",
      "\n",
      "        [[ 0.0000,  0.0000,  0.0000],\n",
      "         [ 0.1832,  0.0000,  0.0000],\n",
      "         [ 0.1967,  0.2110,  0.0000]]])\n",
      "tensor(-3.4532, grad_fn=<DivBackward0>)\n",
      "tensor([[[ 0.0000,  0.0000,  0.0000],\n",
      "         [-0.5215,  0.0000,  0.0000],\n",
      "         [-0.4358, -0.5824,  0.0000]],\n",
      "\n",
      "        [[ 0.0000,  0.0000,  0.0000],\n",
      "         [-0.2350,  0.0000,  0.0000],\n",
      "         [-0.0085, -0.3348,  0.0000]]])\n",
      "tensor(-3.7350, grad_fn=<DivBackward0>)\n",
      "tensor([[[ 0.0000,  0.0000,  0.0000],\n",
      "         [-0.4606,  0.0000,  0.0000],\n",
      "         [-0.5730, -0.6175,  0.0000]],\n",
      "\n",
      "        [[ 0.0000,  0.0000,  0.0000],\n",
      "         [-0.0658,  0.0000,  0.0000],\n",
      "         [-0.2222, -0.2784,  0.0000]]])\n"
     ]
    },
    {
     "name": "stdout",
     "output_type": "stream",
     "text": [
      "iteration:  60\n",
      "runtime: 0 mins\n",
      "grad_norm estimate:  1.0261496840430946\n",
      "ELBO estimate:  -348.8223647515172\n",
      "\n",
      "tensor(-3.2653, grad_fn=<DivBackward0>)\n",
      "tensor([[[ 0.0000,  0.0000,  0.0000],\n",
      "         [-0.5197,  0.0000,  0.0000],\n",
      "         [-0.4489, -0.4737,  0.0000]],\n",
      "\n",
      "        [[ 0.0000,  0.0000,  0.0000],\n",
      "         [-0.2352,  0.0000,  0.0000],\n",
      "         [-0.0585, -0.0837,  0.0000]]])\n",
      "tensor(-3.1598, grad_fn=<DivBackward0>)\n",
      "tensor([[[ 0.0000e+00,  0.0000e+00,  0.0000e+00],\n",
      "         [-4.9588e-01,  0.0000e+00,  0.0000e+00],\n",
      "         [-5.1327e-01, -4.8654e-01,  0.0000e+00]],\n",
      "\n",
      "        [[ 0.0000e+00,  0.0000e+00,  0.0000e+00],\n",
      "         [ 2.6777e-02,  0.0000e+00,  0.0000e+00],\n",
      "         [ 6.6018e-06,  3.9745e-02,  0.0000e+00]]])\n",
      "tensor(-3.3742, grad_fn=<DivBackward0>)\n",
      "tensor([[[ 0.0000,  0.0000,  0.0000],\n",
      "         [-0.5619,  0.0000,  0.0000],\n",
      "         [-0.4323, -0.5096,  0.0000]],\n",
      "\n",
      "        [[ 0.0000,  0.0000,  0.0000],\n",
      "         [-0.1921,  0.0000,  0.0000],\n",
      "         [-0.0327, -0.0733,  0.0000]]])\n",
      "tensor(-3.9291, grad_fn=<DivBackward0>)\n",
      "tensor([[[ 0.0000,  0.0000,  0.0000],\n",
      "         [-0.5862,  0.0000,  0.0000],\n",
      "         [-0.5707, -0.4553,  0.0000]],\n",
      "\n",
      "        [[ 0.0000,  0.0000,  0.0000],\n",
      "         [-0.1768,  0.0000,  0.0000],\n",
      "         [-0.2789, -0.2110,  0.0000]]])\n",
      "tensor(-2.8669, grad_fn=<DivBackward0>)\n",
      "tensor([[[ 0.0000,  0.0000,  0.0000],\n",
      "         [-0.4408,  0.0000,  0.0000],\n",
      "         [-0.4596, -0.4379,  0.0000]],\n",
      "\n",
      "        [[ 0.0000,  0.0000,  0.0000],\n",
      "         [ 0.1141,  0.0000,  0.0000],\n",
      "         [ 0.1081,  0.1203,  0.0000]]])\n",
      "tensor(-3.2992, grad_fn=<DivBackward0>)\n",
      "tensor([[[ 0.0000,  0.0000,  0.0000],\n",
      "         [-0.4251,  0.0000,  0.0000],\n",
      "         [-0.4444, -0.4755,  0.0000]],\n",
      "\n",
      "        [[ 0.0000,  0.0000,  0.0000],\n",
      "         [-0.1612,  0.0000,  0.0000],\n",
      "         [ 0.0599, -0.1280,  0.0000]]])\n",
      "tensor(-3.3561, grad_fn=<DivBackward0>)\n",
      "tensor([[[ 0.0000,  0.0000,  0.0000],\n",
      "         [-0.3412,  0.0000,  0.0000],\n",
      "         [-0.5434, -0.5424,  0.0000]],\n",
      "\n",
      "        [[ 0.0000,  0.0000,  0.0000],\n",
      "         [ 0.0907,  0.0000,  0.0000],\n",
      "         [-0.1246, -0.1309,  0.0000]]])\n",
      "tensor(-3.7793, grad_fn=<DivBackward0>)\n",
      "tensor([[[ 0.0000,  0.0000,  0.0000],\n",
      "         [-0.5590,  0.0000,  0.0000],\n",
      "         [-0.4603, -0.6010,  0.0000]],\n",
      "\n",
      "        [[ 0.0000,  0.0000,  0.0000],\n",
      "         [-0.3194,  0.0000,  0.0000],\n",
      "         [ 0.0825, -0.2656,  0.0000]]])\n",
      "tensor(-4.2642, grad_fn=<DivBackward0>)\n",
      "tensor([[[ 0.0000,  0.0000,  0.0000],\n",
      "         [-0.3786,  0.0000,  0.0000],\n",
      "         [-0.7318, -0.6808,  0.0000]],\n",
      "\n",
      "        [[ 0.0000,  0.0000,  0.0000],\n",
      "         [ 0.0782,  0.0000,  0.0000],\n",
      "         [-0.5334, -0.4252,  0.0000]]])\n",
      "tensor(-3.7541, grad_fn=<DivBackward0>)\n",
      "tensor([[[ 0.0000,  0.0000,  0.0000],\n",
      "         [-0.4965,  0.0000,  0.0000],\n",
      "         [-0.4566, -0.4602,  0.0000]],\n",
      "\n",
      "        [[ 0.0000,  0.0000,  0.0000],\n",
      "         [-0.2638,  0.0000,  0.0000],\n",
      "         [ 0.0193, -0.2422,  0.0000]]])\n",
      "iteration:  70\n",
      "runtime: 0 mins\n",
      "grad_norm estimate:  0.8918816180069252\n",
      "ELBO estimate:  -352.7804403535352\n",
      "\n",
      "tensor(-4.6518, grad_fn=<DivBackward0>)\n",
      "tensor([[[ 0.0000,  0.0000,  0.0000],\n",
      "         [-0.5832,  0.0000,  0.0000],\n",
      "         [-0.5738, -0.5601,  0.0000]],\n",
      "\n",
      "        [[ 0.0000,  0.0000,  0.0000],\n",
      "         [-0.6531,  0.0000,  0.0000],\n",
      "         [-0.5503, -0.1832,  0.0000]]])\n",
      "tensor(-2.4313, grad_fn=<DivBackward0>)\n",
      "tensor([[[ 0.0000,  0.0000,  0.0000],\n",
      "         [-0.3204,  0.0000,  0.0000],\n",
      "         [-0.3569, -0.2399,  0.0000]],\n",
      "\n",
      "        [[ 0.0000,  0.0000,  0.0000],\n",
      "         [ 0.0953,  0.0000,  0.0000],\n",
      "         [ 0.1099,  0.2197,  0.0000]]])\n",
      "tensor(-4.3825, grad_fn=<DivBackward0>)\n",
      "tensor([[[ 0.0000,  0.0000,  0.0000],\n",
      "         [-0.5023,  0.0000,  0.0000],\n",
      "         [-0.6157, -0.5953,  0.0000]],\n",
      "\n",
      "        [[ 0.0000,  0.0000,  0.0000],\n",
      "         [ 0.0246,  0.0000,  0.0000],\n",
      "         [-0.5302, -0.5140,  0.0000]]])\n",
      "tensor(-3.2329, grad_fn=<DivBackward0>)\n",
      "tensor([[[ 0.0000,  0.0000,  0.0000],\n",
      "         [-0.4533,  0.0000,  0.0000],\n",
      "         [-0.4470, -0.3556,  0.0000]],\n",
      "\n",
      "        [[ 0.0000,  0.0000,  0.0000],\n",
      "         [-0.0682,  0.0000,  0.0000],\n",
      "         [-0.0263,  0.0507,  0.0000]]])\n",
      "tensor(-3.4796, grad_fn=<DivBackward0>)\n",
      "tensor([[[ 0.0000,  0.0000,  0.0000],\n",
      "         [-0.5294,  0.0000,  0.0000],\n",
      "         [-0.4647, -0.3876,  0.0000]],\n",
      "\n",
      "        [[ 0.0000,  0.0000,  0.0000],\n",
      "         [-0.1105,  0.0000,  0.0000],\n",
      "         [-0.0913,  0.0892,  0.0000]]])\n",
      "tensor(-4.3340, grad_fn=<DivBackward0>)\n",
      "tensor([[[ 0.0000,  0.0000,  0.0000],\n",
      "         [-0.5506,  0.0000,  0.0000],\n",
      "         [-0.5763, -0.5919,  0.0000]],\n",
      "\n",
      "        [[ 0.0000,  0.0000,  0.0000],\n",
      "         [-0.1001,  0.0000,  0.0000],\n",
      "         [-0.1980, -0.1917,  0.0000]]])\n",
      "tensor(-2.8436, grad_fn=<DivBackward0>)\n",
      "tensor([[[ 0.0000,  0.0000,  0.0000],\n",
      "         [-0.4027,  0.0000,  0.0000],\n",
      "         [-0.3724, -0.3811,  0.0000]],\n",
      "\n",
      "        [[ 0.0000,  0.0000,  0.0000],\n",
      "         [ 0.0874,  0.0000,  0.0000],\n",
      "         [ 0.0961,  0.1581,  0.0000]]])\n",
      "tensor(-3.4178, grad_fn=<DivBackward0>)\n",
      "tensor([[[ 0.0000,  0.0000,  0.0000],\n",
      "         [-0.4917,  0.0000,  0.0000],\n",
      "         [-0.4165, -0.4130,  0.0000]],\n",
      "\n",
      "        [[ 0.0000,  0.0000,  0.0000],\n",
      "         [-0.0679,  0.0000,  0.0000],\n",
      "         [ 0.0008,  0.0332,  0.0000]]])\n",
      "tensor(-2.5798, grad_fn=<DivBackward0>)\n",
      "tensor([[[ 0.0000,  0.0000,  0.0000],\n",
      "         [-0.3426,  0.0000,  0.0000],\n",
      "         [-0.3153, -0.3315,  0.0000]],\n",
      "\n",
      "        [[ 0.0000,  0.0000,  0.0000],\n",
      "         [ 0.1167,  0.0000,  0.0000],\n",
      "         [ 0.2052,  0.1487,  0.0000]]])\n",
      "tensor(-3.4522, grad_fn=<DivBackward0>)\n",
      "tensor([[[ 0.0000,  0.0000,  0.0000],\n",
      "         [-0.4614,  0.0000,  0.0000],\n",
      "         [-0.4994, -0.3558,  0.0000]],\n",
      "\n",
      "        [[ 0.0000,  0.0000,  0.0000],\n",
      "         [ 0.0061,  0.0000,  0.0000],\n",
      "         [-0.0794,  0.1002,  0.0000]]])\n",
      "iteration:  80\n",
      "runtime: 0 mins\n",
      "grad_norm estimate:  0.7779858528545693\n",
      "ELBO estimate:  -349.74556137410707\n",
      "\n",
      "tensor(-4.6409, grad_fn=<DivBackward0>)\n",
      "tensor([[[ 0.0000,  0.0000,  0.0000],\n",
      "         [-0.5766,  0.0000,  0.0000],\n",
      "         [-0.6617, -0.4401,  0.0000]],\n",
      "\n",
      "        [[ 0.0000,  0.0000,  0.0000],\n",
      "         [-0.3799,  0.0000,  0.0000],\n",
      "         [-0.4885, -0.1113,  0.0000]]])\n",
      "tensor(-3.7647, grad_fn=<DivBackward0>)\n",
      "tensor([[[ 0.0000,  0.0000,  0.0000],\n",
      "         [-0.4047,  0.0000,  0.0000],\n",
      "         [-0.4691, -0.4183,  0.0000]],\n",
      "\n",
      "        [[ 0.0000,  0.0000,  0.0000],\n",
      "         [-0.0989,  0.0000,  0.0000],\n",
      "         [-0.1985, -0.0349,  0.0000]]])\n",
      "tensor(-4.0956, grad_fn=<DivBackward0>)\n",
      "tensor([[[ 0.0000,  0.0000,  0.0000],\n",
      "         [-0.3867,  0.0000,  0.0000],\n",
      "         [-0.5118, -0.5246,  0.0000]],\n",
      "\n",
      "        [[ 0.0000,  0.0000,  0.0000],\n",
      "         [ 0.0540,  0.0000,  0.0000],\n",
      "         [-0.4480, -0.5060,  0.0000]]])\n",
      "tensor(-3.3571, grad_fn=<DivBackward0>)\n",
      "tensor([[[ 0.0000,  0.0000,  0.0000],\n",
      "         [-0.3405,  0.0000,  0.0000],\n",
      "         [-0.3861, -0.4113,  0.0000]],\n",
      "\n",
      "        [[ 0.0000,  0.0000,  0.0000],\n",
      "         [ 0.0744,  0.0000,  0.0000],\n",
      "         [-0.2039, -0.1573,  0.0000]]])\n",
      "tensor(-4.9915, grad_fn=<DivBackward0>)\n",
      "tensor([[[ 0.0000,  0.0000,  0.0000],\n",
      "         [-0.5019,  0.0000,  0.0000],\n",
      "         [-0.6082, -0.6738,  0.0000]],\n",
      "\n",
      "        [[ 0.0000,  0.0000,  0.0000],\n",
      "         [-0.1054,  0.0000,  0.0000],\n",
      "         [-0.3238, -0.4611,  0.0000]]])\n",
      "tensor(-4.0740, grad_fn=<DivBackward0>)\n",
      "tensor([[[ 0.0000,  0.0000,  0.0000],\n",
      "         [-0.4666,  0.0000,  0.0000],\n",
      "         [-0.4437, -0.5290,  0.0000]],\n",
      "\n",
      "        [[ 0.0000,  0.0000,  0.0000],\n",
      "         [-0.0889,  0.0000,  0.0000],\n",
      "         [-0.0751, -0.1638,  0.0000]]])\n",
      "tensor(-3.5477, grad_fn=<DivBackward0>)\n",
      "tensor([[[ 0.0000,  0.0000,  0.0000],\n",
      "         [-0.3780,  0.0000,  0.0000],\n",
      "         [-0.4011, -0.4202,  0.0000]],\n",
      "\n",
      "        [[ 0.0000,  0.0000,  0.0000],\n",
      "         [ 0.0666,  0.0000,  0.0000],\n",
      "         [-0.1680, -0.0936,  0.0000]]])\n",
      "tensor(-2.5849, grad_fn=<DivBackward0>)\n",
      "tensor([[[ 0.0000,  0.0000,  0.0000],\n",
      "         [-0.2621,  0.0000,  0.0000],\n",
      "         [-0.2950, -0.2985,  0.0000]],\n",
      "\n",
      "        [[ 0.0000,  0.0000,  0.0000],\n",
      "         [ 0.1493,  0.0000,  0.0000],\n",
      "         [ 0.1651,  0.1483,  0.0000]]])\n",
      "tensor(-3.0911, grad_fn=<DivBackward0>)\n",
      "tensor([[[ 0.0000,  0.0000,  0.0000],\n",
      "         [-0.3493,  0.0000,  0.0000],\n",
      "         [-0.3587, -0.3734,  0.0000]],\n",
      "\n",
      "        [[ 0.0000,  0.0000,  0.0000],\n",
      "         [ 0.1220,  0.0000,  0.0000],\n",
      "         [ 0.0940,  0.0660,  0.0000]]])\n"
     ]
    },
    {
     "name": "stdout",
     "output_type": "stream",
     "text": [
      "tensor(-3.2378, grad_fn=<DivBackward0>)\n",
      "tensor([[[ 0.0000,  0.0000,  0.0000],\n",
      "         [-0.3787,  0.0000,  0.0000],\n",
      "         [-0.3773, -0.3616,  0.0000]],\n",
      "\n",
      "        [[ 0.0000,  0.0000,  0.0000],\n",
      "         [ 0.0804,  0.0000,  0.0000],\n",
      "         [ 0.0650,  0.0963,  0.0000]]])\n",
      "iteration:  90\n",
      "runtime: 0 mins\n",
      "grad_norm estimate:  0.6606664389424605\n",
      "ELBO estimate:  -348.0567813894449\n",
      "\n",
      "tensor(-4.4709, grad_fn=<DivBackward0>)\n",
      "tensor([[[ 0.0000,  0.0000,  0.0000],\n",
      "         [-0.5582,  0.0000,  0.0000],\n",
      "         [-0.5609, -0.3976,  0.0000]],\n",
      "\n",
      "        [[ 0.0000,  0.0000,  0.0000],\n",
      "         [-0.3737,  0.0000,  0.0000],\n",
      "         [-0.2738,  0.0166,  0.0000]]])\n",
      "tensor(-4.1309, grad_fn=<DivBackward0>)\n",
      "tensor([[[ 0.0000,  0.0000,  0.0000],\n",
      "         [-0.4929,  0.0000,  0.0000],\n",
      "         [-0.4634, -0.4357,  0.0000]],\n",
      "\n",
      "        [[ 0.0000,  0.0000,  0.0000],\n",
      "         [-0.1302,  0.0000,  0.0000],\n",
      "         [-0.1144, -0.0705,  0.0000]]])\n",
      "tensor(-3.2126, grad_fn=<DivBackward0>)\n",
      "tensor([[[ 0.0000,  0.0000,  0.0000],\n",
      "         [-0.2873,  0.0000,  0.0000],\n",
      "         [-0.3001, -0.4065,  0.0000]],\n",
      "\n",
      "        [[ 0.0000,  0.0000,  0.0000],\n",
      "         [ 0.2121,  0.0000,  0.0000],\n",
      "         [-0.0640, -0.0366,  0.0000]]])\n",
      "tensor(-3.7283, grad_fn=<DivBackward0>)\n",
      "tensor([[[ 0.0000,  0.0000,  0.0000],\n",
      "         [-0.3814,  0.0000,  0.0000],\n",
      "         [-0.4233, -0.4256,  0.0000]],\n",
      "\n",
      "        [[ 0.0000,  0.0000,  0.0000],\n",
      "         [-0.0344,  0.0000,  0.0000],\n",
      "         [-0.0401,  0.0657,  0.0000]]])\n",
      "tensor(-3.6094, grad_fn=<DivBackward0>)\n",
      "tensor([[[ 0.0000,  0.0000,  0.0000],\n",
      "         [-0.4296,  0.0000,  0.0000],\n",
      "         [-0.3434, -0.4020,  0.0000]],\n",
      "\n",
      "        [[ 0.0000,  0.0000,  0.0000],\n",
      "         [-0.1457,  0.0000,  0.0000],\n",
      "         [ 0.0122,  0.0608,  0.0000]]])\n",
      "tensor(-3.9762, grad_fn=<DivBackward0>)\n",
      "tensor([[[ 0.0000,  0.0000,  0.0000],\n",
      "         [-0.3694,  0.0000,  0.0000],\n",
      "         [-0.4142, -0.4985,  0.0000]],\n",
      "\n",
      "        [[ 0.0000,  0.0000,  0.0000],\n",
      "         [ 0.0795,  0.0000,  0.0000],\n",
      "         [-0.2179, -0.2608,  0.0000]]])\n",
      "tensor(-4.8537, grad_fn=<DivBackward0>)\n",
      "tensor([[[ 0.0000,  0.0000,  0.0000],\n",
      "         [-0.4215,  0.0000,  0.0000],\n",
      "         [-0.5308, -0.5499,  0.0000]],\n",
      "\n",
      "        [[ 0.0000,  0.0000,  0.0000],\n",
      "         [-0.0609,  0.0000,  0.0000],\n",
      "         [-0.4020, -0.3212,  0.0000]]])\n",
      "tensor(-4.0015, grad_fn=<DivBackward0>)\n",
      "tensor([[[ 0.0000,  0.0000,  0.0000],\n",
      "         [-0.5315,  0.0000,  0.0000],\n",
      "         [-0.3958, -0.3041,  0.0000]],\n",
      "\n",
      "        [[ 0.0000,  0.0000,  0.0000],\n",
      "         [-0.5087,  0.0000,  0.0000],\n",
      "         [-0.3846,  0.1778,  0.0000]]])\n",
      "tensor(-4.6880, grad_fn=<DivBackward0>)\n",
      "tensor([[[ 0.0000,  0.0000,  0.0000],\n",
      "         [-0.5384,  0.0000,  0.0000],\n",
      "         [-0.4695, -0.4630,  0.0000]],\n",
      "\n",
      "        [[ 0.0000,  0.0000,  0.0000],\n",
      "         [-0.3873,  0.0000,  0.0000],\n",
      "         [-0.1776, -0.2212,  0.0000]]])\n",
      "final theta: Parameter containing:\n",
      "tensor([[[0.0000, 0.0000, 0.0000],\n",
      "         [0.8662, 0.0000, 0.0000],\n",
      "         [0.8938, 0.8831, 0.0000]],\n",
      "\n",
      "        [[0.0000, 0.0000, 0.0000],\n",
      "         [0.4500, 0.0000, 0.0000],\n",
      "         [0.5240, 0.4796, 0.0000]]], requires_grad=True)\n"
     ]
    },
    {
     "data": {
      "text/plain": [
       "[<matplotlib.lines.Line2D at 0x7f98f09781c0>]"
      ]
     },
     "execution_count": 155,
     "metadata": {},
     "output_type": "execute_result"
    },
    {
     "data": {
      "image/png": "[encoded data removed]",
      "text/plain": [
       "<Figure size 432x288 with 1 Axes>"
      ]
     },
     "metadata": {
      "needs_background": "light"
     },
     "output_type": "display_data"
    }
   ],
   "source": [
    "np.random.seed(0)\n",
    "optim_VIMCO = SLCVI(tree_log_probs,deepcopy(theta),pop_size)\n",
    "\n",
    "optim_VIMCO.learn(batch_size=10,\n",
    "                  iters=100,\n",
    "                  alpha=0.01,\n",
    "                  method=\"VIMCO\",\n",
    "                  record_every=10,\n",
    "                  pop_size=pop_size)\n",
    "print(\"final theta:\",optim_VIMCO.theta)\n",
    "plt.plot(optim_VIMCO.ELBO_ests)"
   ]
  },
  {
   "cell_type": "markdown",
   "metadata": {},
   "source": [
    "# test gradient of tree.logq"
   ]
  },
  {
   "cell_type": "code",
   "execution_count": 156,
   "metadata": {},
   "outputs": [
    {
     "data": {
      "text/plain": [
       "tensor([[[0., 0., 0.],\n",
       "         [0., 0., 0.],\n",
       "         [0., 0., 0.]],\n",
       "\n",
       "        [[0., 0., 0.],\n",
       "         [0., 0., 0.],\n",
       "         [0., 0., 0.]]])"
      ]
     },
     "execution_count": 156,
     "metadata": {},
     "output_type": "execute_result"
    }
   ],
   "source": [
    "theta"
   ]
  },
  {
   "cell_type": "code",
   "execution_count": 209,
   "metadata": {},
   "outputs": [
    {
     "name": "stdout",
     "output_type": "stream",
     "text": [
      "tensor([[   inf,    inf,    inf],\n",
      "        [3.2409,    inf,    inf],\n",
      "        [1.9501, 0.8486,    inf]])\n"
     ]
    }
   ],
   "source": [
    "print(log_times)"
   ]
  },
  {
   "cell_type": "code",
   "execution_count": 192,
   "metadata": {},
   "outputs": [
    {
     "name": "stdout",
     "output_type": "stream",
     "text": [
      "tensor(-9.8708)\n",
      "tensor(-9.8708)\n",
      "tensor([[[0.0000, 0.0000, 0.0000],\n",
      "         [2.3291, 0.0000, 0.0000],\n",
      "         [2.3291, 1.4053, 0.0000]],\n",
      "\n",
      "        [[0.0000, 0.0000, 0.0000],\n",
      "         [4.5419, 0.0000, 0.0000],\n",
      "         [4.5419, 1.1926, 0.0000]]])\n",
      "tensor(2.1396)\n"
     ]
    }
   ],
   "source": [
    "# initialize theta\n",
    "theta0 = torch.nn.Parameter(torch.tensor(theta, requires_grad=True))\n",
    "\n",
    "np.random.seed(0)\n",
    "Z = np.random.normal(np.ones_like(theta[0]))\n",
    "Z = torch.from_numpy(Z).detach()\n",
    "log_times = torch.exp(theta0[1])*Z+theta0[0]\n",
    "log_times = log_times + torch.triu(torch.full((n_species,n_species), float(\"Inf\")))\n",
    "log_times = log_times.detach()\n",
    "\n",
    "tree = Tree(theta0,\n",
    "            log_times,\n",
    "            deepcopy(tree_log_probs),\n",
    "            pop_size=pop_size)\n",
    "\n",
    "loss = tree.log_q\n",
    "loss.backward()\n",
    "\n",
    "analytic_gradient = theta0.grad\n",
    "\n",
    "# get numerical gradient\n",
    "h = 0.000000001\n",
    "theta1 = deepcopy(theta)\n",
    "tree1 = Tree(theta1,\n",
    "             log_times,\n",
    "             deepcopy(tree_log_probs),\n",
    "             pop_size=pop_size)\n",
    "f1 = tree1.log_q\n",
    "\n",
    "theta2 = deepcopy(theta)\n",
    "theta2[0,2,0] += h\n",
    "\n",
    "tree2 = Tree(theta2,\n",
    "             log_times,\n",
    "             deepcopy(tree_log_probs),\n",
    "             pop_size=pop_size)\n",
    "\n",
    "f2 = tree2.log_q\n",
    "\n",
    "print(f2)\n",
    "print(f1)\n",
    "print(analytic_gradient)\n",
    "print((f2-f1)/h)"
   ]
  },
  {
   "cell_type": "code",
   "execution_count": 207,
   "metadata": {},
   "outputs": [],
   "source": [
    "def update_q(theta,ancestors):\n",
    "\n",
    "    t = ancestors[0].parent.coal_time\n",
    "    log_t = np.log(t)\n",
    "\n",
    "    print(log_t)\n",
    "    \n",
    "    log_cum_sfs = 0\n",
    "    log_pdfs_over_sfs = torch.zeros(len(ancestors[0].leaves),\n",
    "                                    len(ancestors[1].leaves))\n",
    "\n",
    "    for a,leaf_a in enumerate(ancestors[0].leaves):\n",
    "        for b,leaf_b in enumerate(ancestors[1].leaves):\n",
    "\n",
    "            leaf_i = max(leaf_a,leaf_b)\n",
    "            leaf_j = min(leaf_a,leaf_b)\n",
    "            \n",
    "            print(leaf_i)\n",
    "            print(leaf_j)\n",
    "\n",
    "            # update q\n",
    "            mu = theta[0,leaf_i,leaf_j]\n",
    "            log_sig = theta[1,leaf_i,leaf_j]\n",
    "            sig = torch.exp(log_sig)\n",
    "\n",
    "            log_sf = torch.log(0.5 - 0.5*torch.erf((log_t-mu)/(np.sqrt(2)*sig)))\n",
    "            log_pdf = -log_sig-0.5*np.log(2*np.pi)-log_t\n",
    "            log_pdf = log_pdf - (((log_t-mu)/sig)**2)/2\n",
    "\n",
    "            log_cum_sfs = log_cum_sfs + log_sf\n",
    "            log_pdfs_over_sfs[a,b] = log_pdf - log_sf\n",
    "\n",
    "    return log_cum_sfs + torch.logsumexp(torch.flatten(log_pdfs_over_sfs),0)"
   ]
  },
  {
   "cell_type": "code",
   "execution_count": 208,
   "metadata": {},
   "outputs": [
    {
     "name": "stdout",
     "output_type": "stream",
     "text": [
      "2\n",
      "1\n",
      "2\n",
      "1\n",
      "2\n",
      "1\n",
      "tensor(-2.1277)\n",
      "tensor(-2.1277)\n",
      "tensor([[[0.0000, 0.0000, 0.0000],\n",
      "         [0.0000, 0.0000, 0.0000],\n",
      "         [0.0000, 1.4053, 0.0000]],\n",
      "\n",
      "        [[0.0000, 0.0000, 0.0000],\n",
      "         [0.0000, 0.0000, 0.0000],\n",
      "         [0.0000, 1.1926, 0.0000]]])\n",
      "tensor(0.8486)\n"
     ]
    }
   ],
   "source": [
    "# initialize theta\n",
    "theta0 = torch.nn.Parameter(torch.tensor(theta, requires_grad=True))\n",
    "\n",
    "np.random.seed(0)\n",
    "Z = np.random.normal(np.ones_like(theta[0]))\n",
    "Z = torch.from_numpy(Z).detach()\n",
    "log_times = torch.exp(theta0[1])*Z+theta0[0]\n",
    "log_times = log_times + torch.triu(torch.full((n_species,n_species), float(\"Inf\")))\n",
    "log_times = log_times.detach()\n",
    "\n",
    "tree = Tree(theta0,\n",
    "            log_times,\n",
    "            deepcopy(tree_log_probs),\n",
    "            pop_size=pop_size)\n",
    "\n",
    "loss = update_q(theta0,tree.leaves[1:])\n",
    "loss.backward()\n",
    "\n",
    "analytic_gradient = theta0.grad\n",
    "\n",
    "# get numerical gradient\n",
    "h = 0.000000001\n",
    "theta1 = deepcopy(theta)\n",
    "tree1 = Tree(theta1,\n",
    "             log_times,\n",
    "             deepcopy(tree_log_probs),\n",
    "             pop_size=pop_size)\n",
    "\n",
    "f1 = update_q(theta1,tree1.leaves[1:])\n",
    "\n",
    "theta2 = deepcopy(theta)\n",
    "theta2[0,2,1] += h\n",
    "\n",
    "tree2 = Tree(theta2,\n",
    "             log_times,\n",
    "             deepcopy(tree_log_probs),\n",
    "             pop_size=pop_size)\n",
    "\n",
    "f2 = update_q(theta2,tree2.leaves[1:])\n",
    "\n",
    "print(f2)\n",
    "print(f1)\n",
    "print(analytic_gradient)\n",
    "print((f2-f1)/h)"
   ]
  },
  {
   "cell_type": "code",
   "execution_count": 202,
   "metadata": {},
   "outputs": [
    {
     "data": {
      "text/plain": [
       "[<tree_torch.Node at 0x7f98f0cd0550>, <tree_torch.Node at 0x7f98f0cd0df0>]"
      ]
     },
     "execution_count": 202,
     "metadata": {},
     "output_type": "execute_result"
    }
   ],
   "source": [
    "tree.leaves[1:]"
   ]
  },
  {
   "cell_type": "code",
   "execution_count": 53,
   "metadata": {},
   "outputs": [
    {
     "name": "stdout",
     "output_type": "stream",
     "text": [
      "tensor(-243.5425, dtype=torch.float64)\n",
      "tensor(-240.6021, dtype=torch.float64)\n",
      "tensor(-2.5745e+09, dtype=torch.float64)\n"
     ]
    }
   ],
   "source": [
    "print(optim_reparam.ELBO_ests[-1])\n",
    "print(optim_reinforce.ELBO_ests[-1])\n",
    "print(optim_VIMCO.ELBO_ests[-1])"
   ]
  },
  {
   "cell_type": "markdown",
   "metadata": {},
   "source": [
    "# Print out a random tree"
   ]
  },
  {
   "cell_type": "code",
   "execution_count": 54,
   "metadata": {
    "scrolled": true
   },
   "outputs": [
    {
     "data": {
      "image/png": "[encoded data removed]",
      "text/plain": [
       "<Figure size 864x720 with 1 Axes>"
      ]
     },
     "metadata": {
      "needs_background": "light"
     },
     "output_type": "display_data"
    },
    {
     "data": {
      "image/png": "[encoded data removed]",
      "text/plain": [
       "<Figure size 864x720 with 1 Axes>"
      ]
     },
     "metadata": {
      "needs_background": "light"
     },
     "output_type": "display_data"
    },
    {
     "data": {
      "image/png": "[encoded data removed]",
      "text/plain": [
       "<Figure size 864x720 with 1 Axes>"
      ]
     },
     "metadata": {
      "needs_background": "light"
     },
     "output_type": "display_data"
    },
    {
     "data": {
      "image/png": "[encoded data removed]",
      "text/plain": [
       "<Figure size 864x720 with 1 Axes>"
      ]
     },
     "metadata": {
      "needs_background": "light"
     },
     "output_type": "display_data"
    },
    {
     "data": {
      "image/png": "[encoded data removed]",
      "text/plain": [
       "<Figure size 864x720 with 1 Axes>"
      ]
     },
     "metadata": {
      "needs_background": "light"
     },
     "output_type": "display_data"
    },
    {
     "data": {
      "image/png": "[encoded data removed]",
      "text/plain": [
       "<Figure size 864x720 with 1 Axes>"
      ]
     },
     "metadata": {
      "needs_background": "light"
     },
     "output_type": "display_data"
    },
    {
     "data": {
      "image/png": "[encoded data removed]",
      "text/plain": [
       "<Figure size 864x720 with 1 Axes>"
      ]
     },
     "metadata": {
      "needs_background": "light"
     },
     "output_type": "display_data"
    },
    {
     "data": {
      "image/png": "[encoded data removed]",
      "text/plain": [
       "<Figure size 864x720 with 1 Axes>"
      ]
     },
     "metadata": {
      "needs_background": "light"
     },
     "output_type": "display_data"
    },
    {
     "data": {
      "image/png": "[encoded data removed]",
      "text/plain": [
       "<Figure size 864x720 with 1 Axes>"
      ]
     },
     "metadata": {
      "needs_background": "light"
     },
     "output_type": "display_data"
    },
    {
     "data": {
      "image/png": "[encoded data removed]",
      "text/plain": [
       "<Figure size 864x720 with 1 Axes>"
      ]
     },
     "metadata": {
      "needs_background": "light"
     },
     "output_type": "display_data"
    }
   ],
   "source": [
    "def write_newick(node):\n",
    "    \n",
    "    if node.children == []:\n",
    "        return species[next(iter(node.leaves))] + \":\" + str(node.parent.coal_time.item())\n",
    "    elif node.parent is None:\n",
    "        return \"(\" + write_newick(node.children[0]) + \",\" + write_newick(node.children[1]) + \")\"\n",
    "    else:\n",
    "        bl = node.parent.coal_time.item() - node.coal_time.item()\n",
    "        return \"(\" + write_newick(node.children[0]) + \",\" + write_newick(node.children[1]) + \"):\" + str(bl)\n",
    "\n",
    "    \n",
    "for _ in range(10):\n",
    "    Z = np.random.normal(np.ones_like(theta[0]))\n",
    "    log_times = np.exp(theta[1])*Z+theta[0]\n",
    "    log_times = log_times + np.triu(np.ones_like(theta[0])*np.inf)\n",
    "\n",
    "    tree = Tree(theta,log_times,tree_log_probs,\n",
    "                pop_size=pop_size)\n",
    "\n",
    "\n",
    "    treedata = write_newick(tree.nodes[-1])\n",
    "    handle = StringIO(treedata)\n",
    "    tree_to_draw = Phylo.read(handle, \"newick\")\n",
    "\n",
    "    # Set up the plot\n",
    "    fig = plt.figure(figsize=(12, 10))\n",
    "    ax = fig.add_subplot(1, 1, 1)\n",
    "\n",
    "    # Draw the phylogenetic tree\n",
    "    Phylo.draw(tree_to_draw, axes=ax)\n",
    "    fig.show()"
   ]
  },
  {
   "cell_type": "markdown",
   "metadata": {},
   "source": [
    "# Estimate the marginal likelihood"
   ]
  },
  {
   "cell_type": "code",
   "execution_count": 55,
   "metadata": {},
   "outputs": [],
   "source": [
    "optim = optim_reinforce\n",
    "theta = optim.theta"
   ]
  },
  {
   "cell_type": "code",
   "execution_count": 56,
   "metadata": {},
   "outputs": [],
   "source": [
    "tree = Tree(optim.theta,log_times,\n",
    "            deepcopy(tree_log_probs),\n",
    "            pop_size=pop_size)"
   ]
  },
  {
   "cell_type": "code",
   "execution_count": 57,
   "metadata": {},
   "outputs": [
    {
     "data": {
      "text/plain": [
       "Parameter containing:\n",
       "tensor([[[ 0.0000,  0.0000,  0.0000],\n",
       "         [ 0.9795,  0.0000,  0.0000],\n",
       "         [-2.6479, -2.3824,  0.0000]],\n",
       "\n",
       "        [[-0.0000,  0.0000,  0.0000],\n",
       "         [ 0.8322,  0.0000, -0.0000],\n",
       "         [-1.8893, -1.9914, -0.0000]]], requires_grad=True)"
      ]
     },
     "execution_count": 57,
     "metadata": {},
     "output_type": "execute_result"
    }
   ],
   "source": [
    "theta"
   ]
  },
  {
   "cell_type": "code",
   "execution_count": 58,
   "metadata": {
    "scrolled": true
   },
   "outputs": [
    {
     "name": "stdout",
     "output_type": "stream",
     "text": [
      "0\n",
      "10\n",
      "20\n",
      "30\n",
      "40\n",
      "50\n",
      "60\n",
      "70\n",
      "80\n",
      "90\n"
     ]
    }
   ],
   "source": [
    "n_exp = 100\n",
    "n_samples = 100\n",
    "\n",
    "priors = np.zeros(n_exp)\n",
    "LL = np.zeros(n_exp)\n",
    "MLL_all = np.zeros(n_exp)\n",
    "ELBO_all = np.zeros(n_exp) \n",
    "\n",
    "for i in range(n_exp):\n",
    "\n",
    "    if i % 10 == 0:\n",
    "        print(i)\n",
    "    \n",
    "    MLL = np.zeros(n_samples)\n",
    "    ELBO = np.zeros(n_samples)\n",
    "    \n",
    "    Zs = torch.normal(mean=0.0,std=1.0,size=(n_samples,n_species,n_species))\n",
    "\n",
    "    for j,Z in enumerate(Zs):\n",
    "        log_times = torch.exp(theta[1])*Z+theta[0]\n",
    "        log_times = log_times + torch.triu(torch.full((n_species,n_species), float(\"Inf\")))\n",
    "        tree = Tree(optim.theta,log_times,\n",
    "                    deepcopy(tree_log_probs),\n",
    "                    pop_size=pop_size)\n",
    "        \n",
    "        MLL[j] = tree.log_p - tree.log_q\n",
    "        ELBO[j] = tree.log_p - tree.log_q\n",
    "    \n",
    "    priors[i] = tree.log_prior\n",
    "    LL[i] = tree.log_like\n",
    "    MLL_all[i] = logsumexp(MLL) - np.log(n_samples)\n",
    "    ELBO_all[i] = np.mean(ELBO)"
   ]
  },
  {
   "cell_type": "code",
   "execution_count": 59,
   "metadata": {},
   "outputs": [
    {
     "data": {
      "image/png": "[encoded data removed]",
      "text/plain": [
       "<Figure size 432x288 with 1 Axes>"
      ]
     },
     "metadata": {
      "needs_background": "light"
     },
     "output_type": "display_data"
    }
   ],
   "source": [
    "plt.hist(priors,bins = 100)\n",
    "plt.show()"
   ]
  },
  {
   "cell_type": "code",
   "execution_count": 60,
   "metadata": {},
   "outputs": [
    {
     "data": {
      "image/png": "[encoded data removed]",
      "text/plain": [
       "<Figure size 432x288 with 1 Axes>"
      ]
     },
     "metadata": {
      "needs_background": "light"
     },
     "output_type": "display_data"
    }
   ],
   "source": [
    "plt.hist(ELBO_all,bins = 100)\n",
    "plt.show()"
   ]
  },
  {
   "cell_type": "code",
   "execution_count": 61,
   "metadata": {},
   "outputs": [
    {
     "data": {
      "image/png": "[encoded data removed]",
      "text/plain": [
       "<Figure size 432x288 with 1 Axes>"
      ]
     },
     "metadata": {
      "needs_background": "light"
     },
     "output_type": "display_data"
    }
   ],
   "source": [
    "plt.hist(MLL_all,bins = 100)\n",
    "plt.show()"
   ]
  },
  {
   "cell_type": "code",
   "execution_count": 62,
   "metadata": {},
   "outputs": [
    {
     "data": {
      "image/png": "[encoded data removed]",
      "text/plain": [
       "<Figure size 432x288 with 1 Axes>"
      ]
     },
     "metadata": {
      "needs_background": "light"
     },
     "output_type": "display_data"
    }
   ],
   "source": [
    "plt.hist(LL,bins = 100)\n",
    "plt.show()"
   ]
  },
  {
   "cell_type": "code",
   "execution_count": 63,
   "metadata": {},
   "outputs": [
    {
     "data": {
      "text/plain": [
       "<matplotlib.colorbar.Colorbar at 0x7f98ebcaeca0>"
      ]
     },
     "execution_count": 63,
     "metadata": {},
     "output_type": "execute_result"
    },
    {
     "data": {
      "image/png": "[encoded data removed]",
      "text/plain": [
       "<Figure size 432x288 with 2 Axes>"
      ]
     },
     "metadata": {
      "needs_background": "light"
     },
     "output_type": "display_data"
    }
   ],
   "source": [
    "m = deepcopy(theta[0].detach())\n",
    "m[np.triu_indices(m.shape[0])] = np.nan\n",
    "plt.imshow(m)\n",
    "plt.title(\"means of log-coalscent times\")\n",
    "plt.colorbar()"
   ]
  },
  {
   "cell_type": "code",
   "execution_count": 64,
   "metadata": {},
   "outputs": [
    {
     "data": {
      "text/plain": [
       "<matplotlib.colorbar.Colorbar at 0x7f98ebdfb7c0>"
      ]
     },
     "execution_count": 64,
     "metadata": {},
     "output_type": "execute_result"
    },
    {
     "data": {
      "image/png": "[encoded data removed]",
      "text/plain": [
       "<Figure size 432x288 with 2 Axes>"
      ]
     },
     "metadata": {
      "needs_background": "light"
     },
     "output_type": "display_data"
    }
   ],
   "source": [
    "log_sig = deepcopy(theta[1].detach())\n",
    "log_sig[np.triu_indices(log_sig.shape[0])] = np.nan\n",
    "plt.imshow(log_sig)\n",
    "plt.title(\"log-std of log-coalscent times\")\n",
    "plt.colorbar()"
   ]
  },
  {
   "cell_type": "markdown",
   "metadata": {},
   "source": [
    "# Plot the likelihood surface for 3-taxa trees"
   ]
  },
  {
   "cell_type": "code",
   "execution_count": 65,
   "metadata": {},
   "outputs": [],
   "source": [
    "def plot_q(theta,res):\n",
    "    \n",
    "    # select t lims from sampling 1000 trees\n",
    "    min_time = np.min((-5*np.exp(theta[1].detach().numpy())+theta[0].detach().numpy())[np.tril(np.full((n_species), True),k=-1)])\n",
    "    max_time = np.max(( 3*np.exp(theta[1].detach().numpy())+theta[0].detach().numpy())[np.tril(np.full((n_species), True),k=-1)])\n",
    "    tlims = [min_time,max_time]\n",
    "\n",
    "    #print(theta)\n",
    "    log_p = np.zeros((3,res,res))\n",
    "    log_q = np.zeros((3,res,res))\n",
    "    ELBO = np.zeros((3,res,res))\n",
    "\n",
    "    orders = [[0,1,2],[0,2,1],[1,2,0]]\n",
    "    tau_labels = ['(({A},{B}),({A,B},{C}))',\n",
    "                  '(({A},{C}),({A,C},{B}))',\n",
    "                  '(({B},{C}),({A},{B,C})']\n",
    "\n",
    "    for k,inds in enumerate(orders):\n",
    "\n",
    "        time1s = np.linspace(tlims[0],tlims[1],res)\n",
    "        time2s = np.linspace(tlims[0],tlims[1],res)\n",
    "\n",
    "        for i,time1 in enumerate(time1s):\n",
    "            for j,time2 in enumerate(time2s):\n",
    "\n",
    "                if time1 > time2:\n",
    "                    log_p[k,j,i] = -np.inf\n",
    "                    log_q[k,j,i] = -np.inf\n",
    "\n",
    "                else:\n",
    "                    times = np.inf*torch.ones((3,3))\n",
    "\n",
    "                    inds1 = [inds[x] for x in [0,1]]\n",
    "                    inds2 = [inds[x] for x in [0,2]]\n",
    "                    inds3 = [inds[x] for x in [1,2]]\n",
    "\n",
    "                    times[max(inds1),min(inds1)] = time1\n",
    "                    times[max(inds2),min(inds2)] = time2\n",
    "                    times[max(inds3),min(inds3)] = time2+1\n",
    "\n",
    "                    tree = Tree(theta,times,tree_log_probs,\n",
    "                                pop_size=pop_size)\n",
    "\n",
    "                    log_p[k,j,i] = tree.log_p\n",
    "                    log_q[k,j,i] = tree.log_q\n",
    "                    ELBO[k,j,i] = torch.exp(tree.log_q)*(tree.log_p - tree.log_q)\n",
    "    log_p = log_p-logsumexp(log_p[~np.isnan(log_p)])+logsumexp(log_q[~np.isnan(log_q)])\n",
    "    vmax = np.nanmax([log_p,log_q])\n",
    "\n",
    "    i = 0\n",
    "    plt.subplots(figsize = (20,12))\n",
    "    for k in range(3):\n",
    "\n",
    "        i += 1\n",
    "        plt.subplot(3,3,i)\n",
    "\n",
    "        plt.imshow(log_p[k], interpolation='nearest', origin='lower',\n",
    "                   extent=[tlims[0],tlims[1],tlims[0],tlims[1]],vmin=vmax-6,vmax=vmax)\n",
    "        plt.xlabel(r'$\\log(t_1)$',fontsize = 16)\n",
    "        plt.ylabel(r'$\\log(t_2)$',fontsize = 16)\n",
    "        plt.title(r'log(p), $\\tau$ = %s' % tau_labels[k],fontsize = 16)\n",
    "        plt.colorbar()\n",
    "\n",
    "        plt.subplot(3,3,i+3)\n",
    "\n",
    "        plt.imshow(log_q[k], interpolation='nearest', origin='lower',\n",
    "                   extent=[tlims[0],tlims[1],tlims[0],tlims[1]],vmin=vmax-6,vmax=vmax)\n",
    "        plt.xlabel(r'$\\log(t_1)$',fontsize = 16)\n",
    "        plt.ylabel(r'$\\log(t_2)$',fontsize = 16)\n",
    "        plt.title(r'log(q), $\\tau$ = %s' % tau_labels[k],fontsize = 16)\n",
    "        plt.colorbar()\n",
    "\n",
    "    plt.show()\n",
    "    return"
   ]
  },
  {
   "cell_type": "code",
   "execution_count": 66,
   "metadata": {},
   "outputs": [
    {
     "name": "stdout",
     "output_type": "stream",
     "text": [
      "REINFORCE:\n"
     ]
    },
    {
     "data": {
      "image/png": "[encoded data removed]",
      "text/plain": [
       "<Figure size 1440x864 with 12 Axes>"
      ]
     },
     "metadata": {
      "needs_background": "light"
     },
     "output_type": "display_data"
    },
    {
     "name": "stdout",
     "output_type": "stream",
     "text": [
      "VIMCO:\n"
     ]
    },
    {
     "data": {
      "image/png": "[encoded data removed]",
      "text/plain": [
       "<Figure size 1440x864 with 12 Axes>"
      ]
     },
     "metadata": {
      "needs_background": "light"
     },
     "output_type": "display_data"
    },
    {
     "name": "stdout",
     "output_type": "stream",
     "text": [
      "Reparam:\n"
     ]
    },
    {
     "data": {
      "image/png": "[encoded data removed]",
      "text/plain": [
       "<Figure size 1440x864 with 12 Axes>"
      ]
     },
     "metadata": {
      "needs_background": "light"
     },
     "output_type": "display_data"
    }
   ],
   "source": [
    "print(\"REINFORCE:\")\n",
    "plot_q(optim_reinforce.theta,res=50)\n",
    "print(\"VIMCO:\")\n",
    "plot_q(optim_VIMCO.theta,res=50)\n",
    "print(\"Reparam:\")\n",
    "plot_q(optim_reparam.theta,res=50)"
   ]
  },
  {
   "cell_type": "markdown",
   "metadata": {},
   "source": [
    "# Visualize the boundary"
   ]
  },
  {
   "cell_type": "code",
   "execution_count": null,
   "metadata": {},
   "outputs": [],
   "source": [
    "theta = optim.theta\n",
    "res = 500\n",
    "\n",
    "# select t lims from sampling 1000 trees\n",
    "Z1 = 0\n",
    "min_time = np.min((-5*np.exp(theta[1])+theta[0])[np.tril(np.full((n_species), True),k=-1)])\n",
    "max_time = np.max(( 3*np.exp(theta[1])+theta[0])[np.tril(np.full((n_species), True),k=-1)])\n",
    "tlims = [min_time,max_time]\n",
    "\n",
    "#print(theta)\n",
    "log_p = np.zeros((3,res))\n",
    "log_q = np.zeros((3,res))\n",
    "ELBO = np.zeros((3,res))\n",
    "\n",
    "eps = 0.00001\n",
    "\n",
    "orders = [[0,1,2],[0,2,1],[1,2,0]]\n",
    "tau_labels = ['(({A},{B}),({A,B},{C}))',\n",
    "              '(({A},{C}),({A,C},{B}))',\n",
    "              '(({B},{C}),({A},{B,C})']\n",
    "\n",
    "for k,inds in enumerate(orders):\n",
    "    \n",
    "    time1s = np.linspace(tlims[0],tlims[1],res)\n",
    "    \n",
    "    for i,time1 in enumerate(time1s):\n",
    "        \n",
    "        time2 = time1 + eps\n",
    "                \n",
    "        times = np.inf*np.ones((3,3))\n",
    "\n",
    "        inds1 = [inds[x] for x in [0,1]]\n",
    "        inds2 = [inds[x] for x in [0,2]]\n",
    "        inds3 = [inds[x] for x in [1,2]]\n",
    "\n",
    "        times[max(inds1),min(inds1)] = time1\n",
    "        times[max(inds2),min(inds2)] = time2\n",
    "        times[max(inds3),min(inds3)] = time2+1\n",
    "\n",
    "        tree = Tree(theta,times,tree_log_probs,\n",
    "                    pop_size=pop_size)\n",
    "\n",
    "        log_p[k,i] = tree.log_p\n",
    "        log_q[k,i] = tree.log_q\n",
    "        ELBO[k,i] = np.exp(tree.log_q)*(tree.log_p - tree.log_q)"
   ]
  },
  {
   "cell_type": "code",
   "execution_count": null,
   "metadata": {},
   "outputs": [],
   "source": [
    "np.max(np.exp(log_q.T))"
   ]
  },
  {
   "cell_type": "code",
   "execution_count": null,
   "metadata": {},
   "outputs": [],
   "source": [
    "plt.plot(time1s,np.exp(log_q.T)*(log_p.T-log_q.T))\n",
    "plt.show()"
   ]
  },
  {
   "cell_type": "code",
   "execution_count": null,
   "metadata": {},
   "outputs": [],
   "source": [
    "plt.plot(time1s,log_q.T,'-.')\n",
    "plt.show()"
   ]
  },
  {
   "cell_type": "code",
   "execution_count": null,
   "metadata": {},
   "outputs": [],
   "source": [
    "theta = optim.theta\n",
    "res = 200\n",
    "\n",
    "# select t lims from sampling 1000 trees\n",
    "Z1 = -3\n",
    "Z2s = np.linspace(-5,5,res)\n",
    "Z3s = np.linspace(-5,5,res)\n",
    "tlims = [-5,5]\n",
    "\n",
    "#print(theta)\n",
    "log_p = np.zeros((res,res))\n",
    "log_q = np.zeros((res,res))\n",
    "ELBO = np.zeros((res,res))\n",
    "    \n",
    "for i,Z2 in enumerate(Z2s):\n",
    "    for j,Z3 in enumerate(Z3s):\n",
    "\n",
    "        Z = np.array([[np.inf,np.inf,np.inf],\n",
    "                      [Z2    ,np.inf,np.inf],\n",
    "                      [Z3    ,Z1   ,np.inf]])\n",
    "\n",
    "        log_times = np.exp(theta[1])*Z+theta[0]\n",
    "\n",
    "        tree = Tree(theta,log_times,tree_log_probs,\n",
    "                    pop_size=pop_size)\n",
    "\n",
    "        log_p[j,i] = tree.log_p\n",
    "        log_q[j,i] = tree.log_q\n",
    "        ELBO[j,i] = (tree.log_p-tree.log_q)\n"
   ]
  },
  {
   "cell_type": "code",
   "execution_count": null,
   "metadata": {},
   "outputs": [],
   "source": [
    "#log_p = log_p-logsumexp(log_p[~np.isnan(log_p)])+logsumexp(log_q[~np.isnan(log_q)])\n",
    "vmaxp = np.nanmax([log_p])\n",
    "vmaxq = np.nanmax([log_q])\n",
    "plt.subplots(figsize = (20,12))\n",
    "    \n",
    "plt.subplot(1,3,1)\n",
    "\n",
    "plt.imshow(log_p, interpolation='nearest', origin='lower',\n",
    "           extent=[tlims[0],tlims[1],tlims[0],tlims[1]],vmin=vmaxp-6,vmax=vmaxp)\n",
    "plt.xlabel(r'$Z_{ac}$',fontsize = 16)\n",
    "plt.ylabel(r'$Z_{bc}$',fontsize = 16)\n",
    "plt.title(r'log(p), $\\tau$ = %s' % tau_labels[k],fontsize = 16)\n",
    "plt.colorbar()\n",
    "\n",
    "plt.subplot(1,3,2)\n",
    "\n",
    "plt.imshow(log_q, interpolation='nearest', origin='lower',\n",
    "           extent=[tlims[0],tlims[1],tlims[0],tlims[1]],vmin=vmaxq-6,vmax=vmaxq)\n",
    "plt.xlabel(r'$Z_{ac}$',fontsize = 16)\n",
    "plt.ylabel(r'$Z_{bc}$',fontsize = 16)\n",
    "plt.title(r'log(q), $\\tau$ = %s' % tau_labels[k],fontsize = 16)\n",
    "plt.colorbar()\n",
    "    \n",
    "plt.subplot(1,3,3)\n",
    "\n",
    "plt.imshow(ELBO, interpolation='nearest', origin='lower',\n",
    "           extent=[tlims[0],tlims[1],tlims[0],tlims[1]])\n",
    "plt.xlabel(r'$Z_{ac}$',fontsize = 16)\n",
    "plt.ylabel(r'$Z_{bc}$',fontsize = 16)\n",
    "plt.title(r'ELBO, $\\tau$ = %s' % tau_labels[k],fontsize = 16)\n",
    "plt.colorbar()\n",
    "    \n",
    "plt.show()"
   ]
  },
  {
   "cell_type": "code",
   "execution_count": null,
   "metadata": {},
   "outputs": [],
   "source": [
    "theta"
   ]
  },
  {
   "cell_type": "markdown",
   "metadata": {},
   "source": [
    "# Evaluate gradient of the ELBO"
   ]
  },
  {
   "cell_type": "code",
   "execution_count": null,
   "metadata": {},
   "outputs": [],
   "source": [
    "genomes"
   ]
  },
  {
   "cell_type": "code",
   "execution_count": null,
   "metadata": {},
   "outputs": [],
   "source": [
    "optim.theta"
   ]
  },
  {
   "cell_type": "code",
   "execution_count": null,
   "metadata": {},
   "outputs": [],
   "source": [
    "np.exp(-1.6)"
   ]
  },
  {
   "cell_type": "code",
   "execution_count": null,
   "metadata": {},
   "outputs": [],
   "source": [
    "# select t lims from plus or minus three standard deviations\n",
    "min_time = np.min((-5*np.exp(optim.theta[1])+optim.theta[0])[np.tril(np.full((n_species), True),k=-1)])\n",
    "max_time = np.max(( 3*np.exp(optim.theta[1])+optim.theta[0])[np.tril(np.full((n_species), True),k=-1)])\n",
    "tlims = [min_time,max_time]\n",
    "\n",
    "def ELBO_no_reparam(theta,res_no_reparam):\n",
    "\n",
    "    ELBO = 0\n",
    "    orders = [[0,1,2],[0,2,1],[1,2,0]]\n",
    "\n",
    "    for k,inds in enumerate(orders):\n",
    "\n",
    "        time1s = np.linspace(tlims[0],tlims[1],res_no_reparam)\n",
    "        time2s = np.linspace(tlims[0],tlims[1],res_no_reparam)\n",
    "\n",
    "        for i,time1 in enumerate(time1s):\n",
    "            for j,time2 in enumerate(time2s):\n",
    "\n",
    "                if time1 < time2:\n",
    "                    \n",
    "                    times = np.inf*np.ones((3,3))\n",
    "\n",
    "                    inds1 = [inds[x] for x in [0,1]]\n",
    "                    inds2 = [inds[x] for x in [0,2]]\n",
    "                    inds3 = [inds[x] for x in [1,2]]\n",
    "\n",
    "                    times[max(inds1),min(inds1)] = time1\n",
    "                    times[max(inds2),min(inds2)] = time2\n",
    "                    times[max(inds3),min(inds3)] = time2+1\n",
    "                    \n",
    "                    tree = Tree(theta,times,tree_log_probs,\n",
    "                                pop_size=pop_size)\n",
    "\n",
    "                    ELBO_hat = np.exp(tree.log_q)*(tree.log_p - tree.log_q)\n",
    "                    \n",
    "                    if not np.isnan(ELBO_hat):\n",
    "                        \n",
    "                        if i == 0:\n",
    "                            length = 0\n",
    "                        else:\n",
    "                            length = np.exp(time1s[i]) - np.exp(time1s[i-1])\n",
    "                            \n",
    "                        if j == 0:\n",
    "                            width = 0\n",
    "                        else:\n",
    "                            width = np.exp(time2s[j]) - np.exp(time2s[j-1])\n",
    "                        \n",
    "                        ELBO_hat = ELBO_hat*length*width\n",
    "                        ELBO = ELBO + ELBO_hat\n",
    "                    \n",
    "    return ELBO"
   ]
  },
  {
   "cell_type": "code",
   "execution_count": null,
   "metadata": {},
   "outputs": [],
   "source": [
    "ELBO_no_reparam(optim.theta,500)"
   ]
  },
  {
   "cell_type": "code",
   "execution_count": null,
   "metadata": {},
   "outputs": [],
   "source": [
    "ELBO_no_reparam(optim.theta,300)"
   ]
  },
  {
   "cell_type": "code",
   "execution_count": null,
   "metadata": {},
   "outputs": [],
   "source": [
    "ELBO_no_reparam(optim.theta,200)"
   ]
  },
  {
   "cell_type": "code",
   "execution_count": null,
   "metadata": {},
   "outputs": [],
   "source": [
    "ELBO_no_reparam(optim.theta,100)"
   ]
  },
  {
   "cell_type": "code",
   "execution_count": null,
   "metadata": {},
   "outputs": [],
   "source": [
    "grad(lambda theta: ELBO_no_reparam(theta,100))(optim.theta)"
   ]
  },
  {
   "cell_type": "code",
   "execution_count": null,
   "metadata": {},
   "outputs": [],
   "source": [
    "grad(lambda theta: ELBO_no_reparam(theta,200))(optim.theta)"
   ]
  },
  {
   "cell_type": "code",
   "execution_count": null,
   "metadata": {},
   "outputs": [],
   "source": [
    "grad(lambda theta: ELBO_no_reparam(theta,300))(optim.theta)"
   ]
  },
  {
   "cell_type": "code",
   "execution_count": null,
   "metadata": {},
   "outputs": [],
   "source": [
    "grad(lambda theta: ELBO_no_reparam(theta,500))(optim.theta)"
   ]
  },
  {
   "cell_type": "markdown",
   "metadata": {},
   "source": [
    "# Reparameterize and see if the LOTUS applies"
   ]
  },
  {
   "cell_type": "code",
   "execution_count": null,
   "metadata": {},
   "outputs": [],
   "source": [
    "res_reparam = 50\n",
    "\n",
    "min_Z = -3\n",
    "max_Z = 3\n",
    "\n",
    "def ELBO_reparam(theta):\n",
    "    \n",
    "    ELBO = 0\n",
    "    \n",
    "    Z1s = np.linspace(min_Z,max_Z,res_reparam)\n",
    "    Z2s = np.linspace(min_Z,max_Z,res_reparam)\n",
    "    Z3s = np.linspace(min_Z,max_Z,res_reparam)\n",
    "    \n",
    "    for i,Z1 in enumerate(Z1s):\n",
    "        for j,Z2 in enumerate(Z2s):\n",
    "            for k,Z3 in enumerate(Z3s):\n",
    "        \n",
    "                Z = np.array([[np.inf,np.inf,np.inf],\n",
    "                              [Z1    ,np.inf,np.inf],\n",
    "                              [Z2    ,Z3    ,np.inf]])\n",
    "\n",
    "                log_times = np.exp(theta[1])*Z+theta[0]\n",
    "\n",
    "                tree = Tree(theta,log_times,tree_log_probs,\n",
    "                            pop_size=pop_size)\n",
    "\n",
    "                density = np.product(norm.pdf([Z1,Z2,Z3]))*((max_Z-min_Z)/res_reparam)**3\n",
    "\n",
    "                ELBO_hat = density*(tree.log_p - tree.log_q)\n",
    "        \n",
    "                if not np.isnan(ELBO_hat):\n",
    "                    ELBO = ELBO + ELBO_hat\n",
    "                    \n",
    "    return ELBO"
   ]
  },
  {
   "cell_type": "code",
   "execution_count": null,
   "metadata": {},
   "outputs": [],
   "source": [
    "ELBO_reparam(optim.theta)"
   ]
  },
  {
   "cell_type": "code",
   "execution_count": null,
   "metadata": {},
   "outputs": [],
   "source": [
    "grad(ELBO_reparam)(optim.theta)"
   ]
  },
  {
   "cell_type": "markdown",
   "metadata": {},
   "source": [
    "# See if we can replace integration with sampling"
   ]
  },
  {
   "cell_type": "code",
   "execution_count": null,
   "metadata": {},
   "outputs": [],
   "source": [
    "n_samples = 10000\n",
    "\n",
    "# sample trees\n",
    "Z1s = np.random.normal(size=n_samples)\n",
    "Z2s = np.random.normal(size=n_samples)\n",
    "Z3s = np.random.normal(size=n_samples)\n",
    "\n",
    "def ELBO_reparam_sample(theta):\n",
    "    \n",
    "    ELBO = 0\n",
    "    \n",
    "    for Z1,Z2,Z3 in zip(Z1s,Z2s,Z3s):\n",
    "        \n",
    "        Z = np.array([[np.inf,np.inf,np.inf],\n",
    "                      [Z1    ,np.inf,np.inf],\n",
    "                      [Z2    ,Z3    ,np.inf]])\n",
    "\n",
    "        log_times = np.exp(theta[1])*Z+theta[0]\n",
    "\n",
    "        tree = Tree(theta,log_times,tree_log_probs,\n",
    "                    pop_size=pop_size)\n",
    "\n",
    "        density = 1/n_samples\n",
    "\n",
    "        ELBO_hat = density*(tree.log_p - tree.log_q)\n",
    "\n",
    "        if not np.isnan(ELBO_hat):\n",
    "            ELBO = ELBO + ELBO_hat\n",
    "                    \n",
    "    return ELBO\n",
    "\n",
    "print(ELBO_reparam_sample(optim.theta))\n",
    "print(grad(ELBO_reparam_sample)(optim.theta))"
   ]
  },
  {
   "cell_type": "markdown",
   "metadata": {},
   "source": [
    "# See if the sum of the gradients is the gradient of the sum"
   ]
  },
  {
   "cell_type": "code",
   "execution_count": null,
   "metadata": {},
   "outputs": [],
   "source": [
    "res_reparam = 25\n",
    "\n",
    "min_Z = -3\n",
    "max_Z = 3\n",
    "\n",
    "grad_ELBO_reparam = np.zeros_like(optim.theta)\n",
    "\n",
    "Z1s = np.linspace(min_Z,max_Z,res_reparam)\n",
    "Z2s = np.linspace(min_Z,max_Z,res_reparam)\n",
    "Z3s = np.linspace(min_Z,max_Z,res_reparam)\n",
    "\n",
    "for i,Z1 in enumerate(Z1s):\n",
    "    for j,Z2 in enumerate(Z2s):\n",
    "        for k,Z3 in enumerate(Z3s):\n",
    "\n",
    "            Z = np.array([[np.inf,np.inf,np.inf],\n",
    "                          [Z1    ,np.inf,np.inf],\n",
    "                          [Z2    ,Z3    ,np.inf]])\n",
    "            \n",
    "            def ELBO_reparam_local(theta0):\n",
    "                log_times = np.exp(theta0[1])*Z+theta0[0]\n",
    "                tree = Tree(theta0,log_times,tree_log_probs,\n",
    "                            pop_size=pop_size)\n",
    "                return tree.log_p - tree.log_q\n",
    "\n",
    "            grad_ELBO_hat = grad(ELBO_reparam_local)(optim.theta)\n",
    "            density = np.product(norm.pdf([Z1,Z2,Z3]))*((max_Z-min_Z)/res_reparam)**3\n",
    "\n",
    "            grad_ELBO_hat = density*grad_ELBO_hat\n",
    "\n",
    "            if not np.isnan(grad_ELBO_hat).all():\n",
    "                grad_ELBO_reparam = grad_ELBO_reparam + grad_ELBO_hat"
   ]
  },
  {
   "cell_type": "code",
   "execution_count": null,
   "metadata": {},
   "outputs": [],
   "source": [
    "print(grad_ELBO_reparam)"
   ]
  },
  {
   "cell_type": "markdown",
   "metadata": {},
   "source": [
    "# Plot both ELBOs as theta[0,2,0] changes"
   ]
  },
  {
   "cell_type": "code",
   "execution_count": null,
   "metadata": {},
   "outputs": [],
   "source": [
    "h = 0.5\n",
    "np.linspace(optim.theta[0,2,0]-h,optim.theta[0,2,0]+h,2)"
   ]
  },
  {
   "cell_type": "code",
   "execution_count": null,
   "metadata": {
    "scrolled": true
   },
   "outputs": [],
   "source": [
    "h = 0.1\n",
    "thetas = np.linspace(optim.theta[0,2,0]-h,optim.theta[0,2,0]+h,3)\n",
    "\n",
    "grad_ELBOS_reparam = []\n",
    "grad_ELBOS_no_reparam = []\n",
    "\n",
    "ELBOS_reparam = []\n",
    "ELBOS_no_reparam = []\n",
    "\n",
    "for theta in thetas:\n",
    "    print(theta)\n",
    "    \n",
    "    theta0 = deepcopy(optim.theta)\n",
    "    theta0[0,2,0] = theta\n",
    "    \n",
    "    ELBOS_reparam.append(ELBO_reparam(theta0))\n",
    "    print(\"ELBO reparam:\",ELBOS_reparam[-1])\n",
    "    \n",
    "    ELBOS_no_reparam.append(ELBO_no_reparam(theta0,500))\n",
    "    print(\"ELBO no reparam:\",ELBOS_no_reparam[-1])\n",
    "    \n",
    "    #grad_ELBOS_reparam.append(grad(ELBO_reparam)(theta0))\n",
    "    #print(\"grad ELBO reparam:\",grad_ELBOS_reparam[-1])\n",
    "    \n",
    "    #grad_ELBOS_no_reparam.append(grad(ELBO_no_reparam)(theta0))\n",
    "    #print(\"grad ELBO no reparam:\",grad_ELBOS_no_reparam[-1])\n",
    "    \n",
    "    print(\"\")"
   ]
  },
  {
   "cell_type": "code",
   "execution_count": null,
   "metadata": {
    "scrolled": true
   },
   "outputs": [],
   "source": [
    "plt.plot(thetas,ELBOS_reparam)\n",
    "plt.show()\n",
    "plt.plot(thetas,ELBOS_no_reparam)\n",
    "plt.show()\n",
    "\n",
    "plt.plot(thetas,[x[0,2,0] for x in grad_ELBOS_reparam])\n",
    "plt.show()\n",
    "plt.plot(thetas,[x[0,2,0] for x in grad_ELBOS_no_reparam])\n",
    "plt.show()"
   ]
  },
  {
   "cell_type": "code",
   "execution_count": null,
   "metadata": {},
   "outputs": [],
   "source": [
    "h = 0.5\n",
    "thetas = np.linspace(optim.theta[0,1,0]-h,optim.theta[0,1,0]+h,5)\n",
    "\n",
    "grad_ELBOS_reparam = []\n",
    "grad_ELBOS_no_reparam = []\n",
    "\n",
    "ELBOS_reparam = []\n",
    "ELBOS_no_reparam = []\n",
    "\n",
    "for theta in thetas:\n",
    "    print(theta)\n",
    "    \n",
    "    theta0 = deepcopy(optim.theta)\n",
    "    theta0[0,1,0] = theta\n",
    "    \n",
    "    ELBOS_reparam.append(ELBO_reparam(theta0))\n",
    "    print(\"ELBO reparam:\",ELBOS_reparam[-1])\n",
    "    \n",
    "    ELBOS_no_reparam.append(ELBO_no_reparam(theta0))\n",
    "    print(\"ELBO no reparam:\",ELBOS_no_reparam[-1])\n",
    "    \n",
    "    grad_ELBOS_reparam.append(grad(ELBO_reparam)(theta0))\n",
    "    print(\"grad ELBO reparam:\",grad_ELBOS_reparam[-1])\n",
    "    \n",
    "    grad_ELBOS_no_reparam.append(grad(ELBO_no_reparam)(theta0))\n",
    "    print(\"grad ELBO no reparam:\",grad_ELBOS_no_reparam[-1])\n",
    "    \n",
    "    print(\"\")"
   ]
  },
  {
   "cell_type": "code",
   "execution_count": null,
   "metadata": {},
   "outputs": [],
   "source": [
    "plt.plot(thetas,ELBOS_reparam)\n",
    "plt.show()\n",
    "plt.plot(thetas,ELBOS_no_reparam)\n",
    "plt.show()\n",
    "\n",
    "plt.plot(thetas,[x[0,1,0] for x in grad_ELBOS_reparam])\n",
    "plt.show()\n",
    "plt.plot(thetas,[x[0,1,0] for x in grad_ELBOS_no_reparam])\n",
    "plt.show()"
   ]
  },
  {
   "cell_type": "markdown",
   "metadata": {},
   "source": [
    "# Finally, see if we can move the sampling outside"
   ]
  },
  {
   "cell_type": "code",
   "execution_count": null,
   "metadata": {},
   "outputs": [],
   "source": [
    "n_samples = 1000\n",
    "\n",
    "# select t lims from sampling 1000 trees\n",
    "min_Z = -3\n",
    "max_Z = 3\n",
    "    \n",
    "grad_ELBO = np.zeros_like(optim.theta)\n",
    "\n",
    "Z1s = np.random.normal(size=n_samples)\n",
    "Z2s = np.random.normal(size=n_samples)\n",
    "Z3s = np.random.normal(size=n_samples)\n",
    "\n",
    "for Z1,Z2,Z3 in zip(Z1s,Z2s,Z3s):\n",
    "\n",
    "    Z = np.array([[np.inf,np.inf,np.inf],\n",
    "                  [Z1    ,np.inf,np.inf],\n",
    "                  [Z2    ,Z3    ,np.inf]])\n",
    "\n",
    "    def ELBO_reparam_sample_local(theta0):\n",
    "        times = np.exp(theta0[1])*Z+theta0[0]\n",
    "        tree = Tree(theta0,times,genomes,\n",
    "                    pop_size=pop_size)\n",
    "        return tree.log_p - tree.log_q\n",
    "\n",
    "    grad_ELBO_hat = grad(ELBO_reparam_local)(optim.theta)\n",
    "    density = 1/n_samples\n",
    "\n",
    "    grad_ELBO_hat = density*grad_ELBO_hat\n",
    "\n",
    "    if not np.isnan(grad_ELBO_hat).all():\n",
    "        grad_ELBO = grad_ELBO + grad_ELBO_hat\n",
    "                \n",
    "print(grad_ELBO)"
   ]
  },
  {
   "cell_type": "markdown",
   "metadata": {},
   "source": [
    "# See if we are actually sampling from Q when we do this"
   ]
  },
  {
   "cell_type": "code",
   "execution_count": null,
   "metadata": {},
   "outputs": [],
   "source": [
    "plt.hist([x[1,1,0] for x in grad_thetas])"
   ]
  },
  {
   "cell_type": "code",
   "execution_count": null,
   "metadata": {},
   "outputs": [],
   "source": [
    "theta"
   ]
  },
  {
   "cell_type": "code",
   "execution_count": null,
   "metadata": {},
   "outputs": [],
   "source": [
    "times"
   ]
  },
  {
   "cell_type": "code",
   "execution_count": null,
   "metadata": {},
   "outputs": [],
   "source": [
    "t1s = []\n",
    "t2s = []\n",
    "\n",
    "for _ in range(10000):\n",
    "    \n",
    "    # draw times\n",
    "    Z = np.random.normal(np.ones_like(optim.theta[0]))\n",
    "    times = np.exp(optim.theta[1])*Z+optim.theta[0]\n",
    "    maxi = np.max(times)\n",
    "    times = times + np.triu(np.ones_like(optim.theta[0])*maxi)\n",
    "    \n",
    "    # find t1 and t2\n",
    "    t1 = np.min(times)\n",
    "    t2 = np.min(times[times != t1])\n",
    "    \n",
    "    t1s.append(t1)\n",
    "    t2s.append(t2)\n",
    "    \n",
    "    last_coal = {0,1,2}\n",
    "    last_coal.remove(np.nonzero(times == t1)[0][0])\n",
    "    last_coal.remove(np.nonzero(times == t1)[1][0])"
   ]
  },
  {
   "cell_type": "code",
   "execution_count": null,
   "metadata": {},
   "outputs": [],
   "source": [
    "plt.hist(t2s,bins = 100)"
   ]
  },
  {
   "cell_type": "code",
   "execution_count": null,
   "metadata": {},
   "outputs": [],
   "source": []
  }
 ],
 "metadata": {
  "kernelspec": {
   "display_name": "Python 3 (ipykernel)",
   "language": "python",
   "name": "python3"
  },
  "language_info": {
   "codemirror_mode": {
    "name": "ipython",
    "version": 3
   },
   "file_extension": ".py",
   "mimetype": "text/x-python",
   "name": "python",
   "nbconvert_exporter": "python",
   "pygments_lexer": "ipython3",
   "version": "3.9.12"
  }
 },
 "nbformat": 4,
 "nbformat_minor": 2
}
