{
 "cells": [
  {
   "cell_type": "code",
   "execution_count": 1,
   "metadata": {},
   "outputs": [
    {
     "name": "stderr",
     "output_type": "stream",
     "text": [
      "/Users/evsi8432/opt/anaconda3/lib/python3.9/site-packages/scipy/__init__.py:155: UserWarning: A NumPy version >=1.18.5 and <1.25.0 is required for this version of SciPy (detected version 1.26.4\n",
      "  warnings.warn(f\"A NumPy version >={np_minversion} and <{np_maxversion}\"\n"
     ]
    }
   ],
   "source": [
    "import autograd.numpy as np\n",
    "from autograd.scipy.special import logsumexp,erf\n",
    "from autograd.scipy.stats import norm\n",
    "from autograd import grad\n",
    "\n",
    "#from autograd_gamma import gamma, gammainc, gammaincc, gammaincln, gammainccln\n",
    "\n",
    "import matplotlib.pyplot as plt\n",
    "from copy import deepcopy\n",
    "from itertools import product\n",
    "from itertools import combinations\n",
    "import pickle\n",
    "\n",
    "from io import StringIO\n",
    "from Bio import Phylo\n",
    "\n",
    "from tree import Tree\n",
    "from optimizer import Optimizer\n",
    "\n",
    "import warnings\n",
    "warnings.filterwarnings('ignore')\n",
    "\n",
    "np.random.seed(0)"
   ]
  },
  {
   "cell_type": "code",
   "execution_count": 2,
   "metadata": {},
   "outputs": [],
   "source": [
    "pop_size = 5 # exponential parameter for constant pop size prior\n",
    "data_file = '../dat/DS1.pickle'"
   ]
  },
  {
   "cell_type": "code",
   "execution_count": 3,
   "metadata": {},
   "outputs": [],
   "source": [
    "with open(data_file, 'rb') as f:\n",
    "    DS1 = pickle.load(f)"
   ]
  },
  {
   "cell_type": "code",
   "execution_count": 4,
   "metadata": {},
   "outputs": [],
   "source": [
    "genomes = []\n",
    "species = []\n",
    "for key in DS1:\n",
    "    genomes.append(DS1[key])\n",
    "    species.append(key)\n",
    "    \n",
    "n_species = len(species)"
   ]
  },
  {
   "cell_type": "code",
   "execution_count": 5,
   "metadata": {},
   "outputs": [],
   "source": [
    "#n_species = 3\n",
    "#genome_size = 100\n",
    "#genomes = ['']*n_species\n",
    "#ps = [[0.9,0.01,0,0,0.09],\n",
    "#      [0.9,0.01,0,0,0.09],\n",
    "#      [0.9,0.01,0,0,0.09]]\n",
    "#for _ in range(genome_size):\n",
    "#    for s in range(n_species):\n",
    "#        genomes[s] += np.random.choice(['A','T','G','C','-'],p=ps[s])\n",
    "#        \n",
    "#genomes = [[\"A\"],[\"T\"],[\"C\"]]"
   ]
  },
  {
   "cell_type": "code",
   "execution_count": 6,
   "metadata": {},
   "outputs": [],
   "source": [
    "tree_log_probs = np.array([[[g in 'A-', g in 'T-', g in 'G-', g in 'C-'] for g in genome] for genome in genomes],\n",
    "                                dtype = float)\n",
    "tree_log_probs = np.log(tree_log_probs)"
   ]
  },
  {
   "cell_type": "markdown",
   "metadata": {},
   "source": [
    "# Set initial $\\theta$"
   ]
  },
  {
   "cell_type": "code",
   "execution_count": 7,
   "metadata": {},
   "outputs": [
    {
     "name": "stdout",
     "output_type": "stream",
     "text": [
      "(2, 27, 27)\n"
     ]
    }
   ],
   "source": [
    "theta = np.zeros((2,n_species,n_species))\n",
    "\n",
    "theta[0] = np.random.normal(size = (n_species,n_species)) + np.log(pop_size)\n",
    "theta[0] = theta[0]*np.tril(np.ones((n_species,n_species)),k=-1)\n",
    "theta[1] = 0.01*np.random.normal(size = (n_species,n_species))\n",
    "theta[1] = theta[1]*np.tril(np.ones((n_species,n_species)),k=-1)\n",
    "\n",
    "print(theta.shape)"
   ]
  },
  {
   "cell_type": "code",
   "execution_count": 8,
   "metadata": {},
   "outputs": [],
   "source": [
    "times = 0.05 * np.ones((27,27))\n",
    "\n",
    "# A Homo-sapiens, mus, rattus, Oryct\n",
    "times[10,15] = 0.0061\n",
    "times[10,17] = 0.0093\n",
    "times[15,19] = 0.0042\n",
    "\n",
    "# B Trach 23, Alligator 0, Scel 21, Hetero 9, Gallus 6, Turdus 24\n",
    "times[0,23] = 0.0049\n",
    "times[9,21] = 0.0072\n",
    "times[0,9] = 0.0111\n",
    "times[6,24] = 0.0076\n",
    "times[6,23] = 0.0203\n",
    "\n",
    "# C Disco 4, Amph 2, Hypo 12, Grand 8, Ich 13, Pleth 18, Sca 20\n",
    "times[4,12] = 0.0141\n",
    "times[2,12] = 0.0082\n",
    "times[8,12] = 0.0028\n",
    "times[12,13] = 0.01\n",
    "times[18,13] = 0.0114\n",
    "times[18,20] = 0.0052\n",
    "\n",
    "# D Typh 25, siren 22, Amb 1\n",
    "times[1,22] = 0.0053\n",
    "times[1,25] = 0.0098\n",
    "\n",
    "# E Neso 16, Eleu 5, Gatro 7, Hyla 11, Bufo 3\n",
    "times[5,16] = 0.0138\n",
    "times[5,7] = 0.0175\n",
    "times[3,11] = 0.0157\n",
    "times[3,16] = 0.0207\n",
    "\n",
    "# A B\n",
    "times[10,23] = 0.0312\n",
    "\n",
    "# C D\n",
    "times[4,22] = 0.0165\n",
    "\n",
    "# CDE\n",
    "times[5,22] = 0.0229\n",
    "\n",
    "# CDE Xeno 26 Lat 14\n",
    "times[5,26] = 0.0278\n",
    "times[5,14] = 0.0348\n",
    "\n",
    "# ABCDE\n",
    "times[5,10] = 0.0406"
   ]
  },
  {
   "cell_type": "code",
   "execution_count": 9,
   "metadata": {},
   "outputs": [
    {
     "name": "stdout",
     "output_type": "stream",
     "text": [
      "(2, 27, 27)\n"
     ]
    }
   ],
   "source": [
    "log_times = np.log(times)\n",
    "\n",
    "tree = Tree(theta,log_times,tree_log_probs,\n",
    "            pop_size=pop_size)\n",
    "\n",
    "theta = np.zeros((2,n_species,n_species))\n",
    "\n",
    "for node in tree.nodes:\n",
    "    combs = combinations(node.leaves,2)\n",
    "    for inds in combs:\n",
    "        inds = sorted(inds)\n",
    "        theta[0,inds[1],inds[0]] = min(theta[0,inds[1],inds[0]],np.log(node.coal_time))\n",
    "        theta[1,inds[1],inds[0]] = -2\n",
    "        \n",
    "print(theta.shape)"
   ]
  },
  {
   "cell_type": "code",
   "execution_count": 10,
   "metadata": {},
   "outputs": [
    {
     "name": "stdout",
     "output_type": "stream",
     "text": [
      "-7040.75362635013\n",
      "-54.82495819292754\n",
      "0.0201519651074209\n"
     ]
    }
   ],
   "source": [
    "Z = np.random.normal(np.ones_like(theta[0]))\n",
    "log_times = np.exp(theta[1])*Z+theta[0]\n",
    "log_times = log_times + np.triu(np.ones_like(theta[0])*np.inf)\n",
    "\n",
    "tree = Tree(theta,log_times,tree_log_probs,\n",
    "            pop_size=pop_size)\n",
    "\n",
    "#print(log_times)\n",
    "print(tree.log_like)\n",
    "print(tree.log_prior)\n",
    "print(tree.log_q)\n",
    "#print([x.log_coal_time for x in tree.nodes])"
   ]
  },
  {
   "cell_type": "code",
   "execution_count": 11,
   "metadata": {},
   "outputs": [
    {
     "name": "stdout",
     "output_type": "stream",
     "text": [
      "0.0\n",
      "0.1\n",
      "0.2\n",
      "0.3\n",
      "0.4\n",
      "0.5\n",
      "0.6\n",
      "0.7\n",
      "0.8\n",
      "0.9\n",
      "final theta: [[[ 0.          0.          0.         ...  0.          0.\n",
      "    0.        ]\n",
      "  [-2.56754658  0.          0.         ...  0.          0.\n",
      "    0.        ]\n",
      "  [-2.45621548 -3.28949126  0.         ...  0.          0.\n",
      "    0.        ]\n",
      "  ...\n",
      "  [-3.30321423 -2.60290113 -2.49285252 ...  0.          0.\n",
      "    0.        ]\n",
      "  [-2.50567075 -4.38906238 -2.87531111 ... -2.51151565  0.\n",
      "    0.        ]\n",
      "  [-2.47437405 -2.86822288 -2.90429504 ... -2.58673842 -2.89040206\n",
      "    0.        ]]\n",
      "\n",
      " [[ 0.          0.          0.         ...  0.          0.\n",
      "    0.        ]\n",
      "  [-2.5672626   0.          0.         ...  0.          0.\n",
      "    0.        ]\n",
      "  [-2.67527318 -2.90947436  0.         ...  0.          0.\n",
      "    0.        ]\n",
      "  ...\n",
      "  [-2.58947446 -2.59989477 -2.86595018 ...  0.          0.\n",
      "    0.        ]\n",
      "  [-2.71788069 -2.10360488 -3.3849142  ... -2.67014036  0.\n",
      "    0.        ]\n",
      "  [-2.66117493 -2.40942513 -2.38967353 ... -2.55634996 -2.36780345\n",
      "    0.        ]]]\n"
     ]
    },
    {
     "data": {
      "text/plain": [
       "[<matplotlib.lines.Line2D at 0x7fdddfbddb50>]"
      ]
     },
     "execution_count": 11,
     "metadata": {},
     "output_type": "execute_result"
    },
    {
     "data": {
      "image/png": "[encoded data removed]",
      "text/plain": [
       "<Figure size 432x288 with 1 Axes>"
      ]
     },
     "metadata": {
      "needs_background": "light"
     },
     "output_type": "display_data"
    }
   ],
   "source": [
    "optim = Optimizer(tree_log_probs,theta)\n",
    "\n",
    "optim.optimize_q_reparam(10,100,alphas=[0.1,0.1],\n",
    "                         pop_size=pop_size)\n",
    "#optim.optimize_q_reinforce(5,1000,alphas=[0.01,0.001],\n",
    "#                           pop_size=np.ones_like(theta[0]))\n",
    "\n",
    "print(\"final theta:\",optim.theta)\n",
    "theta = optim.theta\n",
    "plt.plot(optim.ELBO_ests)"
   ]
  },
  {
   "cell_type": "code",
   "execution_count": 12,
   "metadata": {},
   "outputs": [
    {
     "data": {
      "text/plain": [
       "array([[[ 0.        ,  0.        ,  0.        , ...,  0.        ,\n",
       "          0.        ,  0.        ],\n",
       "        [-2.56754658,  0.        ,  0.        , ...,  0.        ,\n",
       "          0.        ,  0.        ],\n",
       "        [-2.45621548, -3.28949126,  0.        , ...,  0.        ,\n",
       "          0.        ,  0.        ],\n",
       "        ...,\n",
       "        [-3.30321423, -2.60290113, -2.49285252, ...,  0.        ,\n",
       "          0.        ,  0.        ],\n",
       "        [-2.50567075, -4.38906238, -2.87531111, ..., -2.51151565,\n",
       "          0.        ,  0.        ],\n",
       "        [-2.47437405, -2.86822288, -2.90429504, ..., -2.58673842,\n",
       "         -2.89040206,  0.        ]],\n",
       "\n",
       "       [[ 0.        ,  0.        ,  0.        , ...,  0.        ,\n",
       "          0.        ,  0.        ],\n",
       "        [-2.5672626 ,  0.        ,  0.        , ...,  0.        ,\n",
       "          0.        ,  0.        ],\n",
       "        [-2.67527318, -2.90947436,  0.        , ...,  0.        ,\n",
       "          0.        ,  0.        ],\n",
       "        ...,\n",
       "        [-2.58947446, -2.59989477, -2.86595018, ...,  0.        ,\n",
       "          0.        ,  0.        ],\n",
       "        [-2.71788069, -2.10360488, -3.3849142 , ..., -2.67014036,\n",
       "          0.        ,  0.        ],\n",
       "        [-2.66117493, -2.40942513, -2.38967353, ..., -2.55634996,\n",
       "         -2.36780345,  0.        ]]])"
      ]
     },
     "execution_count": 12,
     "metadata": {},
     "output_type": "execute_result"
    }
   ],
   "source": [
    "theta"
   ]
  },
  {
   "cell_type": "markdown",
   "metadata": {},
   "source": [
    "# Print out a random tree"
   ]
  },
  {
   "cell_type": "code",
   "execution_count": 13,
   "metadata": {
    "scrolled": true
   },
   "outputs": [
    {
     "name": "stdout",
     "output_type": "stream",
     "text": [
      "{'Mus_musculus', 'Rattus_norvegicus'}\n",
      "0.004300176766177585\n",
      "\n",
      "{'Hypogeophis_rostratus', 'Grandisonia_alternans'}\n",
      "0.0046577801277226955\n",
      "\n",
      "{'Plethodon_yonhalossee', 'Scaphiopus_holbrooki'}\n",
      "0.005980668276138875\n",
      "\n",
      "{'Ambystoma_mexicanum', 'Siren_intermedia'}\n",
      "0.006958381855471664\n",
      "\n",
      "{'Heterodon_platyrhinos', 'Sceloporus_undulatus'}\n",
      "0.007511276861553329\n",
      "\n",
      "{'Alligator_mississippiensis', 'Trachemys_scripta'}\n",
      "0.008000011889283527\n",
      "\n",
      "{'Turdus_migratorius', 'Gallus_gallus'}\n",
      "0.00825184853252259\n",
      "\n",
      "{'Homo_sapiens', 'Mus_musculus', 'Rattus_norvegicus'}\n",
      "0.008262587512835259\n",
      "\n",
      "{'Amphiuma_tridactylum', 'Hypogeophis_rostratus', 'Grandisonia_alternans'}\n",
      "0.010005740348561543\n",
      "\n",
      "{'Amphiuma_tridactylum', 'Hypogeophis_rostratus', 'Ichthyophis_bannanicus', 'Grandisonia_alternans'}\n",
      "0.013585871627417053\n",
      "\n",
      "{'Ambystoma_mexicanum', 'Typhlonectes_natans', 'Siren_intermedia'}\n",
      "0.013910666846206848\n",
      "\n",
      "{'Ichthyophis_bannanicus', 'Grandisonia_alternans', 'Scaphiopus_holbrooki', 'Plethodon_yonhalossee', 'Amphiuma_tridactylum', 'Hypogeophis_rostratus'}\n",
      "0.01714506960246848\n",
      "\n",
      "{'Nesomantis_thomasseti', 'Eleutherodactylus_cuneatus'}\n",
      "0.017220865416853404\n",
      "\n",
      "{'Homo_sapiens', 'Mus_musculus', 'Oryctolagus_cuniculus', 'Rattus_norvegicus'}\n",
      "0.017686016132378173\n",
      "\n",
      "{'Heterodon_platyrhinos', 'Alligator_mississippiensis', 'Trachemys_scripta', 'Sceloporus_undulatus'}\n",
      "0.018050494764510722\n",
      "\n",
      "{'Ichthyophis_bannanicus', 'Grandisonia_alternans', 'Scaphiopus_holbrooki', 'Plethodon_yonhalossee', 'Amphiuma_tridactylum', 'Discoglossus_pictus', 'Hypogeophis_rostratus'}\n",
      "0.019367721897085785\n",
      "\n",
      "{'Ichthyophis_bannanicus', 'Ambystoma_mexicanum', 'Grandisonia_alternans', 'Scaphiopus_holbrooki', 'Plethodon_yonhalossee', 'Amphiuma_tridactylum', 'Discoglossus_pictus', 'Hypogeophis_rostratus', 'Typhlonectes_natans', 'Siren_intermedia'}\n",
      "0.021673802093281447\n",
      "\n",
      "{'Bufo_valliceps', 'Hyla_cinerea'}\n",
      "0.023095500935213373\n",
      "\n",
      "{'Eleutherodactylus_cuneatus', 'Bufo_valliceps', 'Nesomantis_thomasseti', 'Hyla_cinerea'}\n",
      "0.024842086496868553\n",
      "\n",
      "{'Nesomantis_thomasseti', 'Gastrophryne_carolinensis', 'Bufo_valliceps', 'Eleutherodactylus_cuneatus', 'Hyla_cinerea'}\n",
      "0.02847201664910527\n",
      "\n",
      "{'Gallus_gallus', 'Sceloporus_undulatus', 'Turdus_migratorius', 'Alligator_mississippiensis', 'Heterodon_platyrhinos', 'Trachemys_scripta'}\n",
      "0.030136471027618246\n",
      "\n",
      "{'Ichthyophis_bannanicus', 'Nesomantis_thomasseti', 'Ambystoma_mexicanum', 'Gastrophryne_carolinensis', 'Grandisonia_alternans', 'Scaphiopus_holbrooki', 'Plethodon_yonhalossee', 'Bufo_valliceps', 'Amphiuma_tridactylum', 'Eleutherodactylus_cuneatus', 'Discoglossus_pictus', 'Hypogeophis_rostratus', 'Typhlonectes_natans', 'Siren_intermedia', 'Hyla_cinerea'}\n",
      "0.031934197976018444\n",
      "\n",
      "{'Xenopus_laevis', 'Ichthyophis_bannanicus', 'Nesomantis_thomasseti', 'Ambystoma_mexicanum', 'Gastrophryne_carolinensis', 'Grandisonia_alternans', 'Scaphiopus_holbrooki', 'Plethodon_yonhalossee', 'Bufo_valliceps', 'Amphiuma_tridactylum', 'Eleutherodactylus_cuneatus', 'Discoglossus_pictus', 'Hypogeophis_rostratus', 'Typhlonectes_natans', 'Siren_intermedia', 'Hyla_cinerea'}\n",
      "0.03660622420842322\n",
      "\n",
      "{'Gallus_gallus', 'Sceloporus_undulatus', 'Turdus_migratorius', 'Alligator_mississippiensis', 'Heterodon_platyrhinos', 'Oryctolagus_cuniculus', 'Homo_sapiens', 'Trachemys_scripta', 'Mus_musculus', 'Rattus_norvegicus'}\n",
      "0.04582222718202934\n",
      "\n",
      "{'Xenopus_laevis', 'Ichthyophis_bannanicus', 'Nesomantis_thomasseti', 'Ambystoma_mexicanum', 'Gastrophryne_carolinensis', 'Latimeria_chalumnae', 'Grandisonia_alternans', 'Scaphiopus_holbrooki', 'Plethodon_yonhalossee', 'Bufo_valliceps', 'Amphiuma_tridactylum', 'Eleutherodactylus_cuneatus', 'Discoglossus_pictus', 'Hypogeophis_rostratus', 'Typhlonectes_natans', 'Siren_intermedia', 'Hyla_cinerea'}\n",
      "0.04975901353758494\n",
      "\n",
      "{'Ichthyophis_bannanicus', 'Nesomantis_thomasseti', 'Ambystoma_mexicanum', 'Latimeria_chalumnae', 'Alligator_mississippiensis', 'Eleutherodactylus_cuneatus', 'Typhlonectes_natans', 'Hyla_cinerea', 'Grandisonia_alternans', 'Amphiuma_tridactylum', 'Oryctolagus_cuniculus', 'Trachemys_scripta', 'Xenopus_laevis', 'Gallus_gallus', 'Gastrophryne_carolinensis', 'Turdus_migratorius', 'Heterodon_platyrhinos', 'Plethodon_yonhalossee', 'Homo_sapiens', 'Mus_musculus', 'Siren_intermedia', 'Sceloporus_undulatus', 'Scaphiopus_holbrooki', 'Bufo_valliceps', 'Discoglossus_pictus', 'Hypogeophis_rostratus', 'Rattus_norvegicus'}\n",
      "0.05450691364945966\n",
      "\n",
      "-6986.868634157684\n",
      "-48.3688035097495\n",
      "-7035.237437667433\n"
     ]
    }
   ],
   "source": [
    "Z = np.random.normal(np.ones_like(theta[0]))\n",
    "log_times = np.exp(theta[1])*Z+theta[0]\n",
    "log_times = log_times + np.triu(np.ones_like(theta[0])*np.inf)\n",
    "\n",
    "tree = Tree(theta,log_times,tree_log_probs,\n",
    "            pop_size=pop_size)\n",
    "\n",
    "for node in tree.nodes:\n",
    "    print({species[x] for x in node.leaves})\n",
    "    print(node.coal_time)\n",
    "    print(\"\")\n",
    "    \n",
    "print(tree.log_like)\n",
    "print(tree.log_prior)\n",
    "print(tree.log_p)"
   ]
  },
  {
   "cell_type": "markdown",
   "metadata": {},
   "source": [
    "# draw the random tree using a newick file"
   ]
  },
  {
   "cell_type": "code",
   "execution_count": 14,
   "metadata": {},
   "outputs": [
    {
     "data": {
      "image/png": "[encoded data removed]",
      "text/plain": [
       "<Figure size 864x720 with 1 Axes>"
      ]
     },
     "metadata": {
      "needs_background": "light"
     },
     "output_type": "display_data"
    }
   ],
   "source": [
    "def write_newick(node):\n",
    "    \n",
    "    if node.children == []:\n",
    "        return species[next(iter(node.leaves))] + \":\" + str(node.parent.coal_time)\n",
    "    elif node.parent is None:\n",
    "        return \"(\" + write_newick(node.children[0]) + \",\" + write_newick(node.children[1]) + \")\"\n",
    "    else:\n",
    "        bl = node.parent.coal_time - node.coal_time\n",
    "        return \"(\" + write_newick(node.children[0]) + \",\" + write_newick(node.children[1]) + \"):\" + str(bl)\n",
    "\n",
    "\n",
    "treedata = write_newick(tree.nodes[-1])\n",
    "handle = StringIO(treedata)\n",
    "tree_to_draw = Phylo.read(handle, \"newick\")\n",
    "\n",
    "# Set up the plot\n",
    "fig = plt.figure(figsize=(12, 10))\n",
    "ax = fig.add_subplot(1, 1, 1)\n",
    "\n",
    "# Draw the phylogenetic tree\n",
    "Phylo.draw(tree_to_draw, axes=ax)"
   ]
  },
  {
   "cell_type": "markdown",
   "metadata": {},
   "source": [
    "# Estimate the marginal likelihood"
   ]
  },
  {
   "cell_type": "code",
   "execution_count": 15,
   "metadata": {
    "scrolled": true
   },
   "outputs": [],
   "source": [
    "n_exp = 50\n",
    "n_samples = 1\n",
    "\n",
    "priors = np.zeros(n_exp)\n",
    "LL = np.zeros(n_exp)\n",
    "MLL_all = np.zeros(n_exp)\n",
    "ELBO_all = np.zeros(n_exp) \n",
    "\n",
    "for i in range(n_exp):\n",
    "\n",
    "    MLL = np.zeros(n_samples)\n",
    "    ELBO = np.zeros(n_samples)\n",
    "    \n",
    "    Zs = np.random.normal(size=(n_samples,n_species,n_species))\n",
    "\n",
    "    for j,Z in enumerate(Zs):\n",
    "        log_times = np.exp(theta[1])*Z+theta[0]\n",
    "        log_times = log_times + np.triu(np.full(n_species, np.inf))\n",
    "        tree = Tree(optim.theta,log_times,deepcopy(tree_log_probs),\n",
    "                    pop_size=pop_size)\n",
    "        \n",
    "        MLL[j] = tree.log_p - tree.log_q\n",
    "        ELBO[j] = tree.log_p - tree.log_q\n",
    "    \n",
    "    priors[i] = tree.log_prior\n",
    "    LL[i] = tree.log_like\n",
    "    MLL_all[i] = logsumexp(MLL) - np.log(n_samples)\n",
    "    ELBO_all[i] = np.mean(ELBO)"
   ]
  },
  {
   "cell_type": "code",
   "execution_count": 16,
   "metadata": {},
   "outputs": [
    {
     "data": {
      "text/plain": [
       "(array([ 2.,  4.,  8.,  3., 14., 12.,  3.,  3.,  0.,  1.]),\n",
       " array([-51.11113326, -50.83158761, -50.55204195, -50.27249629,\n",
       "        -49.99295063, -49.71340497, -49.43385931, -49.15431365,\n",
       "        -48.87476799, -48.59522233, -48.31567667]),\n",
       " <BarContainer object of 10 artists>)"
      ]
     },
     "execution_count": 16,
     "metadata": {},
     "output_type": "execute_result"
    },
    {
     "data": {
      "image/png": "[encoded data removed]",
      "text/plain": [
       "<Figure size 432x288 with 1 Axes>"
      ]
     },
     "metadata": {
      "needs_background": "light"
     },
     "output_type": "display_data"
    }
   ],
   "source": [
    "plt.hist(priors)"
   ]
  },
  {
   "cell_type": "code",
   "execution_count": 17,
   "metadata": {},
   "outputs": [
    {
     "data": {
      "text/plain": [
       "(array([ 2.,  0.,  1.,  2.,  7.,  3., 17., 13.,  2.,  3.]),\n",
       " array([-7076.47358393, -7073.36702795, -7070.26047197, -7067.15391598,\n",
       "        -7064.04736   , -7060.94080401, -7057.83424803, -7054.72769205,\n",
       "        -7051.62113606, -7048.51458008, -7045.4080241 ]),\n",
       " <BarContainer object of 10 artists>)"
      ]
     },
     "execution_count": 17,
     "metadata": {},
     "output_type": "execute_result"
    },
    {
     "data": {
      "image/png": "[encoded data removed]",
      "text/plain": [
       "<Figure size 432x288 with 1 Axes>"
      ]
     },
     "metadata": {
      "needs_background": "light"
     },
     "output_type": "display_data"
    }
   ],
   "source": [
    "plt.hist(ELBO_all)"
   ]
  },
  {
   "cell_type": "code",
   "execution_count": 18,
   "metadata": {},
   "outputs": [
    {
     "data": {
      "text/plain": [
       "(array([ 2.,  0.,  1.,  2.,  7.,  3., 17., 13.,  2.,  3.]),\n",
       " array([-7076.47358393, -7073.36702795, -7070.26047197, -7067.15391598,\n",
       "        -7064.04736   , -7060.94080401, -7057.83424803, -7054.72769205,\n",
       "        -7051.62113606, -7048.51458008, -7045.4080241 ]),\n",
       " <BarContainer object of 10 artists>)"
      ]
     },
     "execution_count": 18,
     "metadata": {},
     "output_type": "execute_result"
    },
    {
     "data": {
      "image/png": "[encoded data removed]",
      "text/plain": [
       "<Figure size 432x288 with 1 Axes>"
      ]
     },
     "metadata": {
      "needs_background": "light"
     },
     "output_type": "display_data"
    }
   ],
   "source": [
    "plt.hist(MLL_all)"
   ]
  },
  {
   "cell_type": "code",
   "execution_count": 19,
   "metadata": {},
   "outputs": [
    {
     "data": {
      "text/plain": [
       "(array([ 1.,  1.,  0.,  1.,  9.,  4., 13.,  7.,  8.,  6.]),\n",
       " array([-7008.74180915, -7004.98434931, -7001.22688947, -6997.46942962,\n",
       "        -6993.71196978, -6989.95450994, -6986.19705009, -6982.43959025,\n",
       "        -6978.68213041, -6974.92467056, -6971.16721072]),\n",
       " <BarContainer object of 10 artists>)"
      ]
     },
     "execution_count": 19,
     "metadata": {},
     "output_type": "execute_result"
    },
    {
     "data": {
      "image/png": "[encoded data removed]",
      "text/plain": [
       "<Figure size 432x288 with 1 Axes>"
      ]
     },
     "metadata": {
      "needs_background": "light"
     },
     "output_type": "display_data"
    }
   ],
   "source": [
    "plt.hist(LL)"
   ]
  },
  {
   "cell_type": "markdown",
   "metadata": {},
   "source": [
    "# Plot the likelihood surface for 3-taxa trees"
   ]
  },
  {
   "cell_type": "code",
   "execution_count": null,
   "metadata": {},
   "outputs": [],
   "source": [
    "theta = optim.theta\n",
    "res = 20\n",
    "\n",
    "# select t lims from sampling 1000 trees\n",
    "min_time = np.min((-3*np.exp(theta[1])+theta[0])[np.tril(np.full((n_species), True),k=-1)])\n",
    "max_time = np.max(( 3*np.exp(theta[1])+theta[0])[np.tril(np.full((n_species), True),k=-1)])\n",
    "tlims = [min_time,max_time]\n",
    "\n",
    "#print(theta)\n",
    "log_p = np.zeros((3,res,res))\n",
    "log_q = np.zeros((3,res,res))\n",
    "ELBO = np.zeros((3,res,res))\n",
    "\n",
    "orders = [[0,1,2],[0,2,1],[1,2,0]]\n",
    "tau_labels = ['(({A},{B}),({A,B},{C}))',\n",
    "              '(({A},{C}),({A,C},{B}))',\n",
    "              '(({B},{C}),({A},{B,C})']\n",
    "\n",
    "for k,inds in enumerate(orders):\n",
    "    \n",
    "    time1s = np.linspace(tlims[0],tlims[1],res)\n",
    "    time2s = np.linspace(tlims[0],tlims[1],res)\n",
    "    \n",
    "    for i,time1 in enumerate(time1s):\n",
    "        for j,time2 in enumerate(time2s):\n",
    "            \n",
    "            if time1 > time2:\n",
    "                log_p[k,j,i] = -np.inf\n",
    "                log_q[k,j,i] = -np.inf\n",
    "                \n",
    "            else:\n",
    "                times = np.inf*np.ones((3,3))\n",
    "\n",
    "                inds1 = [inds[x] for x in [0,1]]\n",
    "                inds2 = [inds[x] for x in [0,2]]\n",
    "                inds3 = [inds[x] for x in [1,2]]\n",
    "                \n",
    "                times[max(inds1),min(inds1)] = time1\n",
    "                times[max(inds2),min(inds2)] = time2\n",
    "                times[max(inds3),min(inds3)] = time2+1\n",
    "                \n",
    "                tree = Tree(theta,times,tree_log_probs,\n",
    "                            pop_size=pop_size)\n",
    "                \n",
    "                log_p[k,j,i] = tree.log_p\n",
    "                log_q[k,j,i] = tree.log_q\n",
    "                ELBO[k,j,i] = np.exp(tree.log_q)*(tree.log_p - tree.log_q)"
   ]
  },
  {
   "cell_type": "code",
   "execution_count": null,
   "metadata": {},
   "outputs": [],
   "source": [
    "log_p = log_p-logsumexp(log_p[~np.isnan(log_p)])+logsumexp(log_q[~np.isnan(log_q)])\n",
    "vmax = np.nanmax([log_p,log_q])\n",
    "\n",
    "i = 0\n",
    "plt.subplots(figsize = (20,12))\n",
    "for k in range(3):\n",
    "    \n",
    "    i += 1\n",
    "    plt.subplot(3,3,i)\n",
    "\n",
    "    plt.imshow(log_p[k], interpolation='nearest', origin='lower',\n",
    "               extent=[tlims[0],tlims[1],tlims[0],tlims[1]],vmin=vmax-6,vmax=vmax)\n",
    "    plt.xlabel(r'$t_1$',fontsize = 16)\n",
    "    plt.ylabel(r'$t_2$',fontsize = 16)\n",
    "    plt.title(r'log(p), $\\tau$ = %s' % tau_labels[k],fontsize = 16)\n",
    "    plt.colorbar()\n",
    "\n",
    "    plt.subplot(3,3,i+3)\n",
    "    \n",
    "    plt.imshow(log_q[k], interpolation='nearest', origin='lower',\n",
    "               extent=[tlims[0],tlims[1],tlims[0],tlims[1]],vmin=vmax-6,vmax=vmax)\n",
    "    plt.xlabel(r'$t_1$',fontsize = 16)\n",
    "    plt.ylabel(r'$t_2$',fontsize = 16)\n",
    "    plt.title(r'log(q), $\\tau$ = %s' % tau_labels[k],fontsize = 16)\n",
    "    plt.colorbar()\n",
    "    \n",
    "plt.show()"
   ]
  },
  {
   "cell_type": "code",
   "execution_count": null,
   "metadata": {},
   "outputs": [],
   "source": [
    "{species[x] for x in tree.nodes[0].leaves}"
   ]
  },
  {
   "cell_type": "code",
   "execution_count": null,
   "metadata": {},
   "outputs": [],
   "source": [
    "{genomes[x][:10] for x in tree.nodes[0].leaves}"
   ]
  },
  {
   "cell_type": "code",
   "execution_count": null,
   "metadata": {},
   "outputs": [],
   "source": [
    "tree.nodes[-1].log_probs[:10]"
   ]
  },
  {
   "cell_type": "code",
   "execution_count": null,
   "metadata": {},
   "outputs": [],
   "source": [
    "tree.nodes[0].coal_time"
   ]
  },
  {
   "cell_type": "code",
   "execution_count": null,
   "metadata": {},
   "outputs": [],
   "source": [
    "np.log(0.25)+np.log(1.0-np.exp(-tree.nodes[0].coal_time))"
   ]
  },
  {
   "cell_type": "code",
   "execution_count": null,
   "metadata": {},
   "outputs": [],
   "source": [
    "nucleotides = [\"A\",\"T\",\"G\",\"C\"]"
   ]
  },
  {
   "cell_type": "code",
   "execution_count": null,
   "metadata": {},
   "outputs": [],
   "source": [
    "np.exp(tree.nodes[-1].log_probs)"
   ]
  },
  {
   "cell_type": "code",
   "execution_count": null,
   "metadata": {},
   "outputs": [],
   "source": [
    "ref_genome = [nucleotides[x] for x in np.argmax(tree.nodes[-1].log_probs,axis=1)]"
   ]
  },
  {
   "cell_type": "code",
   "execution_count": 86,
   "metadata": {},
   "outputs": [
    {
     "data": {
      "text/plain": [
       "<matplotlib.colorbar.Colorbar at 0x7fa9a3828910>"
      ]
     },
     "execution_count": 86,
     "metadata": {},
     "output_type": "execute_result"
    },
    {
     "data": {
      "image/png": "[encoded data removed]",
      "text/plain": [
       "<Figure size 432x288 with 2 Axes>"
      ]
     },
     "metadata": {
      "needs_background": "light"
     },
     "output_type": "display_data"
    }
   ],
   "source": [
    "m = deepcopy(theta[0])\n",
    "m[np.triu_indices(m.shape[0])] = np.nan\n",
    "plt.imshow(m)\n",
    "plt.title(\"means of log-coalscent times\")\n",
    "plt.colorbar()"
   ]
  },
  {
   "cell_type": "code",
   "execution_count": 87,
   "metadata": {},
   "outputs": [
    {
     "data": {
      "text/plain": [
       "<matplotlib.colorbar.Colorbar at 0x7fa9a154c6a0>"
      ]
     },
     "execution_count": 87,
     "metadata": {},
     "output_type": "execute_result"
    },
    {
     "data": {
      "image/png": "[encoded data removed]",
      "text/plain": [
       "<Figure size 432x288 with 2 Axes>"
      ]
     },
     "metadata": {
      "needs_background": "light"
     },
     "output_type": "display_data"
    }
   ],
   "source": [
    "log_sig = deepcopy(theta[1])\n",
    "log_sig[np.triu_indices(log_sig.shape[0])] = np.nan\n",
    "plt.imshow(log_sig)\n",
    "plt.title(\"log-std of log-coalscent times\")\n",
    "plt.colorbar()"
   ]
  },
  {
   "cell_type": "markdown",
   "metadata": {},
   "source": [
    "# Evaluate gradient of the ELBO"
   ]
  },
  {
   "cell_type": "code",
   "execution_count": null,
   "metadata": {},
   "outputs": [],
   "source": [
    "res_no_reparam = 100\n",
    "\n",
    "# select t lims from plus or minus three standard deviations\n",
    "min_time = np.min((-3*np.exp(optim.theta[1])+optim.theta[0])[np.tril(np.full((n_species), True),k=-1)])\n",
    "max_time = np.max(( 3*np.exp(optim.theta[1])+optim.theta[0])[np.tril(np.full((n_species), True),k=-1)])\n",
    "tlims = [min_time,max_time]\n",
    "\n",
    "def ELBO_no_reparam(theta):\n",
    "\n",
    "    ELBO = 0\n",
    "    orders = [[0,1,2],[0,2,1],[1,2,0]]\n",
    "\n",
    "    for k,inds in enumerate(orders):\n",
    "\n",
    "        time1s = np.linspace(tlims[0],tlims[1],res_no_reparam)\n",
    "        time2s = np.linspace(tlims[0],tlims[1],res_no_reparam)\n",
    "\n",
    "        for i,time1 in enumerate(time1s):\n",
    "            for j,time2 in enumerate(time2s):\n",
    "\n",
    "                if time1 < time2:\n",
    "                    \n",
    "                    times = np.inf*np.ones((3,3))\n",
    "\n",
    "                    inds1 = [inds[x] for x in [0,1]]\n",
    "                    inds2 = [inds[x] for x in [0,2]]\n",
    "                    inds3 = [inds[x] for x in [1,2]]\n",
    "\n",
    "                    times[max(inds1),min(inds1)] = time1\n",
    "                    times[max(inds2),min(inds2)] = time2\n",
    "                    times[max(inds3),min(inds3)] = time2+1\n",
    "\n",
    "                    tree = Tree(theta,times,genomes,\n",
    "                                pop_size=pop_size)\n",
    "\n",
    "                    ELBO_hat = np.exp(tree.log_q)*(tree.log_p - tree.log_q)\n",
    "                    if not np.isnan(ELBO_hat):\n",
    "                        ELBO = ELBO + ELBO_hat\n",
    "                    \n",
    "    return ELBO*((tlims[1]-tlims[0])/res_no_reparam)**2"
   ]
  },
  {
   "cell_type": "code",
   "execution_count": null,
   "metadata": {},
   "outputs": [],
   "source": [
    "ELBO_no_reparam(optim.theta)"
   ]
  },
  {
   "cell_type": "code",
   "execution_count": null,
   "metadata": {},
   "outputs": [],
   "source": [
    "grad(ELBO_no_reparam)(optim.theta)"
   ]
  },
  {
   "cell_type": "markdown",
   "metadata": {},
   "source": [
    "# Reparameterize and see if the LOTUS applies"
   ]
  },
  {
   "cell_type": "code",
   "execution_count": null,
   "metadata": {},
   "outputs": [],
   "source": [
    "res_reparam = 25\n",
    "\n",
    "# select t lims from sampling 1000 trees\n",
    "min_Z = -3\n",
    "max_Z = 3\n",
    "\n",
    "def ELBO_reparam(theta):\n",
    "    \n",
    "    ELBO = 0\n",
    "    \n",
    "    Z1s = np.linspace(min_Z,max_Z,res_reparam)\n",
    "    Z2s = np.linspace(min_Z,max_Z,res_reparam)\n",
    "    Z3s = np.linspace(min_Z,max_Z,res_reparam)\n",
    "    \n",
    "    for i,Z1 in enumerate(Z1s):\n",
    "        for j,Z2 in enumerate(Z2s):\n",
    "            for k,Z3 in enumerate(Z3s):\n",
    "        \n",
    "                Z = np.array([[np.inf,np.inf,np.inf],\n",
    "                              [Z1    ,np.inf,np.inf],\n",
    "                              [Z2    ,Z3    ,np.inf]])\n",
    "\n",
    "                times = np.exp(theta[1])*Z+theta[0]\n",
    "\n",
    "                tree = Tree(theta,times,genomes,\n",
    "                            pop_size=pop_size)\n",
    "\n",
    "                density = np.product(norm.pdf([Z1,Z2,Z3]))*((max_Z-min_Z)/res_reparam)**3\n",
    "\n",
    "                ELBO_hat = density*(tree.log_p - tree.log_q)\n",
    "        \n",
    "                if not np.isnan(ELBO_hat):\n",
    "                    ELBO = ELBO + ELBO_hat\n",
    "                    \n",
    "    return ELBO"
   ]
  },
  {
   "cell_type": "code",
   "execution_count": null,
   "metadata": {},
   "outputs": [],
   "source": [
    "ELBO_reparam(optim.theta)"
   ]
  },
  {
   "cell_type": "code",
   "execution_count": null,
   "metadata": {},
   "outputs": [],
   "source": [
    "grad(ELBO_reparam)(optim.theta)"
   ]
  },
  {
   "cell_type": "markdown",
   "metadata": {},
   "source": [
    "# Plot both ELBOs as theta[0,2,0] changes"
   ]
  },
  {
   "cell_type": "code",
   "execution_count": null,
   "metadata": {
    "scrolled": true
   },
   "outputs": [],
   "source": [
    "h = 0.5\n",
    "thetas = np.linspace(optim.theta[0,2,0]-h,optim.theta[0,2,0]+h,5)\n",
    "\n",
    "grad_ELBOS_reparam = []\n",
    "grad_ELBOS_no_reparam = []\n",
    "\n",
    "ELBOS_reparam = []\n",
    "ELBOS_no_reparam = []\n",
    "\n",
    "for theta in thetas:\n",
    "    print(theta)\n",
    "    \n",
    "    theta0 = deepcopy(optim.theta)\n",
    "    theta0[0,2,0] = theta\n",
    "    \n",
    "    ELBOS_reparam.append(ELBO_reparam(theta0))\n",
    "    print(\"ELBO reparam:\",ELBOS_reparam[-1])\n",
    "    \n",
    "    ELBOS_no_reparam.append(ELBO_no_reparam(theta0))\n",
    "    print(\"ELBO no reparam:\",ELBOS_no_reparam[-1])\n",
    "    \n",
    "    grad_ELBOS_reparam.append(grad(ELBO_reparam)(theta0))\n",
    "    print(\"grad ELBO reparam:\",grad_ELBOS_reparam[-1])\n",
    "    \n",
    "    grad_ELBOS_no_reparam.append(grad(ELBO_no_reparam)(theta0))\n",
    "    print(\"grad ELBO no reparam:\",grad_ELBOS_no_reparam[-1])\n",
    "    \n",
    "    print(\"\")"
   ]
  },
  {
   "cell_type": "code",
   "execution_count": null,
   "metadata": {
    "scrolled": true
   },
   "outputs": [],
   "source": [
    "plt.plot(thetas,ELBOS_reparam)\n",
    "plt.show()\n",
    "plt.plot(thetas,ELBOS_no_reparam)\n",
    "plt.show()\n",
    "\n",
    "plt.plot(thetas,[x[0,2,0] for x in grad_ELBOS_reparam])\n",
    "plt.show()\n",
    "plt.plot(thetas,[x[0,2,0] for x in grad_ELBOS_no_reparam])\n",
    "plt.show()"
   ]
  },
  {
   "cell_type": "code",
   "execution_count": null,
   "metadata": {},
   "outputs": [],
   "source": [
    "h = 0.5\n",
    "thetas = np.linspace(optim.theta[0,1,0]-h,optim.theta[0,1,0]+h,5)\n",
    "\n",
    "grad_ELBOS_reparam = []\n",
    "grad_ELBOS_no_reparam = []\n",
    "\n",
    "ELBOS_reparam = []\n",
    "ELBOS_no_reparam = []\n",
    "\n",
    "for theta in thetas:\n",
    "    print(theta)\n",
    "    \n",
    "    theta0 = deepcopy(optim.theta)\n",
    "    theta0[0,1,0] = theta\n",
    "    \n",
    "    ELBOS_reparam.append(ELBO_reparam(theta0))\n",
    "    print(\"ELBO reparam:\",ELBOS_reparam[-1])\n",
    "    \n",
    "    ELBOS_no_reparam.append(ELBO_no_reparam(theta0))\n",
    "    print(\"ELBO no reparam:\",ELBOS_no_reparam[-1])\n",
    "    \n",
    "    grad_ELBOS_reparam.append(grad(ELBO_reparam)(theta0))\n",
    "    print(\"grad ELBO reparam:\",grad_ELBOS_reparam[-1])\n",
    "    \n",
    "    grad_ELBOS_no_reparam.append(grad(ELBO_no_reparam)(theta0))\n",
    "    print(\"grad ELBO no reparam:\",grad_ELBOS_no_reparam[-1])\n",
    "    \n",
    "    print(\"\")"
   ]
  },
  {
   "cell_type": "code",
   "execution_count": null,
   "metadata": {},
   "outputs": [],
   "source": [
    "plt.plot(thetas,ELBOS_reparam)\n",
    "plt.show()\n",
    "plt.plot(thetas,ELBOS_no_reparam)\n",
    "plt.show()\n",
    "\n",
    "plt.plot(thetas,[x[0,1,0] for x in grad_ELBOS_reparam])\n",
    "plt.show()\n",
    "plt.plot(thetas,[x[0,1,0] for x in grad_ELBOS_no_reparam])\n",
    "plt.show()"
   ]
  },
  {
   "cell_type": "markdown",
   "metadata": {},
   "source": [
    "# See if the sum of the gradients is the gradient of the sum"
   ]
  },
  {
   "cell_type": "code",
   "execution_count": null,
   "metadata": {},
   "outputs": [],
   "source": [
    "res_reparam = 25\n",
    "\n",
    "# select t lims from sampling 1000 trees\n",
    "min_Z = -3\n",
    "max_Z = 3\n",
    "    \n",
    "grad_ELBO = np.zeros_like(optim.theta)\n",
    "\n",
    "Z1s = np.linspace(min_Z,max_Z,res_reparam)\n",
    "Z2s = np.linspace(min_Z,max_Z,res_reparam)\n",
    "Z3s = np.linspace(min_Z,max_Z,res_reparam)\n",
    "\n",
    "for i,Z1 in enumerate(Z1s):\n",
    "    for j,Z2 in enumerate(Z2s):\n",
    "        for k,Z3 in enumerate(Z3s):\n",
    "\n",
    "            Z = np.array([[np.inf,np.inf,np.inf],\n",
    "                          [Z1    ,np.inf,np.inf],\n",
    "                          [Z2    ,Z3    ,np.inf]])\n",
    "            \n",
    "            def ELBO_reparam_local(theta0):\n",
    "                times = np.exp(theta0[1])*Z+theta0[0]\n",
    "                tree = Tree(theta0,times,genomes,\n",
    "                            pop_size=pop_size)\n",
    "                return tree.log_p - tree.log_q\n",
    "\n",
    "            grad_ELBO_hat = grad(ELBO_reparam_local)(optim.theta)\n",
    "            density = np.product(norm.pdf([Z1,Z2,Z3]))*((max_Z-min_Z)/res_reparam)**3\n",
    "\n",
    "            grad_ELBO_hat = density*grad_ELBO_hat\n",
    "\n",
    "            if not np.isnan(grad_ELBO_hat).all():\n",
    "                grad_ELBO = grad_ELBO + grad_ELBO_hat\n",
    "                \n",
    "print(grad_ELBO)"
   ]
  },
  {
   "cell_type": "code",
   "execution_count": null,
   "metadata": {},
   "outputs": [],
   "source": [
    "print(grad(ELBO_reparam)(optim.theta))"
   ]
  },
  {
   "cell_type": "markdown",
   "metadata": {},
   "source": [
    "# See if we can replace integration with sampling"
   ]
  },
  {
   "cell_type": "code",
   "execution_count": null,
   "metadata": {},
   "outputs": [],
   "source": [
    "n_samples = 1000\n",
    "\n",
    "# sample trees\n",
    "Z1s = np.random.normal(size=n_samples)\n",
    "Z2s = np.random.normal(size=n_samples)\n",
    "Z3s = np.random.normal(size=n_samples)\n",
    "\n",
    "def ELBO_reparam_sample(theta):\n",
    "    \n",
    "    ELBO = 0\n",
    "    \n",
    "    for Z1,Z2,Z3 in zip(Z1s,Z2s,Z3s):\n",
    "        \n",
    "        Z = np.array([[np.inf,np.inf,np.inf],\n",
    "                      [Z1    ,np.inf,np.inf],\n",
    "                      [Z2    ,Z3    ,np.inf]])\n",
    "\n",
    "        times = np.exp(theta[1])*Z+theta[0]\n",
    "\n",
    "        tree = Tree(theta,times,genomes,\n",
    "                    pop_size=pop_size)\n",
    "\n",
    "        density = 1/n_samples\n",
    "\n",
    "        ELBO_hat = density*(tree.log_p - tree.log_q)\n",
    "\n",
    "        if not np.isnan(ELBO_hat):\n",
    "            ELBO = ELBO + ELBO_hat\n",
    "                    \n",
    "    return ELBO"
   ]
  },
  {
   "cell_type": "code",
   "execution_count": null,
   "metadata": {},
   "outputs": [],
   "source": [
    "print(grad(ELBO_reparam_sample)(optim.theta))"
   ]
  },
  {
   "cell_type": "markdown",
   "metadata": {},
   "source": [
    "# Finally, see if we can move the sampling outside"
   ]
  },
  {
   "cell_type": "code",
   "execution_count": null,
   "metadata": {},
   "outputs": [],
   "source": [
    "n_samples = 1000\n",
    "\n",
    "# select t lims from sampling 1000 trees\n",
    "min_Z = -3\n",
    "max_Z = 3\n",
    "    \n",
    "grad_ELBO = np.zeros_like(optim.theta)\n",
    "\n",
    "Z1s = np.random.normal(size=n_samples)\n",
    "Z2s = np.random.normal(size=n_samples)\n",
    "Z3s = np.random.normal(size=n_samples)\n",
    "\n",
    "for Z1,Z2,Z3 in zip(Z1s,Z2s,Z3s):\n",
    "\n",
    "    Z = np.array([[np.inf,np.inf,np.inf],\n",
    "                  [Z1    ,np.inf,np.inf],\n",
    "                  [Z2    ,Z3    ,np.inf]])\n",
    "\n",
    "    def ELBO_reparam_sample_local(theta0):\n",
    "        times = np.exp(theta0[1])*Z+theta0[0]\n",
    "        tree = Tree(theta0,times,genomes,\n",
    "                    pop_size=pop_size)\n",
    "        return tree.log_p - tree.log_q\n",
    "\n",
    "    grad_ELBO_hat = grad(ELBO_reparam_local)(optim.theta)\n",
    "    density = 1/n_samples\n",
    "\n",
    "    grad_ELBO_hat = density*grad_ELBO_hat\n",
    "\n",
    "    if not np.isnan(grad_ELBO_hat).all():\n",
    "        grad_ELBO = grad_ELBO + grad_ELBO_hat\n",
    "                \n",
    "print(grad_ELBO)"
   ]
  },
  {
   "cell_type": "markdown",
   "metadata": {},
   "source": [
    "# See if we are actually sampling from Q when we do this"
   ]
  },
  {
   "cell_type": "code",
   "execution_count": null,
   "metadata": {},
   "outputs": [],
   "source": [
    "plt.hist([x[1,1,0] for x in grad_thetas])"
   ]
  },
  {
   "cell_type": "code",
   "execution_count": null,
   "metadata": {},
   "outputs": [],
   "source": [
    "theta"
   ]
  },
  {
   "cell_type": "code",
   "execution_count": null,
   "metadata": {},
   "outputs": [],
   "source": [
    "times"
   ]
  },
  {
   "cell_type": "code",
   "execution_count": null,
   "metadata": {},
   "outputs": [],
   "source": [
    "t1s = []\n",
    "t2s = []\n",
    "\n",
    "for _ in range(10000):\n",
    "    \n",
    "    # draw times\n",
    "    Z = np.random.normal(np.ones_like(optim.theta[0]))\n",
    "    times = np.exp(optim.theta[1])*Z+optim.theta[0]\n",
    "    maxi = np.max(times)\n",
    "    times = times + np.triu(np.ones_like(optim.theta[0])*maxi)\n",
    "    \n",
    "    # find t1 and t2\n",
    "    t1 = np.min(times)\n",
    "    t2 = np.min(times[times != t1])\n",
    "    \n",
    "    t1s.append(t1)\n",
    "    t2s.append(t2)\n",
    "    \n",
    "    last_coal = {0,1,2}\n",
    "    last_coal.remove(np.nonzero(times == t1)[0][0])\n",
    "    last_coal.remove(np.nonzero(times == t1)[1][0])"
   ]
  },
  {
   "cell_type": "code",
   "execution_count": null,
   "metadata": {},
   "outputs": [],
   "source": [
    "plt.hist(t2s,bins = 100)"
   ]
  },
  {
   "cell_type": "code",
   "execution_count": null,
   "metadata": {},
   "outputs": [],
   "source": []
  }
 ],
 "metadata": {
  "kernelspec": {
   "display_name": "Python 3 (ipykernel)",
   "language": "python",
   "name": "python3"
  },
  "language_info": {
   "codemirror_mode": {
    "name": "ipython",
    "version": 3
   },
   "file_extension": ".py",
   "mimetype": "text/x-python",
   "name": "python",
   "nbconvert_exporter": "python",
   "pygments_lexer": "ipython3",
   "version": "3.9.12"
  }
 },
 "nbformat": 4,
 "nbformat_minor": 2
}
