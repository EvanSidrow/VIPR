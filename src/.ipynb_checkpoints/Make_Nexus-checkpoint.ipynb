{
 "cells": [
  {
   "cell_type": "code",
   "execution_count": 21,
   "id": "bd6a0a4f",
   "metadata": {},
   "outputs": [],
   "source": [
    "import autograd.numpy as np\n",
    "from autograd.scipy.special import logsumexp,erf\n",
    "from autograd.scipy.stats import norm\n",
    "from autograd import grad\n",
    "\n",
    "#from autograd_gamma import gamma, gammainc, gammaincc, gammaincln, gammainccln\n",
    "\n",
    "import matplotlib.pyplot as plt\n",
    "from copy import deepcopy\n",
    "from itertools import product\n",
    "import pickle\n",
    "\n",
    "from tree import Tree\n",
    "from optimizer import Optimizer\n",
    "\n",
    "import warnings\n",
    "warnings.filterwarnings('ignore')\n",
    "\n",
    "np.random.seed(0)"
   ]
  },
  {
   "cell_type": "code",
   "execution_count": 22,
   "id": "404967fe",
   "metadata": {},
   "outputs": [],
   "source": [
    "with open('../dat/DS1.pickle', 'rb') as f:\n",
    "    DS1 = pickle.load(f)"
   ]
  },
  {
   "cell_type": "code",
   "execution_count": 23,
   "id": "9bc92cd0",
   "metadata": {},
   "outputs": [],
   "source": [
    "genomes = []\n",
    "species = []\n",
    "for key in DS1:\n",
    "    genomes.append(DS1[key])\n",
    "    species.append(key)\n",
    "    \n",
    "n_tax = len(species)\n",
    "n_char = len(genomes[0])"
   ]
  },
  {
   "cell_type": "code",
   "execution_count": 24,
   "id": "eb117934",
   "metadata": {},
   "outputs": [],
   "source": [
    "f = open(\"../dat/DS1.nex\", \"w\")\n",
    "f.write(\"\"\"#NEXUS\n",
    "\n",
    "BEGIN DATA;\n",
    "\\tDIMENSIONS NTAX=%d NCHAR=%d;\n",
    "\\tFORMAT MISSING=? GAP=- DATATYPE=DNA;\n",
    "\\tMATRIX\n",
    "\"\"\" % (n_tax,n_char))\n",
    "for key in DS1:\n",
    "    f.write(\"\\t\")\n",
    "    f.write(key)\n",
    "    f.write(\"\\t\")\n",
    "    f.write(DS1[key])\n",
    "    f.write(\"\\n\")\n",
    "\n",
    "f.write(\"\"\"\\t;\n",
    "END;\"\"\")\n",
    "f.close()"
   ]
  },
  {
   "cell_type": "code",
   "execution_count": null,
   "id": "3326f7f1",
   "metadata": {},
   "outputs": [],
   "source": []
  }
 ],
 "metadata": {
  "kernelspec": {
   "display_name": "Python 3 (ipykernel)",
   "language": "python",
   "name": "python3"
  },
  "language_info": {
   "codemirror_mode": {
    "name": "ipython",
    "version": 3
   },
   "file_extension": ".py",
   "mimetype": "text/x-python",
   "name": "python",
   "nbconvert_exporter": "python",
   "pygments_lexer": "ipython3",
   "version": "3.9.12"
  }
 },
 "nbformat": 4,
 "nbformat_minor": 5
}
