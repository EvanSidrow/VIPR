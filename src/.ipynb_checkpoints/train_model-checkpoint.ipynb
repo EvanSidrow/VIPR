{
 "cells": [
  {
   "cell_type": "code",
   "execution_count": 1,
   "metadata": {},
   "outputs": [],
   "source": [
    "%load_ext autoreload\n",
    "%autoreload 2"
   ]
  },
  {
   "cell_type": "code",
   "execution_count": null,
   "metadata": {},
   "outputs": [],
   "source": [
    "import numpy as np\n",
    "import torch\n",
    "import pickle\n",
    "import datetime\n",
    "\n",
    "from scipy.cluster.hierarchy import linkage\n",
    "from itertools import combinations\n",
    "\n",
    "from copy import deepcopy\n",
    "from matplotlib import pyplot as plt\n",
    "from collections import Counter\n",
    "from io import StringIO\n",
    "from Bio import Phylo\n",
    "\n",
    "from VIPR import VIPR\n",
    "\n",
    "import torch\n",
    "import torch.nn as nn\n",
    "torch.set_default_dtype(torch.float32)"
   ]
  },
  {
   "cell_type": "markdown",
   "metadata": {},
   "source": [
    "# Set Parameters"
   ]
  },
  {
   "cell_type": "code",
   "execution_count": 3,
   "metadata": {},
   "outputs": [],
   "source": [
    "dataset = \"DS1\" #[\"DS1\",\"DS2\",\"DS3\",\"DS4\",\"DS5\",\"DS6\",\"DS7\",\"DS8\",\"DS9\",\"DS10\",\"DS11\",\"COV\"]\n",
    "method = \"reinforce\" #[\"reparam\",\"reinforce\",\"VIMCO\"]\n",
    "alpha = 0.01 #[0.03,0.01,0.003,0.001]\n",
    "\n",
    "rand_seed = 0\n",
    "\n",
    "np.random.seed(rand_seed)\n",
    "torch.manual_seed(rand_seed)\n",
    "\n",
    "time = datetime.datetime.now().strftime('%Y_%m_%d_%H_%M_%S')\n",
    "data_file = '../dat/'+dataset+'/'+dataset+'.pickle'\n",
    "out_file = '../results/'+dataset+'/'+dataset+'_'+var_dist+'_'+method+'_'+str(alpha)+'_'+str(rand_seed)+'_'+time+'.pickle'"
   ]
  },
  {
   "cell_type": "code",
   "execution_count": 4,
   "metadata": {},
   "outputs": [],
   "source": [
    "# model parameters\n",
    "var_dist = \"LogNormal\" #[\"LogNormal\",\"Exponential\",\"Mixture\"]\n",
    "pop_size = 5.0 # effective popuation size\n",
    "rate = 1.0 # rate of evolution\n",
    "\n",
    "# optimization parameters\n",
    "batch_size = 10\n",
    "max_iters = 10000 \n",
    "max_time = 1.0 # HOURS\n",
    "record_every = 100\n",
    "test_batch_size = 100\n",
    "\n",
    "# decay rate parameters\n",
    "decay = \"exp\" # how to decay the learning rate\n",
    "if decay == \"linear\":\n",
    "    linear_decay = True\n",
    "else:\n",
    "    linear_decay = False\n",
    "lr_decay_freq = 1\n",
    "lr_decay_rate = 0.01**(1.0/max_iters)"
   ]
  },
  {
   "cell_type": "markdown",
   "metadata": {},
   "source": [
    "# Import Data"
   ]
  },
  {
   "cell_type": "code",
   "execution_count": 5,
   "metadata": {},
   "outputs": [],
   "source": [
    "with open(data_file, 'rb') as f:\n",
    "    ds = pickle.load(f)\n",
    "    \n",
    "genomes = []\n",
    "species = []\n",
    "for key in ds:\n",
    "    genomes.append(ds[key])\n",
    "    species.append(key)\n",
    "\n",
    "ntaxa = len(species)"
   ]
  },
  {
   "cell_type": "markdown",
   "metadata": {},
   "source": [
    "# Initialize $\\theta$"
   ]
  },
  {
   "cell_type": "code",
   "execution_count": 6,
   "metadata": {
    "scrolled": true
   },
   "outputs": [],
   "source": [
    "treedata = \"\"\n",
    "ntrees = 0\n",
    "burnin = 100 + 2*ntaxa\n",
    "\n",
    "for i in range(10):\n",
    "    tree_file = \"../dat/\"+dataset+\"/\"+dataset+\"_fixed_pop_support_short_run_rep_%d.trees\"%(i+1)\n",
    "    with open(tree_file, \"r\") as file:\n",
    "        for j,line in enumerate(file):\n",
    "            if j > burnin and j%10 == 0 and line.startswith(\"tree STATE\"):\n",
    "                line = line[line.find('('):]\n",
    "                line = line.replace(\"[&rate=1.0]\",\"\")\n",
    "                line = line.replace(\"[&rate=0.001]\",\"\")\n",
    "                treedata = treedata + line + \"\\n\"\n",
    "                ntrees += 1\n",
    "\n",
    "theta0 = torch.zeros((2,ntaxa,ntaxa))\n",
    "trees = Phylo.parse(StringIO(treedata), \"newick\")\n",
    "\n",
    "dists = np.zeros((ntrees,ntaxa,ntaxa))\n",
    "\n",
    "for i,tree in enumerate(trees):\n",
    "    for j in range(ntaxa):\n",
    "        for k in range(j):\n",
    "            mrca = tree.common_ancestor(str(j+1),str(k+1))\n",
    "            dists[i,j,k] = min(tree.distance(mrca,str(j+1)),tree.distance(mrca,str(k+1)))\n",
    "\n",
    "for j in range(ntaxa):\n",
    "    for k in range(j):\n",
    "        theta0[0,j,k] = np.mean(dists[:,j,k])\n",
    "        theta0[1,j,k] = np.var(dists[:,j,k])\n",
    "\n",
    "# add random noise\n",
    "if rand_seed > 0:\n",
    "    theta0 = theta0 + torch.normal(mean=0.0,std=rand_seed*0.1,size=(2,ntaxa,ntaxa))"
   ]
  },
  {
   "cell_type": "code",
   "execution_count": null,
   "metadata": {
    "scrolled": true
   },
   "outputs": [],
   "source": [
    "# plot theta0\n",
    "m = deepcopy(theta0[0])\n",
    "m[np.triu_indices(m.shape[0])] = np.nan\n",
    "plt.imshow(m)#,vmin = -10, vmax = -4)\n",
    "plt.title(\"means of coalscent times\")\n",
    "plt.colorbar()\n",
    "plt.show()\n",
    "\n",
    "var = deepcopy(theta0[1])\n",
    "var[np.triu_indices(var.shape[0])] = np.nan\n",
    "plt.imshow(np.log(var))#,vmin=-4,vmax=1)\n",
    "plt.title(\"log of variance of coalscent times\")\n",
    "plt.colorbar()\n",
    "plt.show()"
   ]
  },
  {
   "cell_type": "markdown",
   "metadata": {},
   "source": [
    "# Train Model"
   ]
  },
  {
   "cell_type": "code",
   "execution_count": null,
   "metadata": {
    "scrolled": true
   },
   "outputs": [],
   "source": [
    "optim = VIPR(genomes,theta0[0],theta0[1],var_dist=var_dist,\n",
    "             phi_pop_size=torch.tensor([pop_size]),var_dist_pop_size=\"Fixed\",\n",
    "             theta_pop_size=None,prior_pop_size=\"Fixed\",\n",
    "             tip_dates=None,\n",
    "             phi_rate=torch.tensor([rate]),var_dist_rate=\"Fixed\",\n",
    "             theta_rate=None,prior_rate=\"Fixed\")\n",
    "\n",
    "optim.learn(batch_size=batch_size,\n",
    "            iters=max_iters,\n",
    "            alpha=alpha,\n",
    "            method=method,\n",
    "            record_every=record_every,\n",
    "            test_batch_size=test_batch_size,\n",
    "            pop_size=pop_size,\n",
    "            lr_decay_freq=lr_decay_freq,\n",
    "            lr_decay_rate=lr_decay_rate,\n",
    "            linear_decay=linear_decay,\n",
    "            max_time=max_time)"
   ]
  },
  {
   "cell_type": "code",
   "execution_count": null,
   "metadata": {
    "scrolled": true
   },
   "outputs": [],
   "source": [
    "m = deepcopy(optim_nrm.phi[0].detach().numpy())\n",
    "m[np.triu_indices(m.shape[0])] = np.nan\n",
    "plt.imshow(m)\n",
    "plt.title(\"means of log coalscent times\")\n",
    "plt.colorbar()\n",
    "plt.show()\n",
    "\n",
    "var = deepcopy(optim_nrm.phi[1].detach().numpy())\n",
    "var[np.triu_indices(var.shape[0])] = np.nan\n",
    "plt.imshow(var)\n",
    "plt.title(\"log of variance of log coalscent times\")\n",
    "plt.colorbar()\n",
    "plt.show()"
   ]
  },
  {
   "cell_type": "markdown",
   "metadata": {},
   "source": [
    "# Save Model"
   ]
  },
  {
   "cell_type": "code",
   "execution_count": 20,
   "metadata": {},
   "outputs": [],
   "source": [
    "with open(out_file, 'wb') as file:\n",
    "    pickle.dump(optim_nrm, file)"
   ]
  }
 ],
 "metadata": {
  "kernelspec": {
   "display_name": "Python 3.13 (ARM)",
   "language": "python",
   "name": "py3.13"
  },
  "language_info": {
   "codemirror_mode": {
    "name": "ipython",
    "version": 3
   },
   "file_extension": ".py",
   "mimetype": "text/x-python",
   "name": "python",
   "nbconvert_exporter": "python",
   "pygments_lexer": "ipython3",
   "version": "3.13.3"
  }
 },
 "nbformat": 4,
 "nbformat_minor": 4
}
