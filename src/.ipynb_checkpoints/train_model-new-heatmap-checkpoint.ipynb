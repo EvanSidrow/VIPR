{
 "cells": [
  {
   "cell_type": "code",
   "execution_count": 1,
   "metadata": {},
   "outputs": [],
   "source": [
    "%load_ext autoreload\n",
    "%load_ext heat\n",
    "%autoreload 2"
   ]
  },
  {
   "cell_type": "code",
   "execution_count": null,
   "metadata": {},
   "outputs": [],
   "source": [
    "%%heat\n",
    "\n",
    "import matplotlib.pyplot as plt\n",
    "import numpy as np\n",
    "\n",
    "import torch\n",
    "\n",
    "from itertools import product\n",
    "from itertools import combinations\n",
    "import pickle\n",
    "import datetime\n",
    "\n",
    "import subprocess\n",
    "import os\n",
    "\n",
    "from scipy.special import logsumexp\n",
    "\n",
    "from Bio.Phylo.TreeConstruction import _DistanceMatrix\n",
    "from Bio.Phylo.TreeConstruction import DistanceTreeConstructor\n",
    "from Bio.Phylo.TreeConstruction import DistanceCalculator\n",
    "from io import StringIO\n",
    "from Bio import Phylo\n",
    "\n",
    "from ete3 import Tree\n",
    "import torch.nn as nn\n",
    "from torch.distributions.log_normal import LogNormal\n",
    "\n",
    "import warnings\n",
    "\n",
    "warnings.filterwarnings('ignore')\n",
    "\n",
    "from copy import deepcopy\n",
    "from scipy.cluster.hierarchy import linkage,dendrogram\n",
    "from scipy.cluster.hierarchy import *\n",
    "\n",
    "\n",
    "### set parameters\n",
    "\n",
    "np.random.seed(0)\n",
    "\n",
    "data_set = \"DS2\"\n",
    "pop_size = 5.0 # exponential parameter for constant pop size prior\n",
    "data_file = '../dat/'+data_set+'/'+data_set+'.pickle'\n",
    "time = datetime.datetime.now().strftime('%Y_%m_%d_%H_%M_%S')\n",
    "reparam_file = '../results/'+data_set+'/'+data_set+'_'+time+'_reparam.pickle'\n",
    "reinforce_file = '../results/'+data_set+'/'+data_set+'_'+time+'_reinforce.pickle'\n",
    "VIMCO_file = '../results/'+data_set+'/'+data_set+'_'+time+'_VIMCO.pickle'\n",
    "\n",
    "### load in data\n",
    "\n",
    "with open(data_file, 'rb') as f:\n",
    "    DS1 = pickle.load(f)\n",
    "    \n",
    "genomes = []\n",
    "species = []\n",
    "for key in DS1:\n",
    "    genomes.append(DS1[key])\n",
    "    species.append(key)\n",
    "ntaxa = len(species)\n",
    "\n",
    "nuc2vec = {'A':[1.,0.,0.,0.], 'G':[0.,1.,0.,0.], 'C':[0.,0.,1.,0.], 'T':[0.,0.,0.,1.],\n",
    "           '-':[1.,1.,1.,1.], '?':[1.,1.,1.,1.], 'N':[1.,1.,1.,1.], 'R':[1.,1.,0.,0.],\n",
    "           'Y':[0.,0.,1.,1.], 'S':[0.,1.,1.,0.], 'W':[1.,0.,0.,1.], 'K':[0.,1.,0.,1.],\n",
    "           'M':[1.,0.,1.,0.], 'B':[0.,1.,1.,1.], 'D':[1.,1.,0.,1.], 'H':[1.,0.,1.,1.],\n",
    "           'V':[1.,1.,1.,0.], '.':[1.,1.,1.,1.], 'U':[0.,0.,0.,1.], 'n':[1.,1.,1.,1.]}\n",
    "\n",
    "treedata = \"\"\n",
    "ntrees = 0\n",
    "for i in range(1):\n",
    "    tree_file = \"../dat/\"+data_set+\"/\"+data_set+\"_fixed_pop_support_short_run_rep_%d.trees\"%(i+1)\n",
    "    with open(tree_file, \"r\") as file:\n",
    "        for line in file:\n",
    "            if line.startswith(\"tree STATE\"):\n",
    "                line = line[line.find('('):]\n",
    "                line = line.replace(\"[&rate=1.0]\",\"\")\n",
    "                treedata = f'{treedata}{line}\\n'\n",
    "                #treedata = treedata + line + \"\\n\"\n",
    "                ntrees += 1\n",
    "                \n",
    "\n",
    "### initialize theta\n",
    "theta = torch.zeros((2,ntaxa,ntaxa))\n",
    "trees = Phylo.parse(StringIO(treedata), \"newick\")\n",
    "log_dists = np.zeros((ntrees,ntaxa,ntaxa))\n",
    "\n",
    "for i,tree in enumerate(trees):\n",
    "    for j in range(ntaxa):\n",
    "        for k in range(j):\n",
    "            log_dists[i,j,k] = np.log(tree.distance(target1=str(j+1),target2=str(k+1))/2.0)\n",
    "            \n",
    "    if i > 10:\n",
    "        break\n",
    "\n",
    "for j in range(ntaxa):\n",
    "    for k in range(j):\n",
    "        theta[0,j,k] = np.mean(log_dists[:,j,k])\n",
    "        theta[1,j,k] = np.log(np.std(log_dists[:,j,k]))\n",
    "        \n",
    "### get the rate matrix\n",
    "\n",
    "def decompJC(symm=False):\n",
    "    # pA = pG = pC = pT = .25\n",
    "    pden = np.array([.25, .25, .25, .25])\n",
    "    rate_matrix_JC = 1.0/3 * np.ones((4,4))\n",
    "    for i in range(4):\n",
    "        rate_matrix_JC[i,i] = -1.0\n",
    "    \n",
    "    if not symm:\n",
    "        D_JC, U_JC = np.linalg.eig(rate_matrix_JC)\n",
    "        U_JC_inv = np.linalg.inv(U_JC)\n",
    "    else:\n",
    "        D_JC, W_JC = np.linalg.eigh(np.dot(np.dot(np.diag(np.sqrt(pden)), rate_matrix_JC), np.diag(np.sqrt(1.0/pden))))\n",
    "        U_JC = np.dot(np.diag(np.sqrt(1.0/pden)), W_JC)\n",
    "        U_JC_inv = np.dot(W_JC.T, np.diag(np.sqrt(pden)))\n",
    "    \n",
    "    return D_JC, U_JC, U_JC_inv, rate_matrix_JC\n",
    "\n",
    "D,U,U_inv,rate_matrix = decompJC()\n",
    "\n",
    "pden = np.array([0.25,0.25,0.25,0.25])\n",
    "pden = torch.from_numpy(pden).double()\n",
    "D = torch.from_numpy(D).double()\n",
    "U = torch.from_numpy(U).double()\n",
    "U_inv = torch.from_numpy(U_inv).double()\n",
    "\n",
    "### define needed functions\n",
    "\n",
    "def initialCLV(genomes, unique_site=False):\n",
    "    if unique_site:\n",
    "        data_arr = np.array([list(genome) for genome in genomes]).T\n",
    "        unique_sites, counts = np.unique(data_arr, return_counts=True, axis=0)\n",
    "        n_unique_sites = len(counts)\n",
    "        unique_data = unique_sites.T\n",
    "\n",
    "        return [np.transpose([nuc2vec[c] for c in unique_data[i]]) for i in range(ntaxa)], counts\n",
    "    else:\n",
    "        return [np.transpose([nuc2vec[c] for c in data[i]]) for i in range(ntaxa)]\n",
    "\n",
    "L, site_counts = map(torch.DoubleTensor, initialCLV(genomes, unique_site=True))\n",
    "    \n",
    "def loglikelihood(tree,branch):\n",
    "        \n",
    "    branch_D = torch.einsum(\"i,j->ij\", (branch, D))\n",
    "    transition_matrix = torch.matmul(torch.einsum(\"ij,kj->kij\", (U, torch.exp(branch_D))), U_inv).clamp(0.0)\n",
    "    scaler_list = []\n",
    "    for node in tree.traverse(\"postorder\"):\n",
    "        if node.is_leaf():\n",
    "            node.state = L[node.name].detach()\n",
    "        else:\n",
    "            node.state = 1.0\n",
    "            for child in node.children:\n",
    "                node.state *= transition_matrix[child.name].mm(child.state)\n",
    "            scaler = torch.sum(node.state, 0)\n",
    "            node.state /= scaler\n",
    "            scaler_list.append(scaler)\n",
    "\n",
    "    scaler_list.append(torch.mm(pden.view(-1,4), tree.state).squeeze())\n",
    "    logll = torch.sum(torch.stack(scaler_list).log() * site_counts)\n",
    "    return logll\n",
    "\n",
    "def scipy_linkage_to_ete3(linkage_matrix):\n",
    "    \"\"\"\n",
    "    Converts a SciPy hierarchical clustering linkage matrix to an ETE3 tree.\n",
    "\n",
    "    Parameters:\n",
    "        linkage_matrix (ndarray): The linkage matrix from scipy.cluster.hierarchy.linkage.\n",
    "        labels (list of str): Labels for the original leaves (samples).\n",
    "    \n",
    "    Returns:\n",
    "        ete3.Tree: The converted ETE3 tree.\n",
    "        branches: tensor of branch lengths\n",
    "    \"\"\"\n",
    "    num_leaves = len(linkage_matrix) + 1\n",
    "    nodes = {i: Tree(name=i,dist=0.0) for i in range(num_leaves)}  # Initialize leaf nodes\n",
    "    # add torch dist\n",
    "    for key in nodes:\n",
    "        nodes[key].dist_torch = torch.tensor(0.0)\n",
    "        \n",
    "    branches = torch.zeros(2*num_leaves-2) # Initialize branches\n",
    "    \n",
    "    for i, (left, right, distance, _) in enumerate(linkage_matrix):\n",
    "        left, right = int(left), int(right)  # Convert indices to integers\n",
    "        new_node = Tree(name=num_leaves+i)  # Create an internal node\n",
    "        new_node.dist_torch = distance  # Set branch length\n",
    "        new_node.add_child(nodes[left])  # Add left child\n",
    "        new_node.add_child(nodes[right])  # Add right child\n",
    "        for child in new_node.children:\n",
    "            child.branch = distance - child.dist_torch\n",
    "            branches[child.name] = child.branch\n",
    "            \n",
    "        nodes[num_leaves + i] = new_node  # Store the new node in the dictionary\n",
    "\n",
    "    nodes[len(linkage_matrix) + num_leaves - 1].branch = None\n",
    "    tree = nodes[len(linkage_matrix) + num_leaves - 1] \n",
    "    return tree, branches\n",
    "\n",
    "def logvariational_new(linkage_matrix,theta):\n",
    "     \n",
    "    log_q = 0.0\n",
    "    X = [torch.tensor([i]) for i in range(ntaxa)]\n",
    "    \n",
    "    for row in linkage_matrix:\n",
    "        \n",
    "        Wn = X[int(row[0])]\n",
    "        Zn = X[int(row[1])]\n",
    "        t = row[2]\n",
    "        log_t = torch.log(t)\n",
    "        \n",
    "        Wn_grid, Zn_grid = torch.meshgrid(Wn,Zn, indexing='ij')\n",
    "        rowinds = torch.max(Wn_grid.flatten(), Zn_grid.flatten())\n",
    "        colinds = torch.min(Wn_grid.flatten(), Zn_grid.flatten())\n",
    "        \n",
    "        mus = theta[0,rowinds,colinds]\n",
    "        sigs = torch.exp(theta[1,rowinds,colinds])\n",
    "        \n",
    "        dist = LogNormal(mus, sigs)\n",
    "        \n",
    "        log_sfs = torch.log(1.0 - dist.cdf(t))\n",
    "        log_pdfs = dist.log_prob(t)\n",
    "        \n",
    "        log_q += torch.sum(log_sfs) + torch.logsumexp(log_pdfs - log_sfs,0)\n",
    "            \n",
    "        X.append(torch.cat([Wn,Zn]))\n",
    "        \n",
    "    return log_q\n",
    "\n",
    "\n",
    "### run VI\n",
    "\n",
    "\n",
    "theta = nn.Parameter(torch.tensor(theta, requires_grad=True))\n",
    "optimizer = torch.optim.Adam([theta], lr=0.01)\n",
    "ct = datetime.datetime.now()\n",
    "\n",
    "niter = 10\n",
    "batch_size = 10\n",
    "\n",
    "for it in range(niter):\n",
    "\n",
    "    logll = 0.0\n",
    "    logprior = 0.0\n",
    "    logq = 0.0\n",
    "    \n",
    "    for _ in range(batch_size):\n",
    "    \n",
    "        eps = torch.normal(mean=0.0,std=1.0,size=(ntaxa,ntaxa))\n",
    "        times = torch.exp(torch.exp(theta[1])*eps+theta[0])\n",
    "        times = times + torch.triu(torch.full((ntaxa,ntaxa), float(\"Inf\")))\n",
    "        times0 = times.detach().numpy()\n",
    "        Z = linkage([times0[ind[1],ind[0]] for ind in combinations(range(ntaxa),2)], method=\"single\")\n",
    "        Z = torch.tensor(Z)\n",
    "\n",
    "        # find the right inds\n",
    "        rowinds,colinds = np.where(np.isin(times0,Z[:,2]))\n",
    "        Z[:,2] = torch.sort(times[rowinds,colinds])[0]\n",
    "\n",
    "        # find log-priors\n",
    "        ts = torch.diff(Z[:,2],prepend=torch.tensor([0.0]))\n",
    "        ks = torch.tensor(range(ntaxa,1,-1))\n",
    "        rates = ks*(ks-1) / (2*pop_size)\n",
    "        logprior = logprior + torch.sum(torch.log(rates) - rates*ts - torch.log(ks*(ks-1)/2))/batch_size\n",
    "\n",
    "        # get log-likelihood\n",
    "        tree,branches = scipy_linkage_to_ete3(Z)\n",
    "        logll = logll + loglikelihood(tree,branches)/batch_size\n",
    "        \n",
    "        # get log-q\n",
    "        logq = logq + logvariational_new(Z,theta)/batch_size\n",
    "        \n",
    "    loss = logq-logll-logprior\n",
    "\n",
    "    optimizer.zero_grad()\n",
    "    loss.backward()\n",
    "    optimizer.step()\n",
    "    if it % (niter/25) == 0:\n",
    "        print(it/niter,loss)\n",
    "    \n",
    "print(datetime.datetime.now() - ct)\n",
    "print(theta)"
   ]
  },
  {
   "cell_type": "code",
   "execution_count": null,
   "metadata": {},
   "outputs": [],
   "source": [
    "m = deepcopy(theta[0].detach())\n",
    "m[np.triu_indices(m.shape[0])] = np.nan\n",
    "plt.imshow(m)\n",
    "plt.title(\"means of log-coalscent times\")\n",
    "plt.colorbar()"
   ]
  },
  {
   "cell_type": "code",
   "execution_count": null,
   "metadata": {},
   "outputs": [],
   "source": [
    "log_sig = deepcopy(theta[1].detach())\n",
    "log_sig[np.triu_indices(log_sig.shape[0])] = np.nan\n",
    "plt.imshow(log_sig)\n",
    "plt.title(\"log-std of log-coalscent times\")\n",
    "plt.colorbar()"
   ]
  },
  {
   "cell_type": "code",
   "execution_count": 438,
   "metadata": {},
   "outputs": [
    {
     "name": "stdout",
     "output_type": "stream",
     "text": [
      "tensor([0.0016, 0.0020, 0.0010, 0.0003, 0.0011, 0.0013, 0.0006, 0.0007, 0.0006,\n",
      "        0.0018, 0.0011, 0.0008, 0.0006, 0.0032, 0.0033, 0.0008, 0.0002, 0.0001,\n",
      "        0.0010, 0.0021, 0.0038, 0.0043, 0.0001, 0.0027, 0.0054, 0.0063],\n",
      "       grad_fn=<SubBackward0>)\n",
      "27\n"
     ]
    }
   ],
   "source": [
    "print(ts)\n",
    "print(ntaxa)"
   ]
  },
  {
   "cell_type": "code",
   "execution_count": 268,
   "metadata": {},
   "outputs": [
    {
     "data": {
      "image/png": "[encoded data removed]",
      "text/plain": [
       "<Figure size 864x720 with 1 Axes>"
      ]
     },
     "metadata": {
      "needs_background": "light"
     },
     "output_type": "display_data"
    }
   ],
   "source": [
    "treedata = write_newick(tree1.nodes[-1])\n",
    "handle = StringIO(treedata)\n",
    "tree_to_draw = Phylo.read(handle, \"newick\")\n",
    "\n",
    "# Set up the plot\n",
    "fig = plt.figure(figsize=(12, 10))\n",
    "ax = fig.add_subplot(1, 1, 1)\n",
    "\n",
    "# Draw the phylogenetic tree\n",
    "Phylo.draw(tree_to_draw, axes=ax)"
   ]
  },
  {
   "cell_type": "markdown",
   "metadata": {},
   "source": [
    "# test gradient"
   ]
  },
  {
   "cell_type": "code",
   "execution_count": 363,
   "metadata": {},
   "outputs": [
    {
     "name": "stdout",
     "output_type": "stream",
     "text": [
      "tensor(0.8037)\n"
     ]
    }
   ],
   "source": [
    "from ete3 import Tree\n",
    "import torch.nn as nn\n",
    "\n",
    "theta0 = theta.detach().clone()\n",
    "theta0[1] = -2*torch.ones_like(theta0[1])\n",
    "theta = nn.Parameter(torch.tensor(theta0, requires_grad=True))\n",
    "\n",
    "optimizer = torch.optim.Adam([theta], lr=0.01)\n",
    "ct = datetime.datetime.now()\n",
    "\n",
    "#print(theta)\n",
    "\n",
    "torch.manual_seed(0)\n",
    "niter = 1\n",
    "batch_size = 1\n",
    "\n",
    "for it in range(niter):\n",
    "\n",
    "    logll = 0.0\n",
    "    logprior = 0.0\n",
    "    \n",
    "    for _ in range(batch_size):\n",
    "    \n",
    "        eps = torch.normal(mean=0.0,std=1.0,size=(ntaxa,ntaxa))\n",
    "        log_times = torch.exp(theta[1])*eps+theta[0]\n",
    "        log_times = log_times + torch.triu(torch.full((ntaxa,ntaxa), float(\"Inf\")))\n",
    "        log_times0 = log_times.detach().numpy()\n",
    "        Z = linkage([np.exp(log_times0[ind[1],ind[0]]) for ind in combinations(range(ntaxa),2)], method=\"single\")\n",
    "        Z = torch.tensor(Z)\n",
    "\n",
    "        # find the right inds\n",
    "        rowinds,colinds = np.where(np.isin(np.exp(log_times0),Z[:,2]))\n",
    "        Z[:,2] = torch.exp(torch.sort(log_times[rowinds,colinds])[0])\n",
    "\n",
    "        #logll += torch.sum(Z[:,2])\n",
    "        # find log-priors\n",
    "        ts = torch.diff(Z[:,2],prepend=torch.tensor([0.0]))\n",
    "        ks = torch.tensor(range(ntaxa,1,-1))\n",
    "        rates = ks*(ks-1) / (2*pop_size)\n",
    "        logprior = logprior + torch.sum(torch.log(rates) - rates*ts - torch.log(ks*(ks-1)/2))/batch_size\n",
    "\n",
    "        tree,branches = scipy_linkage_to_ete3(Z)\n",
    "        logll = logll + loglikelihood(tree,branches)/batch_size\n",
    "        \n",
    "    loss = -logll-logprior\n",
    "\n",
    "    optimizer.zero_grad()\n",
    "    loss.backward()\n",
    "    #optimizer.step()\n",
    "\n",
    "print(theta.grad[0,12,8])\n",
    "#print(datetime.datetime.now() - ct)\n",
    "#print(theta)"
   ]
  },
  {
   "cell_type": "code",
   "execution_count": 359,
   "metadata": {},
   "outputs": [
    {
     "name": "stdout",
     "output_type": "stream",
     "text": [
      "tensor(0.0139)\n"
     ]
    }
   ],
   "source": [
    "from ete3 import Tree\n",
    "import torch.nn as nn\n",
    "\n",
    "#theta = torch.zeros_like(theta)\n",
    "theta = nn.Parameter(torch.tensor(theta, requires_grad=True))\n",
    "#optimizer = torch.optim.Adam([theta], lr=0.01)\n",
    "ct = datetime.datetime.now()\n",
    "\n",
    "#print(theta)\n",
    "\n",
    "def loss0(theta):\n",
    "\n",
    "    torch.manual_seed(0)\n",
    "    niter = 1\n",
    "    batch_size = 1\n",
    "    \n",
    "    logll = 0.0\n",
    "    logprior = 0.0\n",
    "    \n",
    "    for _ in range(batch_size):\n",
    "    \n",
    "        eps = torch.normal(mean=0.0,std=1.0,size=(ntaxa,ntaxa))\n",
    "        log_times = torch.exp(theta[1])*eps+theta[0]\n",
    "        log_times = log_times + torch.triu(torch.full((ntaxa,ntaxa), float(\"Inf\")))\n",
    "        log_times0 = log_times.detach().numpy()\n",
    "        Z = linkage([np.exp(log_times0[ind[1],ind[0]]) for ind in combinations(range(ntaxa),2)], method=\"single\")\n",
    "        Z = torch.tensor(Z)\n",
    "\n",
    "        # find the right inds\n",
    "        rowinds,colinds = np.where(np.isin(np.exp(log_times0),Z[:,2]))\n",
    "        Z[:,2] = torch.exp(torch.sort(log_times[rowinds,colinds])[0])\n",
    "\n",
    "        # find log-priors\n",
    "        ts = torch.diff(Z[:,2],prepend=torch.tensor([0.0]))\n",
    "        ks = torch.tensor(range(ntaxa,1,-1))\n",
    "        rates = ks*(ks-1) / (2*pop_size)\n",
    "        logprior = logprior + torch.sum(torch.log(rates) - rates*ts - torch.log(ks*(ks-1)/2))/batch_size\n",
    "\n",
    "        tree,branches = scipy_linkage_to_ete3(Z)\n",
    "        logll = logll + loglikelihood(tree,branches)/batch_size\n",
    "    \n",
    "    return -logll-logprior\n",
    "\n",
    "\n",
    "with torch.no_grad():\n",
    "    h = 0.000001\n",
    "    f0 = loss0(theta)\n",
    "    #print(\"\")\n",
    "    theta[0,12,8] += h\n",
    "    f1 = loss0(theta)\n",
    "    theta[0,12,8] -= h\n",
    "\n",
    "    print((f1-f0)/h)"
   ]
  },
  {
   "cell_type": "markdown",
   "metadata": {},
   "source": [
    "# perform variational inference"
   ]
  },
  {
   "cell_type": "code",
   "execution_count": 368,
   "metadata": {},
   "outputs": [],
   "source": []
  },
  {
   "cell_type": "code",
   "execution_count": 72,
   "metadata": {},
   "outputs": [
    {
     "ename": "KeyboardInterrupt",
     "evalue": "",
     "output_type": "error",
     "traceback": [
      "\u001b[0;31m---------------------------------------------------------------------------\u001b[0m",
      "\u001b[0;31mKeyboardInterrupt\u001b[0m                         Traceback (most recent call last)",
      "Input \u001b[0;32mIn [72]\u001b[0m, in \u001b[0;36m<cell line: 2>\u001b[0;34m()\u001b[0m\n\u001b[1;32m      1\u001b[0m optim_reparam \u001b[38;5;241m=\u001b[39m SLCVI(tree_log_probs,deepcopy(theta),pop_size)\n\u001b[0;32m----> 2\u001b[0m \u001b[43moptim_reparam\u001b[49m\u001b[38;5;241;43m.\u001b[39;49m\u001b[43mlearn\u001b[49m\u001b[43m(\u001b[49m\u001b[43mbatch_size\u001b[49m\u001b[38;5;241;43m=\u001b[39;49m\u001b[38;5;241;43m10\u001b[39;49m\u001b[43m,\u001b[49m\n\u001b[1;32m      3\u001b[0m \u001b[43m                    \u001b[49m\u001b[43miters\u001b[49m\u001b[38;5;241;43m=\u001b[39;49m\u001b[38;5;241;43m100\u001b[39;49m\u001b[43m,\u001b[49m\n\u001b[1;32m      4\u001b[0m \u001b[43m                    \u001b[49m\u001b[43malpha\u001b[49m\u001b[38;5;241;43m=\u001b[39;49m\u001b[38;5;241;43m0.01\u001b[39;49m\u001b[43m,\u001b[49m\n\u001b[1;32m      5\u001b[0m \u001b[43m                    \u001b[49m\u001b[43mmethod\u001b[49m\u001b[38;5;241;43m=\u001b[39;49m\u001b[38;5;124;43m\"\u001b[39;49m\u001b[38;5;124;43mreparam\u001b[39;49m\u001b[38;5;124;43m\"\u001b[39;49m\u001b[43m,\u001b[49m\n\u001b[1;32m      6\u001b[0m \u001b[43m                    \u001b[49m\u001b[43mrecord_every\u001b[49m\u001b[38;5;241;43m=\u001b[39;49m\u001b[38;5;241;43m10\u001b[39;49m\u001b[43m,\u001b[49m\n\u001b[1;32m      7\u001b[0m \u001b[43m                    \u001b[49m\u001b[43mpop_size\u001b[49m\u001b[38;5;241;43m=\u001b[39;49m\u001b[43mpop_size\u001b[49m\u001b[43m)\u001b[49m\n\u001b[1;32m      9\u001b[0m \u001b[38;5;28mprint\u001b[39m(\u001b[38;5;124m\"\u001b[39m\u001b[38;5;124mfinal theta:\u001b[39m\u001b[38;5;124m\"\u001b[39m,optim_reparam\u001b[38;5;241m.\u001b[39mtheta)\n\u001b[1;32m     10\u001b[0m \u001b[38;5;28mprint\u001b[39m(\u001b[38;5;124m\"\u001b[39m\u001b[38;5;124mfinal gradient:\u001b[39m\u001b[38;5;124m\"\u001b[39m,optim_reparam\u001b[38;5;241m.\u001b[39mtheta\u001b[38;5;241m.\u001b[39mgrad)\n",
      "File \u001b[0;32m~/Documents/Research/VBPI-matrix/src/SLCVI_torch.py:184\u001b[0m, in \u001b[0;36mSLCVI.learn\u001b[0;34m(self, batch_size, iters, alpha, method, anneal_freq, anneal_rate, record_every, test_batch_size, pop_size, max_time, linear_decay)\u001b[0m\n\u001b[1;32m    181\u001b[0m     \u001b[38;5;28;01mraise\u001b[39;00m \u001b[38;5;167;01mNotImplementedError\u001b[39;00m\n\u001b[1;32m    183\u001b[0m \u001b[38;5;28mself\u001b[39m\u001b[38;5;241m.\u001b[39moptimizer\u001b[38;5;241m.\u001b[39mzero_grad()\n\u001b[0;32m--> 184\u001b[0m \u001b[43mloss\u001b[49m\u001b[38;5;241;43m.\u001b[39;49m\u001b[43mbackward\u001b[49m\u001b[43m(\u001b[49m\u001b[43m)\u001b[49m\n\u001b[1;32m    185\u001b[0m \u001b[38;5;28mself\u001b[39m\u001b[38;5;241m.\u001b[39moptimizer\u001b[38;5;241m.\u001b[39mstep()\n\u001b[1;32m    187\u001b[0m \u001b[38;5;28;01mif\u001b[39;00m it \u001b[38;5;241m%\u001b[39m record_every \u001b[38;5;241m==\u001b[39m \u001b[38;5;241m0\u001b[39m:\n",
      "File \u001b[0;32m~/opt/anaconda3/lib/python3.9/site-packages/torch/_tensor.py:522\u001b[0m, in \u001b[0;36mTensor.backward\u001b[0;34m(self, gradient, retain_graph, create_graph, inputs)\u001b[0m\n\u001b[1;32m    512\u001b[0m \u001b[38;5;28;01mif\u001b[39;00m has_torch_function_unary(\u001b[38;5;28mself\u001b[39m):\n\u001b[1;32m    513\u001b[0m     \u001b[38;5;28;01mreturn\u001b[39;00m handle_torch_function(\n\u001b[1;32m    514\u001b[0m         Tensor\u001b[38;5;241m.\u001b[39mbackward,\n\u001b[1;32m    515\u001b[0m         (\u001b[38;5;28mself\u001b[39m,),\n\u001b[0;32m   (...)\u001b[0m\n\u001b[1;32m    520\u001b[0m         inputs\u001b[38;5;241m=\u001b[39minputs,\n\u001b[1;32m    521\u001b[0m     )\n\u001b[0;32m--> 522\u001b[0m \u001b[43mtorch\u001b[49m\u001b[38;5;241;43m.\u001b[39;49m\u001b[43mautograd\u001b[49m\u001b[38;5;241;43m.\u001b[39;49m\u001b[43mbackward\u001b[49m\u001b[43m(\u001b[49m\n\u001b[1;32m    523\u001b[0m \u001b[43m    \u001b[49m\u001b[38;5;28;43mself\u001b[39;49m\u001b[43m,\u001b[49m\u001b[43m \u001b[49m\u001b[43mgradient\u001b[49m\u001b[43m,\u001b[49m\u001b[43m \u001b[49m\u001b[43mretain_graph\u001b[49m\u001b[43m,\u001b[49m\u001b[43m \u001b[49m\u001b[43mcreate_graph\u001b[49m\u001b[43m,\u001b[49m\u001b[43m \u001b[49m\u001b[43minputs\u001b[49m\u001b[38;5;241;43m=\u001b[39;49m\u001b[43minputs\u001b[49m\n\u001b[1;32m    524\u001b[0m \u001b[43m\u001b[49m\u001b[43m)\u001b[49m\n",
      "File \u001b[0;32m~/opt/anaconda3/lib/python3.9/site-packages/torch/autograd/__init__.py:266\u001b[0m, in \u001b[0;36mbackward\u001b[0;34m(tensors, grad_tensors, retain_graph, create_graph, grad_variables, inputs)\u001b[0m\n\u001b[1;32m    261\u001b[0m     retain_graph \u001b[38;5;241m=\u001b[39m create_graph\n\u001b[1;32m    263\u001b[0m \u001b[38;5;66;03m# The reason we repeat the same comment below is that\u001b[39;00m\n\u001b[1;32m    264\u001b[0m \u001b[38;5;66;03m# some Python versions print out the first line of a multi-line function\u001b[39;00m\n\u001b[1;32m    265\u001b[0m \u001b[38;5;66;03m# calls in the traceback and some print out the last line\u001b[39;00m\n\u001b[0;32m--> 266\u001b[0m \u001b[43mVariable\u001b[49m\u001b[38;5;241;43m.\u001b[39;49m\u001b[43m_execution_engine\u001b[49m\u001b[38;5;241;43m.\u001b[39;49m\u001b[43mrun_backward\u001b[49m\u001b[43m(\u001b[49m\u001b[43m  \u001b[49m\u001b[38;5;66;43;03m# Calls into the C++ engine to run the backward pass\u001b[39;49;00m\n\u001b[1;32m    267\u001b[0m \u001b[43m    \u001b[49m\u001b[43mtensors\u001b[49m\u001b[43m,\u001b[49m\n\u001b[1;32m    268\u001b[0m \u001b[43m    \u001b[49m\u001b[43mgrad_tensors_\u001b[49m\u001b[43m,\u001b[49m\n\u001b[1;32m    269\u001b[0m \u001b[43m    \u001b[49m\u001b[43mretain_graph\u001b[49m\u001b[43m,\u001b[49m\n\u001b[1;32m    270\u001b[0m \u001b[43m    \u001b[49m\u001b[43mcreate_graph\u001b[49m\u001b[43m,\u001b[49m\n\u001b[1;32m    271\u001b[0m \u001b[43m    \u001b[49m\u001b[43minputs\u001b[49m\u001b[43m,\u001b[49m\n\u001b[1;32m    272\u001b[0m \u001b[43m    \u001b[49m\u001b[43mallow_unreachable\u001b[49m\u001b[38;5;241;43m=\u001b[39;49m\u001b[38;5;28;43;01mTrue\u001b[39;49;00m\u001b[43m,\u001b[49m\n\u001b[1;32m    273\u001b[0m \u001b[43m    \u001b[49m\u001b[43maccumulate_grad\u001b[49m\u001b[38;5;241;43m=\u001b[39;49m\u001b[38;5;28;43;01mTrue\u001b[39;49;00m\u001b[43m,\u001b[49m\n\u001b[1;32m    274\u001b[0m \u001b[43m\u001b[49m\u001b[43m)\u001b[49m\n",
      "\u001b[0;31mKeyboardInterrupt\u001b[0m: "
     ]
    }
   ],
   "source": [
    "optim_reparam = SLCVI(tree_log_probs,deepcopy(theta),pop_size)\n",
    "optim_reparam.learn(batch_size=10,\n",
    "                    iters=100,\n",
    "                    alpha=0.01,\n",
    "                    method=\"reparam\",\n",
    "                    record_every=10,\n",
    "                    pop_size=pop_size)\n",
    "\n",
    "print(\"final theta:\",optim_reparam.theta)\n",
    "print(\"final gradient:\",optim_reparam.theta.grad)\n",
    "plt.plot(optim_reparam.ELBO_ests)"
   ]
  },
  {
   "cell_type": "code",
   "execution_count": null,
   "metadata": {
    "scrolled": true
   },
   "outputs": [],
   "source": [
    "plt.plot(optim_reparam.ELBO_ests)\n",
    "plt.show()\n",
    "plt.plot(np.log(optim_reparam.grad_norms))\n",
    "plt.show()\n",
    "\n",
    "m = deepcopy(optim_reparam.theta[0].detach())\n",
    "m[np.triu_indices(m.shape[0])] = np.nan\n",
    "plt.imshow(m)\n",
    "plt.title(\"means of log-coalscent times\")\n",
    "plt.colorbar()\n",
    "plt.show()\n",
    "\n",
    "log_sig = deepcopy(optim_reparam.theta[1].detach())\n",
    "log_sig[np.triu_indices(log_sig.shape[0])] = np.nan\n",
    "plt.imshow(log_sig)\n",
    "plt.title(\"log-std of log-coalscent times\")\n",
    "plt.colorbar()\n",
    "plt.show()"
   ]
  },
  {
   "cell_type": "code",
   "execution_count": 131,
   "metadata": {},
   "outputs": [
    {
     "ename": "PicklingError",
     "evalue": "Can't pickle <class 'SLCVI_torch.SLCVI'>: it's not the same object as SLCVI_torch.SLCVI",
     "output_type": "error",
     "traceback": [
      "\u001b[0;31m---------------------------------------------------------------------------\u001b[0m",
      "\u001b[0;31mPicklingError\u001b[0m                             Traceback (most recent call last)",
      "Input \u001b[0;32mIn [131]\u001b[0m, in \u001b[0;36m<cell line: 1>\u001b[0;34m()\u001b[0m\n\u001b[1;32m      1\u001b[0m \u001b[38;5;28;01mwith\u001b[39;00m \u001b[38;5;28mopen\u001b[39m(reparam_file, \u001b[38;5;124m'\u001b[39m\u001b[38;5;124mwb\u001b[39m\u001b[38;5;124m'\u001b[39m) \u001b[38;5;28;01mas\u001b[39;00m file: \n\u001b[0;32m----> 2\u001b[0m     \u001b[43mpickle\u001b[49m\u001b[38;5;241;43m.\u001b[39;49m\u001b[43mdump\u001b[49m\u001b[43m(\u001b[49m\u001b[43moptim_reparam\u001b[49m\u001b[43m,\u001b[49m\u001b[43m \u001b[49m\u001b[43mfile\u001b[49m\u001b[43m)\u001b[49m\n",
      "\u001b[0;31mPicklingError\u001b[0m: Can't pickle <class 'SLCVI_torch.SLCVI'>: it's not the same object as SLCVI_torch.SLCVI"
     ]
    }
   ],
   "source": [
    "with open(reparam_file, 'wb') as file: \n",
    "    pickle.dump(optim_reparam, file) "
   ]
  },
  {
   "cell_type": "code",
   "execution_count": 132,
   "metadata": {},
   "outputs": [
    {
     "name": "stdout",
     "output_type": "stream",
     "text": [
      "iteration:  0\n",
      "runtime: 0 mins\n",
      "grad_norm estimate:  817.5942544636462\n",
      "ELBO estimate:  -7499.582463637448\n",
      "\n"
     ]
    },
    {
     "ename": "KeyboardInterrupt",
     "evalue": "",
     "output_type": "error",
     "traceback": [
      "\u001b[0;31m---------------------------------------------------------------------------\u001b[0m",
      "\u001b[0;31mKeyboardInterrupt\u001b[0m                         Traceback (most recent call last)",
      "Input \u001b[0;32mIn [132]\u001b[0m, in \u001b[0;36m<cell line: 2>\u001b[0;34m()\u001b[0m\n\u001b[1;32m      1\u001b[0m optim_reinforce \u001b[38;5;241m=\u001b[39m SLCVI(tree_log_probs,deepcopy(theta),pop_size)\n\u001b[0;32m----> 2\u001b[0m \u001b[43moptim_reinforce\u001b[49m\u001b[38;5;241;43m.\u001b[39;49m\u001b[43mlearn\u001b[49m\u001b[43m(\u001b[49m\u001b[43mbatch_size\u001b[49m\u001b[38;5;241;43m=\u001b[39;49m\u001b[38;5;241;43m10\u001b[39;49m\u001b[43m,\u001b[49m\n\u001b[1;32m      3\u001b[0m \u001b[43m                      \u001b[49m\u001b[43miters\u001b[49m\u001b[38;5;241;43m=\u001b[39;49m\u001b[38;5;241;43m1000\u001b[39;49m\u001b[43m,\u001b[49m\n\u001b[1;32m      4\u001b[0m \u001b[43m                      \u001b[49m\u001b[43malpha\u001b[49m\u001b[38;5;241;43m=\u001b[39;49m\u001b[38;5;241;43m0.01\u001b[39;49m\u001b[43m,\u001b[49m\n\u001b[1;32m      5\u001b[0m \u001b[43m                      \u001b[49m\u001b[43mmethod\u001b[49m\u001b[38;5;241;43m=\u001b[39;49m\u001b[38;5;124;43m\"\u001b[39;49m\u001b[38;5;124;43mreinforce\u001b[39;49m\u001b[38;5;124;43m\"\u001b[39;49m\u001b[43m,\u001b[49m\n\u001b[1;32m      6\u001b[0m \u001b[43m                      \u001b[49m\u001b[43mrecord_every\u001b[49m\u001b[38;5;241;43m=\u001b[39;49m\u001b[38;5;241;43m10\u001b[39;49m\u001b[43m,\u001b[49m\n\u001b[1;32m      7\u001b[0m \u001b[43m                      \u001b[49m\u001b[43mpop_size\u001b[49m\u001b[38;5;241;43m=\u001b[39;49m\u001b[43mpop_size\u001b[49m\u001b[43m)\u001b[49m\n\u001b[1;32m      9\u001b[0m \u001b[38;5;28mprint\u001b[39m(\u001b[38;5;124m\"\u001b[39m\u001b[38;5;124mfinal theta:\u001b[39m\u001b[38;5;124m\"\u001b[39m,optim_reinforce\u001b[38;5;241m.\u001b[39mtheta)\n\u001b[1;32m     10\u001b[0m \u001b[38;5;28mprint\u001b[39m(\u001b[38;5;124m\"\u001b[39m\u001b[38;5;124mfinal gradient:\u001b[39m\u001b[38;5;124m\"\u001b[39m,optim_reinforce\u001b[38;5;241m.\u001b[39mtheta\u001b[38;5;241m.\u001b[39mgrad)\n",
      "File \u001b[0;32m~/Documents/Research/VBPI-matrix/src/SLCVI_torch.py:153\u001b[0m, in \u001b[0;36mlearn\u001b[0;34m(self, batch_size, iters, alpha, method, anneal_freq, anneal_rate, record_every, test_batch_size, pop_size)\u001b[0m\n\u001b[1;32m    151\u001b[0m elif method == 'VIMCO':\n\u001b[1;32m    152\u001b[0m     loss = -self.ELBO_VIMCO(batch_size)\n\u001b[0;32m--> 153\u001b[0m else:\n\u001b[1;32m    154\u001b[0m     raise NotImplementedError\n\u001b[1;32m    156\u001b[0m optimizer.zero_grad()\n",
      "File \u001b[0;32m~/Documents/Research/VBPI-matrix/src/SLCVI_torch.py:68\u001b[0m, in \u001b[0;36mSLCVI.ELBO_reinforce\u001b[0;34m(self, batch_size)\u001b[0m\n\u001b[1;32m     66\u001b[0m log_times \u001b[38;5;241m=\u001b[39m log_times \u001b[38;5;241m+\u001b[39m torch\u001b[38;5;241m.\u001b[39mtriu(torch\u001b[38;5;241m.\u001b[39mfull((\u001b[38;5;28mself\u001b[39m\u001b[38;5;241m.\u001b[39mn_species,\u001b[38;5;28mself\u001b[39m\u001b[38;5;241m.\u001b[39mn_species), \u001b[38;5;28mfloat\u001b[39m(\u001b[38;5;124m\"\u001b[39m\u001b[38;5;124mInf\u001b[39m\u001b[38;5;124m\"\u001b[39m)))\n\u001b[1;32m     67\u001b[0m log_times \u001b[38;5;241m=\u001b[39m log_times\u001b[38;5;241m.\u001b[39mdetach()\n\u001b[0;32m---> 68\u001b[0m tree \u001b[38;5;241m=\u001b[39m \u001b[43mTree\u001b[49m\u001b[43m(\u001b[49m\u001b[38;5;28;43mself\u001b[39;49m\u001b[38;5;241;43m.\u001b[39;49m\u001b[43mtheta\u001b[49m\u001b[43m,\u001b[49m\n\u001b[1;32m     69\u001b[0m \u001b[43m            \u001b[49m\u001b[43mlog_times\u001b[49m\u001b[43m,\u001b[49m\n\u001b[1;32m     70\u001b[0m \u001b[43m            \u001b[49m\u001b[43mdeepcopy\u001b[49m\u001b[43m(\u001b[49m\u001b[38;5;28;43mself\u001b[39;49m\u001b[38;5;241;43m.\u001b[39;49m\u001b[43mtree_log_probs\u001b[49m\u001b[43m)\u001b[49m\u001b[43m,\u001b[49m\n\u001b[1;32m     71\u001b[0m \u001b[43m            \u001b[49m\u001b[43mpop_size\u001b[49m\u001b[38;5;241;43m=\u001b[39;49m\u001b[38;5;28;43mself\u001b[39;49m\u001b[38;5;241;43m.\u001b[39;49m\u001b[43mpop_size\u001b[49m\u001b[43m)\u001b[49m\n\u001b[1;32m     72\u001b[0m ELBO_hats[i] \u001b[38;5;241m=\u001b[39m (tree\u001b[38;5;241m.\u001b[39mlog_p \u001b[38;5;241m-\u001b[39m tree\u001b[38;5;241m.\u001b[39mlog_q)\u001b[38;5;241m.\u001b[39mdetach()\n\u001b[1;32m     73\u001b[0m log_qs[i] \u001b[38;5;241m=\u001b[39m tree\u001b[38;5;241m.\u001b[39mlog_q\n",
      "File \u001b[0;32m~/Documents/Research/VBPI-matrix/src/tree_torch.py:55\u001b[0m, in \u001b[0;36mTree.__init__\u001b[0;34m(self, theta, log_times, tree_log_probs, pop_size)\u001b[0m\n\u001b[1;32m     52\u001b[0m \u001b[38;5;28mself\u001b[39m\u001b[38;5;241m.\u001b[39mcoal_times \u001b[38;5;241m=\u001b[39m torch\u001b[38;5;241m.\u001b[39mzeros(\u001b[38;5;28mself\u001b[39m\u001b[38;5;241m.\u001b[39mntaxa)\n\u001b[1;32m     54\u001b[0m \u001b[38;5;66;03m# draw graph\u001b[39;00m\n\u001b[0;32m---> 55\u001b[0m \u001b[38;5;28;43mself\u001b[39;49m\u001b[38;5;241;43m.\u001b[39;49m\u001b[43mdraw_graph\u001b[49m\u001b[43m(\u001b[49m\u001b[43m)\u001b[49m\n",
      "File \u001b[0;32m~/Documents/Research/VBPI-matrix/src/tree_torch.py:162\u001b[0m, in \u001b[0;36mTree.draw_graph\u001b[0;34m(self, log_times, theta, pop_size)\u001b[0m\n\u001b[1;32m    159\u001b[0m     ancestor_parent\u001b[38;5;241m.\u001b[39mlog_probs \u001b[38;5;241m=\u001b[39m ancestor_parent\u001b[38;5;241m.\u001b[39mlog_probs \u001b[38;5;241m+\u001b[39m \u001b[38;5;28mself\u001b[39m\u001b[38;5;241m.\u001b[39mlogdotexp(ancestor\u001b[38;5;241m.\u001b[39mlog_probs,torch\u001b[38;5;241m.\u001b[39mlog(P))\n\u001b[1;32m    161\u001b[0m \u001b[38;5;66;03m# update q\u001b[39;00m\n\u001b[0;32m--> 162\u001b[0m \u001b[38;5;28;43mself\u001b[39;49m\u001b[38;5;241;43m.\u001b[39;49m\u001b[43mupdate_q\u001b[49m\u001b[43m(\u001b[49m\u001b[43mancestors\u001b[49m\u001b[43m)\u001b[49m\n\u001b[1;32m    164\u001b[0m \u001b[38;5;66;03m# update prior\u001b[39;00m\n\u001b[1;32m    165\u001b[0m k \u001b[38;5;241m=\u001b[39m \u001b[38;5;28mself\u001b[39m\u001b[38;5;241m.\u001b[39mntaxa \u001b[38;5;241m-\u001b[39m node_num\n",
      "File \u001b[0;32m~/Documents/Research/VBPI-matrix/src/tree_torch.py:99\u001b[0m, in \u001b[0;36mTree.update_q\u001b[0;34m(self, ancestors)\u001b[0m\n\u001b[1;32m     97\u001b[0m log_sf \u001b[38;5;241m=\u001b[39m torch\u001b[38;5;241m.\u001b[39mlog(\u001b[38;5;241m0.5\u001b[39m \u001b[38;5;241m-\u001b[39m \u001b[38;5;241m0.5\u001b[39m\u001b[38;5;241m*\u001b[39mtorch\u001b[38;5;241m.\u001b[39merf((log_t\u001b[38;5;241m-\u001b[39mmu)\u001b[38;5;241m/\u001b[39m(np\u001b[38;5;241m.\u001b[39msqrt(\u001b[38;5;241m2\u001b[39m)\u001b[38;5;241m*\u001b[39msig)))\n\u001b[1;32m     98\u001b[0m log_pdf \u001b[38;5;241m=\u001b[39m \u001b[38;5;241m-\u001b[39mlog_sig\u001b[38;5;241m-\u001b[39m\u001b[38;5;241m0.5\u001b[39m\u001b[38;5;241m*\u001b[39mnp\u001b[38;5;241m.\u001b[39mlog(\u001b[38;5;241m2\u001b[39m\u001b[38;5;241m*\u001b[39mnp\u001b[38;5;241m.\u001b[39mpi)\u001b[38;5;241m-\u001b[39mlog_t\n\u001b[0;32m---> 99\u001b[0m log_pdf \u001b[38;5;241m=\u001b[39m log_pdf \u001b[38;5;241m-\u001b[39m \u001b[43m(\u001b[49m\u001b[43m(\u001b[49m\u001b[43m(\u001b[49m\u001b[43mlog_t\u001b[49m\u001b[38;5;241;43m-\u001b[39;49m\u001b[43mmu\u001b[49m\u001b[43m)\u001b[49m\u001b[38;5;241;43m/\u001b[39;49m\u001b[43msig\u001b[49m\u001b[43m)\u001b[49m\u001b[38;5;241;43m*\u001b[39;49m\u001b[38;5;241;43m*\u001b[39;49m\u001b[38;5;241;43m2\u001b[39;49m\u001b[43m)\u001b[49m\u001b[38;5;241;43m/\u001b[39;49m\u001b[38;5;241;43m2\u001b[39;49m\n\u001b[1;32m    101\u001b[0m log_cum_sfs \u001b[38;5;241m=\u001b[39m log_cum_sfs \u001b[38;5;241m+\u001b[39m log_sf\n\u001b[1;32m    102\u001b[0m log_pdfs_over_sfs[a,b] \u001b[38;5;241m=\u001b[39m log_pdf \u001b[38;5;241m-\u001b[39m log_sf\n",
      "\u001b[0;31mKeyboardInterrupt\u001b[0m: "
     ]
    }
   ],
   "source": [
    "optim_reinforce = SLCVI(tree_log_probs,deepcopy(theta),pop_size)\n",
    "optim_reinforce.learn(batch_size=10,\n",
    "                      iters=1000,\n",
    "                      alpha=0.01,\n",
    "                      method=\"reinforce\",\n",
    "                      record_every=10,\n",
    "                      pop_size=pop_size)\n",
    "\n",
    "print(\"final theta:\",optim_reinforce.theta)\n",
    "print(\"final gradient:\",optim_reinforce.theta.grad)\n",
    "plt.plot(optim_reinforce.ELBO_ests)"
   ]
  },
  {
   "cell_type": "code",
   "execution_count": null,
   "metadata": {},
   "outputs": [],
   "source": [
    "plt.plot(optim_reinforce.ELBO_ests)\n",
    "plt.show()\n",
    "plt.plot(np.log(optim_reinforce.grad_norms))\n",
    "plt.show()\n",
    "\n",
    "m = deepcopy(optim_reinforce.theta[0].detach())\n",
    "m[np.triu_indices(m.shape[0])] = np.nan\n",
    "plt.imshow(m)\n",
    "plt.title(\"means of log-coalscent times\")\n",
    "plt.colorbar()\n",
    "plt.show()\n",
    "\n",
    "log_sig = deepcopy(optim_reinforce.theta[1].detach())\n",
    "log_sig[np.triu_indices(log_sig.shape[0])] = np.nan\n",
    "plt.imshow(log_sig)\n",
    "plt.title(\"log-std of log-coalscent times\")\n",
    "plt.colorbar()"
   ]
  },
  {
   "cell_type": "code",
   "execution_count": null,
   "metadata": {},
   "outputs": [],
   "source": [
    "with open(reinforce_file, 'wb') as file: \n",
    "    pickle.dump(optim_reinforce, file) "
   ]
  },
  {
   "cell_type": "code",
   "execution_count": null,
   "metadata": {},
   "outputs": [],
   "source": [
    "optim_VIMCO = SLCVI(tree_log_probs,deepcopy(theta),pop_size)\n",
    "optim_VIMCO.learn(batch_size=10,\n",
    "                  iters=1000,\n",
    "                  alpha=0.01,\n",
    "                  method=\"VIMCO\",\n",
    "                  record_every=10,\n",
    "                  test_batch_size=100,\n",
    "                  pop_size=pop_size)\n",
    "\n",
    "print(\"final theta:\",optim_VIMCO.theta)\n",
    "print(\"final gradient:\",optim_VIMCO.theta.grad)\n",
    "plt.plot(optim_VIMCO.ELBO_ests)"
   ]
  },
  {
   "cell_type": "code",
   "execution_count": null,
   "metadata": {},
   "outputs": [],
   "source": [
    "plt.plot(optim_VIMCO.ELBO_ests)\n",
    "plt.show()\n",
    "plt.plot(np.log(optim_VIMCO.grad_norms))\n",
    "plt.show()\n",
    "\n",
    "m = deepcopy(optim_VIMCO.theta[0].detach())\n",
    "m[np.triu_indices(m.shape[0])] = np.nan\n",
    "plt.imshow(m)\n",
    "plt.title(\"means of log-coalscent times\")\n",
    "plt.colorbar()\n",
    "plt.show()\n",
    "\n",
    "log_sig = deepcopy(optim_VIMCO.theta[1].detach())\n",
    "log_sig[np.triu_indices(log_sig.shape[0])] = np.nan\n",
    "plt.imshow(log_sig)\n",
    "plt.title(\"log-std of log-coalscent times\")\n",
    "plt.colorbar()"
   ]
  },
  {
   "cell_type": "code",
   "execution_count": null,
   "metadata": {},
   "outputs": [],
   "source": [
    "with open(reinforce_file, 'wb') as file: \n",
    "    pickle.dump(optim_VIMCO, file) "
   ]
  },
  {
   "cell_type": "code",
   "execution_count": 102,
   "metadata": {},
   "outputs": [],
   "source": [
    "optim = optim_reinforce\n",
    "theta = optim.theta"
   ]
  },
  {
   "cell_type": "markdown",
   "metadata": {},
   "source": [
    "# draw the random tree using a newick file"
   ]
  },
  {
   "cell_type": "code",
   "execution_count": 250,
   "metadata": {},
   "outputs": [
    {
     "ename": "TypeError",
     "evalue": "__init__() got an unexpected keyword argument 'pop_size'",
     "output_type": "error",
     "traceback": [
      "\u001b[0;31m---------------------------------------------------------------------------\u001b[0m",
      "\u001b[0;31mTypeError\u001b[0m                                 Traceback (most recent call last)",
      "Input \u001b[0;32mIn [250]\u001b[0m, in \u001b[0;36m<cell line: 11>\u001b[0;34m()\u001b[0m\n\u001b[1;32m     13\u001b[0m log_times \u001b[38;5;241m=\u001b[39m torch\u001b[38;5;241m.\u001b[39mexp(theta[\u001b[38;5;241m1\u001b[39m])\u001b[38;5;241m*\u001b[39mZ\u001b[38;5;241m+\u001b[39mtheta[\u001b[38;5;241m0\u001b[39m]\n\u001b[1;32m     14\u001b[0m log_times \u001b[38;5;241m=\u001b[39m log_times \u001b[38;5;241m+\u001b[39m torch\u001b[38;5;241m.\u001b[39mtriu(torch\u001b[38;5;241m.\u001b[39mfull((n_species,n_species), \u001b[38;5;28mfloat\u001b[39m(\u001b[38;5;124m\"\u001b[39m\u001b[38;5;124mInf\u001b[39m\u001b[38;5;124m\"\u001b[39m)))\n\u001b[0;32m---> 16\u001b[0m tree \u001b[38;5;241m=\u001b[39m \u001b[43mTree\u001b[49m\u001b[43m(\u001b[49m\u001b[43mtheta\u001b[49m\u001b[43m,\u001b[49m\u001b[43mlog_times\u001b[49m\u001b[43m,\u001b[49m\u001b[43mtree_log_probs\u001b[49m\u001b[43m,\u001b[49m\n\u001b[1;32m     17\u001b[0m \u001b[43m            \u001b[49m\u001b[43mpop_size\u001b[49m\u001b[38;5;241;43m=\u001b[39;49m\u001b[43mpop_size\u001b[49m\u001b[43m)\u001b[49m\n\u001b[1;32m     19\u001b[0m treedata \u001b[38;5;241m=\u001b[39m write_newick(tree\u001b[38;5;241m.\u001b[39mnodes[\u001b[38;5;241m-\u001b[39m\u001b[38;5;241m1\u001b[39m])\n\u001b[1;32m     20\u001b[0m handle \u001b[38;5;241m=\u001b[39m StringIO(treedata)\n",
      "\u001b[0;31mTypeError\u001b[0m: __init__() got an unexpected keyword argument 'pop_size'"
     ]
    }
   ],
   "source": [
    "def write_newick(node):\n",
    "\n",
    "    if node.children == []:\n",
    "        return species[next(iter(node.leaves))] + \":\" + str(node.parent.coal_time.item())\n",
    "    elif node.parent is None:\n",
    "        return \"(\" + write_newick(node.children[0]) + \",\" + write_newick(node.children[1]) + \")\"\n",
    "    else:\n",
    "        bl = node.parent.coal_time.item() - node.coal_time.item()\n",
    "        return \"(\" + write_newick(node.children[0]) + \",\" + write_newick(node.children[1]) + \"):\" + str(bl)\n",
    "    \n",
    "for _ in range(10):\n",
    "    Z = torch.normal(mean=0.0,std=1.0,size=(ntaxa,ntaxa))\n",
    "    log_times = torch.exp(theta[1])*Z+theta[0]\n",
    "    log_times = log_times + torch.triu(torch.full((ntaxa,ntaxa), float(\"Inf\")))\n",
    "\n",
    "    tree = Tree(theta,log_times,tree_log_probs,\n",
    "                pop_size=pop_size)\n",
    "\n",
    "    treedata = write_newick(tree.nodes[-1])\n",
    "    handle = StringIO(treedata)\n",
    "    tree_to_draw = Phylo.read(handle, \"newick\")\n",
    "\n",
    "    # Set up the plot\n",
    "    fig = plt.figure(figsize=(12, 10))\n",
    "    ax = fig.add_subplot(1, 1, 1)\n",
    "\n",
    "    # Draw the phylogenetic tree\n",
    "    Phylo.draw(tree_to_draw, axes=ax)\n",
    "\n",
    "    print(tree.log_like.item())\n",
    "    print(tree.log_prior.item())\n",
    "    print(tree.log_p.item())"
   ]
  },
  {
   "cell_type": "markdown",
   "metadata": {},
   "source": [
    "# Estimate the marginal likelihood"
   ]
  },
  {
   "cell_type": "code",
   "execution_count": 103,
   "metadata": {
    "scrolled": true
   },
   "outputs": [
    {
     "name": "stdout",
     "output_type": "stream",
     "text": [
      "0\n",
      "1\n",
      "2\n",
      "3\n",
      "4\n",
      "5\n",
      "6\n",
      "7\n",
      "8\n",
      "9\n"
     ]
    }
   ],
   "source": [
    "n_exp = 10\n",
    "n_samples = 100\n",
    "\n",
    "# get priors and log-liklihoods\n",
    "priors = []\n",
    "LL = []\n",
    "\n",
    "# get log_qs\n",
    "log_qs = []\n",
    "\n",
    "# get root heights\n",
    "rootHeights = []\n",
    "\n",
    "# get tree topologies\n",
    "tree_hash = {}\n",
    "top_counts = {}\n",
    "\n",
    "# get marginal log-likelihoods and ELBOs\n",
    "MLL_all = np.zeros(n_exp)\n",
    "ELBO_all = np.zeros(n_exp)\n",
    "\n",
    "with torch.no_grad():\n",
    "    for i in range(n_exp):\n",
    "\n",
    "        print(i)\n",
    "        MLL = np.zeros(n_samples)\n",
    "        ELBO = np.zeros(n_samples)\n",
    "\n",
    "        for j in range(n_samples):\n",
    "            Z = torch.normal(mean=0.0,std=1.0,size=(ntaxa,ntaxa))\n",
    "            log_times = torch.exp(theta[1])*Z+theta[0]\n",
    "            log_times = log_times + torch.triu(torch.full((ntaxa,ntaxa), float(\"Inf\")))\n",
    "            tree = Tree(optim.theta,\n",
    "                        log_times,\n",
    "                        deepcopy(tree_log_probs),\n",
    "                        pop_size=pop_size)\n",
    "\n",
    "            MLL[j] = tree.log_p.item() - tree.log_q.item()\n",
    "            ELBO[j] = tree.log_p.item() - tree.log_q.item()\n",
    "\n",
    "            LL.append(tree.log_like.item())\n",
    "            priors.append(tree.log_prior.item())\n",
    "            log_qs.append(tree.log_q.item())\n",
    "            rootHeights.append(tree.nodes[-1].coal_time.item())\n",
    "\n",
    "            tree_top = frozenset([frozenset(x.leaves) for x in tree.nodes])\n",
    "            if tree_top in tree_hash:\n",
    "                top_counts[tree_hash[tree_top]] += 1\n",
    "            else:\n",
    "                tree_hash[tree_top] = len(tree_hash)\n",
    "                top_counts[tree_hash[tree_top]] = 1\n",
    "\n",
    "        MLL_all[i] = logsumexp(MLL) - np.log(n_samples)\n",
    "        ELBO_all[i] = np.mean(ELBO)"
   ]
  },
  {
   "cell_type": "code",
   "execution_count": 104,
   "metadata": {},
   "outputs": [
    {
     "data": {
      "image/png": "[encoded data removed]",
      "text/plain": [
       "<Figure size 432x288 with 1 Axes>"
      ]
     },
     "metadata": {
      "needs_background": "light"
     },
     "output_type": "display_data"
    },
    {
     "name": "stdout",
     "output_type": "stream",
     "text": [
      "143.46433505458214\n"
     ]
    }
   ],
   "source": [
    "plt.hist(log_qs,bins = 100)\n",
    "plt.show()\n",
    "print(np.mean(log_qs))"
   ]
  },
  {
   "cell_type": "code",
   "execution_count": 105,
   "metadata": {},
   "outputs": [
    {
     "data": {
      "image/png": "[encoded data removed]",
      "text/plain": [
       "<Figure size 432x288 with 1 Axes>"
      ]
     },
     "metadata": {
      "needs_background": "light"
     },
     "output_type": "display_data"
    },
    {
     "name": "stdout",
     "output_type": "stream",
     "text": [
      "-42.50910236394554\n"
     ]
    }
   ],
   "source": [
    "plt.hist(priors,bins = 100)\n",
    "plt.show()\n",
    "print(np.mean(priors))"
   ]
  },
  {
   "cell_type": "code",
   "execution_count": 106,
   "metadata": {},
   "outputs": [
    {
     "data": {
      "image/png": "[encoded data removed]",
      "text/plain": [
       "<Figure size 432x288 with 1 Axes>"
      ]
     },
     "metadata": {
      "needs_background": "light"
     },
     "output_type": "display_data"
    },
    {
     "name": "stdout",
     "output_type": "stream",
     "text": [
      "-6977.177121521376\n"
     ]
    }
   ],
   "source": [
    "plt.hist(LL,bins = 100)\n",
    "plt.show()\n",
    "print(np.mean(LL))"
   ]
  },
  {
   "cell_type": "code",
   "execution_count": 107,
   "metadata": {},
   "outputs": [
    {
     "data": {
      "image/png": "[encoded data removed]",
      "text/plain": [
       "<Figure size 432x288 with 1 Axes>"
      ]
     },
     "metadata": {
      "needs_background": "light"
     },
     "output_type": "display_data"
    },
    {
     "name": "stdout",
     "output_type": "stream",
     "text": [
      "0.04042246175528179\n"
     ]
    }
   ],
   "source": [
    "plt.hist(rootHeights,bins = 100)\n",
    "plt.show()\n",
    "print(np.mean(rootHeights))"
   ]
  },
  {
   "cell_type": "code",
   "execution_count": 108,
   "metadata": {},
   "outputs": [
    {
     "data": {
      "image/png": "[encoded data removed]",
      "text/plain": [
       "<Figure size 432x288 with 1 Axes>"
      ]
     },
     "metadata": {
      "needs_background": "light"
     },
     "output_type": "display_data"
    },
    {
     "name": "stdout",
     "output_type": "stream",
     "text": [
      "-7163.150558939904\n"
     ]
    }
   ],
   "source": [
    "plt.hist(ELBO_all,bins = 100)\n",
    "plt.show()\n",
    "print(np.mean(ELBO_all))"
   ]
  },
  {
   "cell_type": "code",
   "execution_count": 109,
   "metadata": {},
   "outputs": [
    {
     "data": {
      "image/png": "[encoded data removed]",
      "text/plain": [
       "<Figure size 432x288 with 1 Axes>"
      ]
     },
     "metadata": {
      "needs_background": "light"
     },
     "output_type": "display_data"
    },
    {
     "name": "stdout",
     "output_type": "stream",
     "text": [
      "-7157.934354856084\n"
     ]
    }
   ],
   "source": [
    "plt.hist(MLL_all,bins = 100)\n",
    "plt.show()\n",
    "print(np.mean(MLL_all))"
   ]
  },
  {
   "cell_type": "code",
   "execution_count": 110,
   "metadata": {},
   "outputs": [
    {
     "data": {
      "text/plain": [
       "<matplotlib.colorbar.Colorbar at 0x7fafe4921190>"
      ]
     },
     "execution_count": 110,
     "metadata": {},
     "output_type": "execute_result"
    },
    {
     "data": {
      "image/png": "[encoded data removed]",
      "text/plain": [
       "<Figure size 432x288 with 2 Axes>"
      ]
     },
     "metadata": {
      "needs_background": "light"
     },
     "output_type": "display_data"
    }
   ],
   "source": [
    "m = deepcopy(theta[0].detach())\n",
    "m[np.triu_indices(m.shape[0])] = np.nan\n",
    "plt.imshow(m)\n",
    "plt.title(\"means of log-coalscent times\")\n",
    "plt.colorbar()"
   ]
  },
  {
   "cell_type": "code",
   "execution_count": 111,
   "metadata": {},
   "outputs": [
    {
     "data": {
      "text/plain": [
       "<matplotlib.colorbar.Colorbar at 0x7fb007ee7d00>"
      ]
     },
     "execution_count": 111,
     "metadata": {},
     "output_type": "execute_result"
    },
    {
     "data": {
      "image/png": "[encoded data removed]",
      "text/plain": [
       "<Figure size 432x288 with 2 Axes>"
      ]
     },
     "metadata": {
      "needs_background": "light"
     },
     "output_type": "display_data"
    }
   ],
   "source": [
    "log_sig = deepcopy(theta[1].detach())\n",
    "log_sig[np.triu_indices(log_sig.shape[0])] = np.nan\n",
    "plt.imshow(log_sig)\n",
    "plt.title(\"log-std of log-coalscent times\")\n",
    "plt.colorbar()"
   ]
  },
  {
   "cell_type": "code",
   "execution_count": null,
   "metadata": {},
   "outputs": [],
   "source": []
  }
 ],
 "metadata": {
  "kernelspec": {
   "display_name": "Python 3 (ipykernel)",
   "language": "python",
   "name": "python3"
  },
  "language_info": {
   "codemirror_mode": {
    "name": "ipython",
    "version": 3
   },
   "file_extension": ".py",
   "mimetype": "text/x-python",
   "name": "python",
   "nbconvert_exporter": "python",
   "pygments_lexer": "ipython3",
   "version": "3.9.12"
  }
 },
 "nbformat": 4,
 "nbformat_minor": 2
}
