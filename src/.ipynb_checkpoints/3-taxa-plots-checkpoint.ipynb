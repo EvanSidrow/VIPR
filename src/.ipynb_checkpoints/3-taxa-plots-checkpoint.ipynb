{
 "cells": [
  {
   "cell_type": "code",
   "execution_count": 1,
   "metadata": {},
   "outputs": [
    {
     "name": "stderr",
     "output_type": "stream",
     "text": [
      "/Users/evsi8432/opt/anaconda3/lib/python3.9/site-packages/scipy/__init__.py:155: UserWarning: A NumPy version >=1.18.5 and <1.25.0 is required for this version of SciPy (detected version 1.26.4\n",
      "  warnings.warn(f\"A NumPy version >={np_minversion} and <{np_maxversion}\"\n"
     ]
    }
   ],
   "source": [
    "import autograd.numpy as np\n",
    "from autograd.scipy.special import logsumexp,erf\n",
    "from autograd.scipy.stats import norm\n",
    "from autograd import grad\n",
    "\n",
    "#from autograd_gamma import gamma, gammainc, gammaincc, gammaincln, gammainccln\n",
    "\n",
    "import matplotlib.pyplot as plt\n",
    "from copy import deepcopy\n",
    "from itertools import product\n",
    "from itertools import combinations\n",
    "import pickle\n",
    "\n",
    "from io import StringIO\n",
    "from Bio import Phylo\n",
    "\n",
    "from tree import Tree\n",
    "from optimizer import Optimizer\n",
    "\n",
    "import warnings\n",
    "warnings.filterwarnings('ignore')\n",
    "\n",
    "np.random.seed(0)"
   ]
  },
  {
   "cell_type": "code",
   "execution_count": 2,
   "metadata": {},
   "outputs": [],
   "source": [
    "pop_size = 5.0 # exponential parameter for constant pop size prior\n",
    "data_file = '../dat/DS1/DS1.pickle'"
   ]
  },
  {
   "cell_type": "code",
   "execution_count": 3,
   "metadata": {},
   "outputs": [],
   "source": [
    "with open(data_file, 'rb') as f:\n",
    "    DS1 = pickle.load(f)"
   ]
  },
  {
   "cell_type": "code",
   "execution_count": 4,
   "metadata": {},
   "outputs": [],
   "source": [
    "genomes = []\n",
    "species = []\n",
    "for key in DS1:\n",
    "    genomes.append(DS1[key])\n",
    "    species.append(key)\n",
    "    \n",
    "n_species = len(species)"
   ]
  },
  {
   "cell_type": "code",
   "execution_count": 5,
   "metadata": {},
   "outputs": [],
   "source": [
    "n_species = 3\n",
    "genome_size = 100\n",
    "genomes = ['']*n_species\n",
    "ps = [[0.9,0.01,0,0,0.09],\n",
    "      [0.9,0.1,0,0,0.0],\n",
    "      [0.9,0.1,0,0,0.0]]\n",
    "for _ in range(genome_size):\n",
    "    for s in range(n_species):\n",
    "        genomes[s] += np.random.choice(['A','T','G','C','-'],p=ps[s])\n",
    "        \n",
    "#genomes = [[\"A\"],[\"T\"],[\"C\"]]"
   ]
  },
  {
   "cell_type": "code",
   "execution_count": 6,
   "metadata": {},
   "outputs": [],
   "source": [
    "# From https://github.com/zcrabbit/vbpi-torch/blob/ff86cf0c47a5753f5cc5b4dfe0b6ed783ab22669/unrooted/phyloModel.py#L7-L11\n",
    "nuc2vec = {'A':[1.,0.,0.,0.], 'G':[0.,1.,0.,0.], 'C':[0.,0.,1.,0.], 'T':[0.,0.,0.,1.],\n",
    "           '-':[1.,1.,1.,1.], '?':[1.,1.,1.,1.], 'N':[1.,1.,1.,1.], 'R':[1.,1.,0.,0.],\n",
    "           'Y':[0.,0.,1.,1.], 'S':[0.,1.,1.,0.], 'W':[1.,0.,0.,1.], 'K':[0.,1.,0.,1.],\n",
    "           'M':[1.,0.,1.,0.], 'B':[0.,1.,1.,1.], 'D':[1.,1.,0.,1.], 'H':[1.,0.,1.,1.],\n",
    "           'V':[1.,1.,1.,0.], '.':[1.,1.,1.,1.], 'U':[0.,0.,0.,1.]}\n",
    "\n",
    "tree_log_probs = np.array([[nuc2vec[g] for g in genome] for genome in genomes],\n",
    "                                dtype = float)\n",
    "tree_log_probs = np.log(tree_log_probs)"
   ]
  },
  {
   "cell_type": "markdown",
   "metadata": {},
   "source": [
    "# Set initial $\\theta$ randomly"
   ]
  },
  {
   "cell_type": "code",
   "execution_count": 7,
   "metadata": {},
   "outputs": [
    {
     "name": "stdout",
     "output_type": "stream",
     "text": [
      "(2, 3, 3)\n"
     ]
    }
   ],
   "source": [
    "theta = np.zeros((2,n_species,n_species))\n",
    "\n",
    "theta[0] = np.random.normal(size = (n_species,n_species)) + np.log(pop_size)\n",
    "theta[0] = theta[0]*np.tril(np.ones((n_species,n_species)),k=-1)\n",
    "theta[1] = 0.01*np.random.normal(size = (n_species,n_species))\n",
    "theta[1] = theta[1]*np.tril(np.ones((n_species,n_species)),k=-1)\n",
    "\n",
    "print(theta.shape)"
   ]
  },
  {
   "cell_type": "code",
   "execution_count": 8,
   "metadata": {},
   "outputs": [
    {
     "name": "stdout",
     "output_type": "stream",
     "text": [
      "-400.63907036363946\n",
      "-10.493896358093473\n",
      "-9.66147653508776\n"
     ]
    }
   ],
   "source": [
    "Z = np.random.normal(np.ones_like(theta[0]))\n",
    "log_times = np.exp(theta[1])*Z+theta[0]\n",
    "log_times = log_times + np.triu(np.ones_like(theta[0])*np.inf)\n",
    "\n",
    "tree = Tree(theta,log_times,tree_log_probs,\n",
    "            pop_size=pop_size)\n",
    "\n",
    "print(tree.log_like)\n",
    "print(tree.log_prior)\n",
    "print(tree.log_q)"
   ]
  },
  {
   "cell_type": "markdown",
   "metadata": {},
   "source": [
    "# Do Variational Inference"
   ]
  },
  {
   "cell_type": "code",
   "execution_count": 9,
   "metadata": {},
   "outputs": [
    {
     "data": {
      "text/plain": [
       "['AAAAAAAAA-AAAAAAAAAAAAAA-AAAAAAAAAAAAAAAAAAAAAAAA-AAAAAAAAA-AAAAAAAAAA-AAAA--AAAAAAAAA-AAA---AAAAAAA',\n",
       " 'AAAATAAAAAAAAAAAATAAAAATAAAAAAAAAATATAAAAAAAAAAAAAAAAAAAAAAAATAATAAAAAAAAAAAAAAAAAAAAAAAAAAAAAATAAAT',\n",
       " 'AATAAATAAAAATAAAAAAAAAAAAAAAATAAAAAAAAAATAAAAAAAATAAAATAAAAAAAAAAAAAAAAAAAAAAAAAAAATTAATAAATAAAAAAAT']"
      ]
     },
     "execution_count": 9,
     "metadata": {},
     "output_type": "execute_result"
    }
   ],
   "source": [
    "genomes"
   ]
  },
  {
   "cell_type": "code",
   "execution_count": 10,
   "metadata": {
    "scrolled": true
   },
   "outputs": [
    {
     "name": "stdout",
     "output_type": "stream",
     "text": [
      "0.0\n",
      "runtime:  0:00:00.848771\n",
      "[[[ 0.          0.          0.        ]\n",
      "  [-8.55616683  0.          0.        ]\n",
      "  [-9.6435452  -2.73925828  0.        ]]\n",
      "\n",
      " [[ 0.          0.          0.        ]\n",
      "  [13.46100734  0.          0.        ]\n",
      "  [11.41589439  5.4584261   0.        ]]]\n",
      "[[[0.         0.         0.        ]\n",
      "  [1.27151618 0.         0.        ]\n",
      "  [0.96657644 1.92548796 0.        ]]\n",
      "\n",
      " [[0.         0.         0.        ]\n",
      "  [0.10426259 0.         0.        ]\n",
      "  [0.09602728 0.09867119 0.        ]]]\n",
      "\n",
      "0.1\n",
      "runtime:  0:00:09.137707\n",
      "[[[  0.           0.           0.        ]\n",
      "  [-10.06180319   0.           0.        ]\n",
      "  [ -8.52378279  -7.89612109   0.        ]]\n",
      "\n",
      " [[  0.           0.           0.        ]\n",
      "  [  7.23844076   0.           0.        ]\n",
      "  [ -2.71655586   6.89766369   0.        ]]]\n",
      "[[[ 0.          0.          0.        ]\n",
      "  [ 0.26518347  0.          0.        ]\n",
      "  [-0.03136696  0.93207112  0.        ]]\n",
      "\n",
      " [[ 0.          0.          0.        ]\n",
      "  [ 1.09276942  0.          0.        ]\n",
      "  [ 1.04776468  1.08207004  0.        ]]]\n",
      "\n",
      "0.2\n",
      "runtime:  0:00:17.542403\n",
      "[[[  0.           0.           0.        ]\n",
      "  [ -3.71843887   0.           0.        ]\n",
      "  [ -6.95086732  -3.1480181    0.        ]]\n",
      "\n",
      " [[  0.           0.           0.        ]\n",
      "  [ -8.24246212   0.           0.        ]\n",
      "  [-10.68147901 -12.64197972   0.        ]]]\n",
      "[[[ 0.          0.          0.        ]\n",
      "  [-0.63326797  0.          0.        ]\n",
      "  [-0.8764981   0.02084388  0.        ]]\n",
      "\n",
      " [[ 0.          0.          0.        ]\n",
      "  [ 1.31398896  0.          0.        ]\n",
      "  [ 1.1596294   1.20698486  0.        ]]]\n",
      "\n",
      "0.3\n",
      "runtime:  0:00:25.859768\n",
      "[[[ 0.          0.          0.        ]\n",
      "  [-3.63800957  0.          0.        ]\n",
      "  [-8.97970074 -9.08766003  0.        ]]\n",
      "\n",
      " [[ 0.          0.          0.        ]\n",
      "  [-9.28069629  0.          0.        ]\n",
      "  [-9.50858409 -5.00804887  0.        ]]]\n",
      "[[[ 0.          0.          0.        ]\n",
      "  [-1.40146061  0.          0.        ]\n",
      "  [-1.63845208 -0.79493972  0.        ]]\n",
      "\n",
      " [[ 0.          0.          0.        ]\n",
      "  [ 0.81741245  0.          0.        ]\n",
      "  [ 0.52103642  0.55074985  0.        ]]]\n",
      "\n",
      "0.4\n",
      "runtime:  0:00:34.054708\n",
      "[[[ 0.          0.          0.        ]\n",
      "  [-2.43497224  0.          0.        ]\n",
      "  [-3.12624917 -2.66753406  0.        ]]\n",
      "\n",
      " [[ 0.          0.          0.        ]\n",
      "  [-3.68404807  0.          0.        ]\n",
      "  [-4.00819892 -4.53368061  0.        ]]]\n",
      "[[[ 0.          0.          0.        ]\n",
      "  [-2.10619163  0.          0.        ]\n",
      "  [-2.48741795 -1.71013278  0.        ]]\n",
      "\n",
      " [[ 0.          0.          0.        ]\n",
      "  [ 0.27228732  0.          0.        ]\n",
      "  [-0.33482004 -0.11903267  0.        ]]]\n",
      "\n",
      "0.5\n",
      "runtime:  0:00:42.326124\n",
      "[[[ 0.          0.          0.        ]\n",
      "  [ 0.83827633  0.          0.        ]\n",
      "  [ 1.84364806  1.39337645  0.        ]]\n",
      "\n",
      " [[ 0.          0.          0.        ]\n",
      "  [-1.23790428  0.          0.        ]\n",
      "  [-0.57293665 -1.78265166  0.        ]]]\n",
      "[[[ 0.          0.          0.        ]\n",
      "  [-2.58405854  0.          0.        ]\n",
      "  [-2.9472471  -2.30802595  0.        ]]\n",
      "\n",
      " [[ 0.          0.          0.        ]\n",
      "  [-0.12906564  0.          0.        ]\n",
      "  [-0.89220439 -0.64029546  0.        ]]]\n",
      "\n",
      "0.6\n",
      "runtime:  0:00:50.592901\n",
      "[[[ 0.          0.          0.        ]\n",
      "  [ 0.89632839  0.          0.        ]\n",
      "  [ 3.78503178  1.11934411  0.        ]]\n",
      "\n",
      " [[ 0.          0.          0.        ]\n",
      "  [-0.68922829  0.          0.        ]\n",
      "  [ 0.07935158 -0.93877263  0.        ]]]\n",
      "[[[ 0.          0.          0.        ]\n",
      "  [-2.72238011  0.          0.        ]\n",
      "  [-2.95765948 -2.38216955  0.        ]]\n",
      "\n",
      " [[ 0.          0.          0.        ]\n",
      "  [-0.35524707  0.          0.        ]\n",
      "  [-1.13950899 -0.97526021  0.        ]]]\n",
      "\n",
      "0.7\n",
      "runtime:  0:00:58.958618\n",
      "[[[ 0.          0.          0.        ]\n",
      "  [-0.11339175  0.          0.        ]\n",
      "  [ 2.03753797  1.05536616  0.        ]]\n",
      "\n",
      " [[ 0.          0.          0.        ]\n",
      "  [-0.443409    0.          0.        ]\n",
      "  [ 0.23979315 -0.57902269  0.        ]]]\n",
      "[[[ 0.          0.          0.        ]\n",
      "  [-2.66992499  0.          0.        ]\n",
      "  [-2.74495769 -2.24649176  0.        ]]\n",
      "\n",
      " [[ 0.          0.          0.        ]\n",
      "  [-0.49230933  0.          0.        ]\n",
      "  [-1.2220404  -1.17414411  0.        ]]]\n",
      "\n",
      "0.8\n",
      "runtime:  0:01:07.556035\n",
      "[[[ 0.          0.          0.        ]\n",
      "  [-0.66556465  0.          0.        ]\n",
      "  [ 0.39707895  0.12350182  0.        ]]\n",
      "\n",
      " [[ 0.          0.          0.        ]\n",
      "  [-0.15944065  0.          0.        ]\n",
      "  [ 0.23975837 -0.17675914  0.        ]]]\n",
      "[[[ 0.          0.          0.        ]\n",
      "  [-2.61473435  0.          0.        ]\n",
      "  [-2.53382723 -2.08264623  0.        ]]\n",
      "\n",
      " [[ 0.          0.          0.        ]\n",
      "  [-0.57610846  0.          0.        ]\n",
      "  [-1.24035888 -1.28511539  0.        ]]]\n",
      "\n",
      "0.9\n",
      "runtime:  0:01:15.885334\n",
      "[[[ 0.          0.          0.        ]\n",
      "  [-0.45588218  0.          0.        ]\n",
      "  [-0.37094806  0.06777802  0.        ]]\n",
      "\n",
      " [[ 0.          0.          0.        ]\n",
      "  [-0.26111009  0.          0.        ]\n",
      "  [ 0.33604314 -0.10509681  0.        ]]]\n",
      "[[[ 0.          0.          0.        ]\n",
      "  [-2.6349357   0.          0.        ]\n",
      "  [-2.44986667 -2.00902207  0.        ]]\n",
      "\n",
      " [[ 0.          0.          0.        ]\n",
      "  [-0.6437363   0.          0.        ]\n",
      "  [-1.24111918 -1.34500754  0.        ]]]\n",
      "\n",
      "final theta: [[[ 0.          0.          0.        ]\n",
      "  [-2.69429971  0.          0.        ]\n",
      "  [-2.46281365 -2.00451078  0.        ]]\n",
      "\n",
      " [[ 0.          0.          0.        ]\n",
      "  [-0.69832496  0.          0.        ]\n",
      "  [-1.23481931 -1.37394398  0.        ]]]\n"
     ]
    },
    {
     "data": {
      "text/plain": [
       "[<matplotlib.lines.Line2D at 0x7f92fd7cf730>]"
      ]
     },
     "execution_count": 10,
     "metadata": {},
     "output_type": "execute_result"
    },
    {
     "data": {
      "image/png": "[encoded data removed]",
      "text/plain": [
       "<Figure size 432x288 with 1 Axes>"
      ]
     },
     "metadata": {
      "needs_background": "light"
     },
     "output_type": "display_data"
    }
   ],
   "source": [
    "optim_reparam = Optimizer(tree_log_probs,deepcopy(theta))\n",
    "\n",
    "optim_reparam.optimize_q_reparam(10,10,alphas=[0.1,0.1],\n",
    "                          print_out=True,pop_size=pop_size)\n",
    "\n",
    "print(\"final theta:\",optim_reparam.theta)\n",
    "plt.plot(optim_reparam.ELBO_ests)"
   ]
  },
  {
   "cell_type": "code",
   "execution_count": 11,
   "metadata": {
    "scrolled": true
   },
   "outputs": [
    {
     "ename": "AttributeError",
     "evalue": "'Optimizer' object has no attribute 'ntaxa'",
     "output_type": "error",
     "traceback": [
      "\u001b[0;31m---------------------------------------------------------------------------\u001b[0m",
      "\u001b[0;31mAttributeError\u001b[0m                            Traceback (most recent call last)",
      "Input \u001b[0;32mIn [11]\u001b[0m, in \u001b[0;36m<cell line: 3>\u001b[0;34m()\u001b[0m\n\u001b[1;32m      1\u001b[0m optim_reinforce \u001b[38;5;241m=\u001b[39m Optimizer(tree_log_probs,deepcopy(optim_reparam\u001b[38;5;241m.\u001b[39mtheta))\n\u001b[0;32m----> 3\u001b[0m \u001b[43moptim_reinforce\u001b[49m\u001b[38;5;241;43m.\u001b[39;49m\u001b[43moptimize_q_reinforce\u001b[49m\u001b[43m(\u001b[49m\u001b[38;5;241;43m100\u001b[39;49m\u001b[43m,\u001b[49m\u001b[38;5;241;43m100\u001b[39;49m\u001b[43m,\u001b[49m\u001b[43malphas\u001b[49m\u001b[38;5;241;43m=\u001b[39;49m\u001b[43m[\u001b[49m\u001b[38;5;241;43m0.1\u001b[39;49m\u001b[43m,\u001b[49m\u001b[38;5;241;43m0.1\u001b[39;49m\u001b[43m]\u001b[49m\u001b[43m,\u001b[49m\n\u001b[1;32m      4\u001b[0m \u001b[43m                                      \u001b[49m\u001b[43mprint_out\u001b[49m\u001b[38;5;241;43m=\u001b[39;49m\u001b[38;5;28;43;01mTrue\u001b[39;49;00m\u001b[43m,\u001b[49m\u001b[43mpop_size\u001b[49m\u001b[38;5;241;43m=\u001b[39;49m\u001b[43mpop_size\u001b[49m\u001b[43m)\u001b[49m\n\u001b[1;32m      6\u001b[0m \u001b[38;5;28mprint\u001b[39m(\u001b[38;5;124m\"\u001b[39m\u001b[38;5;124mfinal theta:\u001b[39m\u001b[38;5;124m\"\u001b[39m,optim_reinforce\u001b[38;5;241m.\u001b[39mtheta)\n\u001b[1;32m      7\u001b[0m plt\u001b[38;5;241m.\u001b[39mplot(optim_reinforce\u001b[38;5;241m.\u001b[39mELBO_ests)\n",
      "File \u001b[0;32m~/Documents/Research/VBPI-matrix/src/optimizer.py:100\u001b[0m, in \u001b[0;36mOptimizer.optimize_q_reinforce\u001b[0;34m(self, batch_size, iters, print_out, pop_size, alphas)\u001b[0m\n\u001b[1;32m     97\u001b[0m \u001b[38;5;28mself\u001b[39m\u001b[38;5;241m.\u001b[39malpha \u001b[38;5;241m=\u001b[39m alphas[i]\n\u001b[1;32m     99\u001b[0m \u001b[38;5;66;03m# create reinforce estimator\u001b[39;00m\n\u001b[0;32m--> 100\u001b[0m grad_q_hats \u001b[38;5;241m=\u001b[39m np\u001b[38;5;241m.\u001b[39mzeros((batch_size,\u001b[38;5;28;43mself\u001b[39;49m\u001b[38;5;241;43m.\u001b[39;49m\u001b[43mntaxa\u001b[49m,\u001b[38;5;28mself\u001b[39m\u001b[38;5;241m.\u001b[39mntaxa))\n\u001b[1;32m    101\u001b[0m ELBO_hats \u001b[38;5;241m=\u001b[39m np\u001b[38;5;241m.\u001b[39mzeros(batch_size)\n\u001b[1;32m    102\u001b[0m ELBO_est_total \u001b[38;5;241m=\u001b[39m \u001b[38;5;241m0\u001b[39m\n",
      "\u001b[0;31mAttributeError\u001b[0m: 'Optimizer' object has no attribute 'ntaxa'"
     ]
    }
   ],
   "source": [
    "optim_reinforce = Optimizer(tree_log_probs,deepcopy(optim_reparam.theta))\n",
    "\n",
    "optim_reinforce.optimize_q_reinforce(10,10,alphas=[0.1,0.1],\n",
    "                                      print_out=True,pop_size=pop_size)\n",
    "\n",
    "print(\"final theta:\",optim_reinforce.theta)\n",
    "plt.plot(optim_reinforce.ELBO_ests)"
   ]
  },
  {
   "cell_type": "code",
   "execution_count": null,
   "metadata": {
    "scrolled": true
   },
   "outputs": [],
   "source": [
    "optim_VIMCO = Optimizer(tree_log_probs,deepcopy(optim_reparam.theta))\n",
    "\n",
    "optim_VIMCO.optimize_q_VIMCO(10,10,alphas=[0.1,0.1],\n",
    "                       print_out=True,pop_size=pop_size)\n",
    "#optim.optimize_q_reinforce(5,1000,alphas=[0.01,0.01],\n",
    "#                           pop_size=np.ones_like(theta[0]))\n",
    "\n",
    "print(\"final theta:\",optim_VIMCO.theta)\n",
    "plt.plot(optim_VIMCO.ELBO_ests)"
   ]
  },
  {
   "cell_type": "code",
   "execution_count": null,
   "metadata": {},
   "outputs": [],
   "source": [
    "print(optim_reparam.ELBO_ests[-1])\n",
    "print(optim_reinforce.ELBO_ests[-1])\n",
    "print(optim_VIMCO.ELBO_ests[-1])"
   ]
  },
  {
   "cell_type": "markdown",
   "metadata": {},
   "source": [
    "# Print out a random tree"
   ]
  },
  {
   "cell_type": "code",
   "execution_count": null,
   "metadata": {
    "scrolled": true
   },
   "outputs": [],
   "source": [
    "def write_newick(node):\n",
    "    \n",
    "    if node.children == []:\n",
    "        return species[next(iter(node.leaves))] + \":\" + str(node.parent.coal_time)\n",
    "    elif node.parent is None:\n",
    "        return \"(\" + write_newick(node.children[0]) + \",\" + write_newick(node.children[1]) + \")\"\n",
    "    else:\n",
    "        bl = node.parent.coal_time - node.coal_time\n",
    "        return \"(\" + write_newick(node.children[0]) + \",\" + write_newick(node.children[1]) + \"):\" + str(bl)\n",
    "\n",
    "    \n",
    "for _ in range(10):\n",
    "    Z = np.random.normal(np.ones_like(theta[0]))\n",
    "    log_times = np.exp(theta[1])*Z+theta[0]\n",
    "    log_times = log_times + np.triu(np.ones_like(theta[0])*np.inf)\n",
    "\n",
    "    tree = Tree(theta,log_times,tree_log_probs,\n",
    "                pop_size=pop_size)\n",
    "\n",
    "\n",
    "    treedata = write_newick(tree.nodes[-1])\n",
    "    handle = StringIO(treedata)\n",
    "    tree_to_draw = Phylo.read(handle, \"newick\")\n",
    "\n",
    "    # Set up the plot\n",
    "    fig = plt.figure(figsize=(12, 10))\n",
    "    ax = fig.add_subplot(1, 1, 1)\n",
    "\n",
    "    # Draw the phylogenetic tree\n",
    "    Phylo.draw(tree_to_draw, axes=ax)\n",
    "    fig.show()"
   ]
  },
  {
   "cell_type": "markdown",
   "metadata": {},
   "source": [
    "# Estimate the marginal likelihood"
   ]
  },
  {
   "cell_type": "code",
   "execution_count": null,
   "metadata": {},
   "outputs": [],
   "source": [
    "theta = optim_reinforce.theta"
   ]
  },
  {
   "cell_type": "code",
   "execution_count": null,
   "metadata": {},
   "outputs": [],
   "source": [
    "tree = Tree(optim.theta,log_times,\n",
    "            deepcopy(tree_log_probs),\n",
    "            pop_size=pop_size)"
   ]
  },
  {
   "cell_type": "code",
   "execution_count": null,
   "metadata": {
    "scrolled": true
   },
   "outputs": [],
   "source": [
    "n_exp = 100\n",
    "n_samples = 100\n",
    "\n",
    "priors = np.zeros(n_exp)\n",
    "LL = np.zeros(n_exp)\n",
    "MLL_all = np.zeros(n_exp)\n",
    "ELBO_all = np.zeros(n_exp) \n",
    "\n",
    "for i in range(n_exp):\n",
    "\n",
    "    MLL = np.zeros(n_samples)\n",
    "    ELBO = np.zeros(n_samples)\n",
    "    \n",
    "    Zs = np.random.normal(size=(n_samples,n_species,n_species))\n",
    "\n",
    "    for j,Z in enumerate(Zs):\n",
    "        log_times = np.exp(theta[1])*Z+theta[0]\n",
    "        log_times = log_times + np.triu(np.full(n_species, np.inf))\n",
    "        tree = Tree(optim.theta,log_times,\n",
    "                    deepcopy(tree_log_probs),\n",
    "                    pop_size=pop_size)\n",
    "        \n",
    "        MLL[j] = tree.log_p - tree.log_q\n",
    "        ELBO[j] = tree.log_p - tree.log_q\n",
    "    \n",
    "    priors[i] = tree.log_prior\n",
    "    LL[i] = tree.log_like\n",
    "    MLL_all[i] = logsumexp(MLL) - np.log(n_samples)\n",
    "    ELBO_all[i] = np.mean(ELBO)"
   ]
  },
  {
   "cell_type": "code",
   "execution_count": null,
   "metadata": {},
   "outputs": [],
   "source": [
    "plt.hist(priors,bins = 100)\n",
    "plt.show()"
   ]
  },
  {
   "cell_type": "code",
   "execution_count": null,
   "metadata": {},
   "outputs": [],
   "source": [
    "plt.hist(ELBO_all,bins = 100)\n",
    "plt.show()"
   ]
  },
  {
   "cell_type": "code",
   "execution_count": null,
   "metadata": {},
   "outputs": [],
   "source": [
    "plt.hist(MLL_all,bins = 100)\n",
    "plt.show()"
   ]
  },
  {
   "cell_type": "code",
   "execution_count": null,
   "metadata": {},
   "outputs": [],
   "source": [
    "plt.hist(LL,bins = 100)\n",
    "plt.show()"
   ]
  },
  {
   "cell_type": "code",
   "execution_count": null,
   "metadata": {},
   "outputs": [],
   "source": [
    "m = deepcopy(theta[0])\n",
    "m[np.triu_indices(m.shape[0])] = np.nan\n",
    "plt.imshow(m)\n",
    "plt.title(\"means of log-coalscent times\")\n",
    "plt.colorbar()"
   ]
  },
  {
   "cell_type": "code",
   "execution_count": null,
   "metadata": {},
   "outputs": [],
   "source": [
    "log_sig = deepcopy(theta[1])\n",
    "log_sig[np.triu_indices(log_sig.shape[0])] = np.nan\n",
    "plt.imshow(log_sig)\n",
    "plt.title(\"log-std of log-coalscent times\")\n",
    "plt.colorbar()"
   ]
  },
  {
   "cell_type": "markdown",
   "metadata": {},
   "source": [
    "# Plot the likelihood surface for 3-taxa trees"
   ]
  },
  {
   "cell_type": "code",
   "execution_count": 24,
   "metadata": {},
   "outputs": [
    {
     "data": {
      "text/plain": [
       "array([[[ 0.        ,  0.        ,  0.        ],\n",
       "        [-2.69429971,  0.        ,  0.        ],\n",
       "        [-2.46281365, -2.00451078,  0.        ]],\n",
       "\n",
       "       [[ 0.        ,  0.        ,  0.        ],\n",
       "        [-0.69832496,  0.        ,  0.        ],\n",
       "        [-1.23481931, -1.37394398,  0.        ]]])"
      ]
     },
     "execution_count": 24,
     "metadata": {},
     "output_type": "execute_result"
    }
   ],
   "source": [
    "optim0.theta"
   ]
  },
  {
   "cell_type": "code",
   "execution_count": 25,
   "metadata": {},
   "outputs": [],
   "source": [
    "def plot_q(theta,res):\n",
    "    # select t lims from sampling 1000 trees\n",
    "    min_time = np.min((-5*np.exp(theta[1])+theta[0])[np.tril(np.full((n_species), True),k=-1)])\n",
    "    max_time = np.max(( 3*np.exp(theta[1])+theta[0])[np.tril(np.full((n_species), True),k=-1)])\n",
    "    tlims = [min_time,max_time]\n",
    "\n",
    "    #print(theta)\n",
    "    log_p = np.zeros((3,res,res))\n",
    "    log_q = np.zeros((3,res,res))\n",
    "    ELBO = np.zeros((3,res,res))\n",
    "\n",
    "    orders = [[0,1,2],[0,2,1],[1,2,0]]\n",
    "    tau_labels = ['(({A},{B}),({A,B},{C}))',\n",
    "                  '(({A},{C}),({A,C},{B}))',\n",
    "                  '(({B},{C}),({A},{B,C})']\n",
    "\n",
    "    for k,inds in enumerate(orders):\n",
    "\n",
    "        time1s = np.linspace(tlims[0],tlims[1],res)\n",
    "        time2s = np.linspace(tlims[0],tlims[1],res)\n",
    "\n",
    "        for i,time1 in enumerate(time1s):\n",
    "            for j,time2 in enumerate(time2s):\n",
    "\n",
    "                if time1 > time2:\n",
    "                    log_p[k,j,i] = -np.inf\n",
    "                    log_q[k,j,i] = -np.inf\n",
    "\n",
    "                else:\n",
    "                    times = np.inf*np.ones((3,3))\n",
    "\n",
    "                    inds1 = [inds[x] for x in [0,1]]\n",
    "                    inds2 = [inds[x] for x in [0,2]]\n",
    "                    inds3 = [inds[x] for x in [1,2]]\n",
    "\n",
    "                    times[max(inds1),min(inds1)] = time1\n",
    "                    times[max(inds2),min(inds2)] = time2\n",
    "                    times[max(inds3),min(inds3)] = time2+1\n",
    "\n",
    "                    tree = Tree(theta,times,tree_log_probs,\n",
    "                                pop_size=pop_size)\n",
    "\n",
    "                    log_p[k,j,i] = tree.log_p\n",
    "                    log_q[k,j,i] = tree.log_q\n",
    "                    ELBO[k,j,i] = np.exp(tree.log_q)*(tree.log_p - tree.log_q)\n",
    "    log_p = log_p-logsumexp(log_p[~np.isnan(log_p)])+logsumexp(log_q[~np.isnan(log_q)])\n",
    "    vmax = np.nanmax([log_p,log_q])\n",
    "\n",
    "    i = 0\n",
    "    plt.subplots(figsize = (20,12))\n",
    "    for k in range(3):\n",
    "\n",
    "        i += 1\n",
    "        plt.subplot(3,3,i)\n",
    "\n",
    "        plt.imshow(log_p[k], interpolation='nearest', origin='lower',\n",
    "                   extent=[tlims[0],tlims[1],tlims[0],tlims[1]],vmin=vmax-6,vmax=vmax)\n",
    "        plt.xlabel(r'$\\log(t_1)$',fontsize = 16)\n",
    "        plt.ylabel(r'$\\log(t_2)$',fontsize = 16)\n",
    "        plt.title(r'log(p), $\\tau$ = %s' % tau_labels[k],fontsize = 16)\n",
    "        plt.colorbar()\n",
    "\n",
    "        plt.subplot(3,3,i+3)\n",
    "\n",
    "        plt.imshow(log_q[k], interpolation='nearest', origin='lower',\n",
    "                   extent=[tlims[0],tlims[1],tlims[0],tlims[1]],vmin=vmax-6,vmax=vmax)\n",
    "        plt.xlabel(r'$\\log(t_1)$',fontsize = 16)\n",
    "        plt.ylabel(r'$\\log(t_2)$',fontsize = 16)\n",
    "        plt.title(r'log(q), $\\tau$ = %s' % tau_labels[k],fontsize = 16)\n",
    "        plt.colorbar()\n",
    "\n",
    "    plt.show()\n",
    "    return"
   ]
  },
  {
   "cell_type": "code",
   "execution_count": 26,
   "metadata": {},
   "outputs": [
    {
     "name": "stdout",
     "output_type": "stream",
     "text": [
      "VIMCO:\n"
     ]
    },
    {
     "data": {
      "image/png": "[encoded data removed]",
      "text/plain": [
       "<Figure size 1440x864 with 12 Axes>"
      ]
     },
     "metadata": {
      "needs_background": "light"
     },
     "output_type": "display_data"
    },
    {
     "name": "stdout",
     "output_type": "stream",
     "text": [
      "Reparam:\n"
     ]
    },
    {
     "data": {
      "image/png": "[encoded data removed]",
      "text/plain": [
       "<Figure size 1440x864 with 12 Axes>"
      ]
     },
     "metadata": {
      "needs_background": "light"
     },
     "output_type": "display_data"
    }
   ],
   "source": [
    "print(\"VIMCO:\")\n",
    "plot_q(optim.theta,res=50)\n",
    "print(\"Reparam:\")\n",
    "plot_q(optim0.theta,res=50)"
   ]
  },
  {
   "cell_type": "markdown",
   "metadata": {},
   "source": [
    "# Visualize the boundary"
   ]
  },
  {
   "cell_type": "code",
   "execution_count": 27,
   "metadata": {},
   "outputs": [],
   "source": [
    "theta = optim.theta\n",
    "res = 500\n",
    "\n",
    "# select t lims from sampling 1000 trees\n",
    "Z1 = 0\n",
    "min_time = np.min((-5*np.exp(theta[1])+theta[0])[np.tril(np.full((n_species), True),k=-1)])\n",
    "max_time = np.max(( 3*np.exp(theta[1])+theta[0])[np.tril(np.full((n_species), True),k=-1)])\n",
    "tlims = [min_time,max_time]\n",
    "\n",
    "#print(theta)\n",
    "log_p = np.zeros((3,res))\n",
    "log_q = np.zeros((3,res))\n",
    "ELBO = np.zeros((3,res))\n",
    "\n",
    "eps = 0.00001\n",
    "\n",
    "orders = [[0,1,2],[0,2,1],[1,2,0]]\n",
    "tau_labels = ['(({A},{B}),({A,B},{C}))',\n",
    "              '(({A},{C}),({A,C},{B}))',\n",
    "              '(({B},{C}),({A},{B,C})']\n",
    "\n",
    "for k,inds in enumerate(orders):\n",
    "    \n",
    "    time1s = np.linspace(tlims[0],tlims[1],res)\n",
    "    \n",
    "    for i,time1 in enumerate(time1s):\n",
    "        \n",
    "        time2 = time1 + eps\n",
    "                \n",
    "        times = np.inf*np.ones((3,3))\n",
    "\n",
    "        inds1 = [inds[x] for x in [0,1]]\n",
    "        inds2 = [inds[x] for x in [0,2]]\n",
    "        inds3 = [inds[x] for x in [1,2]]\n",
    "\n",
    "        times[max(inds1),min(inds1)] = time1\n",
    "        times[max(inds2),min(inds2)] = time2\n",
    "        times[max(inds3),min(inds3)] = time2+1\n",
    "\n",
    "        tree = Tree(theta,times,tree_log_probs,\n",
    "                    pop_size=pop_size)\n",
    "\n",
    "        log_p[k,i] = tree.log_p\n",
    "        log_q[k,i] = tree.log_q\n",
    "        ELBO[k,i] = np.exp(tree.log_q)*(tree.log_p - tree.log_q)"
   ]
  },
  {
   "cell_type": "code",
   "execution_count": 28,
   "metadata": {},
   "outputs": [
    {
     "data": {
      "text/plain": [
       "216.81855105265666"
      ]
     },
     "execution_count": 28,
     "metadata": {},
     "output_type": "execute_result"
    }
   ],
   "source": [
    "np.max(np.exp(log_q.T))"
   ]
  },
  {
   "cell_type": "code",
   "execution_count": 29,
   "metadata": {},
   "outputs": [
    {
     "data": {
      "image/png": "[encoded data removed]",
      "text/plain": [
       "<Figure size 432x288 with 1 Axes>"
      ]
     },
     "metadata": {
      "needs_background": "light"
     },
     "output_type": "display_data"
    }
   ],
   "source": [
    "plt.plot(time1s,np.exp(log_q.T)*(log_p.T-log_q.T))\n",
    "plt.show()"
   ]
  },
  {
   "cell_type": "code",
   "execution_count": 30,
   "metadata": {},
   "outputs": [
    {
     "data": {
      "image/png": "[encoded data removed]",
      "text/plain": [
       "<Figure size 432x288 with 1 Axes>"
      ]
     },
     "metadata": {
      "needs_background": "light"
     },
     "output_type": "display_data"
    }
   ],
   "source": [
    "plt.plot(time1s,log_q.T,'-.')\n",
    "plt.show()"
   ]
  },
  {
   "cell_type": "code",
   "execution_count": 31,
   "metadata": {},
   "outputs": [],
   "source": [
    "theta = optim.theta\n",
    "res = 200\n",
    "\n",
    "# select t lims from sampling 1000 trees\n",
    "Z1 = -3\n",
    "Z2s = np.linspace(-5,5,res)\n",
    "Z3s = np.linspace(-5,5,res)\n",
    "tlims = [-5,5]\n",
    "\n",
    "#print(theta)\n",
    "log_p = np.zeros((res,res))\n",
    "log_q = np.zeros((res,res))\n",
    "ELBO = np.zeros((res,res))\n",
    "    \n",
    "for i,Z2 in enumerate(Z2s):\n",
    "    for j,Z3 in enumerate(Z3s):\n",
    "\n",
    "        Z = np.array([[np.inf,np.inf,np.inf],\n",
    "                      [Z2    ,np.inf,np.inf],\n",
    "                      [Z3    ,Z1   ,np.inf]])\n",
    "\n",
    "        log_times = np.exp(theta[1])*Z+theta[0]\n",
    "\n",
    "        tree = Tree(theta,log_times,tree_log_probs,\n",
    "                    pop_size=pop_size)\n",
    "\n",
    "        log_p[j,i] = tree.log_p\n",
    "        log_q[j,i] = tree.log_q\n",
    "        ELBO[j,i] = (tree.log_p-tree.log_q)\n"
   ]
  },
  {
   "cell_type": "code",
   "execution_count": 32,
   "metadata": {},
   "outputs": [
    {
     "data": {
      "image/png": "[encoded data removed]",
      "text/plain": [
       "<Figure size 1440x864 with 6 Axes>"
      ]
     },
     "metadata": {
      "needs_background": "light"
     },
     "output_type": "display_data"
    }
   ],
   "source": [
    "#log_p = log_p-logsumexp(log_p[~np.isnan(log_p)])+logsumexp(log_q[~np.isnan(log_q)])\n",
    "vmaxp = np.nanmax([log_p])\n",
    "vmaxq = np.nanmax([log_q])\n",
    "plt.subplots(figsize = (20,12))\n",
    "    \n",
    "plt.subplot(1,3,1)\n",
    "\n",
    "plt.imshow(log_p, interpolation='nearest', origin='lower',\n",
    "           extent=[tlims[0],tlims[1],tlims[0],tlims[1]],vmin=vmaxp-6,vmax=vmaxp)\n",
    "plt.xlabel(r'$Z_{ac}$',fontsize = 16)\n",
    "plt.ylabel(r'$Z_{bc}$',fontsize = 16)\n",
    "plt.title(r'log(p), $\\tau$ = %s' % tau_labels[k],fontsize = 16)\n",
    "plt.colorbar()\n",
    "\n",
    "plt.subplot(1,3,2)\n",
    "\n",
    "plt.imshow(log_q, interpolation='nearest', origin='lower',\n",
    "           extent=[tlims[0],tlims[1],tlims[0],tlims[1]],vmin=vmaxq-6,vmax=vmaxq)\n",
    "plt.xlabel(r'$Z_{ac}$',fontsize = 16)\n",
    "plt.ylabel(r'$Z_{bc}$',fontsize = 16)\n",
    "plt.title(r'log(q), $\\tau$ = %s' % tau_labels[k],fontsize = 16)\n",
    "plt.colorbar()\n",
    "    \n",
    "plt.subplot(1,3,3)\n",
    "\n",
    "plt.imshow(ELBO, interpolation='nearest', origin='lower',\n",
    "           extent=[tlims[0],tlims[1],tlims[0],tlims[1]])\n",
    "plt.xlabel(r'$Z_{ac}$',fontsize = 16)\n",
    "plt.ylabel(r'$Z_{bc}$',fontsize = 16)\n",
    "plt.title(r'ELBO, $\\tau$ = %s' % tau_labels[k],fontsize = 16)\n",
    "plt.colorbar()\n",
    "    \n",
    "plt.show()"
   ]
  },
  {
   "cell_type": "code",
   "execution_count": 33,
   "metadata": {},
   "outputs": [
    {
     "data": {
      "text/plain": [
       "array([[[ 0.        ,  0.        ,  0.        ],\n",
       "        [-2.64514748,  0.        ,  0.        ],\n",
       "        [-2.4649353 , -2.08209826,  0.        ]],\n",
       "\n",
       "       [[ 0.        ,  0.        ,  0.        ],\n",
       "        [-0.94736311,  0.        ,  0.        ],\n",
       "        [-0.96018805, -1.22094998,  0.        ]]])"
      ]
     },
     "execution_count": 33,
     "metadata": {},
     "output_type": "execute_result"
    }
   ],
   "source": [
    "theta"
   ]
  },
  {
   "cell_type": "markdown",
   "metadata": {},
   "source": [
    "# Evaluate gradient of the ELBO"
   ]
  },
  {
   "cell_type": "code",
   "execution_count": 34,
   "metadata": {},
   "outputs": [
    {
     "data": {
      "text/plain": [
       "['AAAAAAAAA-AAAAAAAAAAAAAA-AAAAAAAAAAAAAAAAAAAAAAAA-AAAAAAAAA-AAAAAAAAAA-AAAA--AAAAAAAAA-AAA---AAAAAAA',\n",
       " 'AAAATAAAAAAAAAAAATAAAAATAAAAAAAAAATATAAAAAAAAAAAAAAAAAAAAAAAATAATAAAAAAAAAAAAAAAAAAAAAAAAAAAAAATAAAT',\n",
       " 'AATAAATAAAAATAAAAAAAAAAAAAAAATAAAAAAAAAATAAAAAAAATAAAATAAAAAAAAAAAAAAAAAAAAAAAAAAAATTAATAAATAAAAAAAT']"
      ]
     },
     "execution_count": 34,
     "metadata": {},
     "output_type": "execute_result"
    }
   ],
   "source": [
    "genomes"
   ]
  },
  {
   "cell_type": "code",
   "execution_count": 35,
   "metadata": {},
   "outputs": [
    {
     "data": {
      "text/plain": [
       "array([[[ 0.        ,  0.        ,  0.        ],\n",
       "        [-2.64514748,  0.        ,  0.        ],\n",
       "        [-2.4649353 , -2.08209826,  0.        ]],\n",
       "\n",
       "       [[ 0.        ,  0.        ,  0.        ],\n",
       "        [-0.94736311,  0.        ,  0.        ],\n",
       "        [-0.96018805, -1.22094998,  0.        ]]])"
      ]
     },
     "execution_count": 35,
     "metadata": {},
     "output_type": "execute_result"
    }
   ],
   "source": [
    "optim.theta"
   ]
  },
  {
   "cell_type": "code",
   "execution_count": 36,
   "metadata": {},
   "outputs": [
    {
     "data": {
      "text/plain": [
       "0.20189651799465538"
      ]
     },
     "execution_count": 36,
     "metadata": {},
     "output_type": "execute_result"
    }
   ],
   "source": [
    "np.exp(-1.6)"
   ]
  },
  {
   "cell_type": "code",
   "execution_count": 37,
   "metadata": {},
   "outputs": [],
   "source": [
    "# select t lims from plus or minus three standard deviations\n",
    "min_time = np.min((-5*np.exp(optim.theta[1])+optim.theta[0])[np.tril(np.full((n_species), True),k=-1)])\n",
    "max_time = np.max(( 3*np.exp(optim.theta[1])+optim.theta[0])[np.tril(np.full((n_species), True),k=-1)])\n",
    "tlims = [min_time,max_time]\n",
    "\n",
    "def ELBO_no_reparam(theta,res_no_reparam):\n",
    "\n",
    "    ELBO = 0\n",
    "    orders = [[0,1,2],[0,2,1],[1,2,0]]\n",
    "\n",
    "    for k,inds in enumerate(orders):\n",
    "\n",
    "        time1s = np.linspace(tlims[0],tlims[1],res_no_reparam)\n",
    "        time2s = np.linspace(tlims[0],tlims[1],res_no_reparam)\n",
    "\n",
    "        for i,time1 in enumerate(time1s):\n",
    "            for j,time2 in enumerate(time2s):\n",
    "\n",
    "                if time1 < time2:\n",
    "                    \n",
    "                    times = np.inf*np.ones((3,3))\n",
    "\n",
    "                    inds1 = [inds[x] for x in [0,1]]\n",
    "                    inds2 = [inds[x] for x in [0,2]]\n",
    "                    inds3 = [inds[x] for x in [1,2]]\n",
    "\n",
    "                    times[max(inds1),min(inds1)] = time1\n",
    "                    times[max(inds2),min(inds2)] = time2\n",
    "                    times[max(inds3),min(inds3)] = time2+1\n",
    "                    \n",
    "                    tree = Tree(theta,times,tree_log_probs,\n",
    "                                pop_size=pop_size)\n",
    "\n",
    "                    ELBO_hat = np.exp(tree.log_q)*(tree.log_p - tree.log_q)\n",
    "                    \n",
    "                    if not np.isnan(ELBO_hat):\n",
    "                        \n",
    "                        if i == 0:\n",
    "                            length = 0\n",
    "                        else:\n",
    "                            length = np.exp(time1s[i]) - np.exp(time1s[i-1])\n",
    "                            \n",
    "                        if j == 0:\n",
    "                            width = 0\n",
    "                        else:\n",
    "                            width = np.exp(time2s[j]) - np.exp(time2s[j-1])\n",
    "                        \n",
    "                        ELBO_hat = ELBO_hat*length*width\n",
    "                        ELBO = ELBO + ELBO_hat\n",
    "                    \n",
    "    return ELBO"
   ]
  },
  {
   "cell_type": "code",
   "execution_count": 38,
   "metadata": {},
   "outputs": [
    {
     "ename": "KeyboardInterrupt",
     "evalue": "",
     "output_type": "error",
     "traceback": [
      "\u001b[0;31m---------------------------------------------------------------------------\u001b[0m",
      "\u001b[0;31mKeyboardInterrupt\u001b[0m                         Traceback (most recent call last)",
      "Input \u001b[0;32mIn [38]\u001b[0m, in \u001b[0;36m<cell line: 1>\u001b[0;34m()\u001b[0m\n\u001b[0;32m----> 1\u001b[0m \u001b[43mELBO_no_reparam\u001b[49m\u001b[43m(\u001b[49m\u001b[43moptim\u001b[49m\u001b[38;5;241;43m.\u001b[39;49m\u001b[43mtheta\u001b[49m\u001b[43m,\u001b[49m\u001b[38;5;241;43m500\u001b[39;49m\u001b[43m)\u001b[49m\n",
      "Input \u001b[0;32mIn [37]\u001b[0m, in \u001b[0;36mELBO_no_reparam\u001b[0;34m(theta, res_no_reparam)\u001b[0m\n\u001b[1;32m     28\u001b[0m times[\u001b[38;5;28mmax\u001b[39m(inds2),\u001b[38;5;28mmin\u001b[39m(inds2)] \u001b[38;5;241m=\u001b[39m time2\n\u001b[1;32m     29\u001b[0m times[\u001b[38;5;28mmax\u001b[39m(inds3),\u001b[38;5;28mmin\u001b[39m(inds3)] \u001b[38;5;241m=\u001b[39m time2\u001b[38;5;241m+\u001b[39m\u001b[38;5;241m1\u001b[39m\n\u001b[0;32m---> 31\u001b[0m tree \u001b[38;5;241m=\u001b[39m \u001b[43mTree\u001b[49m\u001b[43m(\u001b[49m\u001b[43mtheta\u001b[49m\u001b[43m,\u001b[49m\u001b[43mtimes\u001b[49m\u001b[43m,\u001b[49m\u001b[43mtree_log_probs\u001b[49m\u001b[43m,\u001b[49m\n\u001b[1;32m     32\u001b[0m \u001b[43m            \u001b[49m\u001b[43mpop_size\u001b[49m\u001b[38;5;241;43m=\u001b[39;49m\u001b[43mpop_size\u001b[49m\u001b[43m)\u001b[49m\n\u001b[1;32m     34\u001b[0m ELBO_hat \u001b[38;5;241m=\u001b[39m np\u001b[38;5;241m.\u001b[39mexp(tree\u001b[38;5;241m.\u001b[39mlog_q)\u001b[38;5;241m*\u001b[39m(tree\u001b[38;5;241m.\u001b[39mlog_p \u001b[38;5;241m-\u001b[39m tree\u001b[38;5;241m.\u001b[39mlog_q)\n\u001b[1;32m     36\u001b[0m \u001b[38;5;28;01mif\u001b[39;00m \u001b[38;5;129;01mnot\u001b[39;00m np\u001b[38;5;241m.\u001b[39misnan(ELBO_hat):\n",
      "File \u001b[0;32m~/Documents/Research/VBPI-matrix/src/tree.py:59\u001b[0m, in \u001b[0;36mTree.__init__\u001b[0;34m(self, theta, log_times, tree_log_probs, pop_size)\u001b[0m\n\u001b[1;32m     56\u001b[0m \u001b[38;5;28mself\u001b[39m\u001b[38;5;241m.\u001b[39mcoal_times \u001b[38;5;241m=\u001b[39m np\u001b[38;5;241m.\u001b[39mzeros(\u001b[38;5;28mself\u001b[39m\u001b[38;5;241m.\u001b[39mntaxa)\n\u001b[1;32m     58\u001b[0m \u001b[38;5;66;03m# draw graph\u001b[39;00m\n\u001b[0;32m---> 59\u001b[0m \u001b[38;5;28;43mself\u001b[39;49m\u001b[38;5;241;43m.\u001b[39;49m\u001b[43mdraw_graph\u001b[49m\u001b[43m(\u001b[49m\u001b[43m)\u001b[49m\n",
      "File \u001b[0;32m~/Documents/Research/VBPI-matrix/src/tree.py:160\u001b[0m, in \u001b[0;36mTree.draw_graph\u001b[0;34m(self, log_times, theta, pop_size)\u001b[0m\n\u001b[1;32m    158\u001b[0m     P \u001b[38;5;241m=\u001b[39m \u001b[38;5;241m0.25\u001b[39m\u001b[38;5;241m*\u001b[39m(\u001b[38;5;241m1\u001b[39m\u001b[38;5;241m-\u001b[39mnp\u001b[38;5;241m.\u001b[39mexp(\u001b[38;5;241m-\u001b[39m\u001b[38;5;241m4\u001b[39m\u001b[38;5;241m*\u001b[39medge_length\u001b[38;5;241m/\u001b[39m\u001b[38;5;241m3\u001b[39m))\u001b[38;5;241m*\u001b[39mnp\u001b[38;5;241m.\u001b[39mones((\u001b[38;5;241m4\u001b[39m,\u001b[38;5;241m4\u001b[39m))\n\u001b[1;32m    159\u001b[0m     P \u001b[38;5;241m=\u001b[39m P \u001b[38;5;241m+\u001b[39m np\u001b[38;5;241m.\u001b[39meye(\u001b[38;5;241m4\u001b[39m)\u001b[38;5;241m*\u001b[39m(np\u001b[38;5;241m.\u001b[39mexp(\u001b[38;5;241m-\u001b[39m\u001b[38;5;241m4\u001b[39m\u001b[38;5;241m*\u001b[39medge_length\u001b[38;5;241m/\u001b[39m\u001b[38;5;241m3\u001b[39m))\n\u001b[0;32m--> 160\u001b[0m     ancestor_parent\u001b[38;5;241m.\u001b[39mlog_probs \u001b[38;5;241m=\u001b[39m ancestor_parent\u001b[38;5;241m.\u001b[39mlog_probs \u001b[38;5;241m+\u001b[39m \u001b[43mlogdotexp\u001b[49m\u001b[43m(\u001b[49m\u001b[43mancestor\u001b[49m\u001b[38;5;241;43m.\u001b[39;49m\u001b[43mlog_probs\u001b[49m\u001b[43m,\u001b[49m\u001b[43mnp\u001b[49m\u001b[38;5;241;43m.\u001b[39;49m\u001b[43mlog\u001b[49m\u001b[43m(\u001b[49m\u001b[43mP\u001b[49m\u001b[43m)\u001b[49m\u001b[43m)\u001b[49m\n\u001b[1;32m    162\u001b[0m \u001b[38;5;66;03m# update q\u001b[39;00m\n\u001b[1;32m    163\u001b[0m \u001b[38;5;28mself\u001b[39m\u001b[38;5;241m.\u001b[39mupdate_q(ancestors)\n",
      "File \u001b[0;32m~/Documents/Research/VBPI-matrix/src/misc_funcs.py:6\u001b[0m, in \u001b[0;36mlogdotexp\u001b[0;34m(A, B)\u001b[0m\n\u001b[1;32m      4\u001b[0m \u001b[38;5;28;01mdef\u001b[39;00m \u001b[38;5;21mlogdotexp\u001b[39m(A, B):\n\u001b[1;32m      5\u001b[0m     max_A \u001b[38;5;241m=\u001b[39m np\u001b[38;5;241m.\u001b[39mmax(A)\n\u001b[0;32m----> 6\u001b[0m     max_B \u001b[38;5;241m=\u001b[39m \u001b[43mnp\u001b[49m\u001b[38;5;241;43m.\u001b[39;49m\u001b[43mmax\u001b[49m\u001b[43m(\u001b[49m\u001b[43mB\u001b[49m\u001b[43m)\u001b[49m\n\u001b[1;32m      7\u001b[0m     C \u001b[38;5;241m=\u001b[39m np\u001b[38;5;241m.\u001b[39mdot(np\u001b[38;5;241m.\u001b[39mexp(A \u001b[38;5;241m-\u001b[39m max_A), np\u001b[38;5;241m.\u001b[39mexp(B \u001b[38;5;241m-\u001b[39m max_B))\n\u001b[1;32m      8\u001b[0m     C \u001b[38;5;241m=\u001b[39m np\u001b[38;5;241m.\u001b[39mlog(C)\n",
      "File \u001b[0;32m~/opt/anaconda3/lib/python3.9/site-packages/autograd/tracer.py:37\u001b[0m, in \u001b[0;36mprimitive.<locals>.f_wrapped\u001b[0;34m(*args, **kwargs)\u001b[0m\n\u001b[1;32m     35\u001b[0m \u001b[38;5;129m@wraps\u001b[39m(f_raw)\n\u001b[1;32m     36\u001b[0m \u001b[38;5;28;01mdef\u001b[39;00m \u001b[38;5;21mf_wrapped\u001b[39m(\u001b[38;5;241m*\u001b[39margs, \u001b[38;5;241m*\u001b[39m\u001b[38;5;241m*\u001b[39mkwargs):\n\u001b[0;32m---> 37\u001b[0m     boxed_args, trace, node_constructor \u001b[38;5;241m=\u001b[39m \u001b[43mfind_top_boxed_args\u001b[49m\u001b[43m(\u001b[49m\u001b[43margs\u001b[49m\u001b[43m)\u001b[49m\n\u001b[1;32m     38\u001b[0m     \u001b[38;5;28;01mif\u001b[39;00m boxed_args:\n\u001b[1;32m     39\u001b[0m         argvals \u001b[38;5;241m=\u001b[39m subvals(args, [(argnum, box\u001b[38;5;241m.\u001b[39m_value) \u001b[38;5;28;01mfor\u001b[39;00m argnum, box \u001b[38;5;129;01min\u001b[39;00m boxed_args])\n",
      "File \u001b[0;32m~/opt/anaconda3/lib/python3.9/site-packages/autograd/tracer.py:70\u001b[0m, in \u001b[0;36mfind_top_boxed_args\u001b[0;34m(args)\u001b[0m\n\u001b[1;32m     68\u001b[0m top_node_type \u001b[38;5;241m=\u001b[39m \u001b[38;5;28;01mNone\u001b[39;00m\n\u001b[1;32m     69\u001b[0m \u001b[38;5;28;01mfor\u001b[39;00m argnum, arg \u001b[38;5;129;01min\u001b[39;00m \u001b[38;5;28menumerate\u001b[39m(args):\n\u001b[0;32m---> 70\u001b[0m     \u001b[38;5;28;01mif\u001b[39;00m \u001b[43misbox\u001b[49m\u001b[43m(\u001b[49m\u001b[43marg\u001b[49m\u001b[43m)\u001b[49m:\n\u001b[1;32m     71\u001b[0m         trace \u001b[38;5;241m=\u001b[39m arg\u001b[38;5;241m.\u001b[39m_trace\n\u001b[1;32m     72\u001b[0m         \u001b[38;5;28;01mif\u001b[39;00m trace \u001b[38;5;241m>\u001b[39m top_trace:\n",
      "\u001b[0;31mKeyboardInterrupt\u001b[0m: "
     ]
    }
   ],
   "source": [
    "ELBO_no_reparam(optim.theta,500)"
   ]
  },
  {
   "cell_type": "code",
   "execution_count": null,
   "metadata": {},
   "outputs": [],
   "source": [
    "ELBO_no_reparam(optim.theta,300)"
   ]
  },
  {
   "cell_type": "code",
   "execution_count": null,
   "metadata": {},
   "outputs": [],
   "source": [
    "ELBO_no_reparam(optim.theta,200)"
   ]
  },
  {
   "cell_type": "code",
   "execution_count": null,
   "metadata": {},
   "outputs": [],
   "source": [
    "ELBO_no_reparam(optim.theta,100)"
   ]
  },
  {
   "cell_type": "code",
   "execution_count": null,
   "metadata": {},
   "outputs": [],
   "source": [
    "grad(lambda theta: ELBO_no_reparam(theta,100))(optim.theta)"
   ]
  },
  {
   "cell_type": "code",
   "execution_count": null,
   "metadata": {},
   "outputs": [],
   "source": [
    "grad(lambda theta: ELBO_no_reparam(theta,200))(optim.theta)"
   ]
  },
  {
   "cell_type": "code",
   "execution_count": null,
   "metadata": {},
   "outputs": [],
   "source": [
    "grad(lambda theta: ELBO_no_reparam(theta,300))(optim.theta)"
   ]
  },
  {
   "cell_type": "code",
   "execution_count": null,
   "metadata": {},
   "outputs": [],
   "source": [
    "grad(lambda theta: ELBO_no_reparam(theta,500))(optim.theta)"
   ]
  },
  {
   "cell_type": "markdown",
   "metadata": {},
   "source": [
    "# Reparameterize and see if the LOTUS applies"
   ]
  },
  {
   "cell_type": "code",
   "execution_count": null,
   "metadata": {},
   "outputs": [],
   "source": [
    "res_reparam = 50\n",
    "\n",
    "min_Z = -3\n",
    "max_Z = 3\n",
    "\n",
    "def ELBO_reparam(theta):\n",
    "    \n",
    "    ELBO = 0\n",
    "    \n",
    "    Z1s = np.linspace(min_Z,max_Z,res_reparam)\n",
    "    Z2s = np.linspace(min_Z,max_Z,res_reparam)\n",
    "    Z3s = np.linspace(min_Z,max_Z,res_reparam)\n",
    "    \n",
    "    for i,Z1 in enumerate(Z1s):\n",
    "        for j,Z2 in enumerate(Z2s):\n",
    "            for k,Z3 in enumerate(Z3s):\n",
    "        \n",
    "                Z = np.array([[np.inf,np.inf,np.inf],\n",
    "                              [Z1    ,np.inf,np.inf],\n",
    "                              [Z2    ,Z3    ,np.inf]])\n",
    "\n",
    "                log_times = np.exp(theta[1])*Z+theta[0]\n",
    "\n",
    "                tree = Tree(theta,log_times,tree_log_probs,\n",
    "                            pop_size=pop_size)\n",
    "\n",
    "                density = np.product(norm.pdf([Z1,Z2,Z3]))*((max_Z-min_Z)/res_reparam)**3\n",
    "\n",
    "                ELBO_hat = density*(tree.log_p - tree.log_q)\n",
    "        \n",
    "                if not np.isnan(ELBO_hat):\n",
    "                    ELBO = ELBO + ELBO_hat\n",
    "                    \n",
    "    return ELBO"
   ]
  },
  {
   "cell_type": "code",
   "execution_count": null,
   "metadata": {},
   "outputs": [],
   "source": [
    "ELBO_reparam(optim.theta)"
   ]
  },
  {
   "cell_type": "code",
   "execution_count": null,
   "metadata": {},
   "outputs": [],
   "source": [
    "grad(ELBO_reparam)(optim.theta)"
   ]
  },
  {
   "cell_type": "markdown",
   "metadata": {},
   "source": [
    "# See if we can replace integration with sampling"
   ]
  },
  {
   "cell_type": "code",
   "execution_count": null,
   "metadata": {},
   "outputs": [],
   "source": [
    "n_samples = 10000\n",
    "\n",
    "# sample trees\n",
    "Z1s = np.random.normal(size=n_samples)\n",
    "Z2s = np.random.normal(size=n_samples)\n",
    "Z3s = np.random.normal(size=n_samples)\n",
    "\n",
    "def ELBO_reparam_sample(theta):\n",
    "    \n",
    "    ELBO = 0\n",
    "    \n",
    "    for Z1,Z2,Z3 in zip(Z1s,Z2s,Z3s):\n",
    "        \n",
    "        Z = np.array([[np.inf,np.inf,np.inf],\n",
    "                      [Z1    ,np.inf,np.inf],\n",
    "                      [Z2    ,Z3    ,np.inf]])\n",
    "\n",
    "        log_times = np.exp(theta[1])*Z+theta[0]\n",
    "\n",
    "        tree = Tree(theta,log_times,tree_log_probs,\n",
    "                    pop_size=pop_size)\n",
    "\n",
    "        density = 1/n_samples\n",
    "\n",
    "        ELBO_hat = density*(tree.log_p - tree.log_q)\n",
    "\n",
    "        if not np.isnan(ELBO_hat):\n",
    "            ELBO = ELBO + ELBO_hat\n",
    "                    \n",
    "    return ELBO\n",
    "\n",
    "print(ELBO_reparam_sample(optim.theta))\n",
    "print(grad(ELBO_reparam_sample)(optim.theta))"
   ]
  },
  {
   "cell_type": "markdown",
   "metadata": {},
   "source": [
    "# See if the sum of the gradients is the gradient of the sum"
   ]
  },
  {
   "cell_type": "code",
   "execution_count": null,
   "metadata": {},
   "outputs": [],
   "source": [
    "res_reparam = 25\n",
    "\n",
    "min_Z = -3\n",
    "max_Z = 3\n",
    "\n",
    "grad_ELBO_reparam = np.zeros_like(optim.theta)\n",
    "\n",
    "Z1s = np.linspace(min_Z,max_Z,res_reparam)\n",
    "Z2s = np.linspace(min_Z,max_Z,res_reparam)\n",
    "Z3s = np.linspace(min_Z,max_Z,res_reparam)\n",
    "\n",
    "for i,Z1 in enumerate(Z1s):\n",
    "    for j,Z2 in enumerate(Z2s):\n",
    "        for k,Z3 in enumerate(Z3s):\n",
    "\n",
    "            Z = np.array([[np.inf,np.inf,np.inf],\n",
    "                          [Z1    ,np.inf,np.inf],\n",
    "                          [Z2    ,Z3    ,np.inf]])\n",
    "            \n",
    "            def ELBO_reparam_local(theta0):\n",
    "                log_times = np.exp(theta0[1])*Z+theta0[0]\n",
    "                tree = Tree(theta0,log_times,tree_log_probs,\n",
    "                            pop_size=pop_size)\n",
    "                return tree.log_p - tree.log_q\n",
    "\n",
    "            grad_ELBO_hat = grad(ELBO_reparam_local)(optim.theta)\n",
    "            density = np.product(norm.pdf([Z1,Z2,Z3]))*((max_Z-min_Z)/res_reparam)**3\n",
    "\n",
    "            grad_ELBO_hat = density*grad_ELBO_hat\n",
    "\n",
    "            if not np.isnan(grad_ELBO_hat).all():\n",
    "                grad_ELBO_reparam = grad_ELBO_reparam + grad_ELBO_hat"
   ]
  },
  {
   "cell_type": "code",
   "execution_count": null,
   "metadata": {},
   "outputs": [],
   "source": [
    "print(grad_ELBO_reparam)"
   ]
  },
  {
   "cell_type": "markdown",
   "metadata": {},
   "source": [
    "# Plot both ELBOs as theta[0,2,0] changes"
   ]
  },
  {
   "cell_type": "code",
   "execution_count": null,
   "metadata": {},
   "outputs": [],
   "source": [
    "h = 0.5\n",
    "np.linspace(optim.theta[0,2,0]-h,optim.theta[0,2,0]+h,2)"
   ]
  },
  {
   "cell_type": "code",
   "execution_count": null,
   "metadata": {
    "scrolled": true
   },
   "outputs": [],
   "source": [
    "h = 0.1\n",
    "thetas = np.linspace(optim.theta[0,2,0]-h,optim.theta[0,2,0]+h,3)\n",
    "\n",
    "grad_ELBOS_reparam = []\n",
    "grad_ELBOS_no_reparam = []\n",
    "\n",
    "ELBOS_reparam = []\n",
    "ELBOS_no_reparam = []\n",
    "\n",
    "for theta in thetas:\n",
    "    print(theta)\n",
    "    \n",
    "    theta0 = deepcopy(optim.theta)\n",
    "    theta0[0,2,0] = theta\n",
    "    \n",
    "    ELBOS_reparam.append(ELBO_reparam(theta0))\n",
    "    print(\"ELBO reparam:\",ELBOS_reparam[-1])\n",
    "    \n",
    "    ELBOS_no_reparam.append(ELBO_no_reparam(theta0,500))\n",
    "    print(\"ELBO no reparam:\",ELBOS_no_reparam[-1])\n",
    "    \n",
    "    #grad_ELBOS_reparam.append(grad(ELBO_reparam)(theta0))\n",
    "    #print(\"grad ELBO reparam:\",grad_ELBOS_reparam[-1])\n",
    "    \n",
    "    #grad_ELBOS_no_reparam.append(grad(ELBO_no_reparam)(theta0))\n",
    "    #print(\"grad ELBO no reparam:\",grad_ELBOS_no_reparam[-1])\n",
    "    \n",
    "    print(\"\")"
   ]
  },
  {
   "cell_type": "code",
   "execution_count": null,
   "metadata": {
    "scrolled": true
   },
   "outputs": [],
   "source": [
    "plt.plot(thetas,ELBOS_reparam)\n",
    "plt.show()\n",
    "plt.plot(thetas,ELBOS_no_reparam)\n",
    "plt.show()\n",
    "\n",
    "plt.plot(thetas,[x[0,2,0] for x in grad_ELBOS_reparam])\n",
    "plt.show()\n",
    "plt.plot(thetas,[x[0,2,0] for x in grad_ELBOS_no_reparam])\n",
    "plt.show()"
   ]
  },
  {
   "cell_type": "code",
   "execution_count": null,
   "metadata": {},
   "outputs": [],
   "source": [
    "h = 0.5\n",
    "thetas = np.linspace(optim.theta[0,1,0]-h,optim.theta[0,1,0]+h,5)\n",
    "\n",
    "grad_ELBOS_reparam = []\n",
    "grad_ELBOS_no_reparam = []\n",
    "\n",
    "ELBOS_reparam = []\n",
    "ELBOS_no_reparam = []\n",
    "\n",
    "for theta in thetas:\n",
    "    print(theta)\n",
    "    \n",
    "    theta0 = deepcopy(optim.theta)\n",
    "    theta0[0,1,0] = theta\n",
    "    \n",
    "    ELBOS_reparam.append(ELBO_reparam(theta0))\n",
    "    print(\"ELBO reparam:\",ELBOS_reparam[-1])\n",
    "    \n",
    "    ELBOS_no_reparam.append(ELBO_no_reparam(theta0))\n",
    "    print(\"ELBO no reparam:\",ELBOS_no_reparam[-1])\n",
    "    \n",
    "    grad_ELBOS_reparam.append(grad(ELBO_reparam)(theta0))\n",
    "    print(\"grad ELBO reparam:\",grad_ELBOS_reparam[-1])\n",
    "    \n",
    "    grad_ELBOS_no_reparam.append(grad(ELBO_no_reparam)(theta0))\n",
    "    print(\"grad ELBO no reparam:\",grad_ELBOS_no_reparam[-1])\n",
    "    \n",
    "    print(\"\")"
   ]
  },
  {
   "cell_type": "code",
   "execution_count": null,
   "metadata": {},
   "outputs": [],
   "source": [
    "plt.plot(thetas,ELBOS_reparam)\n",
    "plt.show()\n",
    "plt.plot(thetas,ELBOS_no_reparam)\n",
    "plt.show()\n",
    "\n",
    "plt.plot(thetas,[x[0,1,0] for x in grad_ELBOS_reparam])\n",
    "plt.show()\n",
    "plt.plot(thetas,[x[0,1,0] for x in grad_ELBOS_no_reparam])\n",
    "plt.show()"
   ]
  },
  {
   "cell_type": "markdown",
   "metadata": {},
   "source": [
    "# Finally, see if we can move the sampling outside"
   ]
  },
  {
   "cell_type": "code",
   "execution_count": null,
   "metadata": {},
   "outputs": [],
   "source": [
    "n_samples = 1000\n",
    "\n",
    "# select t lims from sampling 1000 trees\n",
    "min_Z = -3\n",
    "max_Z = 3\n",
    "    \n",
    "grad_ELBO = np.zeros_like(optim.theta)\n",
    "\n",
    "Z1s = np.random.normal(size=n_samples)\n",
    "Z2s = np.random.normal(size=n_samples)\n",
    "Z3s = np.random.normal(size=n_samples)\n",
    "\n",
    "for Z1,Z2,Z3 in zip(Z1s,Z2s,Z3s):\n",
    "\n",
    "    Z = np.array([[np.inf,np.inf,np.inf],\n",
    "                  [Z1    ,np.inf,np.inf],\n",
    "                  [Z2    ,Z3    ,np.inf]])\n",
    "\n",
    "    def ELBO_reparam_sample_local(theta0):\n",
    "        times = np.exp(theta0[1])*Z+theta0[0]\n",
    "        tree = Tree(theta0,times,genomes,\n",
    "                    pop_size=pop_size)\n",
    "        return tree.log_p - tree.log_q\n",
    "\n",
    "    grad_ELBO_hat = grad(ELBO_reparam_local)(optim.theta)\n",
    "    density = 1/n_samples\n",
    "\n",
    "    grad_ELBO_hat = density*grad_ELBO_hat\n",
    "\n",
    "    if not np.isnan(grad_ELBO_hat).all():\n",
    "        grad_ELBO = grad_ELBO + grad_ELBO_hat\n",
    "                \n",
    "print(grad_ELBO)"
   ]
  },
  {
   "cell_type": "markdown",
   "metadata": {},
   "source": [
    "# See if we are actually sampling from Q when we do this"
   ]
  },
  {
   "cell_type": "code",
   "execution_count": null,
   "metadata": {},
   "outputs": [],
   "source": [
    "plt.hist([x[1,1,0] for x in grad_thetas])"
   ]
  },
  {
   "cell_type": "code",
   "execution_count": null,
   "metadata": {},
   "outputs": [],
   "source": [
    "theta"
   ]
  },
  {
   "cell_type": "code",
   "execution_count": null,
   "metadata": {},
   "outputs": [],
   "source": [
    "times"
   ]
  },
  {
   "cell_type": "code",
   "execution_count": null,
   "metadata": {},
   "outputs": [],
   "source": [
    "t1s = []\n",
    "t2s = []\n",
    "\n",
    "for _ in range(10000):\n",
    "    \n",
    "    # draw times\n",
    "    Z = np.random.normal(np.ones_like(optim.theta[0]))\n",
    "    times = np.exp(optim.theta[1])*Z+optim.theta[0]\n",
    "    maxi = np.max(times)\n",
    "    times = times + np.triu(np.ones_like(optim.theta[0])*maxi)\n",
    "    \n",
    "    # find t1 and t2\n",
    "    t1 = np.min(times)\n",
    "    t2 = np.min(times[times != t1])\n",
    "    \n",
    "    t1s.append(t1)\n",
    "    t2s.append(t2)\n",
    "    \n",
    "    last_coal = {0,1,2}\n",
    "    last_coal.remove(np.nonzero(times == t1)[0][0])\n",
    "    last_coal.remove(np.nonzero(times == t1)[1][0])"
   ]
  },
  {
   "cell_type": "code",
   "execution_count": null,
   "metadata": {},
   "outputs": [],
   "source": [
    "plt.hist(t2s,bins = 100)"
   ]
  },
  {
   "cell_type": "code",
   "execution_count": null,
   "metadata": {},
   "outputs": [],
   "source": []
  }
 ],
 "metadata": {
  "kernelspec": {
   "display_name": "Python 3 (ipykernel)",
   "language": "python",
   "name": "python3"
  },
  "language_info": {
   "codemirror_mode": {
    "name": "ipython",
    "version": 3
   },
   "file_extension": ".py",
   "mimetype": "text/x-python",
   "name": "python",
   "nbconvert_exporter": "python",
   "pygments_lexer": "ipython3",
   "version": "3.9.12"
  }
 },
 "nbformat": 4,
 "nbformat_minor": 2
}
